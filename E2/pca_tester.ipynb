{
 "cells": [
  {
   "cell_type": "code",
   "execution_count": null,
   "metadata": {},
   "outputs": [],
   "source": [
    "import pandas as pd\n",
    "from sklearn import preprocessing, decomposition"
   ]
  },
  {
   "cell_type": "code",
   "execution_count": null,
   "metadata": {},
   "outputs": [],
   "source": [
    "df_agg_team = pd.read_csv(\"./static/data/df_agg_team.csv\").drop(columns=[\"Unnamed: 0\",\"Team ID\"])\n",
    "df_agg_player = pd.read_csv(\"./static/data/df_agg_player.csv\").drop(\n",
    "    columns=[\"Unnamed: 0\"]\n",
    ")\n",
    "df_cleaned_player_stats = pd.read_csv(\"./static/data/cleaned_df_player_stats.csv\").drop(\n",
    "    columns=[\"Unnamed: 0\"]\n",
    ")\n",
    "\n",
    "df_pca_team = df_agg_team.set_index(\"Team Name\", drop=True)\n",
    "df_pca_team = (\n",
    "    df_pca_team\n",
    "    .drop(index=[\"retired\"])\n",
    "    .select_dtypes(\"number\")\n",
    ")\n",
    "\n",
    "df_pca_team\n"
   ]
  },
  {
   "cell_type": "code",
   "execution_count": null,
   "metadata": {},
   "outputs": [],
   "source": [
    "scaler = preprocessing.StandardScaler()\n",
    "scaled_team_data = scaler.fit_transform(df_pca_team)\n",
    "\n",
    "pca = decomposition.PCA(n_components=2)\n",
    "pca_team_data = pca.fit_transform(scaled_team_data)\n",
    "\n",
    "df_pca_team = pd.DataFrame(\n",
    "    pca_team_data, index=df_pca_team.index, columns=[\"x\", \"y\"]\n",
    ")\n",
    "\n",
    "df_pca_team.plot.scatter(x=\"x\", y=\"y\")\n"
   ]
  },
  {
   "cell_type": "code",
   "execution_count": null,
   "metadata": {},
   "outputs": [],
   "source": [
    "df_pca_team"
   ]
  }
 ],
 "metadata": {
  "kernelspec": {
   "display_name": "infovis_venv",
   "language": "python",
   "name": "python3"
  },
  "language_info": {
   "codemirror_mode": {
    "name": "ipython",
    "version": 3
   },
   "file_extension": ".py",
   "mimetype": "text/x-python",
   "name": "python",
   "nbconvert_exporter": "python",
   "pygments_lexer": "ipython3",
   "version": "3.12.3"
  }
 },
 "nbformat": 4,
 "nbformat_minor": 2
}
