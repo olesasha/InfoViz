{
 "cells": [
  {
   "cell_type": "markdown",
   "metadata": {},
   "source": [
    "# Open Questions\n",
    "- Q1: merging team data based on current team or all teams? In the second option, we generate more unneccessary duplicates but it makes the data SOMEWHAT useful for teams analysis. Also, all teams will be included; currently only 30.\n",
    "- Q2: grouped tables - sum/avg/last to be discussed. \n",
    "- Q3: do we need 2 null plots? Maybe something different? Suggestion: keep the heatmap, remove the barplot. Looks fancier. Though reconsider the y axis labeling. "
   ]
  },
  {
   "cell_type": "markdown",
   "metadata": {},
   "source": [
    "# Exercise 1\n",
    "#### Group 25. Maximilian Laurent Heß (xxxxxxxx), Oleksandra Kravchenko (11935050)"
   ]
  },
  {
   "cell_type": "markdown",
   "metadata": {},
   "source": [
    "## Reading the data"
   ]
  },
  {
   "cell_type": "code",
   "execution_count": 45,
   "metadata": {},
   "outputs": [],
   "source": [
    "import pandas as pd\n",
    "import numpy as np\n",
    "from sklearn.impute import SimpleImputer\n",
    "import matplotlib.pyplot as plt\n",
    "import seaborn as sns\n",
    "import plotly.express as px\n",
    "import warnings\n",
    "\n",
    "warnings.filterwarnings('ignore')"
   ]
  },
  {
   "cell_type": "markdown",
   "metadata": {},
   "source": [
    "We have the following data files:\n",
    "- **players**: information about individual players\n",
    "- **teams**: general information about NBA teams\n",
    "- **player_data_per_36_min**: quantitive data about each player's performance in a given season. Players' performance is normalized to 36-minutes-game for more objective comparison regardless of playing time."
   ]
  },
  {
   "cell_type": "code",
   "execution_count": 46,
   "metadata": {},
   "outputs": [],
   "source": [
    "players = pd.read_csv(\"data/players.csv\")\n",
    "teams = pd.read_csv(\"data/teams.csv\")\n",
    "player_data_per_36_min = pd.read_csv(\"data/player_data_per_36_min.csv\")"
   ]
  },
  {
   "cell_type": "markdown",
   "metadata": {},
   "source": [
    "## Handling duplicates"
   ]
  },
  {
   "cell_type": "code",
   "execution_count": 48,
   "metadata": {},
   "outputs": [
    {
     "name": "stdout",
     "output_type": "stream",
     "text": [
      "Duplicates in player_data_per_36_min.csv: 0\n",
      "Duplicates in players.csv: 0\n",
      "Duplicates in teams.csv: 0\n"
     ]
    }
   ],
   "source": [
    "print(f\"Duplicates in player_data_per_36_min.csv: {len(player_data_per_36_min[player_data_per_36_min.duplicated()==True])}\")\n",
    "print(f\"Duplicates in players.csv: {len(players[players.duplicated()==True])}\")\n",
    "print(f\"Duplicates in teams.csv: {len(teams[teams.duplicated()==True])}\")"
   ]
  },
  {
   "cell_type": "markdown",
   "metadata": {},
   "source": [
    "We do not have any complete duplicates in our data. However, we noticed that the player_data_per_36_min dataset contains multiple entries per player_id per season, which does not support our initial assumption about the content of the data. \n",
    "After further research in the data source, we found out, that NBA players often switch teams, so many players would have multiple entries for the same season while they played for different teams. Besides, where it is the case, there is also an additional row with the \"total\" statistics for the player across the teams that matches the same of total games from other 2 entries for the player for different teams. Technically, this behaviour makes the rows with total statistics a duplicate because they do not provide any additional data but only summarize the other entries.\n",
    "\n",
    "Since we do not have any information about the specific team that any given player's performance is attributed to (there is no team_id column in the player_data_per_36_min dataset), we decided to only keep the \"total\" statistics (identified by the maximum value of \"total_games\"). The cells below provide an example."
   ]
  },
  {
   "cell_type": "code",
   "execution_count": 49,
   "metadata": {},
   "outputs": [
    {
     "name": "stdout",
     "output_type": "stream",
     "text": [
      "Partial duplicates in player_data_per_36_min.csv: 4780\n"
     ]
    }
   ],
   "source": [
    "print(f\"Partial duplicates in player_data_per_36_min.csv: {len(player_data_per_36_min[player_data_per_36_min.duplicated([\"season\", \"player_id\"])==True])}\")"
   ]
  },
  {
   "cell_type": "code",
   "execution_count": 50,
   "metadata": {},
   "outputs": [
    {
     "data": {
      "text/html": [
       "<div>\n",
       "<style scoped>\n",
       "    .dataframe tbody tr th:only-of-type {\n",
       "        vertical-align: middle;\n",
       "    }\n",
       "\n",
       "    .dataframe tbody tr th {\n",
       "        vertical-align: top;\n",
       "    }\n",
       "\n",
       "    .dataframe thead th {\n",
       "        text-align: right;\n",
       "    }\n",
       "</style>\n",
       "<table border=\"1\" class=\"dataframe\">\n",
       "  <thead>\n",
       "    <tr style=\"text-align: right;\">\n",
       "      <th></th>\n",
       "      <th>id</th>\n",
       "      <th>player_id</th>\n",
       "      <th>season</th>\n",
       "      <th>total_games</th>\n",
       "      <th>games_started</th>\n",
       "      <th>minutes_played</th>\n",
       "      <th>fg</th>\n",
       "      <th>fga</th>\n",
       "      <th>fgp</th>\n",
       "      <th>fg3</th>\n",
       "      <th>...</th>\n",
       "      <th>ftp</th>\n",
       "      <th>orb</th>\n",
       "      <th>drb</th>\n",
       "      <th>trb</th>\n",
       "      <th>ast</th>\n",
       "      <th>stl</th>\n",
       "      <th>blk</th>\n",
       "      <th>tov</th>\n",
       "      <th>pf</th>\n",
       "      <th>pts</th>\n",
       "    </tr>\n",
       "  </thead>\n",
       "  <tbody>\n",
       "    <tr>\n",
       "      <th>11870</th>\n",
       "      <td>11871</td>\n",
       "      <td>1</td>\n",
       "      <td>1994-95</td>\n",
       "      <td>54.0</td>\n",
       "      <td>0.0</td>\n",
       "      <td>506.0</td>\n",
       "      <td>8.4</td>\n",
       "      <td>16.4</td>\n",
       "      <td>0.511</td>\n",
       "      <td>0.0</td>\n",
       "      <td>...</td>\n",
       "      <td>0.571</td>\n",
       "      <td>2.6</td>\n",
       "      <td>5.5</td>\n",
       "      <td>8.1</td>\n",
       "      <td>0.9</td>\n",
       "      <td>1.1</td>\n",
       "      <td>0.9</td>\n",
       "      <td>3.2</td>\n",
       "      <td>7.4</td>\n",
       "      <td>18.2</td>\n",
       "    </tr>\n",
       "    <tr>\n",
       "      <th>11871</th>\n",
       "      <td>11872</td>\n",
       "      <td>1</td>\n",
       "      <td>1994-95</td>\n",
       "      <td>51.0</td>\n",
       "      <td>0.0</td>\n",
       "      <td>476.0</td>\n",
       "      <td>8.8</td>\n",
       "      <td>16.6</td>\n",
       "      <td>0.532</td>\n",
       "      <td>0.0</td>\n",
       "      <td>...</td>\n",
       "      <td>0.571</td>\n",
       "      <td>2.6</td>\n",
       "      <td>5.4</td>\n",
       "      <td>8.0</td>\n",
       "      <td>1.0</td>\n",
       "      <td>1.1</td>\n",
       "      <td>0.9</td>\n",
       "      <td>3.0</td>\n",
       "      <td>7.7</td>\n",
       "      <td>19.2</td>\n",
       "    </tr>\n",
       "    <tr>\n",
       "      <th>11872</th>\n",
       "      <td>11873</td>\n",
       "      <td>1</td>\n",
       "      <td>1994-95</td>\n",
       "      <td>3.0</td>\n",
       "      <td>0.0</td>\n",
       "      <td>30.0</td>\n",
       "      <td>1.2</td>\n",
       "      <td>13.2</td>\n",
       "      <td>0.091</td>\n",
       "      <td>0.0</td>\n",
       "      <td>...</td>\n",
       "      <td>NaN</td>\n",
       "      <td>3.6</td>\n",
       "      <td>6.0</td>\n",
       "      <td>9.6</td>\n",
       "      <td>0.0</td>\n",
       "      <td>0.0</td>\n",
       "      <td>0.0</td>\n",
       "      <td>6.0</td>\n",
       "      <td>2.4</td>\n",
       "      <td>2.4</td>\n",
       "    </tr>\n",
       "  </tbody>\n",
       "</table>\n",
       "<p>3 rows × 27 columns</p>\n",
       "</div>"
      ],
      "text/plain": [
       "          id  player_id   season  total_games  games_started  minutes_played  \\\n",
       "11870  11871          1  1994-95         54.0            0.0           506.0   \n",
       "11871  11872          1  1994-95         51.0            0.0           476.0   \n",
       "11872  11873          1  1994-95          3.0            0.0            30.0   \n",
       "\n",
       "        fg   fga    fgp  fg3  ...    ftp  orb  drb  trb  ast  stl  blk  tov  \\\n",
       "11870  8.4  16.4  0.511  0.0  ...  0.571  2.6  5.5  8.1  0.9  1.1  0.9  3.2   \n",
       "11871  8.8  16.6  0.532  0.0  ...  0.571  2.6  5.4  8.0  1.0  1.1  0.9  3.0   \n",
       "11872  1.2  13.2  0.091  0.0  ...    NaN  3.6  6.0  9.6  0.0  0.0  0.0  6.0   \n",
       "\n",
       "        pf   pts  \n",
       "11870  7.4  18.2  \n",
       "11871  7.7  19.2  \n",
       "11872  2.4   2.4  \n",
       "\n",
       "[3 rows x 27 columns]"
      ]
     },
     "execution_count": 50,
     "metadata": {},
     "output_type": "execute_result"
    }
   ],
   "source": [
    "player_data_per_36_min.loc[(player_data_per_36_min[\"player_id\"] == 1) & (player_data_per_36_min[\"season\"] == \"1994-95\")]"
   ]
  },
  {
   "cell_type": "code",
   "execution_count": 51,
   "metadata": {},
   "outputs": [
    {
     "data": {
      "text/html": [
       "<div>\n",
       "<style scoped>\n",
       "    .dataframe tbody tr th:only-of-type {\n",
       "        vertical-align: middle;\n",
       "    }\n",
       "\n",
       "    .dataframe tbody tr th {\n",
       "        vertical-align: top;\n",
       "    }\n",
       "\n",
       "    .dataframe thead th {\n",
       "        text-align: right;\n",
       "    }\n",
       "</style>\n",
       "<table border=\"1\" class=\"dataframe\">\n",
       "  <thead>\n",
       "    <tr style=\"text-align: right;\">\n",
       "      <th></th>\n",
       "      <th>id</th>\n",
       "      <th>player_id</th>\n",
       "      <th>season</th>\n",
       "      <th>total_games</th>\n",
       "      <th>games_started</th>\n",
       "      <th>minutes_played</th>\n",
       "      <th>fg</th>\n",
       "      <th>fga</th>\n",
       "      <th>fgp</th>\n",
       "      <th>fg3</th>\n",
       "      <th>...</th>\n",
       "      <th>ftp</th>\n",
       "      <th>orb</th>\n",
       "      <th>drb</th>\n",
       "      <th>trb</th>\n",
       "      <th>ast</th>\n",
       "      <th>stl</th>\n",
       "      <th>blk</th>\n",
       "      <th>tov</th>\n",
       "      <th>pf</th>\n",
       "      <th>pts</th>\n",
       "    </tr>\n",
       "  </thead>\n",
       "  <tbody>\n",
       "    <tr>\n",
       "      <th>26067</th>\n",
       "      <td>26068</td>\n",
       "      <td>4794</td>\n",
       "      <td>2018-19</td>\n",
       "      <td>59.0</td>\n",
       "      <td>37.0</td>\n",
       "      <td>1040.0</td>\n",
       "      <td>7.3</td>\n",
       "      <td>13.1</td>\n",
       "      <td>0.559</td>\n",
       "      <td>0.0</td>\n",
       "      <td>...</td>\n",
       "      <td>0.802</td>\n",
       "      <td>4.0</td>\n",
       "      <td>8.6</td>\n",
       "      <td>12.5</td>\n",
       "      <td>2.2</td>\n",
       "      <td>0.5</td>\n",
       "      <td>1.8</td>\n",
       "      <td>2.4</td>\n",
       "      <td>4.7</td>\n",
       "      <td>18.2</td>\n",
       "    </tr>\n",
       "    <tr>\n",
       "      <th>26068</th>\n",
       "      <td>26069</td>\n",
       "      <td>4794</td>\n",
       "      <td>2018-19</td>\n",
       "      <td>33.0</td>\n",
       "      <td>12.0</td>\n",
       "      <td>516.0</td>\n",
       "      <td>7.8</td>\n",
       "      <td>13.5</td>\n",
       "      <td>0.580</td>\n",
       "      <td>0.0</td>\n",
       "      <td>...</td>\n",
       "      <td>0.864</td>\n",
       "      <td>3.8</td>\n",
       "      <td>7.5</td>\n",
       "      <td>11.3</td>\n",
       "      <td>1.7</td>\n",
       "      <td>0.3</td>\n",
       "      <td>1.9</td>\n",
       "      <td>2.3</td>\n",
       "      <td>5.1</td>\n",
       "      <td>19.6</td>\n",
       "    </tr>\n",
       "    <tr>\n",
       "      <th>26069</th>\n",
       "      <td>26070</td>\n",
       "      <td>4794</td>\n",
       "      <td>2018-19</td>\n",
       "      <td>26.0</td>\n",
       "      <td>25.0</td>\n",
       "      <td>524.0</td>\n",
       "      <td>6.9</td>\n",
       "      <td>12.8</td>\n",
       "      <td>0.538</td>\n",
       "      <td>0.0</td>\n",
       "      <td>...</td>\n",
       "      <td>0.733</td>\n",
       "      <td>4.2</td>\n",
       "      <td>9.5</td>\n",
       "      <td>13.7</td>\n",
       "      <td>2.6</td>\n",
       "      <td>0.7</td>\n",
       "      <td>1.6</td>\n",
       "      <td>2.5</td>\n",
       "      <td>4.4</td>\n",
       "      <td>16.8</td>\n",
       "    </tr>\n",
       "  </tbody>\n",
       "</table>\n",
       "<p>3 rows × 27 columns</p>\n",
       "</div>"
      ],
      "text/plain": [
       "          id  player_id   season  total_games  games_started  minutes_played  \\\n",
       "26067  26068       4794  2018-19         59.0           37.0          1040.0   \n",
       "26068  26069       4794  2018-19         33.0           12.0           516.0   \n",
       "26069  26070       4794  2018-19         26.0           25.0           524.0   \n",
       "\n",
       "        fg   fga    fgp  fg3  ...    ftp  orb  drb   trb  ast  stl  blk  tov  \\\n",
       "26067  7.3  13.1  0.559  0.0  ...  0.802  4.0  8.6  12.5  2.2  0.5  1.8  2.4   \n",
       "26068  7.8  13.5  0.580  0.0  ...  0.864  3.8  7.5  11.3  1.7  0.3  1.9  2.3   \n",
       "26069  6.9  12.8  0.538  0.0  ...  0.733  4.2  9.5  13.7  2.6  0.7  1.6  2.5   \n",
       "\n",
       "        pf   pts  \n",
       "26067  4.7  18.2  \n",
       "26068  5.1  19.6  \n",
       "26069  4.4  16.8  \n",
       "\n",
       "[3 rows x 27 columns]"
      ]
     },
     "execution_count": 51,
     "metadata": {},
     "output_type": "execute_result"
    }
   ],
   "source": [
    "player_data_per_36_min.loc[(player_data_per_36_min[\"player_id\"] == 4794) & (player_data_per_36_min[\"season\"] == \"2018-19\")]"
   ]
  },
  {
   "cell_type": "code",
   "execution_count": 52,
   "metadata": {},
   "outputs": [
    {
     "name": "stdout",
     "output_type": "stream",
     "text": [
      "Partial duplicates in player_data_per_36_min.csv after duplicate removal: 0\n"
     ]
    }
   ],
   "source": [
    "#sort the values by total games played - small to large\n",
    "#remove duplicates for season and player_id and keep only the largest value of total_games\n",
    "player_data_per_36_min = player_data_per_36_min.sort_values(\"total_games\").drop_duplicates([\"season\", \"player_id\"], keep='last').sort_index()\n",
    "print(f\"Partial duplicates in player_data_per_36_min.csv after duplicate removal: {len(player_data_per_36_min[player_data_per_36_min.duplicated([\"season\", \"player_id\"])==True])}\")"
   ]
  },
  {
   "cell_type": "markdown",
   "metadata": {},
   "source": [
    "There are no duplicate IDs in players and teams datasets, so it is safe to proceed to the next step of merging the data on these IDs."
   ]
  },
  {
   "cell_type": "code",
   "execution_count": 53,
   "metadata": {},
   "outputs": [
    {
     "name": "stdout",
     "output_type": "stream",
     "text": [
      "Duplicate id's in players.csv: 0\n",
      "Duplicate id's in teams.csv: 0\n"
     ]
    }
   ],
   "source": [
    "print(f\"Duplicate id's in players.csv: {len(players[players.duplicated([\"id\"])==True])}\")\n",
    "print(f\"Duplicate id's in teams.csv: {len(teams[teams.duplicated([\"team_id\"])==True])}\")"
   ]
  },
  {
   "cell_type": "markdown",
   "metadata": {},
   "source": [
    "## Data structuring\n",
    "### Merge data"
   ]
  },
  {
   "cell_type": "markdown",
   "metadata": {},
   "source": [
    "First, we join the data from players dataset with players' statistics stored in players_data_per_36_min. This way, we get an expanded players' statistics dataset with not only player_id but also other relevant player-specific information. "
   ]
  },
  {
   "cell_type": "code",
   "execution_count": 39,
   "metadata": {},
   "outputs": [],
   "source": [
    "#players + player_data_per_36_min\n",
    "df_helper = players.merge(\n",
    "    player_data_per_36_min, how=\"right\",     #right join due to 1:n relationship\n",
    "    left_on=\"id\",\n",
    "    right_on=\"player_id\"\n",
    ") "
   ]
  },
  {
   "cell_type": "markdown",
   "metadata": {},
   "source": [
    "Now, we join the intermediate df_helper containing players data with the teams data. From the teams dataset we only want to include the team name based on the current team the player belongs to. Since we cannot tell to which team every player belonged at any point in his career, the past performance statistics of every player will be attributed to his current team. We do not plan to analyze the teams' performances in detail, so we can keep working with this assumption, though it does impact the factual integrity of the data, especially considering the fact that most players in the dataset are already retired."
   ]
  },
  {
   "cell_type": "code",
   "execution_count": 58,
   "metadata": {},
   "outputs": [],
   "source": [
    "df_merged = df_helper.merge(\n",
    "    teams[[\"team_name\", \"team_id\"]],\n",
    "    how=\"left\",     #left join due to n:1 relationship\n",
    "    left_on=\"current_team_id\",\n",
    "    right_on=\"team_id\",\n",
    ")"
   ]
  },
  {
   "cell_type": "code",
   "execution_count": 62,
   "metadata": {},
   "outputs": [],
   "source": [
    "# df_merged[(~df_merged[\"current_team_id\"].isna())&(df_merged[\"team_name\"].isna())]"
   ]
  },
  {
   "cell_type": "markdown",
   "metadata": {},
   "source": [
    "## Handling Nulls"
   ]
  },
  {
   "cell_type": "code",
   "execution_count": 49,
   "metadata": {},
   "outputs": [],
   "source": [
    "#replace NaN with None for explanability reasons: None is a technical null, NaN can be misinterpreted as false formatting (not a number); base Python prefers None\n",
    "df_merged = df_merged.replace({np.nan: None})"
   ]
  },
  {
   "cell_type": "markdown",
   "metadata": {},
   "source": [
    "### Drop unnecessary columns\n",
    "- id_x, id_y were only used for merging and are redundant\n",
    "- name does not offer any additional information and is fully replaceable by full_name\n",
    "- player_url, text will not be used for any data processing or visualisations "
   ]
  },
  {
   "cell_type": "code",
   "execution_count": 96,
   "metadata": {},
   "outputs": [],
   "source": [
    "df_merged = df_merged.drop(columns=[\"id_x\", \"id_y\", \"name\", \"player_url\", \"text\"]).sort_values(by=\"player_id\").reset_index(drop = True)"
   ]
  },
  {
   "cell_type": "markdown",
   "metadata": {},
   "source": [
    "### Visual representation of Nulls"
   ]
  },
  {
   "cell_type": "code",
   "execution_count": 93,
   "metadata": {},
   "outputs": [
    {
     "data": {
      "text/plain": [
       "Text(0.5, 1.0, 'Percentage of null values per column (0 % excluded)')"
      ]
     },
     "execution_count": 93,
     "metadata": {},
     "output_type": "execute_result"
    },
    {
     "data": {
      "image/png": "[encoded data removed]",
      "text/plain": [
       "<Figure size 900x500 with 1 Axes>"
      ]
     },
     "metadata": {},
     "output_type": "display_data"
    }
   ],
   "source": [
    "# don't visualize all columns that are zero as there is no need to visualise them\n",
    "df_null_plot = df_merged.loc[:,df_merged.isnull().sum() != 0]\n",
    "null_per_column = df_null_plot.isnull().sum()\n",
    "percentage_per_column = null_per_column/len(df_null_plot)*100\n",
    "percentage_per_column.apply(lambda x: f\"{np.round(x,2)} %\")\n",
    "\n",
    "plt.figure(figsize=(9,5))\n",
    "ax = sns.barplot(percentage_per_column)\n",
    "ax.tick_params(axis='x', rotation=90)\n",
    "ax.set_ylabel(\"Percentage of nulls\")\n",
    "ax.set_xlabel(\"Column\")\n",
    "ax.set_title(\"Percentage of null values per column (0 % excluded)\")\n"
   ]
  },
  {
   "cell_type": "code",
   "execution_count": 94,
   "metadata": {},
   "outputs": [
    {
     "data": {
      "text/plain": [
       "Text(0.5, 1.0, 'Heatmap of nulls per column (columns with zero nulls excluded)')"
      ]
     },
     "execution_count": 94,
     "metadata": {},
     "output_type": "execute_result"
    },
    {
     "data": {
      "image/png": "[encoded data removed]",
      "text/plain": [
       "<Figure size 900x900 with 2 Axes>"
      ]
     },
     "metadata": {},
     "output_type": "display_data"
    }
   ],
   "source": [
    "colors = [\"white\", \"black\"]\n",
    "plt.figure(figsize=(9, 9))\n",
    "ax = sns.heatmap(\n",
    "    df_null_plot.isnull(),\n",
    "    cmap=colors,\n",
    "    cbar_kws={\"ticks\": [0, 1], \"label\": \"Is Null?\"},\n",
    ")\n",
    "colorbar = ax.collections[0].colorbar\n",
    "colorbar.set_ticks([0, 1])\n",
    "colorbar.set_ticklabels([\"No\", \"Yes\"])\n",
    "ax.invert_yaxis()\n",
    "ax.set_ylabel(\"Index \")\n",
    "ax.set_xlabel(\"Column\")\n",
    "ax.set_title(\"Heatmap of nulls per column (columns with zero nulls excluded)\")"
   ]
  },
  {
   "cell_type": "markdown",
   "metadata": {},
   "source": [
    "Handling Nulls in \"team_name\". Missing value in this column means that the player currently has no team. Most cases can be explained by the \"retired\" column. So if the player is retired, their team will be assigned to \"Retired\". However, there are cases, in which a player is not retired but has no entry for the \"current_team_id\", so the missing values won't be handled by the default method.\n",
    "\n",
    "As mentioned above, it is impossible to track, to which team each player belonged in which seasons, and for some cases, the \"teams\" column contains just an empty list. Judging by the \"text\" column that contains a short biography of each player, the players indeed played for some of the teams that are in the data, so assigning \"Other\" would be technically incorrect. Therefore, we decided to fill the other Nulls, of which there are relatively few, with \"No Information\".\n",
    "\n",
    "There are no missing values in the \"retired\" column, so all cases must be covered accurately."
   ]
  },
  {
   "cell_type": "code",
   "execution_count": 87,
   "metadata": {},
   "outputs": [
    {
     "name": "stdout",
     "output_type": "stream",
     "text": [
      "Number of players that have no team and are not retired: 0\n"
     ]
    }
   ],
   "source": [
    "df_merged.loc[df_merged[\"retired\"], \"team_name\"] = \"Retired\"\n",
    "print(f\"Number of players that have no team and are not retired: {len(df_merged.loc[df_merged[\"team_name\"].isna()])}\")\n",
    "\n",
    "df_merged[\"team_name\"].fillna(\"No Information\", inplace = True)"
   ]
  },
  {
   "cell_type": "markdown",
   "metadata": {},
   "source": [
    "Plot a graph to check the impact of nan values"
   ]
  },
  {
   "cell_type": "markdown",
   "metadata": {},
   "source": [
    "## Creating grouped tables\n",
    "Create two new tables: one that groups rows based on player_id, another that groups rows based on team_id."
   ]
  },
  {
   "cell_type": "code",
   "execution_count": 65,
   "metadata": {},
   "outputs": [
    {
     "data": {
      "text/html": [
       "<div>\n",
       "<style scoped>\n",
       "    .dataframe tbody tr th:only-of-type {\n",
       "        vertical-align: middle;\n",
       "    }\n",
       "\n",
       "    .dataframe tbody tr th {\n",
       "        vertical-align: top;\n",
       "    }\n",
       "\n",
       "    .dataframe thead th {\n",
       "        text-align: right;\n",
       "    }\n",
       "</style>\n",
       "<table border=\"1\" class=\"dataframe\">\n",
       "  <thead>\n",
       "    <tr style=\"text-align: right;\">\n",
       "      <th></th>\n",
       "      <th>player_id</th>\n",
       "      <th>name</th>\n",
       "      <th>id_x</th>\n",
       "      <th>full_name</th>\n",
       "      <th>position</th>\n",
       "      <th>height</th>\n",
       "      <th>weight</th>\n",
       "      <th>birth_date</th>\n",
       "      <th>birth_place</th>\n",
       "      <th>retired</th>\n",
       "      <th>...</th>\n",
       "      <th>drb</th>\n",
       "      <th>trb</th>\n",
       "      <th>ast</th>\n",
       "      <th>stl</th>\n",
       "      <th>blk</th>\n",
       "      <th>tov</th>\n",
       "      <th>pf</th>\n",
       "      <th>pts</th>\n",
       "      <th>team_name</th>\n",
       "      <th>team_id</th>\n",
       "    </tr>\n",
       "  </thead>\n",
       "  <tbody>\n",
       "    <tr>\n",
       "      <th>0</th>\n",
       "      <td>1</td>\n",
       "      <td>Alaa Abdelnaby</td>\n",
       "      <td>5</td>\n",
       "      <td>Alaa AbdelnabyAlaa AbdelnabyAlaa AbdelnabyAlaa...</td>\n",
       "      <td>F-CF-CF-CF-CF-C</td>\n",
       "      <td>6-106-106-106-106-10</td>\n",
       "      <td>1200.0</td>\n",
       "      <td>June 24 1968June 24 1968June 24 1968June 24 19...</td>\n",
       "      <td>Cairo, EgyptCairo, EgyptCairo, EgyptCairo, Egy...</td>\n",
       "      <td>5</td>\n",
       "      <td>...</td>\n",
       "      <td>33.6</td>\n",
       "      <td>48.8</td>\n",
       "      <td>5.0</td>\n",
       "      <td>3.8</td>\n",
       "      <td>4.4</td>\n",
       "      <td>14.9</td>\n",
       "      <td>27.0</td>\n",
       "      <td>82.1</td>\n",
       "      <td>0</td>\n",
       "      <td>0.0</td>\n",
       "    </tr>\n",
       "    <tr>\n",
       "      <th>1</th>\n",
       "      <td>2</td>\n",
       "      <td>Zaid Abdul-Aziz</td>\n",
       "      <td>20</td>\n",
       "      <td>Zaid Abdul-AzizZaid Abdul-AzizZaid Abdul-AzizZ...</td>\n",
       "      <td>C-FC-FC-FC-FC-FC-FC-FC-FC-FC-F</td>\n",
       "      <td>6-96-96-96-96-96-96-96-96-96-9</td>\n",
       "      <td>2350.0</td>\n",
       "      <td>April 7 1946April 7 1946April 7 1946April 7 19...</td>\n",
       "      <td>Brooklyn, New YorkBrooklyn, New YorkBrooklyn, ...</td>\n",
       "      <td>10</td>\n",
       "      <td>...</td>\n",
       "      <td>41.5</td>\n",
       "      <td>133.4</td>\n",
       "      <td>19.3</td>\n",
       "      <td>4.7</td>\n",
       "      <td>8.1</td>\n",
       "      <td>3.2</td>\n",
       "      <td>41.0</td>\n",
       "      <td>150.1</td>\n",
       "      <td>0</td>\n",
       "      <td>0.0</td>\n",
       "    </tr>\n",
       "    <tr>\n",
       "      <th>2</th>\n",
       "      <td>3</td>\n",
       "      <td>Kareem Abdul-Jabbar</td>\n",
       "      <td>60</td>\n",
       "      <td>Kareem Abdul-JabbarKareem Abdul-JabbarKareem A...</td>\n",
       "      <td>CCCCCCCCCCCCCCCCCCCC</td>\n",
       "      <td>7-27-27-27-27-27-27-27-27-27-27-27-27-27-27-27...</td>\n",
       "      <td>4500.0</td>\n",
       "      <td>April 16 1947April 16 1947April 16 1947April 1...</td>\n",
       "      <td>New York, New YorkNew York, New YorkNew York, ...</td>\n",
       "      <td>20</td>\n",
       "      <td>...</td>\n",
       "      <td>119.8</td>\n",
       "      <td>212.2</td>\n",
       "      <td>69.2</td>\n",
       "      <td>15.1</td>\n",
       "      <td>40.7</td>\n",
       "      <td>34.5</td>\n",
       "      <td>59.7</td>\n",
       "      <td>475.1</td>\n",
       "      <td>0</td>\n",
       "      <td>0.0</td>\n",
       "    </tr>\n",
       "    <tr>\n",
       "      <th>3</th>\n",
       "      <td>4</td>\n",
       "      <td>Mahmoud Abdul-Rauf</td>\n",
       "      <td>36</td>\n",
       "      <td>Mahmoud Abdul-RaufMahmoud Abdul-RaufMahmoud Ab...</td>\n",
       "      <td>GGGGGGGGG</td>\n",
       "      <td>6-16-16-16-16-16-16-16-16-1</td>\n",
       "      <td>1458.0</td>\n",
       "      <td>March 9 1969March 9 1969March 9 1969March 9 19...</td>\n",
       "      <td>Gulfport, MississippiGulfport, MississippiGulf...</td>\n",
       "      <td>9</td>\n",
       "      <td>...</td>\n",
       "      <td>17.7</td>\n",
       "      <td>22.2</td>\n",
       "      <td>43.1</td>\n",
       "      <td>9.6</td>\n",
       "      <td>1.0</td>\n",
       "      <td>19.2</td>\n",
       "      <td>24.1</td>\n",
       "      <td>174.5</td>\n",
       "      <td>0</td>\n",
       "      <td>0.0</td>\n",
       "    </tr>\n",
       "    <tr>\n",
       "      <th>4</th>\n",
       "      <td>5</td>\n",
       "      <td>Tariq Abdul-Wahad</td>\n",
       "      <td>30</td>\n",
       "      <td>Tariq Abdul-WahadTariq Abdul-WahadTariq Abdul-...</td>\n",
       "      <td>FFFFFF</td>\n",
       "      <td>6-66-66-66-66-66-6</td>\n",
       "      <td>1338.0</td>\n",
       "      <td>November 3 1974November 3 1974November 3 1974N...</td>\n",
       "      <td>Maisons Alfort, FranceMaisons Alfort, FranceMa...</td>\n",
       "      <td>6</td>\n",
       "      <td>...</td>\n",
       "      <td>22.4</td>\n",
       "      <td>35.7</td>\n",
       "      <td>13.2</td>\n",
       "      <td>8.0</td>\n",
       "      <td>4.0</td>\n",
       "      <td>13.2</td>\n",
       "      <td>23.8</td>\n",
       "      <td>74.2</td>\n",
       "      <td>0</td>\n",
       "      <td>0.0</td>\n",
       "    </tr>\n",
       "  </tbody>\n",
       "</table>\n",
       "<p>5 rows × 42 columns</p>\n",
       "</div>"
      ],
      "text/plain": [
       "   player_id                 name  id_x  \\\n",
       "0          1       Alaa Abdelnaby     5   \n",
       "1          2      Zaid Abdul-Aziz    20   \n",
       "2          3  Kareem Abdul-Jabbar    60   \n",
       "3          4   Mahmoud Abdul-Rauf    36   \n",
       "4          5    Tariq Abdul-Wahad    30   \n",
       "\n",
       "                                           full_name  \\\n",
       "0  Alaa AbdelnabyAlaa AbdelnabyAlaa AbdelnabyAlaa...   \n",
       "1  Zaid Abdul-AzizZaid Abdul-AzizZaid Abdul-AzizZ...   \n",
       "2  Kareem Abdul-JabbarKareem Abdul-JabbarKareem A...   \n",
       "3  Mahmoud Abdul-RaufMahmoud Abdul-RaufMahmoud Ab...   \n",
       "4  Tariq Abdul-WahadTariq Abdul-WahadTariq Abdul-...   \n",
       "\n",
       "                         position  \\\n",
       "0                 F-CF-CF-CF-CF-C   \n",
       "1  C-FC-FC-FC-FC-FC-FC-FC-FC-FC-F   \n",
       "2            CCCCCCCCCCCCCCCCCCCC   \n",
       "3                       GGGGGGGGG   \n",
       "4                          FFFFFF   \n",
       "\n",
       "                                              height  weight  \\\n",
       "0                               6-106-106-106-106-10  1200.0   \n",
       "1                     6-96-96-96-96-96-96-96-96-96-9  2350.0   \n",
       "2  7-27-27-27-27-27-27-27-27-27-27-27-27-27-27-27...  4500.0   \n",
       "3                        6-16-16-16-16-16-16-16-16-1  1458.0   \n",
       "4                                 6-66-66-66-66-66-6  1338.0   \n",
       "\n",
       "                                          birth_date  \\\n",
       "0  June 24 1968June 24 1968June 24 1968June 24 19...   \n",
       "1  April 7 1946April 7 1946April 7 1946April 7 19...   \n",
       "2  April 16 1947April 16 1947April 16 1947April 1...   \n",
       "3  March 9 1969March 9 1969March 9 1969March 9 19...   \n",
       "4  November 3 1974November 3 1974November 3 1974N...   \n",
       "\n",
       "                                         birth_place  retired  ...    drb  \\\n",
       "0  Cairo, EgyptCairo, EgyptCairo, EgyptCairo, Egy...        5  ...   33.6   \n",
       "1  Brooklyn, New YorkBrooklyn, New YorkBrooklyn, ...       10  ...   41.5   \n",
       "2  New York, New YorkNew York, New YorkNew York, ...       20  ...  119.8   \n",
       "3  Gulfport, MississippiGulfport, MississippiGulf...        9  ...   17.7   \n",
       "4  Maisons Alfort, FranceMaisons Alfort, FranceMa...        6  ...   22.4   \n",
       "\n",
       "     trb   ast   stl   blk   tov    pf    pts  team_name  team_id  \n",
       "0   48.8   5.0   3.8   4.4  14.9  27.0   82.1          0      0.0  \n",
       "1  133.4  19.3   4.7   8.1   3.2  41.0  150.1          0      0.0  \n",
       "2  212.2  69.2  15.1  40.7  34.5  59.7  475.1          0      0.0  \n",
       "3   22.2  43.1   9.6   1.0  19.2  24.1  174.5          0      0.0  \n",
       "4   35.7  13.2   8.0   4.0  13.2  23.8   74.2          0      0.0  \n",
       "\n",
       "[5 rows x 42 columns]"
      ]
     },
     "execution_count": 65,
     "metadata": {},
     "output_type": "execute_result"
    }
   ],
   "source": [
    "df_player_id = df_merged.groupby([\"player_id\", \"name\"]).agg({'A' : ['sum', 'min'],\n",
    "                                                             'B' : ['min', 'max']})).reset_index()\n",
    "df_player_id.head()"
   ]
  },
  {
   "cell_type": "code",
   "execution_count": null,
   "metadata": {},
   "outputs": [],
   "source": [
    "df_player_id = df_merged.groupby([\"player_id\", \"name\"]).sum().reset_index()\n",
    "df_player_id.head()"
   ]
  },
  {
   "cell_type": "markdown",
   "metadata": {},
   "source": [
    "## Data visualisation\n",
    "Visualize the data (twice). Every submitted notebook should contain at least two visualizations using at least two different Python visualization libraries. One visualization for each of the new tables (aggregated players or aggregated teams). A list of the most wide-spread Python visualization libraries can be found in this article. You must concisely describe and explain each visualization and your decisions in a Markdown field. You will not receive the points for this task if you did not add a description/explanation. "
   ]
  },
  {
   "cell_type": "markdown",
   "metadata": {},
   "source": [
    "### @Sasha\n",
    "Ich habe folgende Vorschläge, wie wir mit dem droppen umgehen könnten:\n",
    "1. Wir droppen einfach alle Columns bei welchen die Prozentzahl über einer gewissen thresshold ist\n",
    "2. Wir schauen uns an ob man evtl. den Durchschnitt für Spieler für manche Statisiken berechnen kann. Ich stelle mir das so vor, dass wenn z.B. 80 % der Werte für einen Spieler vorhanden sind, dass wir dann für die restlichen 20% den Durchschnitt berechnen.\n"
   ]
  },
  {
   "cell_type": "markdown",
   "metadata": {},
   "source": [
    "# Sasha"
   ]
  },
  {
   "cell_type": "code",
   "execution_count": null,
   "metadata": {},
   "outputs": [],
   "source": [
    "birth_places = df_merged[\"birth_place\"].unique()"
   ]
  },
  {
   "cell_type": "code",
   "execution_count": null,
   "metadata": {},
   "outputs": [],
   "source": [
    "df_merged[\"birth_states\"] = df_merged[\"birth_place\"].str.split(',', expand=True)[1]\n",
    "df_merged['birth_states'] = df_merged['birth_states'].apply(lambda x: str(x).replace(u'\\xa0', u''))\n"
   ]
  },
  {
   "cell_type": "code",
   "execution_count": null,
   "metadata": {},
   "outputs": [],
   "source": [
    "all_states = pd.Series(df_merged[\"birth_states\"].unique())"
   ]
  },
  {
   "cell_type": "code",
   "execution_count": null,
   "metadata": {},
   "outputs": [],
   "source": [
    "US_states = [\n",
    "    'Alabama', 'Alaska', 'Arizona', 'Arkansas', 'California', 'Colorado',\n",
    "    'Connecticut', 'Delaware', 'Florida', 'Georgia', 'Hawaii', 'Idaho',\n",
    "    'Illinois', 'Indiana', 'Iowa', 'Kansas', 'Kentucky', 'Louisiana',\n",
    "    'Maine', 'Maryland', 'Massachusetts', 'Michigan', 'Minnesota',\n",
    "    'Mississippi', 'Missouri', 'Montana', 'Nebraska', 'Nevada',\n",
    "    'New Hampshire', 'New Jersey', 'New Mexico', 'New York',\n",
    "    'North Carolina', 'North Dakota', 'Ohio', 'Oklahoma', 'Oregon',\n",
    "    'Pennsylvania', 'Rhode Island', 'South Carolina', 'South Dakota',\n",
    "    'Tennessee', 'Texas', 'Utah', 'Vermont', 'Virginia', 'Washington',\n",
    "    'West Virginia', 'Wisconsin', 'Wyoming'\n",
    "]\n",
    "\n",
    "US_state_to_code = {\n",
    "    'Alabama': 'AL', 'Alaska': 'AK', 'Arizona': 'AZ', 'Arkansas': 'AR', 'California': 'CA',\n",
    "    'Colorado': 'CO', 'Connecticut': 'CT', 'Delaware': 'DE', 'Florida': 'FL', 'Georgia': 'GA',\n",
    "    'Hawaii': 'HI', 'Idaho': 'ID', 'Illinois': 'IL', 'Indiana': 'IN', 'Iowa': 'IA',\n",
    "    'Kansas': 'KS', 'Kentucky': 'KY', 'Louisiana': 'LA', 'Maine': 'ME', 'Maryland': 'MD',\n",
    "    'Massachusetts': 'MA', 'Michigan': 'MI', 'Minnesota': 'MN', 'Mississippi': 'MS', 'Missouri': 'MO',\n",
    "    'Montana': 'MT', 'Nebraska': 'NE', 'Nevada': 'NV', 'New Hampshire': 'NH', 'New Jersey': 'NJ',\n",
    "    'New Mexico': 'NM', 'New York': 'NY', 'North Carolina': 'NC', 'North Dakota': 'ND', 'Ohio': 'OH',\n",
    "    'Oklahoma': 'OK', 'Oregon': 'OR', 'Pennsylvania': 'PA', 'Rhode Island': 'RI', 'South Carolina': 'SC',\n",
    "    'South Dakota': 'SD', 'Tennessee': 'TN', 'Texas': 'TX', 'Utah': 'UT', 'Vermont': 'VT',\n",
    "    'Virginia': 'VA', 'Washington': 'WA', 'West Virginia': 'WV', 'Wisconsin': 'WI', 'Wyoming': 'WY'\n",
    "}"
   ]
  },
  {
   "cell_type": "code",
   "execution_count": null,
   "metadata": {},
   "outputs": [],
   "source": [
    "df_merged_US = df_merged.loc[df_merged[\"birth_states\"].isin(US_states)]\n",
    "df_merged_US['state_code'] = df_merged_US['birth_states'].map(US_state_to_code)"
   ]
  },
  {
   "cell_type": "code",
   "execution_count": null,
   "metadata": {},
   "outputs": [],
   "source": [
    "np.setdiff1d(US_states, all_states[pd.Series(all_states).isin(US_states)].unique())"
   ]
  },
  {
   "cell_type": "code",
   "execution_count": null,
   "metadata": {},
   "outputs": [],
   "source": [
    "df_merged_US_map = df_merged_US[[\"birth_states\",\"state_code\", \"player_id\"]].groupby([\"state_code\", \"birth_states\"]).count().reset_index()"
   ]
  },
  {
   "cell_type": "code",
   "execution_count": null,
   "metadata": {},
   "outputs": [],
   "source": [
    "# add Vermont to the table for completeness\n",
    "df_merged_US_map = pd.concat([df_merged_US_map, pd.DataFrame([{\"state_code\":\"VT\", \"birth_states\":\"Vermont\",\"player_id\":0}])], ignore_index=True)"
   ]
  },
  {
   "cell_type": "code",
   "execution_count": null,
   "metadata": {},
   "outputs": [],
   "source": [
    "fig=px.choropleth(df_merged_US_map,locations=\"state_code\", \n",
    "    locationmode=\"USA-states\", \n",
    "    scope=\"usa\",\n",
    "    color=\"player_id\",\n",
    "    color_continuous_scale = \"Blues\",\n",
    "    hover_name = \"birth_states\")\n",
    "\n",
    "fig.update_layout(geo = dict(showlakes=False))\n",
    "\n",
    "fig.add_scattergeo(\n",
    "    locations=df_merged_US_map['state_code'],\n",
    "    locationmode='USA-states',\n",
    "    text=df_merged_US_map['state_code'],\n",
    "    mode='text',\n",
    "    hoverinfo=\"skip\")\n",
    "\n",
    "fig.update_layout(\n",
    "    title={'text':'Number of NBA players born in each US state',\n",
    "           'xanchor':'center',\n",
    "           'yanchor':'top',\n",
    "           'x':0.5})\n"
   ]
  },
  {
   "cell_type": "markdown",
   "metadata": {},
   "source": [
    "## Saving the results\n",
    "Save the resulting tables (the cleaned player_data_per_36_min and the two new aggregated tables) as CSV. To be sure that the data is correctly saved, you can load it again. You will have to work with these tables for the second exercise."
   ]
  }
 ],
 "metadata": {
  "kernelspec": {
   "display_name": "Python 3",
   "language": "python",
   "name": "python3"
  },
  "language_info": {
   "codemirror_mode": {
    "name": "ipython",
    "version": 3
   },
   "file_extension": ".py",
   "mimetype": "text/x-python",
   "name": "python",
   "nbconvert_exporter": "python",
   "pygments_lexer": "ipython3",
   "version": "3.12.2"
  }
 },
 "nbformat": 4,
 "nbformat_minor": 2
}
