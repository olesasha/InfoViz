{
 "cells": [
  {
   "cell_type": "markdown",
   "metadata": {},
   "source": [
    "**EXERCISE 1**\n",
    "\n",
    "The goal of this exercise is to get into some first contact with Python, Pandas data frames, and the many opportunities how to quickly generate static charts from data frames.\n",
    "\n",
    "For the first exercise, load the provided CSV file, do some data cleaning, and check if your cleaning operation was successful using visualization. For inspiration, browse through some Kaggle notebooks. The original data was downloaded from Kaggle. \n",
    "\n",
    "The main purpose of the notebook is to preprocess the CSV file for further visualization. The following steps have to be performed: \n",
    "\n",
    "Read the three CSV using Pandas. See the pandas.read_csv documentation to check how to parse the CSV correctly! Merge the two datasets player_data_per_36_min.csv and players.csv into one table. Add a team_name column to your new data frame based on the team_id column retrieving the name from the teams.csv dataset. You should now have a table that includes player info from players.csv, and players performance statistics from player_data_per_36_min.csv, and the team’s name from teams.csv. (3 points)\n",
    "Take care of missing values. Sci-kit learn provides different data imputation methods. Remove unusable rows or columns, if necessary.  If the player has no current team, replace the empty value with \"Retired\".\n",
    "(Hint: You may need to impute before you completely filter your dataframe. You need to make an educated judgment). (3 points)\n",
    "Create two new tables: one that groups rows based on player_id, another that groups rows based on team_id. (2 points)\n",
    "Visualize the data (twice). Every submitted notebook should contain at least two visualizations using at least two different Python visualization libraries. One visualization for each of the new tables (aggregated players or aggregated teams). A list of the most wide-spread Python visualization libraries can be found in this article. You must concisely describe and explain each visualization and your decisions in a Markdown field. You will not receive the points for this task if you did not add a description/explanation. (max. 5 points per visualization)\n",
    "Save the resulting tables (the cleaned player_data_per_36_min and the two new aggregated tables) as CSV. To be sure that the data is correctly saved, you can load it again. You will have to work with these tables for the second exercise. (2 points)\n",
    "Possible visualizations include, but are not limited to: \n",
    "\n",
    "Scatterplots and scatterplot matrices\n",
    "Parallel coordinates\n",
    "Radar charts\n",
    "Bar charts\n",
    "Box plots and histograms \n",
    "Choropleth maps\n",
    "..."
   ]
  },
  {
   "cell_type": "markdown",
   "metadata": {},
   "source": [
    "# ToDo\n",
    "- map plot number of players and states"
   ]
  },
  {
   "cell_type": "code",
   "execution_count": 2,
   "metadata": {},
   "outputs": [],
   "source": [
    "import pandas as pd\n",
    "import numpy as np\n",
    "from sklearn.impute import SimpleImputer\n",
    "import matplotlib.pyplot as plt\n",
    "import plotly.express as px"
   ]
  },
  {
   "cell_type": "markdown",
   "metadata": {},
   "source": [
    "Read data"
   ]
  },
  {
   "cell_type": "code",
   "execution_count": 3,
   "metadata": {},
   "outputs": [],
   "source": [
    "players = pd.read_csv(\"data/players.csv\")\n",
    "teams = pd.read_csv(\"data/teams.csv\")\n",
    "player_data_per_36_min = pd.read_csv(\"data/player_data_per_36_min.csv\")"
   ]
  },
  {
   "cell_type": "markdown",
   "metadata": {},
   "source": [
    "Check for duplicates"
   ]
  },
  {
   "cell_type": "code",
   "execution_count": 5,
   "metadata": {},
   "outputs": [
    {
     "name": "stdout",
     "output_type": "stream",
     "text": [
      "Duplikate in Player: 0\n",
      "Duplikate in Player: 0\n",
      "Duplikate in Player: 0\n"
     ]
    }
   ],
   "source": [
    "print(\n",
    "    f\"Duplikate in Player (36 min): {len(player_data_per_36_min[player_data_per_36_min.duplicated()==True])}\"\n",
    ")\n",
    "print(f\"Duplikate in Player: {len(players[players.duplicated()==True])}\")\n",
    "print(f\"Duplikate in Player: {len(teams[teams.duplicated()==True])}\")"
   ]
  },
  {
   "cell_type": "code",
   "execution_count": 7,
   "metadata": {},
   "outputs": [
    {
     "data": {
      "text/html": [
       "<div>\n",
       "<style scoped>\n",
       "    .dataframe tbody tr th:only-of-type {\n",
       "        vertical-align: middle;\n",
       "    }\n",
       "\n",
       "    .dataframe tbody tr th {\n",
       "        vertical-align: top;\n",
       "    }\n",
       "\n",
       "    .dataframe thead th {\n",
       "        text-align: right;\n",
       "    }\n",
       "</style>\n",
       "<table border=\"1\" class=\"dataframe\">\n",
       "  <thead>\n",
       "    <tr style=\"text-align: right;\">\n",
       "      <th></th>\n",
       "      <th>id</th>\n",
       "      <th>name</th>\n",
       "      <th>full_name</th>\n",
       "      <th>position</th>\n",
       "      <th>height</th>\n",
       "      <th>weight</th>\n",
       "      <th>birth_date</th>\n",
       "      <th>birth_place</th>\n",
       "      <th>retired</th>\n",
       "      <th>player_url</th>\n",
       "      <th>current_team_id</th>\n",
       "      <th>teams</th>\n",
       "      <th>text</th>\n",
       "    </tr>\n",
       "  </thead>\n",
       "  <tbody>\n",
       "  </tbody>\n",
       "</table>\n",
       "</div>"
      ],
      "text/plain": [
       "Empty DataFrame\n",
       "Columns: [id, name, full_name, position, height, weight, birth_date, birth_place, retired, player_url, current_team_id, teams, text]\n",
       "Index: []"
      ]
     },
     "execution_count": 7,
     "metadata": {},
     "output_type": "execute_result"
    }
   ],
   "source": [
    "players[players.duplicated()==True]"
   ]
  },
  {
   "cell_type": "code",
   "execution_count": 8,
   "metadata": {},
   "outputs": [
    {
     "data": {
      "text/plain": [
       "(4820, 13)"
      ]
     },
     "execution_count": 8,
     "metadata": {},
     "output_type": "execute_result"
    }
   ],
   "source": [
    "players.shape"
   ]
  },
  {
   "cell_type": "code",
   "execution_count": 9,
   "metadata": {},
   "outputs": [
    {
     "data": {
      "text/html": [
       "<div>\n",
       "<style scoped>\n",
       "    .dataframe tbody tr th:only-of-type {\n",
       "        vertical-align: middle;\n",
       "    }\n",
       "\n",
       "    .dataframe tbody tr th {\n",
       "        vertical-align: top;\n",
       "    }\n",
       "\n",
       "    .dataframe thead th {\n",
       "        text-align: right;\n",
       "    }\n",
       "</style>\n",
       "<table border=\"1\" class=\"dataframe\">\n",
       "  <thead>\n",
       "    <tr style=\"text-align: right;\">\n",
       "      <th></th>\n",
       "      <th>team_id</th>\n",
       "      <th>team_name</th>\n",
       "      <th>short_name</th>\n",
       "      <th>years</th>\n",
       "      <th>total_games</th>\n",
       "      <th>total_wins</th>\n",
       "      <th>total_losses</th>\n",
       "      <th>win_loss_percentage</th>\n",
       "      <th>champions</th>\n",
       "      <th>other_names</th>\n",
       "      <th>link</th>\n",
       "      <th>active</th>\n",
       "    </tr>\n",
       "  </thead>\n",
       "  <tbody>\n",
       "  </tbody>\n",
       "</table>\n",
       "</div>"
      ],
      "text/plain": [
       "Empty DataFrame\n",
       "Columns: [team_id, team_name, short_name, years, total_games, total_wins, total_losses, win_loss_percentage, champions, other_names, link, active]\n",
       "Index: []"
      ]
     },
     "execution_count": 9,
     "metadata": {},
     "output_type": "execute_result"
    }
   ],
   "source": [
    "teams[teams.duplicated()==True]"
   ]
  },
  {
   "cell_type": "code",
   "execution_count": 10,
   "metadata": {},
   "outputs": [
    {
     "data": {
      "text/plain": [
       "(52, 12)"
      ]
     },
     "execution_count": 10,
     "metadata": {},
     "output_type": "execute_result"
    }
   ],
   "source": [
    "teams.shape"
   ]
  },
  {
   "cell_type": "code",
   "execution_count": 11,
   "metadata": {},
   "outputs": [],
   "source": [
    "df1 = players.merge(\n",
    "    player_data_per_36_min, how=\"right\", left_on=\"id\", right_on=\"player_id\"\n",
    ")"
   ]
  },
  {
   "cell_type": "code",
   "execution_count": 12,
   "metadata": {},
   "outputs": [],
   "source": [
    "df2 = df1.merge(\n",
    "    teams[[\"team_name\", \"team_id\"]],\n",
    "    how=\"left\",\n",
    "    left_on=\"current_team_id\",\n",
    "    right_on=\"team_id\",\n",
    ")"
   ]
  },
  {
   "cell_type": "code",
   "execution_count": 13,
   "metadata": {},
   "outputs": [],
   "source": [
    "df2 = df2.replace({np.nan: None})"
   ]
  },
  {
   "cell_type": "code",
   "execution_count": 14,
   "metadata": {},
   "outputs": [],
   "source": [
    "df2.loc[df2[\"retired\"], \"team_name\"] = \"Retired\""
   ]
  },
  {
   "cell_type": "code",
   "execution_count": 15,
   "metadata": {},
   "outputs": [
    {
     "name": "stdout",
     "output_type": "stream",
     "text": [
      "<class 'pandas.core.frame.DataFrame'>\n",
      "RangeIndex: 26674 entries, 0 to 26673\n",
      "Data columns (total 42 columns):\n",
      " #   Column           Non-Null Count  Dtype \n",
      "---  ------           --------------  ----- \n",
      " 0   id_x             26674 non-null  int64 \n",
      " 1   name             26674 non-null  object\n",
      " 2   full_name        26674 non-null  object\n",
      " 3   position         26674 non-null  object\n",
      " 4   height           26674 non-null  object\n",
      " 5   weight           26671 non-null  object\n",
      " 6   birth_date       26673 non-null  object\n",
      " 7   birth_place      26278 non-null  object\n",
      " 8   retired          26674 non-null  bool  \n",
      " 9   player_url       26674 non-null  object\n",
      " 10  current_team_id  2830 non-null   object\n",
      " 11  teams            26674 non-null  object\n",
      " 12  text             26674 non-null  object\n",
      " 13  id_y             26674 non-null  int64 \n",
      " 14  player_id        26674 non-null  int64 \n",
      " 15  season           26674 non-null  object\n",
      " 16  total_games      26645 non-null  object\n",
      " 17  games_started    20208 non-null  object\n",
      " 18  minutes_played   26121 non-null  object\n",
      " 19  fg               26116 non-null  object\n",
      " 20  fga              26116 non-null  object\n",
      " 21  fgp              26508 non-null  object\n",
      " 22  fg3              20897 non-null  object\n",
      " 23  fg3a             20897 non-null  object\n",
      " 24  fg3p             17231 non-null  object\n",
      " 25  fg2              22558 non-null  object\n",
      " 26  fg2a             22558 non-null  object\n",
      " 27  fg2p             22388 non-null  object\n",
      " 28  ft               26116 non-null  object\n",
      " 29  fta              26116 non-null  object\n",
      " 30  ftp              25615 non-null  object\n",
      " 31  orb              22767 non-null  object\n",
      " 32  drb              22767 non-null  object\n",
      " 33  trb              26108 non-null  object\n",
      " 34  ast              26116 non-null  object\n",
      " 35  stl              22767 non-null  object\n",
      " 36  blk              22767 non-null  object\n",
      " 37  tov              21615 non-null  object\n",
      " 38  pf               26116 non-null  object\n",
      " 39  pts              26116 non-null  object\n",
      " 40  team_name        26503 non-null  object\n",
      " 41  team_id          2830 non-null   object\n",
      "dtypes: bool(1), int64(3), object(38)\n",
      "memory usage: 8.4+ MB\n"
     ]
    }
   ],
   "source": [
    "df2.info()"
   ]
  },
  {
   "cell_type": "code",
   "execution_count": 16,
   "metadata": {},
   "outputs": [],
   "source": [
    "birth_places = df2[\"birth_place\"].unique()"
   ]
  },
  {
   "cell_type": "code",
   "execution_count": 17,
   "metadata": {},
   "outputs": [],
   "source": [
    "df2[\"birth_states\"] = df2[\"birth_place\"].str.split(',', expand=True)[1]\n",
    "df2['birth_states'] = df2['birth_states'].apply(lambda x: str(x).replace(u'\\xa0', u''))\n"
   ]
  },
  {
   "cell_type": "code",
   "execution_count": 18,
   "metadata": {},
   "outputs": [
    {
     "data": {
      "text/plain": [
       "array(['Indiana', 'New York', 'Kentucky', 'Wisconsin', 'Idaho',\n",
       "       'Pennsylvania', 'New Jersey', 'Michigan', 'Oklahoma', 'Kansas',\n",
       "       'Louisiana', 'Texas', 'Ohio', 'Illinois', 'California',\n",
       "       'Minnesota', 'Montana', 'Tennessee', 'Wyoming', 'Georgia',\n",
       "       'Colorado', 'None', 'Utah', 'Iowa', 'Washington', 'Maryland',\n",
       "       'Oregon', 'West Virginia', 'North Dakota', 'Poland',\n",
       "       'Massachusetts', 'Missouri', 'North Carolina', '', 'Hawaii',\n",
       "       'Nebraska', 'Arizona', 'Canada', 'Alabama', 'Arkansas',\n",
       "       'South Dakota', 'Virginia', 'Mississippi', 'South Carolina',\n",
       "       'Connecticut', 'United Kingdom', 'Florida', 'District of Columbia',\n",
       "       'China', 'New Mexico', 'Delaware', 'Germany', 'Rhode Island',\n",
       "       'Morocco', 'Netherlands', 'Nevada', 'Romania', 'Denmark',\n",
       "       'Puerto Rico', 'Bahamas', 'Panama', 'Iceland', 'France', 'Spain',\n",
       "       'Nigeria', 'Jamaica', 'Maine', 'South Sudan', 'Bulgaria', 'Haiti',\n",
       "       'Brazil', 'Dominican Republic', 'Lebanon', 'Norway', 'Serbia',\n",
       "       'Lithuania', 'Montenegro', 'Croatia', 'Russia', 'Egypt',\n",
       "       'Trinidad and Tobago', 'Australia',\n",
       "       'Democratic Republic of the Congo', 'Latvia', 'Cuba', 'Slovakia',\n",
       "       'U.S. Virgin Islands', 'Bosnia and Herzegovina', 'Italy',\n",
       "       'Czech Republic', 'Mexico', 'Estonia', 'South Africa', 'Ukraine',\n",
       "       'Saint Vincent and the Grenadines', 'Slovenia', 'New Zealand',\n",
       "       'Senegal', 'Sweden', 'Guyana', 'Dominica', 'Finland', 'Mali',\n",
       "       'Argentina', 'Turkey', 'Cameroon', 'Greece', 'Luxembourg',\n",
       "       'Belgium', 'Venezuela', 'Ireland', 'Guadeloupe', 'New Hampshire',\n",
       "       'Republic of Korea', 'Japan', 'Uruguay', 'Martinique',\n",
       "       'Switzerland', 'Gabon', 'Taiwan', 'Alaska',\n",
       "       'Islamic Republic of Iran', 'Israel', 'Republic of the Congo',\n",
       "       'United Republic of Tanzania', 'French Guiana', 'FYR Macedonia',\n",
       "       'Tunisia', 'Cape Verde', 'Austria', 'Saint Lucia', 'Guinea',\n",
       "       'Angola', 'Sudan', 'Antigua and Barbuda', ' Illinois', ' Canada',\n",
       "       ' Tennessee', ' France', ' California', ' Texas'], dtype=object)"
      ]
     },
     "execution_count": 18,
     "metadata": {},
     "output_type": "execute_result"
    }
   ],
   "source": [
    "df2[\"birth_states\"].unique()"
   ]
  },
  {
   "cell_type": "code",
   "execution_count": 19,
   "metadata": {},
   "outputs": [],
   "source": [
    "all_states = pd.Series(df2[\"birth_states\"].unique())"
   ]
  },
  {
   "cell_type": "code",
   "execution_count": 20,
   "metadata": {},
   "outputs": [],
   "source": [
    "US_states = [\n",
    "    'Alabama', 'Alaska', 'Arizona', 'Arkansas', 'California', 'Colorado',\n",
    "    'Connecticut', 'Delaware', 'Florida', 'Georgia', 'Hawaii', 'Idaho',\n",
    "    'Illinois', 'Indiana', 'Iowa', 'Kansas', 'Kentucky', 'Louisiana',\n",
    "    'Maine', 'Maryland', 'Massachusetts', 'Michigan', 'Minnesota',\n",
    "    'Mississippi', 'Missouri', 'Montana', 'Nebraska', 'Nevada',\n",
    "    'New Hampshire', 'New Jersey', 'New Mexico', 'New York',\n",
    "    'North Carolina', 'North Dakota', 'Ohio', 'Oklahoma', 'Oregon',\n",
    "    'Pennsylvania', 'Rhode Island', 'South Carolina', 'South Dakota',\n",
    "    'Tennessee', 'Texas', 'Utah', 'Vermont', 'Virginia', 'Washington',\n",
    "    'West Virginia', 'Wisconsin', 'Wyoming'\n",
    "]\n"
   ]
  },
  {
   "cell_type": "code",
   "execution_count": 21,
   "metadata": {},
   "outputs": [
    {
     "data": {
      "text/plain": [
       "50"
      ]
     },
     "execution_count": 21,
     "metadata": {},
     "output_type": "execute_result"
    }
   ],
   "source": [
    "len(US_states)"
   ]
  },
  {
   "cell_type": "markdown",
   "metadata": {},
   "source": [
    "Es gab bis 2019 nie einen NBA Spieler aus Vermont "
   ]
  },
  {
   "cell_type": "code",
   "execution_count": 22,
   "metadata": {},
   "outputs": [
    {
     "data": {
      "text/plain": [
       "array(['Vermont'], dtype='<U14')"
      ]
     },
     "execution_count": 22,
     "metadata": {},
     "output_type": "execute_result"
    }
   ],
   "source": [
    "np.setdiff1d(US_states, all_states[pd.Series(all_states).isin(US_states)].unique())"
   ]
  },
  {
   "cell_type": "code",
   "execution_count": 23,
   "metadata": {},
   "outputs": [],
   "source": [
    "df2_US = df2.loc[df2[\"birth_states\"].isin(US_states)]"
   ]
  },
  {
   "cell_type": "code",
   "execution_count": 24,
   "metadata": {},
   "outputs": [],
   "source": [
    "df2_US_map = df2_US[[\"birth_states\", \"player_id\"]].groupby([\"birth_states\"]).count().reset_index()"
   ]
  },
  {
   "cell_type": "code",
   "execution_count": 25,
   "metadata": {},
   "outputs": [
    {
     "ename": "ValueError",
     "evalue": "Mime type rendering requires nbformat>=4.2.0 but it is not installed",
     "output_type": "error",
     "traceback": [
      "\u001b[0;31m---------------------------------------------------------------------------\u001b[0m",
      "\u001b[0;31mValueError\u001b[0m                                Traceback (most recent call last)",
      "Cell \u001b[0;32mIn[25], line 15\u001b[0m\n\u001b[1;32m      6\u001b[0m fig \u001b[38;5;241m=\u001b[39m px\u001b[38;5;241m.\u001b[39mchoropleth_mapbox(df2_US_map, geojson\u001b[38;5;241m=\u001b[39mcounties, locations\u001b[38;5;241m=\u001b[39m\u001b[38;5;124m'\u001b[39m\u001b[38;5;124mbirth_states\u001b[39m\u001b[38;5;124m'\u001b[39m, color\u001b[38;5;241m=\u001b[39m\u001b[38;5;124m'\u001b[39m\u001b[38;5;124mplayer_id\u001b[39m\u001b[38;5;124m'\u001b[39m,\n\u001b[1;32m      7\u001b[0m                            color_continuous_scale\u001b[38;5;241m=\u001b[39m\u001b[38;5;124m\"\u001b[39m\u001b[38;5;124mViridis\u001b[39m\u001b[38;5;124m\"\u001b[39m,\n\u001b[1;32m      8\u001b[0m                            range_color\u001b[38;5;241m=\u001b[39m(\u001b[38;5;241m0\u001b[39m, \u001b[38;5;241m12\u001b[39m),\n\u001b[0;32m   (...)\u001b[0m\n\u001b[1;32m     12\u001b[0m                            labels\u001b[38;5;241m=\u001b[39m{\u001b[38;5;124m'\u001b[39m\u001b[38;5;124mnum:_players\u001b[39m\u001b[38;5;124m'\u001b[39m:\u001b[38;5;124m'\u001b[39m\u001b[38;5;124mnumber of players\u001b[39m\u001b[38;5;124m'\u001b[39m}\n\u001b[1;32m     13\u001b[0m                           )\n\u001b[1;32m     14\u001b[0m fig\u001b[38;5;241m.\u001b[39mupdate_layout(margin\u001b[38;5;241m=\u001b[39m{\u001b[38;5;124m\"\u001b[39m\u001b[38;5;124mr\u001b[39m\u001b[38;5;124m\"\u001b[39m:\u001b[38;5;241m0\u001b[39m,\u001b[38;5;124m\"\u001b[39m\u001b[38;5;124mt\u001b[39m\u001b[38;5;124m\"\u001b[39m:\u001b[38;5;241m0\u001b[39m,\u001b[38;5;124m\"\u001b[39m\u001b[38;5;124ml\u001b[39m\u001b[38;5;124m\"\u001b[39m:\u001b[38;5;241m0\u001b[39m,\u001b[38;5;124m\"\u001b[39m\u001b[38;5;124mb\u001b[39m\u001b[38;5;124m\"\u001b[39m:\u001b[38;5;241m0\u001b[39m})\n\u001b[0;32m---> 15\u001b[0m \u001b[43mfig\u001b[49m\u001b[38;5;241;43m.\u001b[39;49m\u001b[43mshow\u001b[49m\u001b[43m(\u001b[49m\u001b[43m)\u001b[49m\n",
      "File \u001b[0;32m~/Library/Mobile Documents/com~apple~CloudDocs/100 Hochschule/110 TU Wien/SoSe 24/InfoVis/InfoViz/infovis_venv/lib/python3.12/site-packages/plotly/basedatatypes.py:3410\u001b[0m, in \u001b[0;36mBaseFigure.show\u001b[0;34m(self, *args, **kwargs)\u001b[0m\n\u001b[1;32m   3377\u001b[0m \u001b[38;5;250m\u001b[39m\u001b[38;5;124;03m\"\"\"\u001b[39;00m\n\u001b[1;32m   3378\u001b[0m \u001b[38;5;124;03mShow a figure using either the default renderer(s) or the renderer(s)\u001b[39;00m\n\u001b[1;32m   3379\u001b[0m \u001b[38;5;124;03mspecified by the renderer argument\u001b[39;00m\n\u001b[0;32m   (...)\u001b[0m\n\u001b[1;32m   3406\u001b[0m \u001b[38;5;124;03mNone\u001b[39;00m\n\u001b[1;32m   3407\u001b[0m \u001b[38;5;124;03m\"\"\"\u001b[39;00m\n\u001b[1;32m   3408\u001b[0m \u001b[38;5;28;01mimport\u001b[39;00m \u001b[38;5;21;01mplotly\u001b[39;00m\u001b[38;5;21;01m.\u001b[39;00m\u001b[38;5;21;01mio\u001b[39;00m \u001b[38;5;28;01mas\u001b[39;00m \u001b[38;5;21;01mpio\u001b[39;00m\n\u001b[0;32m-> 3410\u001b[0m \u001b[38;5;28;01mreturn\u001b[39;00m \u001b[43mpio\u001b[49m\u001b[38;5;241;43m.\u001b[39;49m\u001b[43mshow\u001b[49m\u001b[43m(\u001b[49m\u001b[38;5;28;43mself\u001b[39;49m\u001b[43m,\u001b[49m\u001b[43m \u001b[49m\u001b[38;5;241;43m*\u001b[39;49m\u001b[43margs\u001b[49m\u001b[43m,\u001b[49m\u001b[43m \u001b[49m\u001b[38;5;241;43m*\u001b[39;49m\u001b[38;5;241;43m*\u001b[39;49m\u001b[43mkwargs\u001b[49m\u001b[43m)\u001b[49m\n",
      "File \u001b[0;32m~/Library/Mobile Documents/com~apple~CloudDocs/100 Hochschule/110 TU Wien/SoSe 24/InfoVis/InfoViz/infovis_venv/lib/python3.12/site-packages/plotly/io/_renderers.py:394\u001b[0m, in \u001b[0;36mshow\u001b[0;34m(fig, renderer, validate, **kwargs)\u001b[0m\n\u001b[1;32m    389\u001b[0m         \u001b[38;5;28;01mraise\u001b[39;00m \u001b[38;5;167;01mValueError\u001b[39;00m(\n\u001b[1;32m    390\u001b[0m             \u001b[38;5;124m\"\u001b[39m\u001b[38;5;124mMime type rendering requires ipython but it is not installed\u001b[39m\u001b[38;5;124m\"\u001b[39m\n\u001b[1;32m    391\u001b[0m         )\n\u001b[1;32m    393\u001b[0m     \u001b[38;5;28;01mif\u001b[39;00m \u001b[38;5;129;01mnot\u001b[39;00m nbformat \u001b[38;5;129;01mor\u001b[39;00m Version(nbformat\u001b[38;5;241m.\u001b[39m__version__) \u001b[38;5;241m<\u001b[39m Version(\u001b[38;5;124m\"\u001b[39m\u001b[38;5;124m4.2.0\u001b[39m\u001b[38;5;124m\"\u001b[39m):\n\u001b[0;32m--> 394\u001b[0m         \u001b[38;5;28;01mraise\u001b[39;00m \u001b[38;5;167;01mValueError\u001b[39;00m(\n\u001b[1;32m    395\u001b[0m             \u001b[38;5;124m\"\u001b[39m\u001b[38;5;124mMime type rendering requires nbformat>=4.2.0 but it is not installed\u001b[39m\u001b[38;5;124m\"\u001b[39m\n\u001b[1;32m    396\u001b[0m         )\n\u001b[1;32m    398\u001b[0m     ipython_display\u001b[38;5;241m.\u001b[39mdisplay(bundle, raw\u001b[38;5;241m=\u001b[39m\u001b[38;5;28;01mTrue\u001b[39;00m)\n\u001b[1;32m    400\u001b[0m \u001b[38;5;66;03m# external renderers\u001b[39;00m\n",
      "\u001b[0;31mValueError\u001b[0m: Mime type rendering requires nbformat>=4.2.0 but it is not installed"
     ]
    }
   ],
   "source": [
    "from urllib.request import urlopen\n",
    "import json\n",
    "with urlopen('https://raw.githubusercontent.com/plotly/datasets/master/geojson-counties-fips.json') as response:\n",
    "    counties = json.load(response)\n",
    "\n",
    "fig = px.choropleth_mapbox(df2_US_map, geojson=counties, locations='birth_states', color='player_id',\n",
    "                           color_continuous_scale=\"Viridis\",\n",
    "                           range_color=(0, 12),\n",
    "                           mapbox_style=\"carto-positron\",\n",
    "                           #zoom=3, center = {\"lat\": 37.0902, \"lon\": -95.7129},\n",
    "                           opacity=0.5,\n",
    "                           labels={'num:_players':'number of players'}\n",
    "                          )\n",
    "fig.update_layout(margin={\"r\":0,\"t\":0,\"l\":0,\"b\":0})\n",
    "fig.show()"
   ]
  },
  {
   "cell_type": "code",
   "execution_count": null,
   "metadata": {},
   "outputs": [
    {
     "data": {
      "text/plain": [
       "0         True\n",
       "1         True\n",
       "2         True\n",
       "3         True\n",
       "4         True\n",
       "         ...  \n",
       "26669    False\n",
       "26670    False\n",
       "26671    False\n",
       "26672    False\n",
       "26673    False\n",
       "Name: pts, Length: 26674, dtype: bool"
      ]
     },
     "execution_count": 210,
     "metadata": {},
     "output_type": "execute_result"
    }
   ],
   "source": [
    "df2[\"pts\"].isna().value"
   ]
  },
  {
   "cell_type": "code",
   "execution_count": null,
   "metadata": {},
   "outputs": [],
   "source": []
  }
 ],
 "metadata": {
  "kernelspec": {
   "display_name": "Python 3",
   "language": "python",
   "name": "python3"
  },
  "language_info": {
   "codemirror_mode": {
    "name": "ipython",
    "version": 3
   },
   "file_extension": ".py",
   "mimetype": "text/x-python",
   "name": "python",
   "nbconvert_exporter": "python",
   "pygments_lexer": "ipython3",
   "version": "3.12.2"
  }
 },
 "nbformat": 4,
 "nbformat_minor": 2
}
