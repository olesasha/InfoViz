{
 "cells": [
  {
   "cell_type": "markdown",
   "metadata": {},
   "source": [
    "# Exercise 1\n",
    "#### Group 25. Maximilian Laurent Heß (12347554), Oleksandra Kravchenko (11935050)"
   ]
  },
  {
   "cell_type": "markdown",
   "metadata": {},
   "source": [
    "## Reading the data"
   ]
  },
  {
   "cell_type": "code",
   "execution_count": 5,
   "metadata": {},
   "outputs": [],
   "source": [
    "import pandas as pd\n",
    "import numpy as np\n",
    "import matplotlib.pyplot as plt\n",
    "import seaborn as sns\n",
    "import plotly.express as px\n",
    "import warnings\n",
    "from bokeh.plotting import figure, show\n",
    "from bokeh.io import output_notebook\n",
    "from bokeh.models import ColumnDataSource, CategoricalColorMapper, HoverTool, Legend\n",
    "from bokeh.models.formatters import CustomJSTickFormatter\n",
    "from pandas.plotting import scatter_matrix\n",
    "from sklearn.impute import SimpleImputer\n",
    "\n",
    "warnings.filterwarnings(\"ignore\")"
   ]
  },
  {
   "cell_type": "markdown",
   "metadata": {},
   "source": [
    "We have the following data files:\n",
    "- **players**: information about individual players\n",
    "- **teams**: general information about NBA teams\n",
    "- **player_data_per_36_min**: quantitive data about each player's performance in a given season. Players' performance is normalized to 36-minutes-game for more objective comparison regardless of playing time."
   ]
  },
  {
   "cell_type": "code",
   "execution_count": 6,
   "metadata": {},
   "outputs": [],
   "source": [
    "players = pd.read_csv(\"data/players.csv\")\n",
    "teams = pd.read_csv(\"data/teams.csv\")\n",
    "player_data_per_36_min = pd.read_csv(\"data/player_data_per_36_min.csv\")"
   ]
  },
  {
   "cell_type": "markdown",
   "metadata": {},
   "source": [
    "## Handling duplicates"
   ]
  },
  {
   "cell_type": "code",
   "execution_count": 7,
   "metadata": {},
   "outputs": [
    {
     "name": "stdout",
     "output_type": "stream",
     "text": [
      "Duplicates in player_data_per_36_min.csv: 0\n",
      "Duplicates in players.csv: 0\n",
      "Duplicates in teams.csv: 0\n"
     ]
    }
   ],
   "source": [
    "print(\n",
    "    f\"Duplicates in player_data_per_36_min.csv: {len(player_data_per_36_min[player_data_per_36_min.duplicated()])}\"\n",
    ")\n",
    "print(f\"Duplicates in players.csv: {len(players[players.duplicated()])}\")\n",
    "print(f\"Duplicates in teams.csv: {len(teams[teams.duplicated()])}\")"
   ]
  },
  {
   "cell_type": "markdown",
   "metadata": {},
   "source": [
    "We do not have any complete duplicates in our data. However, we noticed that the player_data_per_36_min dataset contains multiple entries per player_id per season, which does not support our initial assumption about the content of the data. \n",
    "After further research in the data source, we found out, that NBA players often switch teams, so many players would have multiple entries for the same season while they played for different teams. Besides, where it is the case, there is also an additional row with the \"total\" statistics for the player across the teams that matches the same of total games from other 2 entries for the player for different teams. Technically, this behaviour makes the rows with total statistics a duplicate because they do not provide any additional data but only summarize the other entries.\n",
    "\n",
    "Since we do not have any information about the specific team that any given player's performance is attributed to (there is no team_id column in the player_data_per_36_min dataset), we decided to only keep the \"total\" statistics (identified by the maximum value of \"total_games\"). The cells below provide an example."
   ]
  },
  {
   "cell_type": "code",
   "execution_count": 8,
   "metadata": {},
   "outputs": [
    {
     "name": "stdout",
     "output_type": "stream",
     "text": [
      "Partial duplicates in player_data_per_36_min.csv: 4780\n"
     ]
    }
   ],
   "source": [
    "print(\n",
    "    f\"Partial duplicates in player_data_per_36_min.csv: {len(player_data_per_36_min[player_data_per_36_min.duplicated([\"season\", \"player_id\"])])}\"\n",
    ")"
   ]
  },
  {
   "cell_type": "code",
   "execution_count": 9,
   "metadata": {},
   "outputs": [
    {
     "data": {
      "text/html": [
       "<div>\n",
       "<style scoped>\n",
       "    .dataframe tbody tr th:only-of-type {\n",
       "        vertical-align: middle;\n",
       "    }\n",
       "\n",
       "    .dataframe tbody tr th {\n",
       "        vertical-align: top;\n",
       "    }\n",
       "\n",
       "    .dataframe thead th {\n",
       "        text-align: right;\n",
       "    }\n",
       "</style>\n",
       "<table border=\"1\" class=\"dataframe\">\n",
       "  <thead>\n",
       "    <tr style=\"text-align: right;\">\n",
       "      <th></th>\n",
       "      <th>id</th>\n",
       "      <th>player_id</th>\n",
       "      <th>season</th>\n",
       "      <th>total_games</th>\n",
       "      <th>games_started</th>\n",
       "      <th>minutes_played</th>\n",
       "      <th>fg</th>\n",
       "      <th>fga</th>\n",
       "      <th>fgp</th>\n",
       "      <th>fg3</th>\n",
       "      <th>...</th>\n",
       "      <th>ftp</th>\n",
       "      <th>orb</th>\n",
       "      <th>drb</th>\n",
       "      <th>trb</th>\n",
       "      <th>ast</th>\n",
       "      <th>stl</th>\n",
       "      <th>blk</th>\n",
       "      <th>tov</th>\n",
       "      <th>pf</th>\n",
       "      <th>pts</th>\n",
       "    </tr>\n",
       "  </thead>\n",
       "  <tbody>\n",
       "    <tr>\n",
       "      <th>11870</th>\n",
       "      <td>11871</td>\n",
       "      <td>1</td>\n",
       "      <td>1994-95</td>\n",
       "      <td>54.0</td>\n",
       "      <td>0.0</td>\n",
       "      <td>506.0</td>\n",
       "      <td>8.4</td>\n",
       "      <td>16.4</td>\n",
       "      <td>0.511</td>\n",
       "      <td>0.0</td>\n",
       "      <td>...</td>\n",
       "      <td>0.571</td>\n",
       "      <td>2.6</td>\n",
       "      <td>5.5</td>\n",
       "      <td>8.1</td>\n",
       "      <td>0.9</td>\n",
       "      <td>1.1</td>\n",
       "      <td>0.9</td>\n",
       "      <td>3.2</td>\n",
       "      <td>7.4</td>\n",
       "      <td>18.2</td>\n",
       "    </tr>\n",
       "    <tr>\n",
       "      <th>11871</th>\n",
       "      <td>11872</td>\n",
       "      <td>1</td>\n",
       "      <td>1994-95</td>\n",
       "      <td>51.0</td>\n",
       "      <td>0.0</td>\n",
       "      <td>476.0</td>\n",
       "      <td>8.8</td>\n",
       "      <td>16.6</td>\n",
       "      <td>0.532</td>\n",
       "      <td>0.0</td>\n",
       "      <td>...</td>\n",
       "      <td>0.571</td>\n",
       "      <td>2.6</td>\n",
       "      <td>5.4</td>\n",
       "      <td>8.0</td>\n",
       "      <td>1.0</td>\n",
       "      <td>1.1</td>\n",
       "      <td>0.9</td>\n",
       "      <td>3.0</td>\n",
       "      <td>7.7</td>\n",
       "      <td>19.2</td>\n",
       "    </tr>\n",
       "    <tr>\n",
       "      <th>11872</th>\n",
       "      <td>11873</td>\n",
       "      <td>1</td>\n",
       "      <td>1994-95</td>\n",
       "      <td>3.0</td>\n",
       "      <td>0.0</td>\n",
       "      <td>30.0</td>\n",
       "      <td>1.2</td>\n",
       "      <td>13.2</td>\n",
       "      <td>0.091</td>\n",
       "      <td>0.0</td>\n",
       "      <td>...</td>\n",
       "      <td>NaN</td>\n",
       "      <td>3.6</td>\n",
       "      <td>6.0</td>\n",
       "      <td>9.6</td>\n",
       "      <td>0.0</td>\n",
       "      <td>0.0</td>\n",
       "      <td>0.0</td>\n",
       "      <td>6.0</td>\n",
       "      <td>2.4</td>\n",
       "      <td>2.4</td>\n",
       "    </tr>\n",
       "  </tbody>\n",
       "</table>\n",
       "<p>3 rows × 27 columns</p>\n",
       "</div>"
      ],
      "text/plain": [
       "          id  player_id   season  total_games  games_started  minutes_played  \\\n",
       "11870  11871          1  1994-95         54.0            0.0           506.0   \n",
       "11871  11872          1  1994-95         51.0            0.0           476.0   \n",
       "11872  11873          1  1994-95          3.0            0.0            30.0   \n",
       "\n",
       "        fg   fga    fgp  fg3  ...    ftp  orb  drb  trb  ast  stl  blk  tov  \\\n",
       "11870  8.4  16.4  0.511  0.0  ...  0.571  2.6  5.5  8.1  0.9  1.1  0.9  3.2   \n",
       "11871  8.8  16.6  0.532  0.0  ...  0.571  2.6  5.4  8.0  1.0  1.1  0.9  3.0   \n",
       "11872  1.2  13.2  0.091  0.0  ...    NaN  3.6  6.0  9.6  0.0  0.0  0.0  6.0   \n",
       "\n",
       "        pf   pts  \n",
       "11870  7.4  18.2  \n",
       "11871  7.7  19.2  \n",
       "11872  2.4   2.4  \n",
       "\n",
       "[3 rows x 27 columns]"
      ]
     },
     "execution_count": 9,
     "metadata": {},
     "output_type": "execute_result"
    }
   ],
   "source": [
    "player_data_per_36_min.loc[\n",
    "    (player_data_per_36_min[\"player_id\"] == 1)\n",
    "    & (player_data_per_36_min[\"season\"] == \"1994-95\")\n",
    "]"
   ]
  },
  {
   "cell_type": "code",
   "execution_count": 10,
   "metadata": {},
   "outputs": [
    {
     "data": {
      "text/html": [
       "<div>\n",
       "<style scoped>\n",
       "    .dataframe tbody tr th:only-of-type {\n",
       "        vertical-align: middle;\n",
       "    }\n",
       "\n",
       "    .dataframe tbody tr th {\n",
       "        vertical-align: top;\n",
       "    }\n",
       "\n",
       "    .dataframe thead th {\n",
       "        text-align: right;\n",
       "    }\n",
       "</style>\n",
       "<table border=\"1\" class=\"dataframe\">\n",
       "  <thead>\n",
       "    <tr style=\"text-align: right;\">\n",
       "      <th></th>\n",
       "      <th>id</th>\n",
       "      <th>player_id</th>\n",
       "      <th>season</th>\n",
       "      <th>total_games</th>\n",
       "      <th>games_started</th>\n",
       "      <th>minutes_played</th>\n",
       "      <th>fg</th>\n",
       "      <th>fga</th>\n",
       "      <th>fgp</th>\n",
       "      <th>fg3</th>\n",
       "      <th>...</th>\n",
       "      <th>ftp</th>\n",
       "      <th>orb</th>\n",
       "      <th>drb</th>\n",
       "      <th>trb</th>\n",
       "      <th>ast</th>\n",
       "      <th>stl</th>\n",
       "      <th>blk</th>\n",
       "      <th>tov</th>\n",
       "      <th>pf</th>\n",
       "      <th>pts</th>\n",
       "    </tr>\n",
       "  </thead>\n",
       "  <tbody>\n",
       "    <tr>\n",
       "      <th>26067</th>\n",
       "      <td>26068</td>\n",
       "      <td>4794</td>\n",
       "      <td>2018-19</td>\n",
       "      <td>59.0</td>\n",
       "      <td>37.0</td>\n",
       "      <td>1040.0</td>\n",
       "      <td>7.3</td>\n",
       "      <td>13.1</td>\n",
       "      <td>0.559</td>\n",
       "      <td>0.0</td>\n",
       "      <td>...</td>\n",
       "      <td>0.802</td>\n",
       "      <td>4.0</td>\n",
       "      <td>8.6</td>\n",
       "      <td>12.5</td>\n",
       "      <td>2.2</td>\n",
       "      <td>0.5</td>\n",
       "      <td>1.8</td>\n",
       "      <td>2.4</td>\n",
       "      <td>4.7</td>\n",
       "      <td>18.2</td>\n",
       "    </tr>\n",
       "    <tr>\n",
       "      <th>26068</th>\n",
       "      <td>26069</td>\n",
       "      <td>4794</td>\n",
       "      <td>2018-19</td>\n",
       "      <td>33.0</td>\n",
       "      <td>12.0</td>\n",
       "      <td>516.0</td>\n",
       "      <td>7.8</td>\n",
       "      <td>13.5</td>\n",
       "      <td>0.580</td>\n",
       "      <td>0.0</td>\n",
       "      <td>...</td>\n",
       "      <td>0.864</td>\n",
       "      <td>3.8</td>\n",
       "      <td>7.5</td>\n",
       "      <td>11.3</td>\n",
       "      <td>1.7</td>\n",
       "      <td>0.3</td>\n",
       "      <td>1.9</td>\n",
       "      <td>2.3</td>\n",
       "      <td>5.1</td>\n",
       "      <td>19.6</td>\n",
       "    </tr>\n",
       "    <tr>\n",
       "      <th>26069</th>\n",
       "      <td>26070</td>\n",
       "      <td>4794</td>\n",
       "      <td>2018-19</td>\n",
       "      <td>26.0</td>\n",
       "      <td>25.0</td>\n",
       "      <td>524.0</td>\n",
       "      <td>6.9</td>\n",
       "      <td>12.8</td>\n",
       "      <td>0.538</td>\n",
       "      <td>0.0</td>\n",
       "      <td>...</td>\n",
       "      <td>0.733</td>\n",
       "      <td>4.2</td>\n",
       "      <td>9.5</td>\n",
       "      <td>13.7</td>\n",
       "      <td>2.6</td>\n",
       "      <td>0.7</td>\n",
       "      <td>1.6</td>\n",
       "      <td>2.5</td>\n",
       "      <td>4.4</td>\n",
       "      <td>16.8</td>\n",
       "    </tr>\n",
       "  </tbody>\n",
       "</table>\n",
       "<p>3 rows × 27 columns</p>\n",
       "</div>"
      ],
      "text/plain": [
       "          id  player_id   season  total_games  games_started  minutes_played  \\\n",
       "26067  26068       4794  2018-19         59.0           37.0          1040.0   \n",
       "26068  26069       4794  2018-19         33.0           12.0           516.0   \n",
       "26069  26070       4794  2018-19         26.0           25.0           524.0   \n",
       "\n",
       "        fg   fga    fgp  fg3  ...    ftp  orb  drb   trb  ast  stl  blk  tov  \\\n",
       "26067  7.3  13.1  0.559  0.0  ...  0.802  4.0  8.6  12.5  2.2  0.5  1.8  2.4   \n",
       "26068  7.8  13.5  0.580  0.0  ...  0.864  3.8  7.5  11.3  1.7  0.3  1.9  2.3   \n",
       "26069  6.9  12.8  0.538  0.0  ...  0.733  4.2  9.5  13.7  2.6  0.7  1.6  2.5   \n",
       "\n",
       "        pf   pts  \n",
       "26067  4.7  18.2  \n",
       "26068  5.1  19.6  \n",
       "26069  4.4  16.8  \n",
       "\n",
       "[3 rows x 27 columns]"
      ]
     },
     "execution_count": 10,
     "metadata": {},
     "output_type": "execute_result"
    }
   ],
   "source": [
    "player_data_per_36_min.loc[\n",
    "    (player_data_per_36_min[\"player_id\"] == 4794)\n",
    "    & (player_data_per_36_min[\"season\"] == \"2018-19\")\n",
    "]"
   ]
  },
  {
   "cell_type": "code",
   "execution_count": 11,
   "metadata": {},
   "outputs": [
    {
     "name": "stdout",
     "output_type": "stream",
     "text": [
      "Partial duplicates in player_data_per_36_min.csv after duplicate removal: 0\n"
     ]
    }
   ],
   "source": [
    "# sort the values by total games played - small to large\n",
    "# remove duplicates for season and player_id and keep only the largest value of total_games\n",
    "player_data_per_36_min = (\n",
    "    player_data_per_36_min.sort_values(\"total_games\")\n",
    "    .drop_duplicates([\"season\", \"player_id\"], keep=\"last\")\n",
    "    .sort_index()\n",
    ")\n",
    "print(\n",
    "    f\"Partial duplicates in player_data_per_36_min.csv after duplicate removal: {len(player_data_per_36_min[player_data_per_36_min.duplicated([\"season\", \"player_id\"])])}\"\n",
    ")"
   ]
  },
  {
   "cell_type": "markdown",
   "metadata": {},
   "source": [
    "There are no duplicate IDs in players and teams datasets, so it is safe to proceed to the next step of merging the data on these IDs."
   ]
  },
  {
   "cell_type": "code",
   "execution_count": 12,
   "metadata": {},
   "outputs": [
    {
     "name": "stdout",
     "output_type": "stream",
     "text": [
      "Duplicate id's in players.csv: 0\n",
      "Duplicate id's in teams.csv: 0\n"
     ]
    }
   ],
   "source": [
    "print(f\"Duplicate id's in players.csv: {len(players[players.duplicated([\"id\"])])}\")\n",
    "print(f\"Duplicate id's in teams.csv: {len(teams[teams.duplicated([\"team_id\"])])}\")"
   ]
  },
  {
   "cell_type": "markdown",
   "metadata": {},
   "source": [
    "## Data structuring\n",
    "### Merging the data"
   ]
  },
  {
   "cell_type": "markdown",
   "metadata": {},
   "source": [
    "First, we join the data from players dataset with players' statistics stored in players_data_per_36_min. This way, we get an expanded players' statistics dataset with not only player_id but also other relevant player-specific information. "
   ]
  },
  {
   "cell_type": "code",
   "execution_count": 13,
   "metadata": {},
   "outputs": [],
   "source": [
    "# players + player_data_per_36_min\n",
    "df_helper = players.merge(\n",
    "    player_data_per_36_min,\n",
    "    how=\"right\",  # right join due to 1:n relationship\n",
    "    left_on=\"id\",\n",
    "    right_on=\"player_id\",\n",
    ")"
   ]
  },
  {
   "cell_type": "markdown",
   "metadata": {},
   "source": [
    "Now, we join the intermediate df_helper containing players data with the teams data. From the teams dataset we only want to include the team name based on the current team the player belongs to. Since we cannot tell to which team every player belonged at any point in his career, the past performance statistics of every player will be attributed to his current team. We do not plan to analyze the teams' performances in detail, so we can keep working with this assumption, though it does impact the factual integrity of the data, especially considering the fact that most players in the dataset are already retired."
   ]
  },
  {
   "cell_type": "code",
   "execution_count": 14,
   "metadata": {},
   "outputs": [],
   "source": [
    "df_merged = df_helper.merge(\n",
    "    teams[[\"team_name\", \"team_id\"]],\n",
    "    how=\"left\",  # left join due to n:1 relationship\n",
    "    left_on=\"current_team_id\",\n",
    "    right_on=\"team_id\",\n",
    ")"
   ]
  },
  {
   "cell_type": "code",
   "execution_count": 15,
   "metadata": {},
   "outputs": [],
   "source": [
    "# df_merged[(~df_merged[\"current_team_id\"].isna())&(df_merged[\"team_name\"].isna())]"
   ]
  },
  {
   "cell_type": "markdown",
   "metadata": {},
   "source": [
    "### Handling different data formats\n",
    "Some of the numeric attributes are formatted as objects but it would be easier to work with them as thei respective data types.\n",
    "We decided to solve this for the following attributes:\n",
    "- height: given in feet and inches -> convert to inches\n",
    "- birth_date: given as a string -> convert to date"
   ]
  },
  {
   "cell_type": "code",
   "execution_count": 16,
   "metadata": {},
   "outputs": [
    {
     "name": "stdout",
     "output_type": "stream",
     "text": [
      "<class 'pandas.core.frame.DataFrame'>\n",
      "RangeIndex: 21894 entries, 0 to 21893\n",
      "Data columns (total 42 columns):\n",
      " #   Column           Non-Null Count  Dtype  \n",
      "---  ------           --------------  -----  \n",
      " 0   id_x             21894 non-null  int64  \n",
      " 1   name             21894 non-null  object \n",
      " 2   full_name        21894 non-null  object \n",
      " 3   position         21894 non-null  object \n",
      " 4   height           21894 non-null  object \n",
      " 5   weight           21891 non-null  float64\n",
      " 6   birth_date       21893 non-null  object \n",
      " 7   birth_place      21563 non-null  object \n",
      " 8   retired          21894 non-null  bool   \n",
      " 9   player_url       21894 non-null  object \n",
      " 10  current_team_id  2406 non-null   float64\n",
      " 11  teams            21894 non-null  object \n",
      " 12  text             21894 non-null  object \n",
      " 13  id_y             21894 non-null  int64  \n",
      " 14  player_id        21894 non-null  int64  \n",
      " 15  season           21894 non-null  object \n",
      " 16  total_games      21881 non-null  float64\n",
      " 17  games_started    16558 non-null  float64\n",
      " 18  minutes_played   21522 non-null  float64\n",
      " 19  fg               21519 non-null  float64\n",
      " 20  fga              21519 non-null  float64\n",
      " 21  fgp              21815 non-null  float64\n",
      " 22  fg3              17122 non-null  float64\n",
      " 23  fg3a             17122 non-null  float64\n",
      " 24  fg3p             14429 non-null  float64\n",
      " 25  fg2              18524 non-null  float64\n",
      " 26  fg2a             18524 non-null  float64\n",
      " 27  fg2p             18430 non-null  float64\n",
      " 28  ft               21519 non-null  float64\n",
      " 29  fta              21519 non-null  float64\n",
      " 30  ftp              21276 non-null  float64\n",
      " 31  orb              18677 non-null  float64\n",
      " 32  drb              18677 non-null  float64\n",
      " 33  trb              21519 non-null  float64\n",
      " 34  ast              21519 non-null  float64\n",
      " 35  stl              18677 non-null  float64\n",
      " 36  blk              18677 non-null  float64\n",
      " 37  tov              17687 non-null  float64\n",
      " 38  pf               21519 non-null  float64\n",
      " 39  pts              21519 non-null  float64\n",
      " 40  team_name        2406 non-null   object \n",
      " 41  team_id          2406 non-null   float64\n",
      "dtypes: bool(1), float64(27), int64(3), object(11)\n",
      "memory usage: 6.9+ MB\n"
     ]
    }
   ],
   "source": [
    "df_merged.info()"
   ]
  },
  {
   "cell_type": "code",
   "execution_count": 17,
   "metadata": {},
   "outputs": [],
   "source": [
    "# define the function to convert feet and inches to just inches\n",
    "def feet_to_inches(height):\n",
    "    feet, inches = map(int, height.split(\"-\"))\n",
    "    return feet * 12 + inches\n",
    "\n",
    "\n",
    "# apply the conversion function\n",
    "df_merged[\"height_inches\"] = df_merged[\"height\"].apply(feet_to_inches)"
   ]
  },
  {
   "cell_type": "code",
   "execution_count": 18,
   "metadata": {},
   "outputs": [],
   "source": [
    "df_merged[\"birth_date\"] = pd.to_datetime(df_merged[\"birth_date\"], format=\"%B %d %Y\")"
   ]
  },
  {
   "cell_type": "markdown",
   "metadata": {},
   "source": [
    "## Handling Nulls"
   ]
  },
  {
   "cell_type": "code",
   "execution_count": 19,
   "metadata": {},
   "outputs": [],
   "source": [
    "# replace NaN with None for explanability reasons: None is a technical null, NaN can be misinterpreted as false formatting (not a number); base Python prefers None\n",
    "df_merged = df_merged.replace({np.nan: None})"
   ]
  },
  {
   "cell_type": "markdown",
   "metadata": {},
   "source": [
    " ### Drop unnecessary columns \n",
    "- id_x, id_y were only used for merging and are redundant\n",
    "- player_url, text will not be used for any data processing or visualisations \n",
    "- team_id and current_team_id are redundant because team names are unique (unlike the players' names), so we will not need the IDs for any visualisations, only the team names\n",
    "- original height column is redundant because it was converted to inches in the previous section"
   ]
  },
  {
   "cell_type": "code",
   "execution_count": 20,
   "metadata": {},
   "outputs": [],
   "source": [
    "df_merged = (\n",
    "    df_merged.drop(\n",
    "        columns=[\"id_x\", \"id_y\", \"player_url\", \"team_id\", \"current_team_id\", \"height\"]\n",
    "    )\n",
    "    .sort_values(by=\"player_id\")\n",
    "    .reset_index(drop=True)\n",
    ")"
   ]
  },
  {
   "cell_type": "markdown",
   "metadata": {},
   "source": [
    "### Visual representation of Nulls"
   ]
  },
  {
   "cell_type": "code",
   "execution_count": 21,
   "metadata": {},
   "outputs": [
    {
     "data": {
      "text/plain": [
       "Text(0.5, 1.0, 'Percentage of null values per column (0 % excluded)')"
      ]
     },
     "execution_count": 21,
     "metadata": {},
     "output_type": "execute_result"
    },
    {
     "data": {
      "image/png": "[encoded data removed]",
      "text/plain": [
       "<Figure size 900x500 with 1 Axes>"
      ]
     },
     "metadata": {},
     "output_type": "display_data"
    }
   ],
   "source": [
    "# don't visualize all columns that are zero as there is no need to visualise them\n",
    "df_null_plot = df_merged.loc[:, df_merged.isnull().sum() != 0]\n",
    "null_per_column = df_null_plot.isnull().sum()\n",
    "percentage_per_column = null_per_column / len(df_null_plot) * 100\n",
    "percentage_per_column.apply(lambda x: f\"{np.round(x,2)} %\")\n",
    "\n",
    "plt.figure(figsize=(9, 5))\n",
    "ax = sns.barplot(percentage_per_column)\n",
    "ax.tick_params(axis=\"x\", rotation=90)\n",
    "ax.set_ylabel(\"Percentage of nulls\")\n",
    "ax.set_xlabel(\"Column\")\n",
    "ax.set_title(\"Percentage of null values per column (0 % excluded)\")"
   ]
  },
  {
   "cell_type": "code",
   "execution_count": 22,
   "metadata": {},
   "outputs": [
    {
     "data": {
      "text/plain": [
       "Text(0.5, 1.0, 'Heatmap of nulls per column (columns with zero nulls excluded)')"
      ]
     },
     "execution_count": 22,
     "metadata": {},
     "output_type": "execute_result"
    },
    {
     "data": {
      "image/png": "[encoded data removed]",
      "text/plain": [
       "<Figure size 900x900 with 1 Axes>"
      ]
     },
     "metadata": {},
     "output_type": "display_data"
    }
   ],
   "source": [
    "colors = [\"lightblue\", \"black\"]\n",
    "plt.figure(figsize=(9, 9))\n",
    "ax = sns.heatmap(df_null_plot.isnull(), cmap=colors, cbar=False)\n",
    "\n",
    "plt.plot([0], label=\"Null\", color=colors[1], marker=\"s\", linestyle=\"\")\n",
    "plt.plot([0], label=\"Not Null\", color=colors[0], marker=\"s\", linestyle=\"\")\n",
    "legend = plt.legend(bbox_to_anchor=(1.2, 1))\n",
    "ax.invert_yaxis()\n",
    "ax.set_ylabel(\"Index\")\n",
    "ax.set_xlabel(\"Column\")\n",
    "ax.set_title(\"Heatmap of nulls per column (columns with zero nulls excluded)\")"
   ]
  },
  {
   "cell_type": "code",
   "execution_count": 23,
   "metadata": {},
   "outputs": [
    {
     "ename": "NameError",
     "evalue": "name 'scatter_matrix' is not defined",
     "output_type": "error",
     "traceback": [
      "\u001b[0;31m---------------------------------------------------------------------------\u001b[0m",
      "\u001b[0;31mNameError\u001b[0m                                 Traceback (most recent call last)",
      "Cell \u001b[0;32mIn[23], line 3\u001b[0m\n\u001b[1;32m      1\u001b[0m sct_data \u001b[38;5;241m=\u001b[39m df_merged[[\u001b[38;5;124m\"\u001b[39m\u001b[38;5;124mminutes_played\u001b[39m\u001b[38;5;124m\"\u001b[39m,\u001b[38;5;124m\"\u001b[39m\u001b[38;5;124mfg\u001b[39m\u001b[38;5;124m\"\u001b[39m, \u001b[38;5;124m\"\u001b[39m\u001b[38;5;124mfga\u001b[39m\u001b[38;5;124m\"\u001b[39m, \u001b[38;5;124m\"\u001b[39m\u001b[38;5;124mfgp\u001b[39m\u001b[38;5;124m\"\u001b[39m, \u001b[38;5;124m\"\u001b[39m\u001b[38;5;124mfg3\u001b[39m\u001b[38;5;124m\"\u001b[39m, \u001b[38;5;124m\"\u001b[39m\u001b[38;5;124mfg3a\u001b[39m\u001b[38;5;124m\"\u001b[39m, \u001b[38;5;124m\"\u001b[39m\u001b[38;5;124mfg3p\u001b[39m\u001b[38;5;124m\"\u001b[39m, \u001b[38;5;124m\"\u001b[39m\u001b[38;5;124mfg2\u001b[39m\u001b[38;5;124m\"\u001b[39m, \u001b[38;5;124m\"\u001b[39m\u001b[38;5;124mft\u001b[39m\u001b[38;5;124m\"\u001b[39m, \u001b[38;5;124m\"\u001b[39m\u001b[38;5;124mfta\u001b[39m\u001b[38;5;124m\"\u001b[39m, \u001b[38;5;124m\"\u001b[39m\u001b[38;5;124mftp\u001b[39m\u001b[38;5;124m\"\u001b[39m, \u001b[38;5;124m\"\u001b[39m\u001b[38;5;124morb\u001b[39m\u001b[38;5;124m\"\u001b[39m, \u001b[38;5;124m\"\u001b[39m\u001b[38;5;124mdrb\u001b[39m\u001b[38;5;124m\"\u001b[39m, \u001b[38;5;124m\"\u001b[39m\u001b[38;5;124mtrb\u001b[39m\u001b[38;5;124m\"\u001b[39m, \u001b[38;5;124m\"\u001b[39m\u001b[38;5;124mast\u001b[39m\u001b[38;5;124m\"\u001b[39m, \u001b[38;5;124m\"\u001b[39m\u001b[38;5;124mstl\u001b[39m\u001b[38;5;124m\"\u001b[39m, \u001b[38;5;124m\"\u001b[39m\u001b[38;5;124mblk\u001b[39m\u001b[38;5;124m\"\u001b[39m, \u001b[38;5;124m\"\u001b[39m\u001b[38;5;124mtov\u001b[39m\u001b[38;5;124m\"\u001b[39m, \u001b[38;5;124m\"\u001b[39m\u001b[38;5;124mpf\u001b[39m\u001b[38;5;124m\"\u001b[39m, \u001b[38;5;124m\"\u001b[39m\u001b[38;5;124mpts\u001b[39m\u001b[38;5;124m\"\u001b[39m]]\n\u001b[1;32m      2\u001b[0m df \u001b[38;5;241m=\u001b[39m sct_data\n\u001b[0;32m----> 3\u001b[0m \u001b[43mscatter_matrix\u001b[49m(df, alpha \u001b[38;5;241m=\u001b[39m \u001b[38;5;241m0.2\u001b[39m, figsize \u001b[38;5;241m=\u001b[39m (\u001b[38;5;241m20\u001b[39m, \u001b[38;5;241m20\u001b[39m), diagonal \u001b[38;5;241m=\u001b[39m \u001b[38;5;124m'\u001b[39m\u001b[38;5;124mkde\u001b[39m\u001b[38;5;124m'\u001b[39m)\n",
      "\u001b[0;31mNameError\u001b[0m: name 'scatter_matrix' is not defined"
     ]
    }
   ],
   "source": [
    "sct_data = df_merged[[\"minutes_played\",\"fg\", \"fga\", \"fgp\", \"fg3\", \"fg3a\", \"fg3p\", \"fg2\", \"ft\", \"fta\", \"ftp\", \"orb\", \"drb\", \"trb\", \"ast\", \"stl\", \"blk\", \"tov\", \"pf\", \"pts\"]]\n",
    "df = sct_data\n",
    "scatter_matrix(df, alpha = 0.2, figsize = (20, 20), diagonal = 'kde')"
   ]
  },
  {
   "cell_type": "code",
   "execution_count": null,
   "metadata": {},
   "outputs": [
    {
     "data": {
      "text/html": [
       "<div>\n",
       "<style scoped>\n",
       "    .dataframe tbody tr th:only-of-type {\n",
       "        vertical-align: middle;\n",
       "    }\n",
       "\n",
       "    .dataframe tbody tr th {\n",
       "        vertical-align: top;\n",
       "    }\n",
       "\n",
       "    .dataframe thead th {\n",
       "        text-align: right;\n",
       "    }\n",
       "</style>\n",
       "<table border=\"1\" class=\"dataframe\">\n",
       "  <thead>\n",
       "    <tr style=\"text-align: right;\">\n",
       "      <th></th>\n",
       "      <th>fg</th>\n",
       "      <th>fga</th>\n",
       "      <th>fgp</th>\n",
       "      <th>fg3</th>\n",
       "      <th>fg3a</th>\n",
       "      <th>fg3p</th>\n",
       "      <th>fg2</th>\n",
       "      <th>ft</th>\n",
       "      <th>fta</th>\n",
       "      <th>ftp</th>\n",
       "      <th>orb</th>\n",
       "      <th>drb</th>\n",
       "      <th>trb</th>\n",
       "      <th>ast</th>\n",
       "      <th>stl</th>\n",
       "      <th>blk</th>\n",
       "      <th>tov</th>\n",
       "      <th>pf</th>\n",
       "      <th>pts</th>\n",
       "    </tr>\n",
       "  </thead>\n",
       "  <tbody>\n",
       "    <tr>\n",
       "      <th>fg</th>\n",
       "      <td>1.000000</td>\n",
       "      <td>0.805041</td>\n",
       "      <td>0.493183</td>\n",
       "      <td>0.143688</td>\n",
       "      <td>0.061681</td>\n",
       "      <td>0.098415</td>\n",
       "      <td>0.898025</td>\n",
       "      <td>0.388582</td>\n",
       "      <td>0.291632</td>\n",
       "      <td>0.239609</td>\n",
       "      <td>0.049819</td>\n",
       "      <td>0.031824</td>\n",
       "      <td>0.060940</td>\n",
       "      <td>0.085388</td>\n",
       "      <td>0.059930</td>\n",
       "      <td>-0.016035</td>\n",
       "      <td>0.180095</td>\n",
       "      <td>-0.169555</td>\n",
       "      <td>0.939773</td>\n",
       "    </tr>\n",
       "    <tr>\n",
       "      <th>fga</th>\n",
       "      <td>0.805041</td>\n",
       "      <td>1.000000</td>\n",
       "      <td>-0.035757</td>\n",
       "      <td>0.239877</td>\n",
       "      <td>0.282912</td>\n",
       "      <td>0.119932</td>\n",
       "      <td>0.685274</td>\n",
       "      <td>0.361471</td>\n",
       "      <td>0.271043</td>\n",
       "      <td>0.247240</td>\n",
       "      <td>-0.050173</td>\n",
       "      <td>-0.096548</td>\n",
       "      <td>-0.025914</td>\n",
       "      <td>0.139981</td>\n",
       "      <td>0.086130</td>\n",
       "      <td>-0.151335</td>\n",
       "      <td>0.230229</td>\n",
       "      <td>-0.154593</td>\n",
       "      <td>0.784466</td>\n",
       "    </tr>\n",
       "    <tr>\n",
       "      <th>fgp</th>\n",
       "      <td>0.493183</td>\n",
       "      <td>-0.035757</td>\n",
       "      <td>1.000000</td>\n",
       "      <td>-0.134620</td>\n",
       "      <td>-0.292537</td>\n",
       "      <td>-0.018915</td>\n",
       "      <td>0.522806</td>\n",
       "      <td>0.146661</td>\n",
       "      <td>0.131895</td>\n",
       "      <td>0.020818</td>\n",
       "      <td>0.213718</td>\n",
       "      <td>0.244419</td>\n",
       "      <td>0.207930</td>\n",
       "      <td>-0.070402</td>\n",
       "      <td>-0.049927</td>\n",
       "      <td>0.236994</td>\n",
       "      <td>-0.027767</td>\n",
       "      <td>-0.035516</td>\n",
       "      <td>0.425590</td>\n",
       "    </tr>\n",
       "    <tr>\n",
       "      <th>fg3</th>\n",
       "      <td>0.143688</td>\n",
       "      <td>0.239877</td>\n",
       "      <td>-0.134620</td>\n",
       "      <td>1.000000</td>\n",
       "      <td>0.897204</td>\n",
       "      <td>0.561005</td>\n",
       "      <td>-0.322597</td>\n",
       "      <td>-0.090465</td>\n",
       "      <td>-0.151776</td>\n",
       "      <td>0.286594</td>\n",
       "      <td>-0.421885</td>\n",
       "      <td>-0.256507</td>\n",
       "      <td>-0.379014</td>\n",
       "      <td>0.164402</td>\n",
       "      <td>0.023092</td>\n",
       "      <td>-0.281961</td>\n",
       "      <td>-0.117566</td>\n",
       "      <td>-0.306465</td>\n",
       "      <td>0.265904</td>\n",
       "    </tr>\n",
       "    <tr>\n",
       "      <th>fg3a</th>\n",
       "      <td>0.061681</td>\n",
       "      <td>0.282912</td>\n",
       "      <td>-0.292537</td>\n",
       "      <td>0.897204</td>\n",
       "      <td>1.000000</td>\n",
       "      <td>0.445406</td>\n",
       "      <td>-0.353946</td>\n",
       "      <td>-0.107974</td>\n",
       "      <td>-0.166826</td>\n",
       "      <td>0.273890</td>\n",
       "      <td>-0.456863</td>\n",
       "      <td>-0.266934</td>\n",
       "      <td>-0.403249</td>\n",
       "      <td>0.187587</td>\n",
       "      <td>0.049860</td>\n",
       "      <td>-0.315294</td>\n",
       "      <td>-0.106740</td>\n",
       "      <td>-0.317208</td>\n",
       "      <td>0.176967</td>\n",
       "    </tr>\n",
       "    <tr>\n",
       "      <th>fg3p</th>\n",
       "      <td>0.098415</td>\n",
       "      <td>0.119932</td>\n",
       "      <td>-0.018915</td>\n",
       "      <td>0.561005</td>\n",
       "      <td>0.445406</td>\n",
       "      <td>1.000000</td>\n",
       "      <td>-0.192735</td>\n",
       "      <td>-0.062854</td>\n",
       "      <td>-0.137703</td>\n",
       "      <td>0.226574</td>\n",
       "      <td>-0.389144</td>\n",
       "      <td>-0.228768</td>\n",
       "      <td>-0.321049</td>\n",
       "      <td>0.155028</td>\n",
       "      <td>0.026521</td>\n",
       "      <td>-0.261912</td>\n",
       "      <td>-0.093917</td>\n",
       "      <td>-0.267394</td>\n",
       "      <td>0.173088</td>\n",
       "    </tr>\n",
       "    <tr>\n",
       "      <th>fg2</th>\n",
       "      <td>0.898025</td>\n",
       "      <td>0.685274</td>\n",
       "      <td>0.522806</td>\n",
       "      <td>-0.322597</td>\n",
       "      <td>-0.353946</td>\n",
       "      <td>-0.192735</td>\n",
       "      <td>1.000000</td>\n",
       "      <td>0.413060</td>\n",
       "      <td>0.342191</td>\n",
       "      <td>0.100785</td>\n",
       "      <td>0.235026</td>\n",
       "      <td>0.147101</td>\n",
       "      <td>0.214781</td>\n",
       "      <td>0.032904</td>\n",
       "      <td>0.046868</td>\n",
       "      <td>0.109662</td>\n",
       "      <td>0.230608</td>\n",
       "      <td>-0.030051</td>\n",
       "      <td>0.785579</td>\n",
       "    </tr>\n",
       "    <tr>\n",
       "      <th>ft</th>\n",
       "      <td>0.388582</td>\n",
       "      <td>0.361471</td>\n",
       "      <td>0.146661</td>\n",
       "      <td>-0.090465</td>\n",
       "      <td>-0.107974</td>\n",
       "      <td>-0.062854</td>\n",
       "      <td>0.413060</td>\n",
       "      <td>1.000000</td>\n",
       "      <td>0.921379</td>\n",
       "      <td>0.273108</td>\n",
       "      <td>0.130064</td>\n",
       "      <td>0.059679</td>\n",
       "      <td>0.119884</td>\n",
       "      <td>0.078683</td>\n",
       "      <td>0.043674</td>\n",
       "      <td>0.009051</td>\n",
       "      <td>0.309158</td>\n",
       "      <td>-0.007467</td>\n",
       "      <td>0.636735</td>\n",
       "    </tr>\n",
       "    <tr>\n",
       "      <th>fta</th>\n",
       "      <td>0.291632</td>\n",
       "      <td>0.271043</td>\n",
       "      <td>0.131895</td>\n",
       "      <td>-0.151776</td>\n",
       "      <td>-0.166826</td>\n",
       "      <td>-0.137703</td>\n",
       "      <td>0.342191</td>\n",
       "      <td>0.921379</td>\n",
       "      <td>1.000000</td>\n",
       "      <td>-0.017193</td>\n",
       "      <td>0.246700</td>\n",
       "      <td>0.109659</td>\n",
       "      <td>0.208300</td>\n",
       "      <td>0.002205</td>\n",
       "      <td>0.011890</td>\n",
       "      <td>0.072788</td>\n",
       "      <td>0.326936</td>\n",
       "      <td>0.100565</td>\n",
       "      <td>0.523137</td>\n",
       "    </tr>\n",
       "    <tr>\n",
       "      <th>ftp</th>\n",
       "      <td>0.239609</td>\n",
       "      <td>0.247240</td>\n",
       "      <td>0.020818</td>\n",
       "      <td>0.286594</td>\n",
       "      <td>0.273890</td>\n",
       "      <td>0.226574</td>\n",
       "      <td>0.100785</td>\n",
       "      <td>0.273108</td>\n",
       "      <td>-0.017193</td>\n",
       "      <td>1.000000</td>\n",
       "      <td>-0.360409</td>\n",
       "      <td>-0.248409</td>\n",
       "      <td>-0.317703</td>\n",
       "      <td>0.254060</td>\n",
       "      <td>0.076352</td>\n",
       "      <td>-0.287192</td>\n",
       "      <td>0.004876</td>\n",
       "      <td>-0.310992</td>\n",
       "      <td>0.332843</td>\n",
       "    </tr>\n",
       "    <tr>\n",
       "      <th>orb</th>\n",
       "      <td>0.049819</td>\n",
       "      <td>-0.050173</td>\n",
       "      <td>0.213718</td>\n",
       "      <td>-0.421885</td>\n",
       "      <td>-0.456863</td>\n",
       "      <td>-0.389144</td>\n",
       "      <td>0.235026</td>\n",
       "      <td>0.130064</td>\n",
       "      <td>0.246700</td>\n",
       "      <td>-0.360409</td>\n",
       "      <td>1.000000</td>\n",
       "      <td>0.491239</td>\n",
       "      <td>0.813772</td>\n",
       "      <td>-0.415717</td>\n",
       "      <td>-0.119465</td>\n",
       "      <td>0.375190</td>\n",
       "      <td>0.083582</td>\n",
       "      <td>0.341746</td>\n",
       "      <td>0.009238</td>\n",
       "    </tr>\n",
       "    <tr>\n",
       "      <th>drb</th>\n",
       "      <td>0.031824</td>\n",
       "      <td>-0.096548</td>\n",
       "      <td>0.244419</td>\n",
       "      <td>-0.256507</td>\n",
       "      <td>-0.266934</td>\n",
       "      <td>-0.228768</td>\n",
       "      <td>0.147101</td>\n",
       "      <td>0.059679</td>\n",
       "      <td>0.109659</td>\n",
       "      <td>-0.248409</td>\n",
       "      <td>0.491239</td>\n",
       "      <td>1.000000</td>\n",
       "      <td>0.905800</td>\n",
       "      <td>-0.379321</td>\n",
       "      <td>-0.192078</td>\n",
       "      <td>0.467007</td>\n",
       "      <td>-0.024615</td>\n",
       "      <td>0.223235</td>\n",
       "      <td>0.001296</td>\n",
       "    </tr>\n",
       "    <tr>\n",
       "      <th>trb</th>\n",
       "      <td>0.060940</td>\n",
       "      <td>-0.025914</td>\n",
       "      <td>0.207930</td>\n",
       "      <td>-0.379014</td>\n",
       "      <td>-0.403249</td>\n",
       "      <td>-0.321049</td>\n",
       "      <td>0.214781</td>\n",
       "      <td>0.119884</td>\n",
       "      <td>0.208300</td>\n",
       "      <td>-0.317703</td>\n",
       "      <td>0.813772</td>\n",
       "      <td>0.905800</td>\n",
       "      <td>1.000000</td>\n",
       "      <td>-0.433054</td>\n",
       "      <td>-0.186150</td>\n",
       "      <td>0.494062</td>\n",
       "      <td>0.024681</td>\n",
       "      <td>0.300300</td>\n",
       "      <td>0.028158</td>\n",
       "    </tr>\n",
       "    <tr>\n",
       "      <th>ast</th>\n",
       "      <td>0.085388</td>\n",
       "      <td>0.139981</td>\n",
       "      <td>-0.070402</td>\n",
       "      <td>0.164402</td>\n",
       "      <td>0.187587</td>\n",
       "      <td>0.155028</td>\n",
       "      <td>0.032904</td>\n",
       "      <td>0.078683</td>\n",
       "      <td>0.002205</td>\n",
       "      <td>0.254060</td>\n",
       "      <td>-0.415717</td>\n",
       "      <td>-0.379321</td>\n",
       "      <td>-0.433054</td>\n",
       "      <td>1.000000</td>\n",
       "      <td>0.327197</td>\n",
       "      <td>-0.338776</td>\n",
       "      <td>0.263100</td>\n",
       "      <td>-0.258289</td>\n",
       "      <td>0.117881</td>\n",
       "    </tr>\n",
       "    <tr>\n",
       "      <th>stl</th>\n",
       "      <td>0.059930</td>\n",
       "      <td>0.086130</td>\n",
       "      <td>-0.049927</td>\n",
       "      <td>0.023092</td>\n",
       "      <td>0.049860</td>\n",
       "      <td>0.026521</td>\n",
       "      <td>0.046868</td>\n",
       "      <td>0.043674</td>\n",
       "      <td>0.011890</td>\n",
       "      <td>0.076352</td>\n",
       "      <td>-0.119465</td>\n",
       "      <td>-0.192078</td>\n",
       "      <td>-0.186150</td>\n",
       "      <td>0.327197</td>\n",
       "      <td>1.000000</td>\n",
       "      <td>-0.164877</td>\n",
       "      <td>0.187544</td>\n",
       "      <td>-0.054465</td>\n",
       "      <td>0.063867</td>\n",
       "    </tr>\n",
       "    <tr>\n",
       "      <th>blk</th>\n",
       "      <td>-0.016035</td>\n",
       "      <td>-0.151335</td>\n",
       "      <td>0.236994</td>\n",
       "      <td>-0.281961</td>\n",
       "      <td>-0.315294</td>\n",
       "      <td>-0.261912</td>\n",
       "      <td>0.109662</td>\n",
       "      <td>0.009051</td>\n",
       "      <td>0.072788</td>\n",
       "      <td>-0.287192</td>\n",
       "      <td>0.375190</td>\n",
       "      <td>0.467007</td>\n",
       "      <td>0.494062</td>\n",
       "      <td>-0.338776</td>\n",
       "      <td>-0.164877</td>\n",
       "      <td>1.000000</td>\n",
       "      <td>-0.031661</td>\n",
       "      <td>0.249030</td>\n",
       "      <td>-0.057347</td>\n",
       "    </tr>\n",
       "    <tr>\n",
       "      <th>tov</th>\n",
       "      <td>0.180095</td>\n",
       "      <td>0.230229</td>\n",
       "      <td>-0.027767</td>\n",
       "      <td>-0.117566</td>\n",
       "      <td>-0.106740</td>\n",
       "      <td>-0.093917</td>\n",
       "      <td>0.230608</td>\n",
       "      <td>0.309158</td>\n",
       "      <td>0.326936</td>\n",
       "      <td>0.004876</td>\n",
       "      <td>0.083582</td>\n",
       "      <td>-0.024615</td>\n",
       "      <td>0.024681</td>\n",
       "      <td>0.263100</td>\n",
       "      <td>0.187544</td>\n",
       "      <td>-0.031661</td>\n",
       "      <td>1.000000</td>\n",
       "      <td>0.164981</td>\n",
       "      <td>0.225203</td>\n",
       "    </tr>\n",
       "    <tr>\n",
       "      <th>pf</th>\n",
       "      <td>-0.169555</td>\n",
       "      <td>-0.154593</td>\n",
       "      <td>-0.035516</td>\n",
       "      <td>-0.306465</td>\n",
       "      <td>-0.317208</td>\n",
       "      <td>-0.267394</td>\n",
       "      <td>-0.030051</td>\n",
       "      <td>-0.007467</td>\n",
       "      <td>0.100565</td>\n",
       "      <td>-0.310992</td>\n",
       "      <td>0.341746</td>\n",
       "      <td>0.223235</td>\n",
       "      <td>0.300300</td>\n",
       "      <td>-0.258289</td>\n",
       "      <td>-0.054465</td>\n",
       "      <td>0.249030</td>\n",
       "      <td>0.164981</td>\n",
       "      <td>1.000000</td>\n",
       "      <td>-0.187635</td>\n",
       "    </tr>\n",
       "    <tr>\n",
       "      <th>pts</th>\n",
       "      <td>0.939773</td>\n",
       "      <td>0.784466</td>\n",
       "      <td>0.425590</td>\n",
       "      <td>0.265904</td>\n",
       "      <td>0.176967</td>\n",
       "      <td>0.173088</td>\n",
       "      <td>0.785579</td>\n",
       "      <td>0.636735</td>\n",
       "      <td>0.523137</td>\n",
       "      <td>0.332843</td>\n",
       "      <td>0.009238</td>\n",
       "      <td>0.001296</td>\n",
       "      <td>0.028158</td>\n",
       "      <td>0.117881</td>\n",
       "      <td>0.063867</td>\n",
       "      <td>-0.057347</td>\n",
       "      <td>0.225203</td>\n",
       "      <td>-0.187635</td>\n",
       "      <td>1.000000</td>\n",
       "    </tr>\n",
       "  </tbody>\n",
       "</table>\n",
       "</div>"
      ],
      "text/plain": [
       "            fg       fga       fgp       fg3      fg3a      fg3p       fg2  \\\n",
       "fg    1.000000  0.805041  0.493183  0.143688  0.061681  0.098415  0.898025   \n",
       "fga   0.805041  1.000000 -0.035757  0.239877  0.282912  0.119932  0.685274   \n",
       "fgp   0.493183 -0.035757  1.000000 -0.134620 -0.292537 -0.018915  0.522806   \n",
       "fg3   0.143688  0.239877 -0.134620  1.000000  0.897204  0.561005 -0.322597   \n",
       "fg3a  0.061681  0.282912 -0.292537  0.897204  1.000000  0.445406 -0.353946   \n",
       "fg3p  0.098415  0.119932 -0.018915  0.561005  0.445406  1.000000 -0.192735   \n",
       "fg2   0.898025  0.685274  0.522806 -0.322597 -0.353946 -0.192735  1.000000   \n",
       "ft    0.388582  0.361471  0.146661 -0.090465 -0.107974 -0.062854  0.413060   \n",
       "fta   0.291632  0.271043  0.131895 -0.151776 -0.166826 -0.137703  0.342191   \n",
       "ftp   0.239609  0.247240  0.020818  0.286594  0.273890  0.226574  0.100785   \n",
       "orb   0.049819 -0.050173  0.213718 -0.421885 -0.456863 -0.389144  0.235026   \n",
       "drb   0.031824 -0.096548  0.244419 -0.256507 -0.266934 -0.228768  0.147101   \n",
       "trb   0.060940 -0.025914  0.207930 -0.379014 -0.403249 -0.321049  0.214781   \n",
       "ast   0.085388  0.139981 -0.070402  0.164402  0.187587  0.155028  0.032904   \n",
       "stl   0.059930  0.086130 -0.049927  0.023092  0.049860  0.026521  0.046868   \n",
       "blk  -0.016035 -0.151335  0.236994 -0.281961 -0.315294 -0.261912  0.109662   \n",
       "tov   0.180095  0.230229 -0.027767 -0.117566 -0.106740 -0.093917  0.230608   \n",
       "pf   -0.169555 -0.154593 -0.035516 -0.306465 -0.317208 -0.267394 -0.030051   \n",
       "pts   0.939773  0.784466  0.425590  0.265904  0.176967  0.173088  0.785579   \n",
       "\n",
       "            ft       fta       ftp       orb       drb       trb       ast  \\\n",
       "fg    0.388582  0.291632  0.239609  0.049819  0.031824  0.060940  0.085388   \n",
       "fga   0.361471  0.271043  0.247240 -0.050173 -0.096548 -0.025914  0.139981   \n",
       "fgp   0.146661  0.131895  0.020818  0.213718  0.244419  0.207930 -0.070402   \n",
       "fg3  -0.090465 -0.151776  0.286594 -0.421885 -0.256507 -0.379014  0.164402   \n",
       "fg3a -0.107974 -0.166826  0.273890 -0.456863 -0.266934 -0.403249  0.187587   \n",
       "fg3p -0.062854 -0.137703  0.226574 -0.389144 -0.228768 -0.321049  0.155028   \n",
       "fg2   0.413060  0.342191  0.100785  0.235026  0.147101  0.214781  0.032904   \n",
       "ft    1.000000  0.921379  0.273108  0.130064  0.059679  0.119884  0.078683   \n",
       "fta   0.921379  1.000000 -0.017193  0.246700  0.109659  0.208300  0.002205   \n",
       "ftp   0.273108 -0.017193  1.000000 -0.360409 -0.248409 -0.317703  0.254060   \n",
       "orb   0.130064  0.246700 -0.360409  1.000000  0.491239  0.813772 -0.415717   \n",
       "drb   0.059679  0.109659 -0.248409  0.491239  1.000000  0.905800 -0.379321   \n",
       "trb   0.119884  0.208300 -0.317703  0.813772  0.905800  1.000000 -0.433054   \n",
       "ast   0.078683  0.002205  0.254060 -0.415717 -0.379321 -0.433054  1.000000   \n",
       "stl   0.043674  0.011890  0.076352 -0.119465 -0.192078 -0.186150  0.327197   \n",
       "blk   0.009051  0.072788 -0.287192  0.375190  0.467007  0.494062 -0.338776   \n",
       "tov   0.309158  0.326936  0.004876  0.083582 -0.024615  0.024681  0.263100   \n",
       "pf   -0.007467  0.100565 -0.310992  0.341746  0.223235  0.300300 -0.258289   \n",
       "pts   0.636735  0.523137  0.332843  0.009238  0.001296  0.028158  0.117881   \n",
       "\n",
       "           stl       blk       tov        pf       pts  \n",
       "fg    0.059930 -0.016035  0.180095 -0.169555  0.939773  \n",
       "fga   0.086130 -0.151335  0.230229 -0.154593  0.784466  \n",
       "fgp  -0.049927  0.236994 -0.027767 -0.035516  0.425590  \n",
       "fg3   0.023092 -0.281961 -0.117566 -0.306465  0.265904  \n",
       "fg3a  0.049860 -0.315294 -0.106740 -0.317208  0.176967  \n",
       "fg3p  0.026521 -0.261912 -0.093917 -0.267394  0.173088  \n",
       "fg2   0.046868  0.109662  0.230608 -0.030051  0.785579  \n",
       "ft    0.043674  0.009051  0.309158 -0.007467  0.636735  \n",
       "fta   0.011890  0.072788  0.326936  0.100565  0.523137  \n",
       "ftp   0.076352 -0.287192  0.004876 -0.310992  0.332843  \n",
       "orb  -0.119465  0.375190  0.083582  0.341746  0.009238  \n",
       "drb  -0.192078  0.467007 -0.024615  0.223235  0.001296  \n",
       "trb  -0.186150  0.494062  0.024681  0.300300  0.028158  \n",
       "ast   0.327197 -0.338776  0.263100 -0.258289  0.117881  \n",
       "stl   1.000000 -0.164877  0.187544 -0.054465  0.063867  \n",
       "blk  -0.164877  1.000000 -0.031661  0.249030 -0.057347  \n",
       "tov   0.187544 -0.031661  1.000000  0.164981  0.225203  \n",
       "pf   -0.054465  0.249030  0.164981  1.000000 -0.187635  \n",
       "pts   0.063867 -0.057347  0.225203 -0.187635  1.000000  "
      ]
     },
     "metadata": {},
     "output_type": "display_data"
    }
   ],
   "source": [
    "sct_data.corr()"
   ]
  },
  {
   "cell_type": "code",
   "execution_count": null,
   "metadata": {},
   "outputs": [
    {
     "data": {
      "image/png": "[encoded data removed]",
      "text/plain": [
       "<Figure size 1000x1000 with 2 Axes>"
      ]
     },
     "metadata": {},
     "output_type": "display_data"
    }
   ],
   "source": [
    "f = plt.figure(figsize=(10, 10))\n",
    "plt.matshow(sct_data.corr(), fignum=f.number, cmap=plt.get_cmap('Blues'))\n",
    "plt.xticks(range(sct_data.select_dtypes(['number']).shape[1]), sct_data.select_dtypes(['number']).columns, fontsize=14, rotation=45)\n",
    "plt.yticks(range(sct_data.select_dtypes(['number']).shape[1]), sct_data.select_dtypes(['number']).columns, fontsize=14)\n",
    "cb = plt.colorbar()\n",
    "cb.ax.tick_params(labelsize=14)\n",
    "plt.title('Correlation Matrix for the performance statistics', fontsize=16)\n",
    "plt.show()"
   ]
  },
  {
   "cell_type": "markdown",
   "metadata": {},
   "source": [
    "#### Handling Nulls in team_name"
   ]
  },
  {
   "cell_type": "markdown",
   "metadata": {},
   "source": [
    "Missing value in the \"team_name\" means that the player currently has no team, since we chose \"team_name\" to represent only the current team of the player. Most cases can be explained by the \"retired\" column. So if the player is retired, their team will be assigned to \"Retired\". However, there are cases, in which a player is not retired but has no entry for the \"current_team_id\", so the missing values won't be handled by the default method.\n",
    "\n",
    "As mentioned above, it is impossible to track, to which team each player belonged in which seasons, and for some cases, the \"teams\" column contains just an empty list. Judging by the \"text\" column that contains a short biography of each player, the players indeed played for some of the teams that are in the data, so assigning \"Other\" would be technically incorrect. Therefore, we decided to fill the other Nulls, of which there are relatively few, with \"No Information\".\n",
    "\n",
    "There are no missing values in the \"retired\" column, so all cases must be covered accurately."
   ]
  },
  {
   "cell_type": "code",
   "execution_count": null,
   "metadata": {},
   "outputs": [
    {
     "name": "stdout",
     "output_type": "stream",
     "text": [
      "Number of players that have no team and are not retired: 133\n"
     ]
    }
   ],
   "source": [
    "# fill the missing team names for the retired players\n",
    "df_merged.loc[df_merged[\"retired\"], \"team_name\"] = \"Retired\"\n",
    "print(\n",
    "    f\"Number of players that have no team and are not retired: {len(df_merged.loc[df_merged[\"team_name\"].isna()])}\"\n",
    ")\n",
    "\n",
    "# fill other missing team names\n",
    "df_merged[\"team_name\"].fillna(\"No Information\", inplace=True)"
   ]
  },
  {
   "cell_type": "markdown",
   "metadata": {},
   "source": [
    "##### Handling the missing values in players' personal information\n",
    "From the plot above we see that there are some entries where personal information of players such as weight, birth_date and birth_place are missing. \n",
    "We will handle them separately. \n",
    "- **weight**: there are no missing values in the \"height\" column, so we fill the missing values here with the average weight of the players' of the same height. For all different height values the corresponsing average weight values could be computed.\n",
    "- **birth_date**: there is only one player with a missing birth_date, so we will fill his birth date manually.\n",
    "- **birth_place**: this attribute is hard to fill accurately since it is a very specific piece of categorical data. There are also 331 misisng values, so it is not feasible to input them manually. Since we want to use the birth_place data for the visualization we would like it to be as accurate as possible. We noticed a pattern in the biographical \"text\" column that the first mention of a state is normally either a birth state or a high school state, where their basketball career begins. We will therefore fill the columns based on the first mentioned USA state. "
   ]
  },
  {
   "cell_type": "code",
   "execution_count": null,
   "metadata": {},
   "outputs": [],
   "source": [
    "# create a dictionary {height: average weight}\n",
    "height_to_weight = (\n",
    "    df_merged[[\"height_inches\", \"weight\"]]\n",
    "    .groupby(\"height_inches\")[\"weight\"]\n",
    "    .mean()\n",
    "    .to_dict()\n",
    ")\n",
    "# fill the missing values in the weight column with the computed averages\n",
    "df_merged[\"weight\"] = df_merged[\"weight\"].fillna(\n",
    "    df_merged[\"height_inches\"].map(height_to_weight)\n",
    ")"
   ]
  },
  {
   "cell_type": "code",
   "execution_count": null,
   "metadata": {},
   "outputs": [],
   "source": [
    "# fill the only missing birth_date manually\n",
    "df_merged[\"birth_date\"].fillna(pd.to_datetime(\"1932-05-10\"), inplace=True)"
   ]
  },
  {
   "cell_type": "code",
   "execution_count": null,
   "metadata": {},
   "outputs": [
    {
     "data": {
      "text/plain": [
       "67       Forest Edward \"Frosty\" Able (born July 27, 193...\n",
       "80       Charles R. \"Bud\" Acton (born January 11, 1942 ...\n",
       "216      Gary R. Alcorn (October 8, 1936 – November 29,...\n",
       "217      Gary R. Alcorn (October 8, 1936 – November 29,...\n",
       "267      Robert J. Allen (born July 17, 1946) is an Ame...\n",
       "                               ...                        \n",
       "21779    Wayne Yates (born November 7, 1937) is a retir...\n",
       "21854    David A. Zeller (born June 8, 1939) is a forme...\n",
       "21855    Gary Lynn Zeller (November 20, 1947 – February...\n",
       "21856    Gary Lynn Zeller (November 20, 1947 – February...\n",
       "21883    William Charles Zopf (born June 7, 1948) is a ...\n",
       "Name: text, Length: 331, dtype: object"
      ]
     },
     "metadata": {},
     "output_type": "display_data"
    }
   ],
   "source": [
    "df_merged.loc[df_merged[\"birth_place\"].isna()][\"text\"]"
   ]
  },
  {
   "cell_type": "markdown",
   "metadata": {},
   "source": [
    "#### Handling the missing values in performance statistics"
   ]
  },
  {
   "cell_type": "code",
   "execution_count": null,
   "metadata": {},
   "outputs": [],
   "source": []
  },
  {
   "cell_type": "markdown",
   "metadata": {},
   "source": [
    "#### Final check"
   ]
  },
  {
   "cell_type": "markdown",
   "metadata": {},
   "source": [
    "Plot the same heatmap as above to see the impact of the Null-handling methods."
   ]
  },
  {
   "cell_type": "code",
   "execution_count": null,
   "metadata": {},
   "outputs": [
    {
     "data": {
      "text/plain": [
       "Text(0.5, 1.0, 'Heatmap of nulls per column (columns with zero nulls excluded)')"
      ]
     },
     "metadata": {},
     "output_type": "display_data"
    },
    {
     "data": {
      "image/png": "[encoded data removed]",
      "text/plain": [
       "<Figure size 900x900 with 1 Axes>"
      ]
     },
     "metadata": {},
     "output_type": "display_data"
    }
   ],
   "source": [
    "df_null_plot = df_merged.loc[:, df_merged.isnull().sum() != 0]\n",
    "colors = [\"lightblue\", \"black\"]\n",
    "plt.figure(figsize=(9, 9))\n",
    "ax = sns.heatmap(df_null_plot.isnull(), cmap=colors, cbar=False)\n",
    "\n",
    "plt.plot([0], label=\"Null\", color=colors[1], marker=\"s\", linestyle=\"\")\n",
    "plt.plot([0], label=\"Not Null\", color=colors[0], marker=\"s\", linestyle=\"\")\n",
    "legend = plt.legend(bbox_to_anchor=(1.2, 1))\n",
    "ax.invert_yaxis()\n",
    "ax.set_ylabel(\"Index \")\n",
    "ax.set_xlabel(\"Column\")\n",
    "ax.set_title(\"Heatmap of nulls per column (columns with zero nulls excluded)\")"
   ]
  },
  {
   "cell_type": "markdown",
   "metadata": {},
   "source": [
    "## Creating grouped tables\n",
    "Create two new tables: one that groups rows based on player_id, another that groups rows based on team_id."
   ]
  },
  {
   "cell_type": "markdown",
   "metadata": {},
   "source": [
    "### Group by Player ID"
   ]
  },
  {
   "cell_type": "markdown",
   "metadata": {},
   "source": [
    "#### While exploring the dataset we found that some players have two player-ids. This has to be fixed, as this id has to be unique for every player. "
   ]
  },
  {
   "cell_type": "markdown",
   "metadata": {},
   "source": [
    "Check for players which have two different player ids"
   ]
  },
  {
   "cell_type": "code",
   "execution_count": null,
   "metadata": {},
   "outputs": [
    {
     "data": {
      "text/html": [
       "<div>\n",
       "<style scoped>\n",
       "    .dataframe tbody tr th:only-of-type {\n",
       "        vertical-align: middle;\n",
       "    }\n",
       "\n",
       "    .dataframe tbody tr th {\n",
       "        vertical-align: top;\n",
       "    }\n",
       "\n",
       "    .dataframe thead th {\n",
       "        text-align: right;\n",
       "    }\n",
       "</style>\n",
       "<table border=\"1\" class=\"dataframe\">\n",
       "  <thead>\n",
       "    <tr style=\"text-align: right;\">\n",
       "      <th></th>\n",
       "      <th>name</th>\n",
       "      <th>full_name</th>\n",
       "      <th>position</th>\n",
       "      <th>weight</th>\n",
       "      <th>birth_date</th>\n",
       "      <th>birth_place</th>\n",
       "      <th>retired</th>\n",
       "      <th>teams</th>\n",
       "      <th>text</th>\n",
       "      <th>player_id</th>\n",
       "      <th>...</th>\n",
       "      <th>drb</th>\n",
       "      <th>trb</th>\n",
       "      <th>ast</th>\n",
       "      <th>stl</th>\n",
       "      <th>blk</th>\n",
       "      <th>tov</th>\n",
       "      <th>pf</th>\n",
       "      <th>pts</th>\n",
       "      <th>team_name</th>\n",
       "      <th>height_inches</th>\n",
       "    </tr>\n",
       "  </thead>\n",
       "  <tbody>\n",
       "    <tr>\n",
       "      <th>21713</th>\n",
       "      <td>Chris Wright</td>\n",
       "      <td>Chris Wright</td>\n",
       "      <td>F</td>\n",
       "      <td>226.0</td>\n",
       "      <td>1988-09-30</td>\n",
       "      <td>Trotwood, Ohio</td>\n",
       "      <td>True</td>\n",
       "      <td>[10, 17]</td>\n",
       "      <td>Chris Wright (born September 30, 1988) is an A...</td>\n",
       "      <td>4740</td>\n",
       "      <td>...</td>\n",
       "      <td>2.9</td>\n",
       "      <td>5.7</td>\n",
       "      <td>1.4</td>\n",
       "      <td>2.0</td>\n",
       "      <td>1.4</td>\n",
       "      <td>1.4</td>\n",
       "      <td>4.9</td>\n",
       "      <td>13.7</td>\n",
       "      <td>Retired</td>\n",
       "      <td>80</td>\n",
       "    </tr>\n",
       "    <tr>\n",
       "      <th>21715</th>\n",
       "      <td>Chris Wright</td>\n",
       "      <td>Chris Wright</td>\n",
       "      <td>G</td>\n",
       "      <td>210.0</td>\n",
       "      <td>1989-11-04</td>\n",
       "      <td>Washington, District of Columbia</td>\n",
       "      <td>True</td>\n",
       "      <td>[]</td>\n",
       "      <td>Chris Wright (born November 4, 1989) is an Ame...</td>\n",
       "      <td>4741</td>\n",
       "      <td>...</td>\n",
       "      <td>0.0</td>\n",
       "      <td>0.0</td>\n",
       "      <td>0.0</td>\n",
       "      <td>0.0</td>\n",
       "      <td>0.0</td>\n",
       "      <td>9.0</td>\n",
       "      <td>0.0</td>\n",
       "      <td>18.0</td>\n",
       "      <td>Retired</td>\n",
       "      <td>73</td>\n",
       "    </tr>\n",
       "    <tr>\n",
       "      <th>16796</th>\n",
       "      <td>Isaiah Roby</td>\n",
       "      <td>Isaiah Roby</td>\n",
       "      <td>F</td>\n",
       "      <td>230.0</td>\n",
       "      <td>1998-02-03</td>\n",
       "      <td>Dixon, Illinois</td>\n",
       "      <td>False</td>\n",
       "      <td>[21]</td>\n",
       "      <td>Isaiah Roby (born February 3, 1998) is an Amer...</td>\n",
       "      <td>3643</td>\n",
       "      <td>...</td>\n",
       "      <td>0.0</td>\n",
       "      <td>0.0</td>\n",
       "      <td>0.0</td>\n",
       "      <td>0.0</td>\n",
       "      <td>0.0</td>\n",
       "      <td>0.0</td>\n",
       "      <td>0.0</td>\n",
       "      <td>0.0</td>\n",
       "      <td>Oklahoma City Thunder</td>\n",
       "      <td>80</td>\n",
       "    </tr>\n",
       "    <tr>\n",
       "      <th>21888</th>\n",
       "      <td>Isaiah Roby</td>\n",
       "      <td>Isaiah Roby</td>\n",
       "      <td>F</td>\n",
       "      <td>230.0</td>\n",
       "      <td>1998-02-03</td>\n",
       "      <td>Dixon, Illinois</td>\n",
       "      <td>False</td>\n",
       "      <td>[7, 21]</td>\n",
       "      <td>Isaiah Roby (born February 3, 1998) is an Amer...</td>\n",
       "      <td>4811</td>\n",
       "      <td>...</td>\n",
       "      <td>0.0</td>\n",
       "      <td>0.0</td>\n",
       "      <td>0.0</td>\n",
       "      <td>0.0</td>\n",
       "      <td>0.0</td>\n",
       "      <td>0.0</td>\n",
       "      <td>0.0</td>\n",
       "      <td>0.0</td>\n",
       "      <td>Oklahoma City Thunder</td>\n",
       "      <td>80</td>\n",
       "    </tr>\n",
       "    <tr>\n",
       "      <th>12516</th>\n",
       "      <td>Jeremiah Martin</td>\n",
       "      <td>Jeremiah Martin</td>\n",
       "      <td>G</td>\n",
       "      <td>184.0</td>\n",
       "      <td>1996-06-19</td>\n",
       "      <td>Memphis, Tennessee</td>\n",
       "      <td>False</td>\n",
       "      <td>[3]</td>\n",
       "      <td>Jeremiah Martin (born June 19, 1996) is an Ame...</td>\n",
       "      <td>2702</td>\n",
       "      <td>...</td>\n",
       "      <td>3.3</td>\n",
       "      <td>3.3</td>\n",
       "      <td>3.3</td>\n",
       "      <td>3.3</td>\n",
       "      <td>0.0</td>\n",
       "      <td>0.0</td>\n",
       "      <td>0.0</td>\n",
       "      <td>6.5</td>\n",
       "      <td>Brooklyn Nets</td>\n",
       "      <td>75</td>\n",
       "    </tr>\n",
       "    <tr>\n",
       "      <th>21890</th>\n",
       "      <td>Jeremiah Martin</td>\n",
       "      <td>Jeremiah Martin</td>\n",
       "      <td>PG</td>\n",
       "      <td>184.0</td>\n",
       "      <td>1996-01-19</td>\n",
       "      <td>Memphis, Tennessee</td>\n",
       "      <td>False</td>\n",
       "      <td>[3]</td>\n",
       "      <td>Jeremiah Martin (born June 19, 1996) is an Ame...</td>\n",
       "      <td>4817</td>\n",
       "      <td>...</td>\n",
       "      <td>3.3</td>\n",
       "      <td>3.3</td>\n",
       "      <td>3.3</td>\n",
       "      <td>3.3</td>\n",
       "      <td>0.0</td>\n",
       "      <td>0.0</td>\n",
       "      <td>0.0</td>\n",
       "      <td>6.5</td>\n",
       "      <td>Brooklyn Nets</td>\n",
       "      <td>75</td>\n",
       "    </tr>\n",
       "    <tr>\n",
       "      <th>17708</th>\n",
       "      <td>Marial Shayok</td>\n",
       "      <td>Marial Shayok</td>\n",
       "      <td>G</td>\n",
       "      <td>196.0</td>\n",
       "      <td>1995-07-26</td>\n",
       "      <td>Ottawa, Canada</td>\n",
       "      <td>False</td>\n",
       "      <td>[23]</td>\n",
       "      <td>Marial Makur Shayok (born July 26, 1995) is a ...</td>\n",
       "      <td>3851</td>\n",
       "      <td>...</td>\n",
       "      <td>10.8</td>\n",
       "      <td>10.8</td>\n",
       "      <td>3.6</td>\n",
       "      <td>0.0</td>\n",
       "      <td>0.0</td>\n",
       "      <td>3.6</td>\n",
       "      <td>0.0</td>\n",
       "      <td>10.8</td>\n",
       "      <td>Philadelphia 76ers</td>\n",
       "      <td>77</td>\n",
       "    </tr>\n",
       "    <tr>\n",
       "      <th>21889</th>\n",
       "      <td>Marial Shayok</td>\n",
       "      <td>Marial Shayok</td>\n",
       "      <td>G</td>\n",
       "      <td>196.0</td>\n",
       "      <td>1995-07-26</td>\n",
       "      <td>Ottawa, Canada</td>\n",
       "      <td>False</td>\n",
       "      <td>[29]</td>\n",
       "      <td>Marial Makur Shayok (born July 26, 1995) is a ...</td>\n",
       "      <td>4814</td>\n",
       "      <td>...</td>\n",
       "      <td>10.8</td>\n",
       "      <td>10.8</td>\n",
       "      <td>3.6</td>\n",
       "      <td>0.0</td>\n",
       "      <td>0.0</td>\n",
       "      <td>3.6</td>\n",
       "      <td>0.0</td>\n",
       "      <td>10.8</td>\n",
       "      <td>Utah Jazz</td>\n",
       "      <td>77</td>\n",
       "    </tr>\n",
       "    <tr>\n",
       "      <th>1940</th>\n",
       "      <td>Marques Bolden</td>\n",
       "      <td>Marques Terrell Bolden</td>\n",
       "      <td>C</td>\n",
       "      <td>245.0</td>\n",
       "      <td>1998-04-17</td>\n",
       "      <td>Dallas, Texas</td>\n",
       "      <td>False</td>\n",
       "      <td>[6]</td>\n",
       "      <td>Marques Terrell Bolden (born April 17, 1998) i...</td>\n",
       "      <td>387</td>\n",
       "      <td>...</td>\n",
       "      <td>24.0</td>\n",
       "      <td>24.0</td>\n",
       "      <td>0.0</td>\n",
       "      <td>12.0</td>\n",
       "      <td>0.0</td>\n",
       "      <td>0.0</td>\n",
       "      <td>12.0</td>\n",
       "      <td>0.0</td>\n",
       "      <td>Cleveland Cavaliers</td>\n",
       "      <td>83</td>\n",
       "    </tr>\n",
       "    <tr>\n",
       "      <th>21893</th>\n",
       "      <td>Marques Bolden</td>\n",
       "      <td>Marques Terrell Bolden</td>\n",
       "      <td>C</td>\n",
       "      <td>245.0</td>\n",
       "      <td>1998-04-17</td>\n",
       "      <td>Dallas, Texas</td>\n",
       "      <td>False</td>\n",
       "      <td>[6]</td>\n",
       "      <td>Marques Terrell Bolden (born April 17, 1998) i...</td>\n",
       "      <td>4820</td>\n",
       "      <td>...</td>\n",
       "      <td>24.0</td>\n",
       "      <td>24.0</td>\n",
       "      <td>0.0</td>\n",
       "      <td>12.0</td>\n",
       "      <td>0.0</td>\n",
       "      <td>0.0</td>\n",
       "      <td>12.0</td>\n",
       "      <td>0.0</td>\n",
       "      <td>Cleveland Cavaliers</td>\n",
       "      <td>83</td>\n",
       "    </tr>\n",
       "    <tr>\n",
       "      <th>18199</th>\n",
       "      <td>Michael Smith</td>\n",
       "      <td>Michael John Smith</td>\n",
       "      <td>F</td>\n",
       "      <td>225.0</td>\n",
       "      <td>1965-05-19</td>\n",
       "      <td>Rochester, New York</td>\n",
       "      <td>True</td>\n",
       "      <td>[2, 13]</td>\n",
       "      <td>Michael John Smith (born May 19, 1965) is a re...</td>\n",
       "      <td>3973</td>\n",
       "      <td>...</td>\n",
       "      <td>3.2</td>\n",
       "      <td>5.2</td>\n",
       "      <td>4.0</td>\n",
       "      <td>0.6</td>\n",
       "      <td>0.2</td>\n",
       "      <td>3.4</td>\n",
       "      <td>2.5</td>\n",
       "      <td>20.2</td>\n",
       "      <td>Retired</td>\n",
       "      <td>82</td>\n",
       "    </tr>\n",
       "    <tr>\n",
       "      <th>18202</th>\n",
       "      <td>Michael Smith</td>\n",
       "      <td>Michael John Smith</td>\n",
       "      <td>F</td>\n",
       "      <td>230.0</td>\n",
       "      <td>1972-03-28</td>\n",
       "      <td>Washington, District of Columbia</td>\n",
       "      <td>True</td>\n",
       "      <td>[26, 30]</td>\n",
       "      <td>Michael John Smith (born March 28, 1972) is an...</td>\n",
       "      <td>3974</td>\n",
       "      <td>...</td>\n",
       "      <td>6.4</td>\n",
       "      <td>10.1</td>\n",
       "      <td>2.9</td>\n",
       "      <td>1.2</td>\n",
       "      <td>1.2</td>\n",
       "      <td>1.9</td>\n",
       "      <td>4.3</td>\n",
       "      <td>9.3</td>\n",
       "      <td>Retired</td>\n",
       "      <td>80</td>\n",
       "    </tr>\n",
       "    <tr>\n",
       "      <th>10428</th>\n",
       "      <td>Larry Jones</td>\n",
       "      <td>Walter Jones</td>\n",
       "      <td>G-F</td>\n",
       "      <td>180.0</td>\n",
       "      <td>1942-09-22</td>\n",
       "      <td>Columbus, Ohio</td>\n",
       "      <td>True</td>\n",
       "      <td>[23]</td>\n",
       "      <td>Larry Jones (born September 22, 1942) is an Am...</td>\n",
       "      <td>2213</td>\n",
       "      <td>...</td>\n",
       "      <td>None</td>\n",
       "      <td>5.7</td>\n",
       "      <td>4.0</td>\n",
       "      <td>None</td>\n",
       "      <td>None</td>\n",
       "      <td>None</td>\n",
       "      <td>4.6</td>\n",
       "      <td>13.1</td>\n",
       "      <td>Retired</td>\n",
       "      <td>74</td>\n",
       "    </tr>\n",
       "    <tr>\n",
       "      <th>10496</th>\n",
       "      <td>Wali Jones</td>\n",
       "      <td>Walter Jones</td>\n",
       "      <td>G</td>\n",
       "      <td>180.0</td>\n",
       "      <td>1942-02-14</td>\n",
       "      <td>Philadelphia, Pennsylvania</td>\n",
       "      <td>True</td>\n",
       "      <td>[23, 17, 9]</td>\n",
       "      <td>Walter Jones (born February 14, 1942) is a ret...</td>\n",
       "      <td>2230</td>\n",
       "      <td>...</td>\n",
       "      <td>None</td>\n",
       "      <td>4.2</td>\n",
       "      <td>4.9</td>\n",
       "      <td>None</td>\n",
       "      <td>None</td>\n",
       "      <td>None</td>\n",
       "      <td>3.9</td>\n",
       "      <td>17.1</td>\n",
       "      <td>Retired</td>\n",
       "      <td>74</td>\n",
       "    </tr>\n",
       "    <tr>\n",
       "      <th>9131</th>\n",
       "      <td>William Howard</td>\n",
       "      <td>William Howard</td>\n",
       "      <td>F</td>\n",
       "      <td>205.0</td>\n",
       "      <td>1993-10-25</td>\n",
       "      <td>Montbrison, France</td>\n",
       "      <td>False</td>\n",
       "      <td>[11]</td>\n",
       "      <td>William Howard (born October 25, 1993) is a Fr...</td>\n",
       "      <td>1951</td>\n",
       "      <td>...</td>\n",
       "      <td>5.5</td>\n",
       "      <td>5.5</td>\n",
       "      <td>2.8</td>\n",
       "      <td>0.0</td>\n",
       "      <td>0.0</td>\n",
       "      <td>2.8</td>\n",
       "      <td>2.8</td>\n",
       "      <td>0.0</td>\n",
       "      <td>Houston Rockets</td>\n",
       "      <td>80</td>\n",
       "    </tr>\n",
       "    <tr>\n",
       "      <th>21891</th>\n",
       "      <td>William Howard</td>\n",
       "      <td>William Howard</td>\n",
       "      <td>F</td>\n",
       "      <td>205.0</td>\n",
       "      <td>1993-10-25</td>\n",
       "      <td>Montbrison, France</td>\n",
       "      <td>False</td>\n",
       "      <td>[29, 11]</td>\n",
       "      <td>William Howard (born October 25, 1993) is a Fr...</td>\n",
       "      <td>4818</td>\n",
       "      <td>...</td>\n",
       "      <td>5.5</td>\n",
       "      <td>5.5</td>\n",
       "      <td>2.8</td>\n",
       "      <td>0.0</td>\n",
       "      <td>0.0</td>\n",
       "      <td>2.8</td>\n",
       "      <td>2.8</td>\n",
       "      <td>0.0</td>\n",
       "      <td>Houston Rockets</td>\n",
       "      <td>80</td>\n",
       "    </tr>\n",
       "  </tbody>\n",
       "</table>\n",
       "<p>16 rows × 37 columns</p>\n",
       "</div>"
      ],
      "text/plain": [
       "                  name               full_name position  weight birth_date  \\\n",
       "21713     Chris Wright            Chris Wright        F   226.0 1988-09-30   \n",
       "21715     Chris Wright            Chris Wright        G   210.0 1989-11-04   \n",
       "16796      Isaiah Roby             Isaiah Roby        F   230.0 1998-02-03   \n",
       "21888      Isaiah Roby             Isaiah Roby        F   230.0 1998-02-03   \n",
       "12516  Jeremiah Martin         Jeremiah Martin        G   184.0 1996-06-19   \n",
       "21890  Jeremiah Martin         Jeremiah Martin       PG   184.0 1996-01-19   \n",
       "17708    Marial Shayok           Marial Shayok        G   196.0 1995-07-26   \n",
       "21889    Marial Shayok           Marial Shayok        G   196.0 1995-07-26   \n",
       "1940    Marques Bolden  Marques Terrell Bolden        C   245.0 1998-04-17   \n",
       "21893   Marques Bolden  Marques Terrell Bolden        C   245.0 1998-04-17   \n",
       "18199    Michael Smith      Michael John Smith        F   225.0 1965-05-19   \n",
       "18202    Michael Smith      Michael John Smith        F   230.0 1972-03-28   \n",
       "10428      Larry Jones            Walter Jones      G-F   180.0 1942-09-22   \n",
       "10496       Wali Jones            Walter Jones        G   180.0 1942-02-14   \n",
       "9131    William Howard          William Howard        F   205.0 1993-10-25   \n",
       "21891   William Howard          William Howard        F   205.0 1993-10-25   \n",
       "\n",
       "                            birth_place  retired        teams  \\\n",
       "21713                    Trotwood, Ohio     True     [10, 17]   \n",
       "21715  Washington, District of Columbia     True           []   \n",
       "16796                   Dixon, Illinois    False         [21]   \n",
       "21888                   Dixon, Illinois    False      [7, 21]   \n",
       "12516                Memphis, Tennessee    False          [3]   \n",
       "21890                Memphis, Tennessee    False          [3]   \n",
       "17708                    Ottawa, Canada    False         [23]   \n",
       "21889                    Ottawa, Canada    False         [29]   \n",
       "1940                      Dallas, Texas    False          [6]   \n",
       "21893                     Dallas, Texas    False          [6]   \n",
       "18199               Rochester, New York     True      [2, 13]   \n",
       "18202  Washington, District of Columbia     True     [26, 30]   \n",
       "10428                    Columbus, Ohio     True         [23]   \n",
       "10496        Philadelphia, Pennsylvania     True  [23, 17, 9]   \n",
       "9131                 Montbrison, France    False         [11]   \n",
       "21891                Montbrison, France    False     [29, 11]   \n",
       "\n",
       "                                                    text  player_id  ...  \\\n",
       "21713  Chris Wright (born September 30, 1988) is an A...       4740  ...   \n",
       "21715  Chris Wright (born November 4, 1989) is an Ame...       4741  ...   \n",
       "16796  Isaiah Roby (born February 3, 1998) is an Amer...       3643  ...   \n",
       "21888  Isaiah Roby (born February 3, 1998) is an Amer...       4811  ...   \n",
       "12516  Jeremiah Martin (born June 19, 1996) is an Ame...       2702  ...   \n",
       "21890  Jeremiah Martin (born June 19, 1996) is an Ame...       4817  ...   \n",
       "17708  Marial Makur Shayok (born July 26, 1995) is a ...       3851  ...   \n",
       "21889  Marial Makur Shayok (born July 26, 1995) is a ...       4814  ...   \n",
       "1940   Marques Terrell Bolden (born April 17, 1998) i...        387  ...   \n",
       "21893  Marques Terrell Bolden (born April 17, 1998) i...       4820  ...   \n",
       "18199  Michael John Smith (born May 19, 1965) is a re...       3973  ...   \n",
       "18202  Michael John Smith (born March 28, 1972) is an...       3974  ...   \n",
       "10428  Larry Jones (born September 22, 1942) is an Am...       2213  ...   \n",
       "10496  Walter Jones (born February 14, 1942) is a ret...       2230  ...   \n",
       "9131   William Howard (born October 25, 1993) is a Fr...       1951  ...   \n",
       "21891  William Howard (born October 25, 1993) is a Fr...       4818  ...   \n",
       "\n",
       "        drb   trb  ast   stl   blk   tov    pf   pts              team_name  \\\n",
       "21713   2.9   5.7  1.4   2.0   1.4   1.4   4.9  13.7                Retired   \n",
       "21715   0.0   0.0  0.0   0.0   0.0   9.0   0.0  18.0                Retired   \n",
       "16796   0.0   0.0  0.0   0.0   0.0   0.0   0.0   0.0  Oklahoma City Thunder   \n",
       "21888   0.0   0.0  0.0   0.0   0.0   0.0   0.0   0.0  Oklahoma City Thunder   \n",
       "12516   3.3   3.3  3.3   3.3   0.0   0.0   0.0   6.5          Brooklyn Nets   \n",
       "21890   3.3   3.3  3.3   3.3   0.0   0.0   0.0   6.5          Brooklyn Nets   \n",
       "17708  10.8  10.8  3.6   0.0   0.0   3.6   0.0  10.8     Philadelphia 76ers   \n",
       "21889  10.8  10.8  3.6   0.0   0.0   3.6   0.0  10.8              Utah Jazz   \n",
       "1940   24.0  24.0  0.0  12.0   0.0   0.0  12.0   0.0    Cleveland Cavaliers   \n",
       "21893  24.0  24.0  0.0  12.0   0.0   0.0  12.0   0.0    Cleveland Cavaliers   \n",
       "18199   3.2   5.2  4.0   0.6   0.2   3.4   2.5  20.2                Retired   \n",
       "18202   6.4  10.1  2.9   1.2   1.2   1.9   4.3   9.3                Retired   \n",
       "10428  None   5.7  4.0  None  None  None   4.6  13.1                Retired   \n",
       "10496  None   4.2  4.9  None  None  None   3.9  17.1                Retired   \n",
       "9131    5.5   5.5  2.8   0.0   0.0   2.8   2.8   0.0        Houston Rockets   \n",
       "21891   5.5   5.5  2.8   0.0   0.0   2.8   2.8   0.0        Houston Rockets   \n",
       "\n",
       "      height_inches  \n",
       "21713            80  \n",
       "21715            73  \n",
       "16796            80  \n",
       "21888            80  \n",
       "12516            75  \n",
       "21890            75  \n",
       "17708            77  \n",
       "21889            77  \n",
       "1940             83  \n",
       "21893            83  \n",
       "18199            82  \n",
       "18202            80  \n",
       "10428            74  \n",
       "10496            74  \n",
       "9131             80  \n",
       "21891            80  \n",
       "\n",
       "[16 rows x 37 columns]"
      ]
     },
     "metadata": {},
     "output_type": "display_data"
    }
   ],
   "source": [
    "def get_players_with_two_ids():\n",
    "    df_players_with_two_ids = df_merged.copy()\n",
    "    df_players_with_two_ids = df_players_with_two_ids.drop_duplicates(\n",
    "        subset=[\"player_id\"]\n",
    "    )\n",
    "    array_player_names_with_two_ids = df_players_with_two_ids[\n",
    "        df_players_with_two_ids.duplicated(subset=[\"full_name\"])\n",
    "    ][\"full_name\"].unique()\n",
    "    df_players_with_two_ids = df_players_with_two_ids[\n",
    "        df_players_with_two_ids[\"full_name\"].isin(array_player_names_with_two_ids)\n",
    "    ].sort_values(\"full_name\")\n",
    "    return df_players_with_two_ids\n",
    "\n",
    "\n",
    "df_players_with_two_ids = get_players_with_two_ids()\n",
    "df_players_with_two_ids"
   ]
  },
  {
   "cell_type": "markdown",
   "metadata": {},
   "source": [
    "Rename the first Walter Jones as he is named incorrectly in the dataset"
   ]
  },
  {
   "cell_type": "code",
   "execution_count": null,
   "metadata": {},
   "outputs": [
    {
     "data": {
      "text/html": [
       "<div>\n",
       "<style scoped>\n",
       "    .dataframe tbody tr th:only-of-type {\n",
       "        vertical-align: middle;\n",
       "    }\n",
       "\n",
       "    .dataframe tbody tr th {\n",
       "        vertical-align: top;\n",
       "    }\n",
       "\n",
       "    .dataframe thead th {\n",
       "        text-align: right;\n",
       "    }\n",
       "</style>\n",
       "<table border=\"1\" class=\"dataframe\">\n",
       "  <thead>\n",
       "    <tr style=\"text-align: right;\">\n",
       "      <th></th>\n",
       "      <th>name</th>\n",
       "      <th>full_name</th>\n",
       "      <th>position</th>\n",
       "      <th>weight</th>\n",
       "      <th>birth_date</th>\n",
       "      <th>birth_place</th>\n",
       "      <th>retired</th>\n",
       "      <th>teams</th>\n",
       "      <th>text</th>\n",
       "      <th>player_id</th>\n",
       "      <th>...</th>\n",
       "      <th>drb</th>\n",
       "      <th>trb</th>\n",
       "      <th>ast</th>\n",
       "      <th>stl</th>\n",
       "      <th>blk</th>\n",
       "      <th>tov</th>\n",
       "      <th>pf</th>\n",
       "      <th>pts</th>\n",
       "      <th>team_name</th>\n",
       "      <th>height_inches</th>\n",
       "    </tr>\n",
       "  </thead>\n",
       "  <tbody>\n",
       "    <tr>\n",
       "      <th>21713</th>\n",
       "      <td>Chris Wright</td>\n",
       "      <td>Chris Wright</td>\n",
       "      <td>F</td>\n",
       "      <td>226.0</td>\n",
       "      <td>1988-09-30</td>\n",
       "      <td>Trotwood, Ohio</td>\n",
       "      <td>True</td>\n",
       "      <td>[10, 17]</td>\n",
       "      <td>Chris Wright (born September 30, 1988) is an A...</td>\n",
       "      <td>4740</td>\n",
       "      <td>...</td>\n",
       "      <td>2.9</td>\n",
       "      <td>5.7</td>\n",
       "      <td>1.4</td>\n",
       "      <td>2.0</td>\n",
       "      <td>1.4</td>\n",
       "      <td>1.4</td>\n",
       "      <td>4.9</td>\n",
       "      <td>13.7</td>\n",
       "      <td>Retired</td>\n",
       "      <td>80</td>\n",
       "    </tr>\n",
       "    <tr>\n",
       "      <th>21715</th>\n",
       "      <td>Chris Wright</td>\n",
       "      <td>Chris Wright</td>\n",
       "      <td>G</td>\n",
       "      <td>210.0</td>\n",
       "      <td>1989-11-04</td>\n",
       "      <td>Washington, District of Columbia</td>\n",
       "      <td>True</td>\n",
       "      <td>[]</td>\n",
       "      <td>Chris Wright (born November 4, 1989) is an Ame...</td>\n",
       "      <td>4741</td>\n",
       "      <td>...</td>\n",
       "      <td>0.0</td>\n",
       "      <td>0.0</td>\n",
       "      <td>0.0</td>\n",
       "      <td>0.0</td>\n",
       "      <td>0.0</td>\n",
       "      <td>9.0</td>\n",
       "      <td>0.0</td>\n",
       "      <td>18.0</td>\n",
       "      <td>Retired</td>\n",
       "      <td>73</td>\n",
       "    </tr>\n",
       "    <tr>\n",
       "      <th>16796</th>\n",
       "      <td>Isaiah Roby</td>\n",
       "      <td>Isaiah Roby</td>\n",
       "      <td>F</td>\n",
       "      <td>230.0</td>\n",
       "      <td>1998-02-03</td>\n",
       "      <td>Dixon, Illinois</td>\n",
       "      <td>False</td>\n",
       "      <td>[21]</td>\n",
       "      <td>Isaiah Roby (born February 3, 1998) is an Amer...</td>\n",
       "      <td>3643</td>\n",
       "      <td>...</td>\n",
       "      <td>0.0</td>\n",
       "      <td>0.0</td>\n",
       "      <td>0.0</td>\n",
       "      <td>0.0</td>\n",
       "      <td>0.0</td>\n",
       "      <td>0.0</td>\n",
       "      <td>0.0</td>\n",
       "      <td>0.0</td>\n",
       "      <td>Oklahoma City Thunder</td>\n",
       "      <td>80</td>\n",
       "    </tr>\n",
       "    <tr>\n",
       "      <th>21888</th>\n",
       "      <td>Isaiah Roby</td>\n",
       "      <td>Isaiah Roby</td>\n",
       "      <td>F</td>\n",
       "      <td>230.0</td>\n",
       "      <td>1998-02-03</td>\n",
       "      <td>Dixon, Illinois</td>\n",
       "      <td>False</td>\n",
       "      <td>[7, 21]</td>\n",
       "      <td>Isaiah Roby (born February 3, 1998) is an Amer...</td>\n",
       "      <td>4811</td>\n",
       "      <td>...</td>\n",
       "      <td>0.0</td>\n",
       "      <td>0.0</td>\n",
       "      <td>0.0</td>\n",
       "      <td>0.0</td>\n",
       "      <td>0.0</td>\n",
       "      <td>0.0</td>\n",
       "      <td>0.0</td>\n",
       "      <td>0.0</td>\n",
       "      <td>Oklahoma City Thunder</td>\n",
       "      <td>80</td>\n",
       "    </tr>\n",
       "    <tr>\n",
       "      <th>12516</th>\n",
       "      <td>Jeremiah Martin</td>\n",
       "      <td>Jeremiah Martin</td>\n",
       "      <td>G</td>\n",
       "      <td>184.0</td>\n",
       "      <td>1996-06-19</td>\n",
       "      <td>Memphis, Tennessee</td>\n",
       "      <td>False</td>\n",
       "      <td>[3]</td>\n",
       "      <td>Jeremiah Martin (born June 19, 1996) is an Ame...</td>\n",
       "      <td>2702</td>\n",
       "      <td>...</td>\n",
       "      <td>3.3</td>\n",
       "      <td>3.3</td>\n",
       "      <td>3.3</td>\n",
       "      <td>3.3</td>\n",
       "      <td>0.0</td>\n",
       "      <td>0.0</td>\n",
       "      <td>0.0</td>\n",
       "      <td>6.5</td>\n",
       "      <td>Brooklyn Nets</td>\n",
       "      <td>75</td>\n",
       "    </tr>\n",
       "    <tr>\n",
       "      <th>21890</th>\n",
       "      <td>Jeremiah Martin</td>\n",
       "      <td>Jeremiah Martin</td>\n",
       "      <td>PG</td>\n",
       "      <td>184.0</td>\n",
       "      <td>1996-01-19</td>\n",
       "      <td>Memphis, Tennessee</td>\n",
       "      <td>False</td>\n",
       "      <td>[3]</td>\n",
       "      <td>Jeremiah Martin (born June 19, 1996) is an Ame...</td>\n",
       "      <td>4817</td>\n",
       "      <td>...</td>\n",
       "      <td>3.3</td>\n",
       "      <td>3.3</td>\n",
       "      <td>3.3</td>\n",
       "      <td>3.3</td>\n",
       "      <td>0.0</td>\n",
       "      <td>0.0</td>\n",
       "      <td>0.0</td>\n",
       "      <td>6.5</td>\n",
       "      <td>Brooklyn Nets</td>\n",
       "      <td>75</td>\n",
       "    </tr>\n",
       "    <tr>\n",
       "      <th>17708</th>\n",
       "      <td>Marial Shayok</td>\n",
       "      <td>Marial Shayok</td>\n",
       "      <td>G</td>\n",
       "      <td>196.0</td>\n",
       "      <td>1995-07-26</td>\n",
       "      <td>Ottawa, Canada</td>\n",
       "      <td>False</td>\n",
       "      <td>[23]</td>\n",
       "      <td>Marial Makur Shayok (born July 26, 1995) is a ...</td>\n",
       "      <td>3851</td>\n",
       "      <td>...</td>\n",
       "      <td>10.8</td>\n",
       "      <td>10.8</td>\n",
       "      <td>3.6</td>\n",
       "      <td>0.0</td>\n",
       "      <td>0.0</td>\n",
       "      <td>3.6</td>\n",
       "      <td>0.0</td>\n",
       "      <td>10.8</td>\n",
       "      <td>Philadelphia 76ers</td>\n",
       "      <td>77</td>\n",
       "    </tr>\n",
       "    <tr>\n",
       "      <th>21889</th>\n",
       "      <td>Marial Shayok</td>\n",
       "      <td>Marial Shayok</td>\n",
       "      <td>G</td>\n",
       "      <td>196.0</td>\n",
       "      <td>1995-07-26</td>\n",
       "      <td>Ottawa, Canada</td>\n",
       "      <td>False</td>\n",
       "      <td>[29]</td>\n",
       "      <td>Marial Makur Shayok (born July 26, 1995) is a ...</td>\n",
       "      <td>4814</td>\n",
       "      <td>...</td>\n",
       "      <td>10.8</td>\n",
       "      <td>10.8</td>\n",
       "      <td>3.6</td>\n",
       "      <td>0.0</td>\n",
       "      <td>0.0</td>\n",
       "      <td>3.6</td>\n",
       "      <td>0.0</td>\n",
       "      <td>10.8</td>\n",
       "      <td>Utah Jazz</td>\n",
       "      <td>77</td>\n",
       "    </tr>\n",
       "    <tr>\n",
       "      <th>1940</th>\n",
       "      <td>Marques Bolden</td>\n",
       "      <td>Marques Terrell Bolden</td>\n",
       "      <td>C</td>\n",
       "      <td>245.0</td>\n",
       "      <td>1998-04-17</td>\n",
       "      <td>Dallas, Texas</td>\n",
       "      <td>False</td>\n",
       "      <td>[6]</td>\n",
       "      <td>Marques Terrell Bolden (born April 17, 1998) i...</td>\n",
       "      <td>387</td>\n",
       "      <td>...</td>\n",
       "      <td>24.0</td>\n",
       "      <td>24.0</td>\n",
       "      <td>0.0</td>\n",
       "      <td>12.0</td>\n",
       "      <td>0.0</td>\n",
       "      <td>0.0</td>\n",
       "      <td>12.0</td>\n",
       "      <td>0.0</td>\n",
       "      <td>Cleveland Cavaliers</td>\n",
       "      <td>83</td>\n",
       "    </tr>\n",
       "    <tr>\n",
       "      <th>21893</th>\n",
       "      <td>Marques Bolden</td>\n",
       "      <td>Marques Terrell Bolden</td>\n",
       "      <td>C</td>\n",
       "      <td>245.0</td>\n",
       "      <td>1998-04-17</td>\n",
       "      <td>Dallas, Texas</td>\n",
       "      <td>False</td>\n",
       "      <td>[6]</td>\n",
       "      <td>Marques Terrell Bolden (born April 17, 1998) i...</td>\n",
       "      <td>4820</td>\n",
       "      <td>...</td>\n",
       "      <td>24.0</td>\n",
       "      <td>24.0</td>\n",
       "      <td>0.0</td>\n",
       "      <td>12.0</td>\n",
       "      <td>0.0</td>\n",
       "      <td>0.0</td>\n",
       "      <td>12.0</td>\n",
       "      <td>0.0</td>\n",
       "      <td>Cleveland Cavaliers</td>\n",
       "      <td>83</td>\n",
       "    </tr>\n",
       "    <tr>\n",
       "      <th>18199</th>\n",
       "      <td>Michael Smith</td>\n",
       "      <td>Michael John Smith</td>\n",
       "      <td>F</td>\n",
       "      <td>225.0</td>\n",
       "      <td>1965-05-19</td>\n",
       "      <td>Rochester, New York</td>\n",
       "      <td>True</td>\n",
       "      <td>[2, 13]</td>\n",
       "      <td>Michael John Smith (born May 19, 1965) is a re...</td>\n",
       "      <td>3973</td>\n",
       "      <td>...</td>\n",
       "      <td>3.2</td>\n",
       "      <td>5.2</td>\n",
       "      <td>4.0</td>\n",
       "      <td>0.6</td>\n",
       "      <td>0.2</td>\n",
       "      <td>3.4</td>\n",
       "      <td>2.5</td>\n",
       "      <td>20.2</td>\n",
       "      <td>Retired</td>\n",
       "      <td>82</td>\n",
       "    </tr>\n",
       "    <tr>\n",
       "      <th>18202</th>\n",
       "      <td>Michael Smith</td>\n",
       "      <td>Michael John Smith</td>\n",
       "      <td>F</td>\n",
       "      <td>230.0</td>\n",
       "      <td>1972-03-28</td>\n",
       "      <td>Washington, District of Columbia</td>\n",
       "      <td>True</td>\n",
       "      <td>[26, 30]</td>\n",
       "      <td>Michael John Smith (born March 28, 1972) is an...</td>\n",
       "      <td>3974</td>\n",
       "      <td>...</td>\n",
       "      <td>6.4</td>\n",
       "      <td>10.1</td>\n",
       "      <td>2.9</td>\n",
       "      <td>1.2</td>\n",
       "      <td>1.2</td>\n",
       "      <td>1.9</td>\n",
       "      <td>4.3</td>\n",
       "      <td>9.3</td>\n",
       "      <td>Retired</td>\n",
       "      <td>80</td>\n",
       "    </tr>\n",
       "    <tr>\n",
       "      <th>9131</th>\n",
       "      <td>William Howard</td>\n",
       "      <td>William Howard</td>\n",
       "      <td>F</td>\n",
       "      <td>205.0</td>\n",
       "      <td>1993-10-25</td>\n",
       "      <td>Montbrison, France</td>\n",
       "      <td>False</td>\n",
       "      <td>[11]</td>\n",
       "      <td>William Howard (born October 25, 1993) is a Fr...</td>\n",
       "      <td>1951</td>\n",
       "      <td>...</td>\n",
       "      <td>5.5</td>\n",
       "      <td>5.5</td>\n",
       "      <td>2.8</td>\n",
       "      <td>0.0</td>\n",
       "      <td>0.0</td>\n",
       "      <td>2.8</td>\n",
       "      <td>2.8</td>\n",
       "      <td>0.0</td>\n",
       "      <td>Houston Rockets</td>\n",
       "      <td>80</td>\n",
       "    </tr>\n",
       "    <tr>\n",
       "      <th>21891</th>\n",
       "      <td>William Howard</td>\n",
       "      <td>William Howard</td>\n",
       "      <td>F</td>\n",
       "      <td>205.0</td>\n",
       "      <td>1993-10-25</td>\n",
       "      <td>Montbrison, France</td>\n",
       "      <td>False</td>\n",
       "      <td>[29, 11]</td>\n",
       "      <td>William Howard (born October 25, 1993) is a Fr...</td>\n",
       "      <td>4818</td>\n",
       "      <td>...</td>\n",
       "      <td>5.5</td>\n",
       "      <td>5.5</td>\n",
       "      <td>2.8</td>\n",
       "      <td>0.0</td>\n",
       "      <td>0.0</td>\n",
       "      <td>2.8</td>\n",
       "      <td>2.8</td>\n",
       "      <td>0.0</td>\n",
       "      <td>Houston Rockets</td>\n",
       "      <td>80</td>\n",
       "    </tr>\n",
       "  </tbody>\n",
       "</table>\n",
       "<p>14 rows × 37 columns</p>\n",
       "</div>"
      ],
      "text/plain": [
       "                  name               full_name position  weight birth_date  \\\n",
       "21713     Chris Wright            Chris Wright        F   226.0 1988-09-30   \n",
       "21715     Chris Wright            Chris Wright        G   210.0 1989-11-04   \n",
       "16796      Isaiah Roby             Isaiah Roby        F   230.0 1998-02-03   \n",
       "21888      Isaiah Roby             Isaiah Roby        F   230.0 1998-02-03   \n",
       "12516  Jeremiah Martin         Jeremiah Martin        G   184.0 1996-06-19   \n",
       "21890  Jeremiah Martin         Jeremiah Martin       PG   184.0 1996-01-19   \n",
       "17708    Marial Shayok           Marial Shayok        G   196.0 1995-07-26   \n",
       "21889    Marial Shayok           Marial Shayok        G   196.0 1995-07-26   \n",
       "1940    Marques Bolden  Marques Terrell Bolden        C   245.0 1998-04-17   \n",
       "21893   Marques Bolden  Marques Terrell Bolden        C   245.0 1998-04-17   \n",
       "18199    Michael Smith      Michael John Smith        F   225.0 1965-05-19   \n",
       "18202    Michael Smith      Michael John Smith        F   230.0 1972-03-28   \n",
       "9131    William Howard          William Howard        F   205.0 1993-10-25   \n",
       "21891   William Howard          William Howard        F   205.0 1993-10-25   \n",
       "\n",
       "                            birth_place  retired     teams  \\\n",
       "21713                    Trotwood, Ohio     True  [10, 17]   \n",
       "21715  Washington, District of Columbia     True        []   \n",
       "16796                   Dixon, Illinois    False      [21]   \n",
       "21888                   Dixon, Illinois    False   [7, 21]   \n",
       "12516                Memphis, Tennessee    False       [3]   \n",
       "21890                Memphis, Tennessee    False       [3]   \n",
       "17708                    Ottawa, Canada    False      [23]   \n",
       "21889                    Ottawa, Canada    False      [29]   \n",
       "1940                      Dallas, Texas    False       [6]   \n",
       "21893                     Dallas, Texas    False       [6]   \n",
       "18199               Rochester, New York     True   [2, 13]   \n",
       "18202  Washington, District of Columbia     True  [26, 30]   \n",
       "9131                 Montbrison, France    False      [11]   \n",
       "21891                Montbrison, France    False  [29, 11]   \n",
       "\n",
       "                                                    text  player_id  ...  \\\n",
       "21713  Chris Wright (born September 30, 1988) is an A...       4740  ...   \n",
       "21715  Chris Wright (born November 4, 1989) is an Ame...       4741  ...   \n",
       "16796  Isaiah Roby (born February 3, 1998) is an Amer...       3643  ...   \n",
       "21888  Isaiah Roby (born February 3, 1998) is an Amer...       4811  ...   \n",
       "12516  Jeremiah Martin (born June 19, 1996) is an Ame...       2702  ...   \n",
       "21890  Jeremiah Martin (born June 19, 1996) is an Ame...       4817  ...   \n",
       "17708  Marial Makur Shayok (born July 26, 1995) is a ...       3851  ...   \n",
       "21889  Marial Makur Shayok (born July 26, 1995) is a ...       4814  ...   \n",
       "1940   Marques Terrell Bolden (born April 17, 1998) i...        387  ...   \n",
       "21893  Marques Terrell Bolden (born April 17, 1998) i...       4820  ...   \n",
       "18199  Michael John Smith (born May 19, 1965) is a re...       3973  ...   \n",
       "18202  Michael John Smith (born March 28, 1972) is an...       3974  ...   \n",
       "9131   William Howard (born October 25, 1993) is a Fr...       1951  ...   \n",
       "21891  William Howard (born October 25, 1993) is a Fr...       4818  ...   \n",
       "\n",
       "        drb   trb  ast   stl  blk  tov    pf   pts              team_name  \\\n",
       "21713   2.9   5.7  1.4   2.0  1.4  1.4   4.9  13.7                Retired   \n",
       "21715   0.0   0.0  0.0   0.0  0.0  9.0   0.0  18.0                Retired   \n",
       "16796   0.0   0.0  0.0   0.0  0.0  0.0   0.0   0.0  Oklahoma City Thunder   \n",
       "21888   0.0   0.0  0.0   0.0  0.0  0.0   0.0   0.0  Oklahoma City Thunder   \n",
       "12516   3.3   3.3  3.3   3.3  0.0  0.0   0.0   6.5          Brooklyn Nets   \n",
       "21890   3.3   3.3  3.3   3.3  0.0  0.0   0.0   6.5          Brooklyn Nets   \n",
       "17708  10.8  10.8  3.6   0.0  0.0  3.6   0.0  10.8     Philadelphia 76ers   \n",
       "21889  10.8  10.8  3.6   0.0  0.0  3.6   0.0  10.8              Utah Jazz   \n",
       "1940   24.0  24.0  0.0  12.0  0.0  0.0  12.0   0.0    Cleveland Cavaliers   \n",
       "21893  24.0  24.0  0.0  12.0  0.0  0.0  12.0   0.0    Cleveland Cavaliers   \n",
       "18199   3.2   5.2  4.0   0.6  0.2  3.4   2.5  20.2                Retired   \n",
       "18202   6.4  10.1  2.9   1.2  1.2  1.9   4.3   9.3                Retired   \n",
       "9131    5.5   5.5  2.8   0.0  0.0  2.8   2.8   0.0        Houston Rockets   \n",
       "21891   5.5   5.5  2.8   0.0  0.0  2.8   2.8   0.0        Houston Rockets   \n",
       "\n",
       "      height_inches  \n",
       "21713            80  \n",
       "21715            73  \n",
       "16796            80  \n",
       "21888            80  \n",
       "12516            75  \n",
       "21890            75  \n",
       "17708            77  \n",
       "21889            77  \n",
       "1940             83  \n",
       "21893            83  \n",
       "18199            82  \n",
       "18202            80  \n",
       "9131             80  \n",
       "21891            80  \n",
       "\n",
       "[14 rows x 37 columns]"
      ]
     },
     "metadata": {},
     "output_type": "display_data"
    }
   ],
   "source": [
    "df_merged.loc[\n",
    "    (df_merged[\"full_name\"] == \"Walter Jones\") & (df_merged[\"position\"] == \"G-F\"),\n",
    "    \"full_name\",\n",
    "] = \"Larry Jones\"\n",
    "df_players_with_two_ids = get_players_with_two_ids()\n",
    "df_players_with_two_ids"
   ]
  },
  {
   "cell_type": "markdown",
   "metadata": {},
   "source": [
    "Decide for each player individually how to merge the two player instances:\n",
    "\n",
    "- Ignore Chris Wrights and Micheal John Smith as they are obviously different persons\n",
    "\n",
    "- Isaiah Roby: Drop the first entry as it's containing less info (teams)\n",
    "\n",
    "- Jeremiah Martin: According to his wikipedia he played as PG in 2019-20. The position of the first entry will be changed and the second entry (has the wrong birth date), will be dropped.\n",
    "\n",
    "- Marial Shayhok: According to the [NBA-Website](https://www.nba.com/stats/player/1629621/career) he only played for Philadelphia that season, so that row stays\n",
    "\n",
    "- Marques Terrell Bolden: Same info in both rows. First one stays\n",
    "\n",
    "- William Howard: Drop the first entry as it's containing less info (teams)\n"
   ]
  },
  {
   "cell_type": "code",
   "execution_count": null,
   "metadata": {},
   "outputs": [
    {
     "data": {
      "text/html": [
       "<div>\n",
       "<style scoped>\n",
       "    .dataframe tbody tr th:only-of-type {\n",
       "        vertical-align: middle;\n",
       "    }\n",
       "\n",
       "    .dataframe tbody tr th {\n",
       "        vertical-align: top;\n",
       "    }\n",
       "\n",
       "    .dataframe thead th {\n",
       "        text-align: right;\n",
       "    }\n",
       "</style>\n",
       "<table border=\"1\" class=\"dataframe\">\n",
       "  <thead>\n",
       "    <tr style=\"text-align: right;\">\n",
       "      <th></th>\n",
       "      <th>name</th>\n",
       "      <th>full_name</th>\n",
       "      <th>position</th>\n",
       "      <th>weight</th>\n",
       "      <th>birth_date</th>\n",
       "      <th>birth_place</th>\n",
       "      <th>retired</th>\n",
       "      <th>teams</th>\n",
       "      <th>text</th>\n",
       "      <th>player_id</th>\n",
       "      <th>...</th>\n",
       "      <th>drb</th>\n",
       "      <th>trb</th>\n",
       "      <th>ast</th>\n",
       "      <th>stl</th>\n",
       "      <th>blk</th>\n",
       "      <th>tov</th>\n",
       "      <th>pf</th>\n",
       "      <th>pts</th>\n",
       "      <th>team_name</th>\n",
       "      <th>height_inches</th>\n",
       "    </tr>\n",
       "  </thead>\n",
       "  <tbody>\n",
       "    <tr>\n",
       "      <th>21713</th>\n",
       "      <td>Chris Wright</td>\n",
       "      <td>Chris Wright</td>\n",
       "      <td>F</td>\n",
       "      <td>226.0</td>\n",
       "      <td>1988-09-30</td>\n",
       "      <td>Trotwood, Ohio</td>\n",
       "      <td>True</td>\n",
       "      <td>[10, 17]</td>\n",
       "      <td>Chris Wright (born September 30, 1988) is an A...</td>\n",
       "      <td>4740</td>\n",
       "      <td>...</td>\n",
       "      <td>2.9</td>\n",
       "      <td>5.7</td>\n",
       "      <td>1.4</td>\n",
       "      <td>2.0</td>\n",
       "      <td>1.4</td>\n",
       "      <td>1.4</td>\n",
       "      <td>4.9</td>\n",
       "      <td>13.7</td>\n",
       "      <td>Retired</td>\n",
       "      <td>80</td>\n",
       "    </tr>\n",
       "    <tr>\n",
       "      <th>21715</th>\n",
       "      <td>Chris Wright</td>\n",
       "      <td>Chris Wright</td>\n",
       "      <td>G</td>\n",
       "      <td>210.0</td>\n",
       "      <td>1989-11-04</td>\n",
       "      <td>Washington, District of Columbia</td>\n",
       "      <td>True</td>\n",
       "      <td>[]</td>\n",
       "      <td>Chris Wright (born November 4, 1989) is an Ame...</td>\n",
       "      <td>4741</td>\n",
       "      <td>...</td>\n",
       "      <td>0.0</td>\n",
       "      <td>0.0</td>\n",
       "      <td>0.0</td>\n",
       "      <td>0.0</td>\n",
       "      <td>0.0</td>\n",
       "      <td>9.0</td>\n",
       "      <td>0.0</td>\n",
       "      <td>18.0</td>\n",
       "      <td>Retired</td>\n",
       "      <td>73</td>\n",
       "    </tr>\n",
       "    <tr>\n",
       "      <th>18199</th>\n",
       "      <td>Michael Smith</td>\n",
       "      <td>Michael John Smith</td>\n",
       "      <td>F</td>\n",
       "      <td>225.0</td>\n",
       "      <td>1965-05-19</td>\n",
       "      <td>Rochester, New York</td>\n",
       "      <td>True</td>\n",
       "      <td>[2, 13]</td>\n",
       "      <td>Michael John Smith (born May 19, 1965) is a re...</td>\n",
       "      <td>3973</td>\n",
       "      <td>...</td>\n",
       "      <td>3.2</td>\n",
       "      <td>5.2</td>\n",
       "      <td>4.0</td>\n",
       "      <td>0.6</td>\n",
       "      <td>0.2</td>\n",
       "      <td>3.4</td>\n",
       "      <td>2.5</td>\n",
       "      <td>20.2</td>\n",
       "      <td>Retired</td>\n",
       "      <td>82</td>\n",
       "    </tr>\n",
       "    <tr>\n",
       "      <th>18202</th>\n",
       "      <td>Michael Smith</td>\n",
       "      <td>Michael John Smith</td>\n",
       "      <td>F</td>\n",
       "      <td>230.0</td>\n",
       "      <td>1972-03-28</td>\n",
       "      <td>Washington, District of Columbia</td>\n",
       "      <td>True</td>\n",
       "      <td>[26, 30]</td>\n",
       "      <td>Michael John Smith (born March 28, 1972) is an...</td>\n",
       "      <td>3974</td>\n",
       "      <td>...</td>\n",
       "      <td>6.4</td>\n",
       "      <td>10.1</td>\n",
       "      <td>2.9</td>\n",
       "      <td>1.2</td>\n",
       "      <td>1.2</td>\n",
       "      <td>1.9</td>\n",
       "      <td>4.3</td>\n",
       "      <td>9.3</td>\n",
       "      <td>Retired</td>\n",
       "      <td>80</td>\n",
       "    </tr>\n",
       "  </tbody>\n",
       "</table>\n",
       "<p>4 rows × 37 columns</p>\n",
       "</div>"
      ],
      "text/plain": [
       "                name           full_name position  weight birth_date  \\\n",
       "21713   Chris Wright        Chris Wright        F   226.0 1988-09-30   \n",
       "21715   Chris Wright        Chris Wright        G   210.0 1989-11-04   \n",
       "18199  Michael Smith  Michael John Smith        F   225.0 1965-05-19   \n",
       "18202  Michael Smith  Michael John Smith        F   230.0 1972-03-28   \n",
       "\n",
       "                            birth_place  retired     teams  \\\n",
       "21713                    Trotwood, Ohio     True  [10, 17]   \n",
       "21715  Washington, District of Columbia     True        []   \n",
       "18199               Rochester, New York     True   [2, 13]   \n",
       "18202  Washington, District of Columbia     True  [26, 30]   \n",
       "\n",
       "                                                    text  player_id  ...  drb  \\\n",
       "21713  Chris Wright (born September 30, 1988) is an A...       4740  ...  2.9   \n",
       "21715  Chris Wright (born November 4, 1989) is an Ame...       4741  ...  0.0   \n",
       "18199  Michael John Smith (born May 19, 1965) is a re...       3973  ...  3.2   \n",
       "18202  Michael John Smith (born March 28, 1972) is an...       3974  ...  6.4   \n",
       "\n",
       "        trb  ast  stl  blk  tov   pf   pts team_name height_inches  \n",
       "21713   5.7  1.4  2.0  1.4  1.4  4.9  13.7   Retired            80  \n",
       "21715   0.0  0.0  0.0  0.0  9.0  0.0  18.0   Retired            73  \n",
       "18199   5.2  4.0  0.6  0.2  3.4  2.5  20.2   Retired            82  \n",
       "18202  10.1  2.9  1.2  1.2  1.9  4.3   9.3   Retired            80  \n",
       "\n",
       "[4 rows x 37 columns]"
      ]
     },
     "metadata": {},
     "output_type": "display_data"
    }
   ],
   "source": [
    "df_merged = df_merged.loc[~(df_merged[\"player_id\"] == 3643)]\n",
    "df_merged = df_merged.loc[~(df_merged[\"player_id\"] == 4817)]\n",
    "df_merged.loc[df_merged[\"player_id\"] == 2702, \"position\"] = \"PG\"\n",
    "df_merged = df_merged.loc[~(df_merged[\"player_id\"] == 3851)]\n",
    "df_merged = df_merged.loc[~(df_merged[\"player_id\"] == 4820)]\n",
    "df_merged = df_merged.loc[~(df_merged[\"player_id\"] == 1951)]\n",
    "\n",
    "\n",
    "get_players_with_two_ids()"
   ]
  },
  {
   "cell_type": "markdown",
   "metadata": {},
   "source": [
    "Select the most important scoring stats for all players. Calculate the mean scoring stats over their whole career. This is done to only have a small subset of the stats, which can be easily compared even with low basketball knowledge"
   ]
  },
  {
   "cell_type": "code",
   "execution_count": null,
   "metadata": {},
   "outputs": [],
   "source": [
    "scoring_agg = {\n",
    "    \"name\": [\"min\"],\n",
    "    \"team_name\": [\"min\"],\n",
    "    \"fg3\": [lambda x: np.mean(x) * 3],  # convert this stats to points scale\n",
    "    \"fg2\": [lambda x: np.mean(x) * 2],  # convert this stats to points scale\n",
    "    \"ft\": [\"mean\"],  # stat is already in the points scale\n",
    "    \"pts\": [\"mean\"],  # stat is already in the points scale\n",
    "}\n",
    "\n",
    "df_player_scoring_stats = (\n",
    "    df_merged.groupby([\"player_id\"]).agg(scoring_agg).reset_index(drop=True)\n",
    ")\n",
    "df_player_scoring_stats.columns = df_player_scoring_stats.columns.get_level_values(0)\n",
    "\n",
    "columns_with_numbers = df_player_scoring_stats.columns[2:]"
   ]
  },
  {
   "cell_type": "markdown",
   "metadata": {},
   "source": [
    "- Choose the top 5 all-time leading scorers based on data from: https://www.nba.com/stats/alltime-leaders. This selection aids in addressing the ongoing debate surrounding the GOAT (Greatest of All Time) in basketball. Additionally, a smaller number of players results in a less cluttered plot.\n",
    "- Calculate the averages for the entire data set to determine the average performance of players in NBA history and provide a basis for comparing the top 5 to an average player."
   ]
  },
  {
   "cell_type": "code",
   "execution_count": null,
   "metadata": {},
   "outputs": [],
   "source": [
    "top_scorers = [\n",
    "    \"LeBron James\",\n",
    "    \"Kareem Abdul-Jabbar\",\n",
    "    \"Karl Malone\",\n",
    "    \"Kobe Bryant\",\n",
    "    \"Michael Jordan\",\n",
    "]\n",
    "\n",
    "df_to_plot_pcp = df_player_scoring_stats[\n",
    "    df_player_scoring_stats[\"name\"].isin(top_scorers)\n",
    "].sort_values(\"pts\")\n",
    "\n",
    "\n",
    "mean_per_column = df_player_scoring_stats[columns_with_numbers].mean()\n",
    "mean_df = pd.DataFrame([mean_per_column.values], columns=mean_per_column.index)\n",
    "mean_df[\"name\"] = \"Player Average\""
   ]
  },
  {
   "cell_type": "markdown",
   "metadata": {},
   "source": [
    "### Group by team name (team id)"
   ]
  },
  {
   "cell_type": "markdown",
   "metadata": {},
   "source": [
    "Create a grouped DataFrame by team and season. Calculate the average points per 36 mins"
   ]
  },
  {
   "cell_type": "code",
   "execution_count": null,
   "metadata": {},
   "outputs": [],
   "source": [
    "teams_agg = {\n",
    "    \"pts\": [\"mean\"],\n",
    "}\n",
    "\n",
    "df_teams = df_merged.groupby([\"team_name\", \"season\"]).agg(teams_agg).reset_index()\n",
    "df_teams.columns = df_teams.columns.get_level_values(0)"
   ]
  },
  {
   "cell_type": "markdown",
   "metadata": {},
   "source": [
    "Select only the latest season. This is necessary for linking a player's performance with their team's performance, which is feasible only for the most recent season. Typically, the current team corresponds to the team the player played for in the last season. However, there are occasional instances of players switching teams mid-season, which will be tolerated and not addressed further for the purpose of this exercise.\n",
    "\n",
    "Additionally, exclude entries labeled as \"Retired\" or \"No Information.\""
   ]
  },
  {
   "cell_type": "code",
   "execution_count": null,
   "metadata": {},
   "outputs": [],
   "source": [
    "df_teams = (\n",
    "    df_teams[df_teams[\"season\"] == \"2019-20\"]\n",
    "    .drop(columns=\"season\")\n",
    "    .reset_index(drop=True)\n",
    ")\n",
    "\n",
    "list_to_drop = [\"Retired\", \"No Information\"]\n",
    "df_teams = df_teams[~df_teams[\"team_name\"].isin(list_to_drop)]"
   ]
  },
  {
   "cell_type": "markdown",
   "metadata": {},
   "source": [
    "### Plot graph based on player id"
   ]
  },
  {
   "cell_type": "markdown",
   "metadata": {},
   "source": [
    "Create a parallel coordinates plot to illustrate the scoring performance across various statistics for the top 5 scorers of all time. This is done via pandas plotting which builds on top of matplotlib. Therefore all matplotlib functioncs can be used to manipulate the plot"
   ]
  },
  {
   "cell_type": "code",
   "execution_count": null,
   "metadata": {},
   "outputs": [
    {
     "data": {
      "image/png": "[encoded data removed]",
      "text/plain": [
       "<Figure size 640x480 with 1 Axes>"
      ]
     },
     "metadata": {},
     "output_type": "display_data"
    }
   ],
   "source": [
    "df_to_plot_pcp = df_player_scoring_stats[\n",
    "    df_player_scoring_stats[\"name\"].isin(top_scorers)\n",
    "]\n",
    "\n",
    "df_to_plot_pcp = df_to_plot_pcp.sort_values(\"pts\", ascending=False)\n",
    "df_to_plot_pcp = df_to_plot_pcp.drop(columns=\"team_name\")\n",
    "ax = pd.plotting.parallel_coordinates(df_to_plot_pcp, \"name\", colormap=\"rainbow\")\n",
    "pd.plotting.parallel_coordinates(mean_df, \"name\", color=\"gray\", linestyle=\"--\")\n",
    "\n",
    "ax.grid(axis=\"y\", color=\"lightgray\")\n",
    "\n",
    "ax.set_xticklabels(\n",
    "    [\"Three-Pointers\", \"Two-Pointers\", \"Free Throws\", \"Total Points Scored\"]\n",
    ")\n",
    "\n",
    "formatter = plt.FuncFormatter(\n",
    "    lambda x, _: f\"{int(x)} pts\"\n",
    ")  # Formatter to add \"pts\" to y tick labels\n",
    "ax.yaxis.set_major_formatter(formatter)\n",
    "\n",
    "ax.set_ylim(bottom=0.01)  # 0 Pts will not be plotted.\n",
    "ax.legend(bbox_to_anchor=(1, 1))\n",
    "ax.set_ylabel(\"Mean points per 36 min\")\n",
    "ax.set_title(\"Average points scored per 36 min by the top 5 all-time scorers\")\n",
    "plt.show()"
   ]
  },
  {
   "cell_type": "markdown",
   "metadata": {},
   "source": [
    "Description of the plot:\n",
    "- The plot illustrates the top 5 all-time scorers in the NBA, detailing their average points per 36 minutes across different scoring methods. Additionally, it includes the average performance of NBA players for comparison.\n",
    "\n",
    "- Across the board, the bulk of points for these top players comes from Two-Pointers, followed by Free Throws, and then Three-Pointers, indicating a consistent trend among them.\n",
    "\n",
    "- The graph illustrates the points scored per 36 minutes and the breakdown of scoring methods for the top 5 all-time scorers, averaged across each player's entire career.\n",
    "\n",
    "- Michael Jordan appears to be the greatest scorer per 36 minutes of all time. However, he is only an average three-point shooter, excelling instead at two-pointers and free throws.\n",
    "\n",
    "- Kareem Abdul-Jabbar and Karl Malone are both terrible three-point shooters, falling well below average. \n",
    "\n",
    "- Kareem Abdul-Jabbar's real strength seems to be two-pointers, where he is very close to Michael Jordan.\n",
    "\n",
    "- LeBron James seems like a great all-rounder. His three-pointers are the best among the top 5, and in no category is he the worst player. \n",
    "\n",
    "- Kobe Bryant is also a great three-point shooter, but compared to the others, his weakness lies in two-pointers.\n"
   ]
  },
  {
   "cell_type": "markdown",
   "metadata": {},
   "source": [
    "### Plot graph based on team name (team_id)"
   ]
  },
  {
   "cell_type": "code",
   "execution_count": null,
   "metadata": {},
   "outputs": [
    {
     "data": {
      "text/html": [
       "    <style>\n",
       "        .bk-notebook-logo {\n",
       "            display: block;\n",
       "            width: 20px;\n",
       "            height: 20px;\n",
       "            background-image: url(data:image/png;base64,iVBORw0KGgoAAAANSUhEUgAAABQAAAAUCAYAAACNiR0NAAAABHNCSVQICAgIfAhkiAAAAAlwSFlzAAALEgAACxIB0t1+/AAAABx0RVh0U29mdHdhcmUAQWRvYmUgRmlyZXdvcmtzIENTNui8sowAAAOkSURBVDiNjZRtaJVlGMd/1/08zzln5zjP1LWcU9N0NkN8m2CYjpgQYQXqSs0I84OLIC0hkEKoPtiH3gmKoiJDU7QpLgoLjLIQCpEsNJ1vqUOdO7ppbuec5+V+rj4ctwzd8IIbbi6u+8f1539dt3A78eXC7QizUF7gyV1fD1Yqg4JWz84yffhm0qkFqBogB9rM8tZdtwVsPUhWhGcFJngGeWrPzHm5oaMmkfEg1usvLFyc8jLRqDOMru7AyC8saQr7GG7f5fvDeH7Ej8CM66nIF+8yngt6HWaKh7k49Soy9nXurCi1o3qUbS3zWfrYeQDTB/Qj6kX6Ybhw4B+bOYoLKCC9H3Nu/leUTZ1JdRWkkn2ldcCamzrcf47KKXdAJllSlxAOkRgyHsGC/zRday5Qld9DyoM4/q/rUoy/CXh3jzOu3bHUVZeU+DEn8FInkPBFlu3+nW3Nw0mk6vCDiWg8CeJaxEwuHS3+z5RgY+YBR6V1Z1nxSOfoaPa4LASWxxdNp+VWTk7+4vzaou8v8PN+xo+KY2xsw6une2frhw05CTYOmQvsEhjhWjn0bmXPjpE1+kplmmkP3suftwTubK9Vq22qKmrBhpY4jvd5afdRA3wGjFAgcnTK2s4hY0/GPNIb0nErGMCRxWOOX64Z8RAC4oCXdklmEvcL8o0BfkNK4lUg9HTl+oPlQxdNo3Mg4Nv175e/1LDGzZen30MEjRUtmXSfiTVu1kK8W4txyV6BMKlbgk3lMwYCiusNy9fVfvvwMxv8Ynl6vxoByANLTWplvuj/nF9m2+PDtt1eiHPBr1oIfhCChQMBw6Aw0UulqTKZdfVvfG7VcfIqLG9bcldL/+pdWTLxLUy8Qq38heUIjh4XlzZxzQm19lLFlr8vdQ97rjZVOLf8nclzckbcD4wxXMidpX30sFd37Fv/GtwwhzhxGVAprjbg0gCAEeIgwCZyTV2Z1REEW8O4py0wsjeloKoMr6iCY6dP92H6Vw/oTyICIthibxjm/DfN9lVz8IqtqKYLUXfoKVMVQVVJOElGjrnnUt9T9wbgp8AyYKaGlqingHZU/uG2NTZSVqwHQTWkx9hxjkpWDaCg6Ckj5qebgBVbT3V3NNXMSiWSDdGV3hrtzla7J+duwPOToIg42ChPQOQjspnSlp1V+Gjdged7+8UN5CRAV7a5EdFNwCjEaBR27b3W890TE7g24NAP/mMDXRWrGoFPQI9ls/MWO2dWFAar/xcOIImbbpA3zgAAAABJRU5ErkJggg==);\n",
       "        }\n",
       "    </style>\n",
       "    <div>\n",
       "        <a href=\"https://bokeh.org\" target=\"_blank\" class=\"bk-notebook-logo\"></a>\n",
       "        <span id=\"ccb40f80-eeb4-4056-8717-603d32a4a196\">Loading BokehJS ...</span>\n",
       "    </div>\n"
      ]
     },
     "metadata": {},
     "output_type": "display_data"
    },
    {
     "data": {
      "application/javascript": "'use strict';\n(function(root) {\n  function now() {\n    return new Date();\n  }\n\n  const force = true;\n\n  if (typeof root._bokeh_onload_callbacks === \"undefined\" || force === true) {\n    root._bokeh_onload_callbacks = [];\n    root._bokeh_is_loading = undefined;\n  }\n\nconst JS_MIME_TYPE = 'application/javascript';\n  const HTML_MIME_TYPE = 'text/html';\n  const EXEC_MIME_TYPE = 'application/vnd.bokehjs_exec.v0+json';\n  const CLASS_NAME = 'output_bokeh rendered_html';\n\n  /**\n   * Render data to the DOM node\n   */\n  function render(props, node) {\n    const script = document.createElement(\"script\");\n    node.appendChild(script);\n  }\n\n  /**\n   * Handle when an output is cleared or removed\n   */\n  function handleClearOutput(event, handle) {\n    function drop(id) {\n      const view = Bokeh.index.get_by_id(id)\n      if (view != null) {\n        view.model.document.clear()\n        Bokeh.index.delete(view)\n      }\n    }\n\n    const cell = handle.cell;\n\n    const id = cell.output_area._bokeh_element_id;\n    const server_id = cell.output_area._bokeh_server_id;\n\n    // Clean up Bokeh references\n    if (id != null) {\n      drop(id)\n    }\n\n    if (server_id !== undefined) {\n      // Clean up Bokeh references\n      const cmd_clean = \"from bokeh.io.state import curstate; print(curstate().uuid_to_server['\" + server_id + \"'].get_sessions()[0].document.roots[0]._id)\";\n      cell.notebook.kernel.execute(cmd_clean, {\n        iopub: {\n          output: function(msg) {\n            const id = msg.content.text.trim()\n            drop(id)\n          }\n        }\n      });\n      // Destroy server and session\n      const cmd_destroy = \"import bokeh.io.notebook as ion; ion.destroy_server('\" + server_id + \"')\";\n      cell.notebook.kernel.execute(cmd_destroy);\n    }\n  }\n\n  /**\n   * Handle when a new output is added\n   */\n  function handleAddOutput(event, handle) {\n    const output_area = handle.output_area;\n    const output = handle.output;\n\n    // limit handleAddOutput to display_data with EXEC_MIME_TYPE content only\n    if ((output.output_type != \"display_data\") || (!Object.prototype.hasOwnProperty.call(output.data, EXEC_MIME_TYPE))) {\n      return\n    }\n\n    const toinsert = output_area.element.find(\".\" + CLASS_NAME.split(' ')[0]);\n\n    if (output.metadata[EXEC_MIME_TYPE][\"id\"] !== undefined) {\n      toinsert[toinsert.length - 1].firstChild.textContent = output.data[JS_MIME_TYPE];\n      // store reference to embed id on output_area\n      output_area._bokeh_element_id = output.metadata[EXEC_MIME_TYPE][\"id\"];\n    }\n    if (output.metadata[EXEC_MIME_TYPE][\"server_id\"] !== undefined) {\n      const bk_div = document.createElement(\"div\");\n      bk_div.innerHTML = output.data[HTML_MIME_TYPE];\n      const script_attrs = bk_div.children[0].attributes;\n      for (let i = 0; i < script_attrs.length; i++) {\n        toinsert[toinsert.length - 1].firstChild.setAttribute(script_attrs[i].name, script_attrs[i].value);\n        toinsert[toinsert.length - 1].firstChild.textContent = bk_div.children[0].textContent\n      }\n      // store reference to server id on output_area\n      output_area._bokeh_server_id = output.metadata[EXEC_MIME_TYPE][\"server_id\"];\n    }\n  }\n\n  function register_renderer(events, OutputArea) {\n\n    function append_mime(data, metadata, element) {\n      // create a DOM node to render to\n      const toinsert = this.create_output_subarea(\n        metadata,\n        CLASS_NAME,\n        EXEC_MIME_TYPE\n      );\n      this.keyboard_manager.register_events(toinsert);\n      // Render to node\n      const props = {data: data, metadata: metadata[EXEC_MIME_TYPE]};\n      render(props, toinsert[toinsert.length - 1]);\n      element.append(toinsert);\n      return toinsert\n    }\n\n    /* Handle when an output is cleared or removed */\n    events.on('clear_output.CodeCell', handleClearOutput);\n    events.on('delete.Cell', handleClearOutput);\n\n    /* Handle when a new output is added */\n    events.on('output_added.OutputArea', handleAddOutput);\n\n    /**\n     * Register the mime type and append_mime function with output_area\n     */\n    OutputArea.prototype.register_mime_type(EXEC_MIME_TYPE, append_mime, {\n      /* Is output safe? */\n      safe: true,\n      /* Index of renderer in `output_area.display_order` */\n      index: 0\n    });\n  }\n\n  // register the mime type if in Jupyter Notebook environment and previously unregistered\n  if (root.Jupyter !== undefined) {\n    const events = require('base/js/events');\n    const OutputArea = require('notebook/js/outputarea').OutputArea;\n\n    if (OutputArea.prototype.mime_types().indexOf(EXEC_MIME_TYPE) == -1) {\n      register_renderer(events, OutputArea);\n    }\n  }\n  if (typeof (root._bokeh_timeout) === \"undefined\" || force === true) {\n    root._bokeh_timeout = Date.now() + 5000;\n    root._bokeh_failed_load = false;\n  }\n\n  const NB_LOAD_WARNING = {'data': {'text/html':\n     \"<div style='background-color: #fdd'>\\n\"+\n     \"<p>\\n\"+\n     \"BokehJS does not appear to have successfully loaded. If loading BokehJS from CDN, this \\n\"+\n     \"may be due to a slow or bad network connection. Possible fixes:\\n\"+\n     \"</p>\\n\"+\n     \"<ul>\\n\"+\n     \"<li>re-rerun `output_notebook()` to attempt to load from CDN again, or</li>\\n\"+\n     \"<li>use INLINE resources instead, as so:</li>\\n\"+\n     \"</ul>\\n\"+\n     \"<code>\\n\"+\n     \"from bokeh.resources import INLINE\\n\"+\n     \"output_notebook(resources=INLINE)\\n\"+\n     \"</code>\\n\"+\n     \"</div>\"}};\n\n  function display_loaded(error = null) {\n    const el = document.getElementById(\"ccb40f80-eeb4-4056-8717-603d32a4a196\");\n    if (el != null) {\n      const html = (() => {\n        if (typeof root.Bokeh === \"undefined\") {\n          if (error == null) {\n            return \"BokehJS is loading ...\";\n          } else {\n            return \"BokehJS failed to load.\";\n          }\n        } else {\n          const prefix = `BokehJS ${root.Bokeh.version}`;\n          if (error == null) {\n            return `${prefix} successfully loaded.`;\n          } else {\n            return `${prefix} <b>encountered errors</b> while loading and may not function as expected.`;\n          }\n        }\n      })();\n      el.innerHTML = html;\n\n      if (error != null) {\n        const wrapper = document.createElement(\"div\");\n        wrapper.style.overflow = \"auto\";\n        wrapper.style.height = \"5em\";\n        wrapper.style.resize = \"vertical\";\n        const content = document.createElement(\"div\");\n        content.style.fontFamily = \"monospace\";\n        content.style.whiteSpace = \"pre-wrap\";\n        content.style.backgroundColor = \"rgb(255, 221, 221)\";\n        content.textContent = error.stack ?? error.toString();\n        wrapper.append(content);\n        el.append(wrapper);\n      }\n    } else if (Date.now() < root._bokeh_timeout) {\n      setTimeout(() => display_loaded(error), 100);\n    }\n  }\n\n  function run_callbacks() {\n    try {\n      root._bokeh_onload_callbacks.forEach(function(callback) {\n        if (callback != null)\n          callback();\n      });\n    } finally {\n      delete root._bokeh_onload_callbacks\n    }\n    console.debug(\"Bokeh: all callbacks have finished\");\n  }\n\n  function load_libs(css_urls, js_urls, callback) {\n    if (css_urls == null) css_urls = [];\n    if (js_urls == null) js_urls = [];\n\n    root._bokeh_onload_callbacks.push(callback);\n    if (root._bokeh_is_loading > 0) {\n      console.debug(\"Bokeh: BokehJS is being loaded, scheduling callback at\", now());\n      return null;\n    }\n    if (js_urls == null || js_urls.length === 0) {\n      run_callbacks();\n      return null;\n    }\n    console.debug(\"Bokeh: BokehJS not loaded, scheduling load and callback at\", now());\n    root._bokeh_is_loading = css_urls.length + js_urls.length;\n\n    function on_load() {\n      root._bokeh_is_loading--;\n      if (root._bokeh_is_loading === 0) {\n        console.debug(\"Bokeh: all BokehJS libraries/stylesheets loaded\");\n        run_callbacks()\n      }\n    }\n\n    function on_error(url) {\n      console.error(\"failed to load \" + url);\n    }\n\n    for (let i = 0; i < css_urls.length; i++) {\n      const url = css_urls[i];\n      const element = document.createElement(\"link\");\n      element.onload = on_load;\n      element.onerror = on_error.bind(null, url);\n      element.rel = \"stylesheet\";\n      element.type = \"text/css\";\n      element.href = url;\n      console.debug(\"Bokeh: injecting link tag for BokehJS stylesheet: \", url);\n      document.body.appendChild(element);\n    }\n\n    for (let i = 0; i < js_urls.length; i++) {\n      const url = js_urls[i];\n      const element = document.createElement('script');\n      element.onload = on_load;\n      element.onerror = on_error.bind(null, url);\n      element.async = false;\n      element.src = url;\n      console.debug(\"Bokeh: injecting script tag for BokehJS library: \", url);\n      document.head.appendChild(element);\n    }\n  };\n\n  function inject_raw_css(css) {\n    const element = document.createElement(\"style\");\n    element.appendChild(document.createTextNode(css));\n    document.body.appendChild(element);\n  }\n\n  const js_urls = [\"https://cdn.bokeh.org/bokeh/release/bokeh-3.4.0.min.js\", \"https://cdn.bokeh.org/bokeh/release/bokeh-gl-3.4.0.min.js\", \"https://cdn.bokeh.org/bokeh/release/bokeh-widgets-3.4.0.min.js\", \"https://cdn.bokeh.org/bokeh/release/bokeh-tables-3.4.0.min.js\", \"https://cdn.bokeh.org/bokeh/release/bokeh-mathjax-3.4.0.min.js\"];\n  const css_urls = [];\n\n  const inline_js = [    function(Bokeh) {\n      Bokeh.set_log_level(\"info\");\n    },\nfunction(Bokeh) {\n    }\n  ];\n\n  function run_inline_js() {\n    if (root.Bokeh !== undefined || force === true) {\n      try {\n            for (let i = 0; i < inline_js.length; i++) {\n      inline_js[i].call(root, root.Bokeh);\n    }\n\n      } catch (error) {display_loaded(error);throw error;\n      }if (force === true) {\n        display_loaded();\n      }} else if (Date.now() < root._bokeh_timeout) {\n      setTimeout(run_inline_js, 100);\n    } else if (!root._bokeh_failed_load) {\n      console.log(\"Bokeh: BokehJS failed to load within specified timeout.\");\n      root._bokeh_failed_load = true;\n    } else if (force !== true) {\n      const cell = $(document.getElementById(\"ccb40f80-eeb4-4056-8717-603d32a4a196\")).parents('.cell').data().cell;\n      cell.output_area.append_execute_result(NB_LOAD_WARNING)\n    }\n  }\n\n  if (root._bokeh_is_loading === 0) {\n    console.debug(\"Bokeh: BokehJS loaded, going straight to plotting\");\n    run_inline_js();\n  } else {\n    load_libs(css_urls, js_urls, function() {\n      console.debug(\"Bokeh: BokehJS plotting callback run at\", now());\n      run_inline_js();\n    });\n  }\n}(window));",
      "application/vnd.bokehjs_load.v0+json": ""
     },
     "metadata": {},
     "output_type": "display_data"
    },
    {
     "data": {
      "text/html": [
       "\n",
       "  <div id=\"b9b45ef9-c319-4532-b349-476432f2bafc\" data-root-id=\"p2113\" style=\"display: contents;\"></div>\n"
      ]
     },
     "metadata": {},
     "output_type": "display_data"
    },
    {
     "data": {
      "application/javascript": "(function(root) {\n  function embed_document(root) {\n  const docs_json = {\"f03b73b8-7265-45f9-827d-43b8c1e3d36d\":{\"version\":\"3.4.0\",\"title\":\"Bokeh Application\",\"roots\":[{\"type\":\"object\",\"name\":\"Figure\",\"id\":\"p2113\",\"attributes\":{\"width\":1100,\"height\":800,\"x_range\":{\"type\":\"object\",\"name\":\"FactorRange\",\"id\":\"p2123\",\"attributes\":{\"factors\":[\"LAC\",\"CHI\",\"MIL\",\"SAC\",\"DEN\",\"NOP\",\"MEM\",\"GSW\",\"BOS\",\"DAL\",\"ATL\",\"PHX\",\"PHI\",\"WAS\",\"SAS\",\"MIN\",\"BKN\",\"DET\",\"IND\",\"MIA\",\"CLE\",\"HOU\",\"POR\",\"CHA\",\"NYK\",\"TOR\",\"LAL\",\"ORL\",\"OKC\",\"UTA\"]}},\"y_range\":{\"type\":\"object\",\"name\":\"DataRange1d\",\"id\":\"p2115\",\"attributes\":{\"start\":0}},\"x_scale\":{\"type\":\"object\",\"name\":\"CategoricalScale\",\"id\":\"p2124\"},\"y_scale\":{\"type\":\"object\",\"name\":\"LinearScale\",\"id\":\"p2125\"},\"title\":{\"type\":\"object\",\"name\":\"Title\",\"id\":\"p2116\",\"attributes\":{\"text\":\"Average Points per Player per 36 Minutes per Team in the 2019-20 NBA Season\"}},\"renderers\":[{\"type\":\"object\",\"name\":\"GlyphRenderer\",\"id\":\"p2155\",\"attributes\":{\"data_source\":{\"type\":\"object\",\"name\":\"ColumnDataSource\",\"id\":\"p2110\",\"attributes\":{\"selected\":{\"type\":\"object\",\"name\":\"Selection\",\"id\":\"p2111\",\"attributes\":{\"indices\":[],\"line_indices\":[]}},\"selection_policy\":{\"type\":\"object\",\"name\":\"UnionRenderers\",\"id\":\"p2112\"},\"data\":{\"type\":\"map\",\"entries\":[[\"index\",{\"type\":\"ndarray\",\"array\":{\"type\":\"bytes\",\"data\":\"DAAAAAQAAAAQAAAAGwAAAAcAAAASAAAADgAAAAkAAAABAAAABgAAAAAAAAAYAAAAFwAAAB8AAAAcAAAAEQAAAAIAAAAIAAAACwAAAA8AAAAFAAAACgAAABkAAAADAAAAEwAAAB0AAAANAAAAFgAAABUAAAAeAAAA\"},\"shape\":[30],\"dtype\":\"int32\",\"order\":\"little\"}],[\"team_name\",{\"type\":\"ndarray\",\"array\":[\"Los Angeles Clippers\",\"Chicago Bulls\",\"Milwaukee Bucks\",\"Sacramento Kings\",\"Denver Nuggets\",\"New Orleans Pelicans\",\"Memphis Grizzlies\",\"Golden State Warriors\",\"Boston Celtics\",\"Dallas Mavericks\",\"Atlanta Hawks\",\"Phoenix Suns\",\"Philadelphia 76ers\",\"Washington Wizards\",\"San Antonio Spurs\",\"Minnesota Timberwolves\",\"Brooklyn Nets\",\"Detroit Pistons\",\"Indiana Pacers\",\"Miami Heat\",\"Cleveland Cavaliers\",\"Houston Rockets\",\"Portland Trail Blazers\",\"Charlotte Hornets\",\"New York Knicks\",\"Toronto Raptors\",\"Los Angeles Lakers\",\"Orlando Magic\",\"Oklahoma City Thunder\",\"Utah Jazz\"],\"shape\":[30],\"dtype\":\"object\",\"order\":\"little\"}],[\"pts\",{\"type\":\"ndarray\",\"array\":[17.726666666666667,16.25294117647059,15.98125,15.90625,15.9,15.481250000000001,15.38125,15.353846153846156,15.305882352941175,15.264705882352942,15.17647058823529,14.931250000000002,14.893333333333334,14.887499999999998,14.825000000000001,14.81764705882353,14.731250000000001,14.494117647058822,14.476470588235292,14.176470588235293,14.14705882352941,14.113333333333335,14.106666666666667,14.046153846153844,13.868749999999997,13.858823529411763,13.386666666666668,12.888235294117647,12.713333333333335,12.411764705882353],\"shape\":[30],\"dtype\":\"object\",\"order\":\"little\"}],[\"color\",{\"type\":\"ndarray\",\"array\":[\"#C8102E\",\"#CE1141\",\"#00471B\",\"#5A2D81\",\"#0E2240\",\"#0C2340\",\"#5D76A9\",\"#1D428A\",\"#007A33\",\"#00538C\",\"#E03A3E\",\"#1D1160\",\"#006BB6\",\"#002B5C\",\"#C4CED4\",\"#0C2340\",\"#000000\",\"#C8102E\",\"#002D62\",\"#98002E\",\"#860038\",\"#CE1141\",\"#E03A3E\",\"#00788C\",\"#006BB6\",\"#CE1141\",\"#552583\",\"#0077C0\",\"#007AC1\",\"#002B5C\"],\"shape\":[30],\"dtype\":\"object\",\"order\":\"little\"}],[\"short_team_names\",{\"type\":\"ndarray\",\"array\":[\"LAC\",\"CHI\",\"MIL\",\"SAC\",\"DEN\",\"NOP\",\"MEM\",\"GSW\",\"BOS\",\"DAL\",\"ATL\",\"PHX\",\"PHI\",\"WAS\",\"SAS\",\"MIN\",\"BKN\",\"DET\",\"IND\",\"MIA\",\"CLE\",\"HOU\",\"POR\",\"CHA\",\"NYK\",\"TOR\",\"LAL\",\"ORL\",\"OKC\",\"UTA\"],\"shape\":[30],\"dtype\":\"object\",\"order\":\"little\"}],[\"legend\",{\"type\":\"ndarray\",\"array\":[\"LAC - Los Angeles Clippers\",\"CHI - Chicago Bulls\",\"MIL - Milwaukee Bucks\",\"SAC - Sacramento Kings\",\"DEN - Denver Nuggets\",\"NOP - New Orleans Pelicans\",\"MEM - Memphis Grizzlies\",\"GSW - Golden State Warriors\",\"BOS - Boston Celtics\",\"DAL - Dallas Mavericks\",\"ATL - Atlanta Hawks\",\"PHX - Phoenix Suns\",\"PHI - Philadelphia 76ers\",\"WAS - Washington Wizards\",\"SAS - San Antonio Spurs\",\"MIN - Minnesota Timberwolves\",\"BKN - Brooklyn Nets\",\"DET - Detroit Pistons\",\"IND - Indiana Pacers\",\"MIA - Miami Heat\",\"CLE - Cleveland Cavaliers\",\"HOU - Houston Rockets\",\"POR - Portland Trail Blazers\",\"CHA - Charlotte Hornets\",\"NYK - New York Knicks\",\"TOR - Toronto Raptors\",\"LAL - Los Angeles Lakers\",\"ORL - Orlando Magic\",\"OKC - Oklahoma City Thunder\",\"UTA - Utah Jazz\"],\"shape\":[30],\"dtype\":\"object\",\"order\":\"little\"}]]}}},\"view\":{\"type\":\"object\",\"name\":\"CDSView\",\"id\":\"p2156\",\"attributes\":{\"filter\":{\"type\":\"object\",\"name\":\"AllIndices\",\"id\":\"p2157\"}}},\"glyph\":{\"type\":\"object\",\"name\":\"VBar\",\"id\":\"p2152\",\"attributes\":{\"x\":{\"type\":\"field\",\"field\":\"short_team_names\"},\"width\":{\"type\":\"value\",\"value\":0.5},\"top\":{\"type\":\"field\",\"field\":\"pts\"},\"line_color\":{\"type\":\"field\",\"field\":\"team_name\",\"transform\":{\"type\":\"object\",\"name\":\"CategoricalColorMapper\",\"id\":\"p2147\",\"attributes\":{\"palette\":{\"type\":\"ndarray\",\"array\":[\"#C8102E\",\"#CE1141\",\"#00471B\",\"#5A2D81\",\"#0E2240\",\"#0C2340\",\"#5D76A9\",\"#1D428A\",\"#007A33\",\"#00538C\",\"#E03A3E\",\"#1D1160\",\"#006BB6\",\"#002B5C\",\"#C4CED4\",\"#0C2340\",\"#000000\",\"#C8102E\",\"#002D62\",\"#98002E\",\"#860038\",\"#CE1141\",\"#E03A3E\",\"#00788C\",\"#006BB6\",\"#CE1141\",\"#552583\",\"#0077C0\",\"#007AC1\",\"#002B5C\"],\"shape\":[30],\"dtype\":\"object\",\"order\":\"little\"},\"factors\":{\"type\":\"ndarray\",\"array\":[\"Los Angeles Clippers\",\"Chicago Bulls\",\"Milwaukee Bucks\",\"Sacramento Kings\",\"Denver Nuggets\",\"New Orleans Pelicans\",\"Memphis Grizzlies\",\"Golden State Warriors\",\"Boston Celtics\",\"Dallas Mavericks\",\"Atlanta Hawks\",\"Phoenix Suns\",\"Philadelphia 76ers\",\"Washington Wizards\",\"San Antonio Spurs\",\"Minnesota Timberwolves\",\"Brooklyn Nets\",\"Detroit Pistons\",\"Indiana Pacers\",\"Miami Heat\",\"Cleveland Cavaliers\",\"Houston Rockets\",\"Portland Trail Blazers\",\"Charlotte Hornets\",\"New York Knicks\",\"Toronto Raptors\",\"Los Angeles Lakers\",\"Orlando Magic\",\"Oklahoma City Thunder\",\"Utah Jazz\"],\"shape\":[30],\"dtype\":\"object\",\"order\":\"little\"}}}},\"fill_color\":{\"type\":\"field\",\"field\":\"team_name\",\"transform\":{\"id\":\"p2147\"}},\"hatch_color\":{\"type\":\"field\",\"field\":\"team_name\",\"transform\":{\"id\":\"p2147\"}}}},\"nonselection_glyph\":{\"type\":\"object\",\"name\":\"VBar\",\"id\":\"p2153\",\"attributes\":{\"x\":{\"type\":\"field\",\"field\":\"short_team_names\"},\"width\":{\"type\":\"value\",\"value\":0.5},\"top\":{\"type\":\"field\",\"field\":\"pts\"},\"line_color\":{\"type\":\"field\",\"field\":\"team_name\",\"transform\":{\"id\":\"p2147\"}},\"line_alpha\":{\"type\":\"value\",\"value\":0.1},\"fill_color\":{\"type\":\"field\",\"field\":\"team_name\",\"transform\":{\"id\":\"p2147\"}},\"fill_alpha\":{\"type\":\"value\",\"value\":0.1},\"hatch_color\":{\"type\":\"field\",\"field\":\"team_name\",\"transform\":{\"id\":\"p2147\"}},\"hatch_alpha\":{\"type\":\"value\",\"value\":0.1}}},\"muted_glyph\":{\"type\":\"object\",\"name\":\"VBar\",\"id\":\"p2154\",\"attributes\":{\"x\":{\"type\":\"field\",\"field\":\"short_team_names\"},\"width\":{\"type\":\"value\",\"value\":0.5},\"top\":{\"type\":\"field\",\"field\":\"pts\"},\"line_color\":{\"type\":\"field\",\"field\":\"team_name\",\"transform\":{\"id\":\"p2147\"}},\"line_alpha\":{\"type\":\"value\",\"value\":0.2},\"fill_color\":{\"type\":\"field\",\"field\":\"team_name\",\"transform\":{\"id\":\"p2147\"}},\"fill_alpha\":{\"type\":\"value\",\"value\":0.2},\"hatch_color\":{\"type\":\"field\",\"field\":\"team_name\",\"transform\":{\"id\":\"p2147\"}},\"hatch_alpha\":{\"type\":\"value\",\"value\":0.2}}}}}],\"toolbar\":{\"type\":\"object\",\"name\":\"Toolbar\",\"id\":\"p2122\",\"attributes\":{\"tools\":[{\"type\":\"object\",\"name\":\"PanTool\",\"id\":\"p2136\"},{\"type\":\"object\",\"name\":\"WheelZoomTool\",\"id\":\"p2137\",\"attributes\":{\"renderers\":\"auto\"}},{\"type\":\"object\",\"name\":\"BoxZoomTool\",\"id\":\"p2138\",\"attributes\":{\"overlay\":{\"type\":\"object\",\"name\":\"BoxAnnotation\",\"id\":\"p2139\",\"attributes\":{\"syncable\":false,\"level\":\"overlay\",\"visible\":false,\"left\":{\"type\":\"number\",\"value\":\"nan\"},\"right\":{\"type\":\"number\",\"value\":\"nan\"},\"top\":{\"type\":\"number\",\"value\":\"nan\"},\"bottom\":{\"type\":\"number\",\"value\":\"nan\"},\"left_units\":\"canvas\",\"right_units\":\"canvas\",\"top_units\":\"canvas\",\"bottom_units\":\"canvas\",\"line_color\":\"black\",\"line_alpha\":1.0,\"line_width\":2,\"line_dash\":[4,4],\"fill_color\":\"lightgrey\",\"fill_alpha\":0.5}}}},{\"type\":\"object\",\"name\":\"SaveTool\",\"id\":\"p2144\"},{\"type\":\"object\",\"name\":\"ResetTool\",\"id\":\"p2145\"},{\"type\":\"object\",\"name\":\"HelpTool\",\"id\":\"p2146\"},{\"type\":\"object\",\"name\":\"HoverTool\",\"id\":\"p2159\",\"attributes\":{\"renderers\":\"auto\",\"tooltips\":[[\"Team\",\"@team_name\"],[\"Points\",\"@pts\"]]}}]}},\"left\":[{\"type\":\"object\",\"name\":\"LinearAxis\",\"id\":\"p2131\",\"attributes\":{\"ticker\":{\"type\":\"object\",\"name\":\"BasicTicker\",\"id\":\"p2132\",\"attributes\":{\"mantissas\":[1,2,5]}},\"formatter\":{\"type\":\"object\",\"name\":\"CustomJSTickFormatter\",\"id\":\"p2160\",\"attributes\":{\"code\":\"\\n    return tick + \\\" pts\\\";\\n    \"}},\"major_label_policy\":{\"type\":\"object\",\"name\":\"AllLabels\",\"id\":\"p2134\"}}}],\"right\":[{\"type\":\"object\",\"name\":\"Legend\",\"id\":\"p2148\",\"attributes\":{\"label_text_font_size\":\"9pt\",\"glyph_height\":10,\"glyph_width\":10,\"items\":[{\"type\":\"object\",\"name\":\"LegendItem\",\"id\":\"p2158\",\"attributes\":{\"label\":{\"type\":\"field\",\"field\":\"legend\"},\"renderers\":[{\"id\":\"p2155\"}]}}]}}],\"below\":[{\"type\":\"object\",\"name\":\"CategoricalAxis\",\"id\":\"p2126\",\"attributes\":{\"ticker\":{\"type\":\"object\",\"name\":\"CategoricalTicker\",\"id\":\"p2127\"},\"formatter\":{\"type\":\"object\",\"name\":\"CategoricalTickFormatter\",\"id\":\"p2128\"},\"major_label_orientation\":120,\"major_label_policy\":{\"type\":\"object\",\"name\":\"AllLabels\",\"id\":\"p2129\"}}}],\"center\":[{\"type\":\"object\",\"name\":\"Grid\",\"id\":\"p2130\",\"attributes\":{\"axis\":{\"id\":\"p2126\"}}},{\"type\":\"object\",\"name\":\"Grid\",\"id\":\"p2135\",\"attributes\":{\"dimension\":1,\"axis\":{\"id\":\"p2131\"}}}]}}]}};\n  const render_items = [{\"docid\":\"f03b73b8-7265-45f9-827d-43b8c1e3d36d\",\"roots\":{\"p2113\":\"b9b45ef9-c319-4532-b349-476432f2bafc\"},\"root_ids\":[\"p2113\"]}];\n  void root.Bokeh.embed.embed_items_notebook(docs_json, render_items);\n  }\n  if (root.Bokeh !== undefined) {\n    embed_document(root);\n  } else {\n    let attempts = 0;\n    const timer = setInterval(function(root) {\n      if (root.Bokeh !== undefined) {\n        clearInterval(timer);\n        embed_document(root);\n      } else {\n        attempts++;\n        if (attempts > 100) {\n          clearInterval(timer);\n          console.log(\"Bokeh: ERROR: Unable to run BokehJS code because BokehJS library is missing\");\n        }\n      }\n    }, 10, root)\n  }\n})(window);",
      "application/vnd.bokehjs_exec.v0+json": ""
     },
     "metadata": {},
     "output_type": "display_data"
    }
   ],
   "source": [
    "# Dict to map the primary colors to the team names\n",
    "nba_team_primary_colors = {\n",
    "    \"Atlanta Hawks\": \"#E03A3E\",\n",
    "    \"Boston Celtics\": \"#007A33\",\n",
    "    \"Brooklyn Nets\": \"#000000\",\n",
    "    \"Charlotte Hornets\": \"#00788C\",\n",
    "    \"Chicago Bulls\": \"#CE1141\",\n",
    "    \"Cleveland Cavaliers\": \"#860038\",\n",
    "    \"Dallas Mavericks\": \"#00538C\",\n",
    "    \"Denver Nuggets\": \"#0E2240\",\n",
    "    \"Detroit Pistons\": \"#C8102E\",\n",
    "    \"Golden State Warriors\": \"#1D428A\",\n",
    "    \"Houston Rockets\": \"#CE1141\",\n",
    "    \"Indiana Pacers\": \"#002D62\",\n",
    "    \"Los Angeles Clippers\": \"#C8102E\",\n",
    "    \"Los Angeles Lakers\": \"#552583\",\n",
    "    \"Memphis Grizzlies\": \"#5D76A9\",\n",
    "    \"Miami Heat\": \"#98002E\",\n",
    "    \"Milwaukee Bucks\": \"#00471B\",\n",
    "    \"Minnesota Timberwolves\": \"#0C2340\",\n",
    "    \"New Orleans Pelicans\": \"#0C2340\",\n",
    "    \"New York Knicks\": \"#006BB6\",\n",
    "    \"Oklahoma City Thunder\": \"#007AC1\",\n",
    "    \"Orlando Magic\": \"#0077C0\",\n",
    "    \"Philadelphia 76ers\": \"#006BB6\",\n",
    "    \"Phoenix Suns\": \"#1D1160\",\n",
    "    \"Portland Trail Blazers\": \"#E03A3E\",\n",
    "    \"Sacramento Kings\": \"#5A2D81\",\n",
    "    \"San Antonio Spurs\": \"#C4CED4\",\n",
    "    \"Toronto Raptors\": \"#CE1141\",\n",
    "    \"Utah Jazz\": \"#002B5C\",\n",
    "    \"Washington Wizards\": \"#002B5C\",\n",
    "}\n",
    "\n",
    "#Dict to map the short names to the team names\n",
    "nba_teams_short = {\n",
    "    \"Atlanta Hawks\": \"ATL\",\n",
    "    \"Boston Celtics\": \"BOS\",\n",
    "    \"Brooklyn Nets\": \"BKN\",\n",
    "    \"Charlotte Hornets\": \"CHA\",\n",
    "    \"Chicago Bulls\": \"CHI\",\n",
    "    \"Cleveland Cavaliers\": \"CLE\",\n",
    "    \"Dallas Mavericks\": \"DAL\",\n",
    "    \"Denver Nuggets\": \"DEN\",\n",
    "    \"Detroit Pistons\": \"DET\",\n",
    "    \"Golden State Warriors\": \"GSW\",\n",
    "    \"Houston Rockets\": \"HOU\",\n",
    "    \"Indiana Pacers\": \"IND\",\n",
    "    \"Los Angeles Clippers\": \"LAC\",\n",
    "    \"Los Angeles Lakers\": \"LAL\",\n",
    "    \"Memphis Grizzlies\": \"MEM\",\n",
    "    \"Miami Heat\": \"MIA\",\n",
    "    \"Milwaukee Bucks\": \"MIL\",\n",
    "    \"Minnesota Timberwolves\": \"MIN\",\n",
    "    \"New Orleans Pelicans\": \"NOP\",\n",
    "    \"New York Knicks\": \"NYK\",\n",
    "    \"Oklahoma City Thunder\": \"OKC\",\n",
    "    \"Orlando Magic\": \"ORL\",\n",
    "    \"Philadelphia 76ers\": \"PHI\",\n",
    "    \"Phoenix Suns\": \"PHX\",\n",
    "    \"Portland Trail Blazers\": \"POR\",\n",
    "    \"Sacramento Kings\": \"SAC\",\n",
    "    \"San Antonio Spurs\": \"SAS\",\n",
    "    \"Toronto Raptors\": \"TOR\",\n",
    "    \"Utah Jazz\": \"UTA\",\n",
    "    \"Washington Wizards\": \"WAS\",\n",
    "}\n",
    "\n",
    "\n",
    "# Create a new column for the mapping\n",
    "df_teams[\"color\"] = df_teams[\"team_name\"].map(nba_team_primary_colors)\n",
    "df_teams[\"short_team_names\"] = df_teams[\"team_name\"].map(nba_teams_short)\n",
    "\n",
    "# Create a column which contains the legend entries\n",
    "df_teams[\"legend\"] = df_teams[\"short_team_names\"] + \" - \" + df_teams[\"team_name\"]\n",
    "\n",
    "# Sort DataFrame\n",
    "df_teams = df_teams.sort_values(\"pts\", ascending=False)\n",
    "\n",
    "\n",
    "# Define the source\n",
    "source = ColumnDataSource(data=df_teams)\n",
    "\n",
    "# Define the figure\n",
    "p = figure(\n",
    "    title=\"Average Points per Player per 36 Minutes per Team in the 2019-20 NBA Season\",\n",
    "    x_range=df_teams[\"short_team_names\"],\n",
    "    height=800,\n",
    "    width=1100,\n",
    ")\n",
    "\n",
    "\n",
    "# Create a ColorMapper to map the primary colors to bars\n",
    "color_mapper = CategoricalColorMapper(\n",
    "    factors=df_teams[\"team_name\"].unique(), palette=df_teams[\"color\"]\n",
    ")\n",
    "\n",
    "# Add a legend. Important to have that bit before the p.vbar. Otherwise legend will be on top of plot\n",
    "p.add_layout(Legend(), \"right\")\n",
    "\n",
    "# Plot bar plot\n",
    "p.vbar(\n",
    "    x=\"short_team_names\",\n",
    "    top=\"pts\",\n",
    "    width=0.5,\n",
    "    bottom=0,\n",
    "    source=source,\n",
    "    color={\"field\": \"team_name\", \"transform\": color_mapper},\n",
    "    legend_field=\"legend\",\n",
    ")\n",
    "\n",
    "# Create a hovering tool\n",
    "hover = HoverTool(tooltips=[(\"Team\", \"@team_name\"), (\"Points\", \"@pts\")])\n",
    "p.add_tools(hover)\n",
    "\n",
    "# Adjust the legend\n",
    "p.legend.label_text_font_size = \"9pt\"\n",
    "p.legend.glyph_height = 10\n",
    "p.legend.glyph_width = 10\n",
    "\n",
    "# Adjust the y starting valze\n",
    "p.y_range.start = 0\n",
    "\n",
    "p.xaxis.major_label_orientation = 120\n",
    "\n",
    "# Add a format to the y-ticks\n",
    "p.yaxis.formatter = tick_formatter = CustomJSTickFormatter(\n",
    "    code=\"\"\"\n",
    "    return tick + \" pts\";\n",
    "    \"\"\"\n",
    ")\n",
    "\n",
    "\n",
    "# Plot the graph\n",
    "output_notebook()\n",
    "show(p)"
   ]
  },
  {
   "cell_type": "markdown",
   "metadata": {},
   "source": [
    "Description:\n",
    "- The graph illustrates the average points per player per 36 minutes per team during the 2019-20 Season.\n",
    "\n",
    "- It is interactive; hovering over it displays the full team name and the precise average points.\n",
    "\n",
    "- The color of the bar corresponds to the primary color of the team\n",
    "\n",
    "- The bar chart is arranged in descending order from the highest average to the lowest.\n",
    "\n",
    "- On average, the Los Angeles Clippers' coach could anticipate their players scoring more points in 36 minutes than any other team. Moreover, the gap to the second-ranked team is significant at 1.5 points.\n",
    "\n",
    "- However, it wasn't the Los Angeles Clippers but rather the Los Angeles Lakers who were the champions that year, despite having the third worst average. The Miami Heat, the second finalist, only ranked 20th in terms of average points per player per 36 minutes. This indicates that there is no clear correlation between a team's average performance per player per 36 minutes and their success in the championship."
   ]
  },
  {
   "cell_type": "markdown",
   "metadata": {},
   "source": [
    "## Data visualisation\n",
    "Visualize the data (twice). Every submitted notebook should contain at least two visualizations using at least two different Python visualization libraries. One visualization for each of the new tables (aggregated players or aggregated teams). A list of the most wide-spread Python visualization libraries can be found in this article. You must concisely describe and explain each visualization and your decisions in a Markdown field. You will not receive the points for this task if you did not add a description/explanation. "
   ]
  },
  {
   "cell_type": "markdown",
   "metadata": {},
   "source": [
    "# Sasha"
   ]
  },
  {
   "cell_type": "code",
   "execution_count": null,
   "metadata": {},
   "outputs": [],
   "source": [
    "birth_places = df_merged[\"birth_place\"].unique()"
   ]
  },
  {
   "cell_type": "code",
   "execution_count": null,
   "metadata": {},
   "outputs": [],
   "source": [
    "df_merged[\"birth_states\"] = df_merged[\"birth_place\"].str.split(\",\", expand=True)[1]\n",
    "df_merged[\"birth_states\"] = df_merged[\"birth_states\"].apply(\n",
    "    lambda x: str(x).replace(\"\\xa0\", \"\")\n",
    ")"
   ]
  },
  {
   "cell_type": "code",
   "execution_count": null,
   "metadata": {},
   "outputs": [],
   "source": [
    "all_states = pd.Series(df_merged[\"birth_states\"].unique())"
   ]
  },
  {
   "cell_type": "code",
   "execution_count": null,
   "metadata": {},
   "outputs": [],
   "source": [
    "US_states = [\n",
    "    \"Alabama\",\n",
    "    \"Alaska\",\n",
    "    \"Arizona\",\n",
    "    \"Arkansas\",\n",
    "    \"California\",\n",
    "    \"Colorado\",\n",
    "    \"Connecticut\",\n",
    "    \"Delaware\",\n",
    "    \"Florida\",\n",
    "    \"Georgia\",\n",
    "    \"Hawaii\",\n",
    "    \"Idaho\",\n",
    "    \"Illinois\",\n",
    "    \"Indiana\",\n",
    "    \"Iowa\",\n",
    "    \"Kansas\",\n",
    "    \"Kentucky\",\n",
    "    \"Louisiana\",\n",
    "    \"Maine\",\n",
    "    \"Maryland\",\n",
    "    \"Massachusetts\",\n",
    "    \"Michigan\",\n",
    "    \"Minnesota\",\n",
    "    \"Mississippi\",\n",
    "    \"Missouri\",\n",
    "    \"Montana\",\n",
    "    \"Nebraska\",\n",
    "    \"Nevada\",\n",
    "    \"New Hampshire\",\n",
    "    \"New Jersey\",\n",
    "    \"New Mexico\",\n",
    "    \"New York\",\n",
    "    \"North Carolina\",\n",
    "    \"North Dakota\",\n",
    "    \"Ohio\",\n",
    "    \"Oklahoma\",\n",
    "    \"Oregon\",\n",
    "    \"Pennsylvania\",\n",
    "    \"Rhode Island\",\n",
    "    \"South Carolina\",\n",
    "    \"South Dakota\",\n",
    "    \"Tennessee\",\n",
    "    \"Texas\",\n",
    "    \"Utah\",\n",
    "    \"Vermont\",\n",
    "    \"Virginia\",\n",
    "    \"Washington\",\n",
    "    \"West Virginia\",\n",
    "    \"Wisconsin\",\n",
    "    \"Wyoming\",\n",
    "]\n",
    "\n",
    "US_state_to_code = {\n",
    "    \"Alabama\": \"AL\",\n",
    "    \"Alaska\": \"AK\",\n",
    "    \"Arizona\": \"AZ\",\n",
    "    \"Arkansas\": \"AR\",\n",
    "    \"California\": \"CA\",\n",
    "    \"Colorado\": \"CO\",\n",
    "    \"Connecticut\": \"CT\",\n",
    "    \"Delaware\": \"DE\",\n",
    "    \"Florida\": \"FL\",\n",
    "    \"Georgia\": \"GA\",\n",
    "    \"Hawaii\": \"HI\",\n",
    "    \"Idaho\": \"ID\",\n",
    "    \"Illinois\": \"IL\",\n",
    "    \"Indiana\": \"IN\",\n",
    "    \"Iowa\": \"IA\",\n",
    "    \"Kansas\": \"KS\",\n",
    "    \"Kentucky\": \"KY\",\n",
    "    \"Louisiana\": \"LA\",\n",
    "    \"Maine\": \"ME\",\n",
    "    \"Maryland\": \"MD\",\n",
    "    \"Massachusetts\": \"MA\",\n",
    "    \"Michigan\": \"MI\",\n",
    "    \"Minnesota\": \"MN\",\n",
    "    \"Mississippi\": \"MS\",\n",
    "    \"Missouri\": \"MO\",\n",
    "    \"Montana\": \"MT\",\n",
    "    \"Nebraska\": \"NE\",\n",
    "    \"Nevada\": \"NV\",\n",
    "    \"New Hampshire\": \"NH\",\n",
    "    \"New Jersey\": \"NJ\",\n",
    "    \"New Mexico\": \"NM\",\n",
    "    \"New York\": \"NY\",\n",
    "    \"North Carolina\": \"NC\",\n",
    "    \"North Dakota\": \"ND\",\n",
    "    \"Ohio\": \"OH\",\n",
    "    \"Oklahoma\": \"OK\",\n",
    "    \"Oregon\": \"OR\",\n",
    "    \"Pennsylvania\": \"PA\",\n",
    "    \"Rhode Island\": \"RI\",\n",
    "    \"South Carolina\": \"SC\",\n",
    "    \"South Dakota\": \"SD\",\n",
    "    \"Tennessee\": \"TN\",\n",
    "    \"Texas\": \"TX\",\n",
    "    \"Utah\": \"UT\",\n",
    "    \"Vermont\": \"VT\",\n",
    "    \"Virginia\": \"VA\",\n",
    "    \"Washington\": \"WA\",\n",
    "    \"West Virginia\": \"WV\",\n",
    "    \"Wisconsin\": \"WI\",\n",
    "    \"Wyoming\": \"WY\",\n",
    "}"
   ]
  },
  {
   "cell_type": "code",
   "execution_count": null,
   "metadata": {},
   "outputs": [],
   "source": [
    "df_merged_US = df_merged.loc[df_merged[\"birth_states\"].isin(US_states)]\n",
    "df_merged_US[\"state_code\"] = df_merged_US[\"birth_states\"].map(US_state_to_code)"
   ]
  },
  {
   "cell_type": "code",
   "execution_count": null,
   "metadata": {},
   "outputs": [
    {
     "data": {
      "text/plain": [
       "array(['Vermont'], dtype='<U14')"
      ]
     },
     "metadata": {},
     "output_type": "display_data"
    }
   ],
   "source": [
    "np.setdiff1d(US_states, all_states[pd.Series(all_states).isin(US_states)].unique())"
   ]
  },
  {
   "cell_type": "code",
   "execution_count": null,
   "metadata": {},
   "outputs": [],
   "source": [
    "df_merged_US_map = (\n",
    "    df_merged_US[[\"birth_states\", \"state_code\", \"player_id\"]]\n",
    "    .groupby([\"state_code\", \"birth_states\"])\n",
    "    .count()\n",
    "    .reset_index()\n",
    ")"
   ]
  },
  {
   "cell_type": "code",
   "execution_count": null,
   "metadata": {},
   "outputs": [],
   "source": [
    "# add Vermont to the table for completeness\n",
    "df_merged_US_map = pd.concat(\n",
    "    [\n",
    "        df_merged_US_map,\n",
    "        pd.DataFrame([{\"state_code\": \"VT\", \"birth_states\": \"Vermont\", \"player_id\": 0}]),\n",
    "    ],\n",
    "    ignore_index=True,\n",
    ")"
   ]
  },
  {
   "cell_type": "code",
   "execution_count": null,
   "metadata": {},
   "outputs": [
    {
     "data": {
      "application/vnd.plotly.v1+json": {
       "config": {
        "plotlyServerURL": "https://plot.ly"
       },
       "data": [
        {
         "coloraxis": "coloraxis",
         "geo": "geo",
         "hovertemplate": "<b>%{hovertext}</b><br><br>state_code=%{location}<br>player_id=%{z}<extra></extra>",
         "hovertext": [
          "Alaska",
          "Alabama",
          "Arkansas",
          "Arizona",
          "California",
          "Colorado",
          "Connecticut",
          "Delaware",
          "Florida",
          "Georgia",
          "Hawaii",
          "Iowa",
          "Idaho",
          "Illinois",
          "Indiana",
          "Kansas",
          "Kentucky",
          "Louisiana",
          "Massachusetts",
          "Maryland",
          "Maine",
          "Michigan",
          "Minnesota",
          "Missouri",
          "Mississippi",
          "Montana",
          "North Carolina",
          "North Dakota",
          "Nebraska",
          "New Hampshire",
          "New Jersey",
          "New Mexico",
          "Nevada",
          "New York",
          "Ohio",
          "Oklahoma",
          "Oregon",
          "Pennsylvania",
          "Rhode Island",
          "South Carolina",
          "South Dakota",
          "Tennessee",
          "Texas",
          "Utah",
          "Virginia",
          "Washington",
          "Wisconsin",
          "West Virginia",
          "Wyoming",
          "Vermont"
         ],
         "locationmode": "USA-states",
         "locations": [
          "AK",
          "AL",
          "AR",
          "AZ",
          "CA",
          "CO",
          "CT",
          "DE",
          "FL",
          "GA",
          "HI",
          "IA",
          "ID",
          "IL",
          "IN",
          "KS",
          "KY",
          "LA",
          "MA",
          "MD",
          "ME",
          "MI",
          "MN",
          "MO",
          "MS",
          "MT",
          "NC",
          "ND",
          "NE",
          "NH",
          "NJ",
          "NM",
          "NV",
          "NY",
          "OH",
          "OK",
          "OR",
          "PA",
          "RI",
          "SC",
          "SD",
          "TN",
          "TX",
          "UT",
          "VA",
          "WA",
          "WI",
          "WV",
          "WY",
          "VT"
         ],
         "name": "",
         "type": "choropleth",
         "z": [
          9,
          432,
          327,
          64,
          2164,
          104,
          189,
          32,
          687,
          676,
          18,
          130,
          20,
          1326,
          611,
          165,
          384,
          703,
          182,
          366,
          12,
          783,
          225,
          283,
          494,
          35,
          692,
          26,
          59,
          12,
          601,
          30,
          62,
          1728,
          955,
          203,
          176,
          963,
          22,
          308,
          34,
          416,
          905,
          110,
          437,
          328,
          271,
          132,
          18,
          0
         ]
        },
        {
         "hoverinfo": "skip",
         "locationmode": "USA-states",
         "locations": [
          "AK",
          "AL",
          "AR",
          "AZ",
          "CA",
          "CO",
          "CT",
          "DE",
          "FL",
          "GA",
          "HI",
          "IA",
          "ID",
          "IL",
          "IN",
          "KS",
          "KY",
          "LA",
          "MA",
          "MD",
          "ME",
          "MI",
          "MN",
          "MO",
          "MS",
          "MT",
          "NC",
          "ND",
          "NE",
          "NH",
          "NJ",
          "NM",
          "NV",
          "NY",
          "OH",
          "OK",
          "OR",
          "PA",
          "RI",
          "SC",
          "SD",
          "TN",
          "TX",
          "UT",
          "VA",
          "WA",
          "WI",
          "WV",
          "WY",
          "VT"
         ],
         "mode": "text",
         "text": [
          "AK",
          "AL",
          "AR",
          "AZ",
          "CA",
          "CO",
          "CT",
          "DE",
          "FL",
          "GA",
          "HI",
          "IA",
          "ID",
          "IL",
          "IN",
          "KS",
          "KY",
          "LA",
          "MA",
          "MD",
          "ME",
          "MI",
          "MN",
          "MO",
          "MS",
          "MT",
          "NC",
          "ND",
          "NE",
          "NH",
          "NJ",
          "NM",
          "NV",
          "NY",
          "OH",
          "OK",
          "OR",
          "PA",
          "RI",
          "SC",
          "SD",
          "TN",
          "TX",
          "UT",
          "VA",
          "WA",
          "WI",
          "WV",
          "WY",
          "VT"
         ],
         "type": "scattergeo"
        }
       ],
       "layout": {
        "coloraxis": {
         "colorbar": {
          "title": {
           "text": "player_id"
          }
         },
         "colorscale": [
          [
           0,
           "rgb(247,251,255)"
          ],
          [
           0.125,
           "rgb(222,235,247)"
          ],
          [
           0.25,
           "rgb(198,219,239)"
          ],
          [
           0.375,
           "rgb(158,202,225)"
          ],
          [
           0.5,
           "rgb(107,174,214)"
          ],
          [
           0.625,
           "rgb(66,146,198)"
          ],
          [
           0.75,
           "rgb(33,113,181)"
          ],
          [
           0.875,
           "rgb(8,81,156)"
          ],
          [
           1,
           "rgb(8,48,107)"
          ]
         ]
        },
        "geo": {
         "center": {},
         "domain": {
          "x": [
           0,
           1
          ],
          "y": [
           0,
           1
          ]
         },
         "scope": "usa",
         "showlakes": false
        },
        "legend": {
         "tracegroupgap": 0
        },
        "margin": {
         "t": 60
        },
        "template": {
         "data": {
          "bar": [
           {
            "error_x": {
             "color": "#2a3f5f"
            },
            "error_y": {
             "color": "#2a3f5f"
            },
            "marker": {
             "line": {
              "color": "#E5ECF6",
              "width": 0.5
             },
             "pattern": {
              "fillmode": "overlay",
              "size": 10,
              "solidity": 0.2
             }
            },
            "type": "bar"
           }
          ],
          "barpolar": [
           {
            "marker": {
             "line": {
              "color": "#E5ECF6",
              "width": 0.5
             },
             "pattern": {
              "fillmode": "overlay",
              "size": 10,
              "solidity": 0.2
             }
            },
            "type": "barpolar"
           }
          ],
          "carpet": [
           {
            "aaxis": {
             "endlinecolor": "#2a3f5f",
             "gridcolor": "white",
             "linecolor": "white",
             "minorgridcolor": "white",
             "startlinecolor": "#2a3f5f"
            },
            "baxis": {
             "endlinecolor": "#2a3f5f",
             "gridcolor": "white",
             "linecolor": "white",
             "minorgridcolor": "white",
             "startlinecolor": "#2a3f5f"
            },
            "type": "carpet"
           }
          ],
          "choropleth": [
           {
            "colorbar": {
             "outlinewidth": 0,
             "ticks": ""
            },
            "type": "choropleth"
           }
          ],
          "contour": [
           {
            "colorbar": {
             "outlinewidth": 0,
             "ticks": ""
            },
            "colorscale": [
             [
              0,
              "#0d0887"
             ],
             [
              0.1111111111111111,
              "#46039f"
             ],
             [
              0.2222222222222222,
              "#7201a8"
             ],
             [
              0.3333333333333333,
              "#9c179e"
             ],
             [
              0.4444444444444444,
              "#bd3786"
             ],
             [
              0.5555555555555556,
              "#d8576b"
             ],
             [
              0.6666666666666666,
              "#ed7953"
             ],
             [
              0.7777777777777778,
              "#fb9f3a"
             ],
             [
              0.8888888888888888,
              "#fdca26"
             ],
             [
              1,
              "#f0f921"
             ]
            ],
            "type": "contour"
           }
          ],
          "contourcarpet": [
           {
            "colorbar": {
             "outlinewidth": 0,
             "ticks": ""
            },
            "type": "contourcarpet"
           }
          ],
          "heatmap": [
           {
            "colorbar": {
             "outlinewidth": 0,
             "ticks": ""
            },
            "colorscale": [
             [
              0,
              "#0d0887"
             ],
             [
              0.1111111111111111,
              "#46039f"
             ],
             [
              0.2222222222222222,
              "#7201a8"
             ],
             [
              0.3333333333333333,
              "#9c179e"
             ],
             [
              0.4444444444444444,
              "#bd3786"
             ],
             [
              0.5555555555555556,
              "#d8576b"
             ],
             [
              0.6666666666666666,
              "#ed7953"
             ],
             [
              0.7777777777777778,
              "#fb9f3a"
             ],
             [
              0.8888888888888888,
              "#fdca26"
             ],
             [
              1,
              "#f0f921"
             ]
            ],
            "type": "heatmap"
           }
          ],
          "heatmapgl": [
           {
            "colorbar": {
             "outlinewidth": 0,
             "ticks": ""
            },
            "colorscale": [
             [
              0,
              "#0d0887"
             ],
             [
              0.1111111111111111,
              "#46039f"
             ],
             [
              0.2222222222222222,
              "#7201a8"
             ],
             [
              0.3333333333333333,
              "#9c179e"
             ],
             [
              0.4444444444444444,
              "#bd3786"
             ],
             [
              0.5555555555555556,
              "#d8576b"
             ],
             [
              0.6666666666666666,
              "#ed7953"
             ],
             [
              0.7777777777777778,
              "#fb9f3a"
             ],
             [
              0.8888888888888888,
              "#fdca26"
             ],
             [
              1,
              "#f0f921"
             ]
            ],
            "type": "heatmapgl"
           }
          ],
          "histogram": [
           {
            "marker": {
             "pattern": {
              "fillmode": "overlay",
              "size": 10,
              "solidity": 0.2
             }
            },
            "type": "histogram"
           }
          ],
          "histogram2d": [
           {
            "colorbar": {
             "outlinewidth": 0,
             "ticks": ""
            },
            "colorscale": [
             [
              0,
              "#0d0887"
             ],
             [
              0.1111111111111111,
              "#46039f"
             ],
             [
              0.2222222222222222,
              "#7201a8"
             ],
             [
              0.3333333333333333,
              "#9c179e"
             ],
             [
              0.4444444444444444,
              "#bd3786"
             ],
             [
              0.5555555555555556,
              "#d8576b"
             ],
             [
              0.6666666666666666,
              "#ed7953"
             ],
             [
              0.7777777777777778,
              "#fb9f3a"
             ],
             [
              0.8888888888888888,
              "#fdca26"
             ],
             [
              1,
              "#f0f921"
             ]
            ],
            "type": "histogram2d"
           }
          ],
          "histogram2dcontour": [
           {
            "colorbar": {
             "outlinewidth": 0,
             "ticks": ""
            },
            "colorscale": [
             [
              0,
              "#0d0887"
             ],
             [
              0.1111111111111111,
              "#46039f"
             ],
             [
              0.2222222222222222,
              "#7201a8"
             ],
             [
              0.3333333333333333,
              "#9c179e"
             ],
             [
              0.4444444444444444,
              "#bd3786"
             ],
             [
              0.5555555555555556,
              "#d8576b"
             ],
             [
              0.6666666666666666,
              "#ed7953"
             ],
             [
              0.7777777777777778,
              "#fb9f3a"
             ],
             [
              0.8888888888888888,
              "#fdca26"
             ],
             [
              1,
              "#f0f921"
             ]
            ],
            "type": "histogram2dcontour"
           }
          ],
          "mesh3d": [
           {
            "colorbar": {
             "outlinewidth": 0,
             "ticks": ""
            },
            "type": "mesh3d"
           }
          ],
          "parcoords": [
           {
            "line": {
             "colorbar": {
              "outlinewidth": 0,
              "ticks": ""
             }
            },
            "type": "parcoords"
           }
          ],
          "pie": [
           {
            "automargin": true,
            "type": "pie"
           }
          ],
          "scatter": [
           {
            "fillpattern": {
             "fillmode": "overlay",
             "size": 10,
             "solidity": 0.2
            },
            "type": "scatter"
           }
          ],
          "scatter3d": [
           {
            "line": {
             "colorbar": {
              "outlinewidth": 0,
              "ticks": ""
             }
            },
            "marker": {
             "colorbar": {
              "outlinewidth": 0,
              "ticks": ""
             }
            },
            "type": "scatter3d"
           }
          ],
          "scattercarpet": [
           {
            "marker": {
             "colorbar": {
              "outlinewidth": 0,
              "ticks": ""
             }
            },
            "type": "scattercarpet"
           }
          ],
          "scattergeo": [
           {
            "marker": {
             "colorbar": {
              "outlinewidth": 0,
              "ticks": ""
             }
            },
            "type": "scattergeo"
           }
          ],
          "scattergl": [
           {
            "marker": {
             "colorbar": {
              "outlinewidth": 0,
              "ticks": ""
             }
            },
            "type": "scattergl"
           }
          ],
          "scattermapbox": [
           {
            "marker": {
             "colorbar": {
              "outlinewidth": 0,
              "ticks": ""
             }
            },
            "type": "scattermapbox"
           }
          ],
          "scatterpolar": [
           {
            "marker": {
             "colorbar": {
              "outlinewidth": 0,
              "ticks": ""
             }
            },
            "type": "scatterpolar"
           }
          ],
          "scatterpolargl": [
           {
            "marker": {
             "colorbar": {
              "outlinewidth": 0,
              "ticks": ""
             }
            },
            "type": "scatterpolargl"
           }
          ],
          "scatterternary": [
           {
            "marker": {
             "colorbar": {
              "outlinewidth": 0,
              "ticks": ""
             }
            },
            "type": "scatterternary"
           }
          ],
          "surface": [
           {
            "colorbar": {
             "outlinewidth": 0,
             "ticks": ""
            },
            "colorscale": [
             [
              0,
              "#0d0887"
             ],
             [
              0.1111111111111111,
              "#46039f"
             ],
             [
              0.2222222222222222,
              "#7201a8"
             ],
             [
              0.3333333333333333,
              "#9c179e"
             ],
             [
              0.4444444444444444,
              "#bd3786"
             ],
             [
              0.5555555555555556,
              "#d8576b"
             ],
             [
              0.6666666666666666,
              "#ed7953"
             ],
             [
              0.7777777777777778,
              "#fb9f3a"
             ],
             [
              0.8888888888888888,
              "#fdca26"
             ],
             [
              1,
              "#f0f921"
             ]
            ],
            "type": "surface"
           }
          ],
          "table": [
           {
            "cells": {
             "fill": {
              "color": "#EBF0F8"
             },
             "line": {
              "color": "white"
             }
            },
            "header": {
             "fill": {
              "color": "#C8D4E3"
             },
             "line": {
              "color": "white"
             }
            },
            "type": "table"
           }
          ]
         },
         "layout": {
          "annotationdefaults": {
           "arrowcolor": "#2a3f5f",
           "arrowhead": 0,
           "arrowwidth": 1
          },
          "autotypenumbers": "strict",
          "coloraxis": {
           "colorbar": {
            "outlinewidth": 0,
            "ticks": ""
           }
          },
          "colorscale": {
           "diverging": [
            [
             0,
             "#8e0152"
            ],
            [
             0.1,
             "#c51b7d"
            ],
            [
             0.2,
             "#de77ae"
            ],
            [
             0.3,
             "#f1b6da"
            ],
            [
             0.4,
             "#fde0ef"
            ],
            [
             0.5,
             "#f7f7f7"
            ],
            [
             0.6,
             "#e6f5d0"
            ],
            [
             0.7,
             "#b8e186"
            ],
            [
             0.8,
             "#7fbc41"
            ],
            [
             0.9,
             "#4d9221"
            ],
            [
             1,
             "#276419"
            ]
           ],
           "sequential": [
            [
             0,
             "#0d0887"
            ],
            [
             0.1111111111111111,
             "#46039f"
            ],
            [
             0.2222222222222222,
             "#7201a8"
            ],
            [
             0.3333333333333333,
             "#9c179e"
            ],
            [
             0.4444444444444444,
             "#bd3786"
            ],
            [
             0.5555555555555556,
             "#d8576b"
            ],
            [
             0.6666666666666666,
             "#ed7953"
            ],
            [
             0.7777777777777778,
             "#fb9f3a"
            ],
            [
             0.8888888888888888,
             "#fdca26"
            ],
            [
             1,
             "#f0f921"
            ]
           ],
           "sequentialminus": [
            [
             0,
             "#0d0887"
            ],
            [
             0.1111111111111111,
             "#46039f"
            ],
            [
             0.2222222222222222,
             "#7201a8"
            ],
            [
             0.3333333333333333,
             "#9c179e"
            ],
            [
             0.4444444444444444,
             "#bd3786"
            ],
            [
             0.5555555555555556,
             "#d8576b"
            ],
            [
             0.6666666666666666,
             "#ed7953"
            ],
            [
             0.7777777777777778,
             "#fb9f3a"
            ],
            [
             0.8888888888888888,
             "#fdca26"
            ],
            [
             1,
             "#f0f921"
            ]
           ]
          },
          "colorway": [
           "#636efa",
           "#EF553B",
           "#00cc96",
           "#ab63fa",
           "#FFA15A",
           "#19d3f3",
           "#FF6692",
           "#B6E880",
           "#FF97FF",
           "#FECB52"
          ],
          "font": {
           "color": "#2a3f5f"
          },
          "geo": {
           "bgcolor": "white",
           "lakecolor": "white",
           "landcolor": "#E5ECF6",
           "showlakes": true,
           "showland": true,
           "subunitcolor": "white"
          },
          "hoverlabel": {
           "align": "left"
          },
          "hovermode": "closest",
          "mapbox": {
           "style": "light"
          },
          "paper_bgcolor": "white",
          "plot_bgcolor": "#E5ECF6",
          "polar": {
           "angularaxis": {
            "gridcolor": "white",
            "linecolor": "white",
            "ticks": ""
           },
           "bgcolor": "#E5ECF6",
           "radialaxis": {
            "gridcolor": "white",
            "linecolor": "white",
            "ticks": ""
           }
          },
          "scene": {
           "xaxis": {
            "backgroundcolor": "#E5ECF6",
            "gridcolor": "white",
            "gridwidth": 2,
            "linecolor": "white",
            "showbackground": true,
            "ticks": "",
            "zerolinecolor": "white"
           },
           "yaxis": {
            "backgroundcolor": "#E5ECF6",
            "gridcolor": "white",
            "gridwidth": 2,
            "linecolor": "white",
            "showbackground": true,
            "ticks": "",
            "zerolinecolor": "white"
           },
           "zaxis": {
            "backgroundcolor": "#E5ECF6",
            "gridcolor": "white",
            "gridwidth": 2,
            "linecolor": "white",
            "showbackground": true,
            "ticks": "",
            "zerolinecolor": "white"
           }
          },
          "shapedefaults": {
           "line": {
            "color": "#2a3f5f"
           }
          },
          "ternary": {
           "aaxis": {
            "gridcolor": "white",
            "linecolor": "white",
            "ticks": ""
           },
           "baxis": {
            "gridcolor": "white",
            "linecolor": "white",
            "ticks": ""
           },
           "bgcolor": "#E5ECF6",
           "caxis": {
            "gridcolor": "white",
            "linecolor": "white",
            "ticks": ""
           }
          },
          "title": {
           "x": 0.05
          },
          "xaxis": {
           "automargin": true,
           "gridcolor": "white",
           "linecolor": "white",
           "ticks": "",
           "title": {
            "standoff": 15
           },
           "zerolinecolor": "white",
           "zerolinewidth": 2
          },
          "yaxis": {
           "automargin": true,
           "gridcolor": "white",
           "linecolor": "white",
           "ticks": "",
           "title": {
            "standoff": 15
           },
           "zerolinecolor": "white",
           "zerolinewidth": 2
          }
         }
        },
        "title": {
         "text": "Number of NBA players born in each US state",
         "x": 0.5,
         "xanchor": "center",
         "yanchor": "top"
        }
       }
      }
     },
     "metadata": {},
     "output_type": "display_data"
    }
   ],
   "source": [
    "fig = px.choropleth(\n",
    "    df_merged_US_map,\n",
    "    locations=\"state_code\",\n",
    "    locationmode=\"USA-states\",\n",
    "    scope=\"usa\",\n",
    "    color=\"player_id\",\n",
    "    color_continuous_scale=\"Blues\",\n",
    "    hover_name=\"birth_states\",\n",
    ")\n",
    "\n",
    "fig.update_layout(geo=dict(showlakes=False))\n",
    "\n",
    "fig.add_scattergeo(\n",
    "    locations=df_merged_US_map[\"state_code\"],\n",
    "    locationmode=\"USA-states\",\n",
    "    text=df_merged_US_map[\"state_code\"],\n",
    "    mode=\"text\",\n",
    "    hoverinfo=\"skip\",\n",
    ")\n",
    "\n",
    "fig.update_layout(\n",
    "    title={\n",
    "        \"text\": \"Number of NBA players born in each US state\",\n",
    "        \"xanchor\": \"center\",\n",
    "        \"yanchor\": \"top\",\n",
    "        \"x\": 0.5,\n",
    "    }\n",
    ")"
   ]
  },
  {
   "cell_type": "markdown",
   "metadata": {},
   "source": [
    "## Saving the results\n",
    "Save the resulting tables (the cleaned player_data_per_36_min and the two new aggregated tables) as CSV. To be sure that the data is correctly saved, you can load it again. You will have to work with these tables for the second exercise."
   ]
  },
  {
   "cell_type": "code",
   "execution_count": null,
   "metadata": {},
   "outputs": [],
   "source": []
  }
 ],
 "metadata": {
  "kernelspec": {
   "display_name": "Python 3",
   "language": "python",
   "name": "python3"
  },
  "language_info": {
   "codemirror_mode": {
    "name": "ipython",
    "version": 3
   },
   "file_extension": ".py",
   "mimetype": "text/x-python",
   "name": "python",
   "nbconvert_exporter": "python",
   "pygments_lexer": "ipython3",
   "version": "3.12.2"
  }
 },
 "nbformat": 4,
 "nbformat_minor": 2
}
