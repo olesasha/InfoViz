{
 "cells": [
  {
   "cell_type": "code",
   "execution_count": 1,
   "metadata": {},
   "outputs": [],
   "source": [
    "import polars as pl\n",
    "from polars import col as c\n",
    "import datetime as dt"
   ]
  },
  {
   "cell_type": "code",
   "execution_count": 2,
   "metadata": {},
   "outputs": [],
   "source": [
    "race_data = pl.scan_parquet(\"./static/data/race_data.parquet\")\n",
    "lap_data = pl.scan_parquet(\"./static/data/all_laps.parquet\")\n"
   ]
  },
  {
   "cell_type": "code",
   "execution_count": 3,
   "metadata": {},
   "outputs": [
    {
     "name": "stdout",
     "output_type": "stream",
     "text": [
      "OrderedDict({'x': Float64, 'y': Float64, 'round_number': Int8, 'year': Int16, 'driver_number': Int8, 'data': Datetime(time_unit='ns', time_zone=None), 'pos_index': UInt16, 'artifical_pos': Boolean})\n",
      "OrderedDict({'round_number': Int64, 'year': Int64, 'Time': Duration(time_unit='ns'), 'Driver': String, 'DriverNumber': String, 'LapTime': Duration(time_unit='ns'), 'LapNumber': Float64, 'Stint': Float64, 'PitOutTime': Duration(time_unit='ns'), 'PitInTime': Duration(time_unit='ns'), 'Sector1Time': Duration(time_unit='ns'), 'Sector2Time': Duration(time_unit='ns'), 'Sector3Time': Duration(time_unit='ns'), 'Sector1SessionTime': Duration(time_unit='ns'), 'Sector2SessionTime': Duration(time_unit='ns'), 'Sector3SessionTime': Duration(time_unit='ns'), 'SpeedI1': Float64, 'SpeedI2': Float64, 'SpeedFL': Float64, 'SpeedST': Float64, 'IsPersonalBest': Boolean, 'Compound': String, 'TyreLife': Float64, 'FreshTyre': Boolean, 'Team': String, 'LapStartTime': Duration(time_unit='ns'), 'LapStartDate': Datetime(time_unit='ns', time_zone=None), 'TrackStatus': String, 'Position': Float64, 'Deleted': Boolean, 'DeletedReason': String, 'FastF1Generated': Boolean, 'IsAccurate': Boolean, '__index_level_0__': Int64})\n"
     ]
    }
   ],
   "source": [
    "print(race_data.schema)\n",
    "print(lap_data.schema)"
   ]
  },
  {
   "cell_type": "code",
   "execution_count": 4,
   "metadata": {},
   "outputs": [
    {
     "data": {
      "text/html": [
       "<div><style>\n",
       ".dataframe > thead > tr,\n",
       ".dataframe > tbody > tr {\n",
       "  text-align: right;\n",
       "  white-space: pre-wrap;\n",
       "}\n",
       "</style>\n",
       "<small>shape: (44_959_521, 8)</small><table border=\"1\" class=\"dataframe\"><thead><tr><th>x</th><th>y</th><th>round_number</th><th>year</th><th>driver_number</th><th>date</th><th>pos_index</th><th>artifical_pos</th></tr><tr><td>f64</td><td>f64</td><td>i8</td><td>i16</td><td>i8</td><td>datetime[ns]</td><td>u16</td><td>bool</td></tr></thead><tbody><tr><td>1583.662599</td><td>-1055.522038</td><td>1</td><td>2020</td><td>6</td><td>2020-07-05 13:12:47</td><td>0</td><td>false</td></tr><tr><td>1583.662599</td><td>-1055.522038</td><td>1</td><td>2020</td><td>6</td><td>2020-07-05 13:12:48</td><td>1</td><td>false</td></tr><tr><td>1583.662599</td><td>-1055.522038</td><td>1</td><td>2020</td><td>6</td><td>2020-07-05 13:12:48</td><td>2</td><td>false</td></tr><tr><td>1583.662599</td><td>-1055.522038</td><td>1</td><td>2020</td><td>6</td><td>2020-07-05 13:12:48</td><td>3</td><td>false</td></tr><tr><td>1583.662599</td><td>-1055.522038</td><td>1</td><td>2020</td><td>6</td><td>2020-07-05 13:12:48</td><td>4</td><td>false</td></tr><tr><td>&hellip;</td><td>&hellip;</td><td>&hellip;</td><td>&hellip;</td><td>&hellip;</td><td>&hellip;</td><td>&hellip;</td><td>&hellip;</td></tr><tr><td>-11049.250563</td><td>-1381.68665</td><td>8</td><td>2024</td><td>31</td><td>2024-05-26 13:44:08</td><td>9444</td><td>true</td></tr><tr><td>-11049.250563</td><td>-1381.68665</td><td>8</td><td>2024</td><td>31</td><td>2024-05-26 13:44:08</td><td>9444</td><td>true</td></tr><tr><td>-11049.250563</td><td>-1381.68665</td><td>8</td><td>2024</td><td>31</td><td>2024-05-26 13:44:08</td><td>9444</td><td>true</td></tr><tr><td>-11049.250563</td><td>-1381.68665</td><td>8</td><td>2024</td><td>31</td><td>2024-05-26 13:44:08</td><td>9444</td><td>true</td></tr><tr><td>-11049.250563</td><td>-1381.68665</td><td>8</td><td>2024</td><td>31</td><td>2024-05-26 13:44:08</td><td>9444</td><td>true</td></tr></tbody></table></div>"
      ],
      "text/plain": [
       "shape: (44_959_521, 8)\n",
       "┌─────────────┬─────────────┬────────────┬──────┬────────────┬────────────┬───────────┬────────────┐\n",
       "│ x           ┆ y           ┆ round_numb ┆ year ┆ driver_num ┆ date       ┆ pos_index ┆ artifical_ │\n",
       "│ ---         ┆ ---         ┆ er         ┆ ---  ┆ ber        ┆ ---        ┆ ---       ┆ pos        │\n",
       "│ f64         ┆ f64         ┆ ---        ┆ i16  ┆ ---        ┆ datetime[n ┆ u16       ┆ ---        │\n",
       "│             ┆             ┆ i8         ┆      ┆ i8         ┆ s]         ┆           ┆ bool       │\n",
       "╞═════════════╪═════════════╪════════════╪══════╪════════════╪════════════╪═══════════╪════════════╡\n",
       "│ 1583.662599 ┆ -1055.52203 ┆ 1          ┆ 2020 ┆ 6          ┆ 2020-07-05 ┆ 0         ┆ false      │\n",
       "│             ┆ 8           ┆            ┆      ┆            ┆ 13:12:47   ┆           ┆            │\n",
       "│ 1583.662599 ┆ -1055.52203 ┆ 1          ┆ 2020 ┆ 6          ┆ 2020-07-05 ┆ 1         ┆ false      │\n",
       "│             ┆ 8           ┆            ┆      ┆            ┆ 13:12:48   ┆           ┆            │\n",
       "│ 1583.662599 ┆ -1055.52203 ┆ 1          ┆ 2020 ┆ 6          ┆ 2020-07-05 ┆ 2         ┆ false      │\n",
       "│             ┆ 8           ┆            ┆      ┆            ┆ 13:12:48   ┆           ┆            │\n",
       "│ 1583.662599 ┆ -1055.52203 ┆ 1          ┆ 2020 ┆ 6          ┆ 2020-07-05 ┆ 3         ┆ false      │\n",
       "│             ┆ 8           ┆            ┆      ┆            ┆ 13:12:48   ┆           ┆            │\n",
       "│ 1583.662599 ┆ -1055.52203 ┆ 1          ┆ 2020 ┆ 6          ┆ 2020-07-05 ┆ 4         ┆ false      │\n",
       "│             ┆ 8           ┆            ┆      ┆            ┆ 13:12:48   ┆           ┆            │\n",
       "│ …           ┆ …           ┆ …          ┆ …    ┆ …          ┆ …          ┆ …         ┆ …          │\n",
       "│ -11049.2505 ┆ -1381.68665 ┆ 8          ┆ 2024 ┆ 31         ┆ 2024-05-26 ┆ 9444      ┆ true       │\n",
       "│ 63          ┆             ┆            ┆      ┆            ┆ 13:44:08   ┆           ┆            │\n",
       "│ -11049.2505 ┆ -1381.68665 ┆ 8          ┆ 2024 ┆ 31         ┆ 2024-05-26 ┆ 9444      ┆ true       │\n",
       "│ 63          ┆             ┆            ┆      ┆            ┆ 13:44:08   ┆           ┆            │\n",
       "│ -11049.2505 ┆ -1381.68665 ┆ 8          ┆ 2024 ┆ 31         ┆ 2024-05-26 ┆ 9444      ┆ true       │\n",
       "│ 63          ┆             ┆            ┆      ┆            ┆ 13:44:08   ┆           ┆            │\n",
       "│ -11049.2505 ┆ -1381.68665 ┆ 8          ┆ 2024 ┆ 31         ┆ 2024-05-26 ┆ 9444      ┆ true       │\n",
       "│ 63          ┆             ┆            ┆      ┆            ┆ 13:44:08   ┆           ┆            │\n",
       "│ -11049.2505 ┆ -1381.68665 ┆ 8          ┆ 2024 ┆ 31         ┆ 2024-05-26 ┆ 9444      ┆ true       │\n",
       "│ 63          ┆             ┆            ┆      ┆            ┆ 13:44:08   ┆           ┆            │\n",
       "└─────────────┴─────────────┴────────────┴──────┴────────────┴────────────┴───────────┴────────────┘"
      ]
     },
     "execution_count": 4,
     "metadata": {},
     "output_type": "execute_result"
    }
   ],
   "source": [
    "race_data = race_data.rename({\"data\":\"date\"})\n",
    "race_data = race_data.with_columns(c(\"date\").dt.round(\"1s\")).collect()\n",
    "race_data"
   ]
  },
  {
   "cell_type": "code",
   "execution_count": 5,
   "metadata": {},
   "outputs": [
    {
     "data": {
      "text/html": [
       "<div><style>\n",
       ".dataframe > thead > tr,\n",
       ".dataframe > tbody > tr {\n",
       "  text-align: right;\n",
       "  white-space: pre-wrap;\n",
       "}\n",
       "</style>\n",
       "<small>shape: (1_972_262, 34)</small><table border=\"1\" class=\"dataframe\"><thead><tr><th>round_number</th><th>year</th><th>Time</th><th>Driver</th><th>DriverNumber</th><th>LapTime</th><th>LapNumber</th><th>Stint</th><th>PitOutTime</th><th>PitInTime</th><th>Sector1Time</th><th>Sector2Time</th><th>Sector3Time</th><th>Sector1SessionTime</th><th>Sector2SessionTime</th><th>Sector3SessionTime</th><th>SpeedI1</th><th>SpeedI2</th><th>SpeedFL</th><th>SpeedST</th><th>IsPersonalBest</th><th>Compound</th><th>TyreLife</th><th>FreshTyre</th><th>Team</th><th>LapStartTime</th><th>LapStartDate</th><th>TrackStatus</th><th>Position</th><th>Deleted</th><th>DeletedReason</th><th>FastF1Generated</th><th>IsAccurate</th><th>__index_level_0__</th></tr><tr><td>i8</td><td>i16</td><td>duration[ns]</td><td>str</td><td>i8</td><td>duration[ns]</td><td>f64</td><td>f64</td><td>duration[ns]</td><td>duration[ns]</td><td>duration[ns]</td><td>duration[ns]</td><td>duration[ns]</td><td>duration[ns]</td><td>duration[ns]</td><td>duration[ns]</td><td>f64</td><td>f64</td><td>f64</td><td>f64</td><td>bool</td><td>str</td><td>f64</td><td>bool</td><td>str</td><td>duration[ns]</td><td>datetime[ns]</td><td>str</td><td>f64</td><td>bool</td><td>str</td><td>bool</td><td>bool</td><td>i64</td></tr></thead><tbody><tr><td>1</td><td>2020</td><td>34m 6s 353ms</td><td>&quot;GAS&quot;</td><td>10</td><td>1m 19s 106ms</td><td>1.0</td><td>1.0</td><td>null</td><td>null</td><td>null</td><td>33s 352ms</td><td>23s 247ms</td><td>null</td><td>33m 43s 79ms</td><td>34m 6s 511ms</td><td>309.0</td><td>217.0</td><td>274.0</td><td>290.0</td><td>false</td><td>&quot;MEDIUM&quot;</td><td>1.0</td><td>true</td><td>&quot;AlphaTauri&quot;</td><td>32m 47s 6ms</td><td>2020-07-05 13:12:47</td><td>&quot;1&quot;</td><td>12.0</td><td>false</td><td>&quot;&quot;</td><td>false</td><td>false</td><td>0</td></tr><tr><td>1</td><td>2020</td><td>35m 18s 765ms</td><td>&quot;GAS&quot;</td><td>10</td><td>1m 12s 412ms</td><td>2.0</td><td>1.0</td><td>null</td><td>null</td><td>17s 960ms</td><td>32s 228ms</td><td>22s 224ms</td><td>34m 24s 262ms</td><td>34m 56s 490ms</td><td>35m 18s 714ms</td><td>282.0</td><td>226.0</td><td>270.0</td><td>292.0</td><td>true</td><td>&quot;MEDIUM&quot;</td><td>2.0</td><td>true</td><td>&quot;AlphaTauri&quot;</td><td>34m 6s 353ms</td><td>2020-07-05 13:14:07</td><td>&quot;1&quot;</td><td>12.0</td><td>false</td><td>&quot;&quot;</td><td>false</td><td>true</td><td>1</td></tr><tr><td>1</td><td>2020</td><td>36m 30s 76ms</td><td>&quot;GAS&quot;</td><td>10</td><td>1m 11s 311ms</td><td>3.0</td><td>1.0</td><td>null</td><td>null</td><td>17s 513ms</td><td>31s 717ms</td><td>22s 81ms</td><td>35m 36s 227ms</td><td>36m 7s 944ms</td><td>36m 30s 25ms</td><td>307.0</td><td>224.0</td><td>277.0</td><td>311.0</td><td>true</td><td>&quot;MEDIUM&quot;</td><td>3.0</td><td>true</td><td>&quot;AlphaTauri&quot;</td><td>35m 18s 765ms</td><td>2020-07-05 13:15:19</td><td>&quot;1&quot;</td><td>12.0</td><td>false</td><td>&quot;&quot;</td><td>false</td><td>true</td><td>2</td></tr><tr><td>1</td><td>2020</td><td>37m 40s 801ms</td><td>&quot;GAS&quot;</td><td>10</td><td>1m 10s 725ms</td><td>4.0</td><td>1.0</td><td>null</td><td>null</td><td>17s 410ms</td><td>31s 510ms</td><td>21s 805ms</td><td>36m 47s 435ms</td><td>37m 18s 945ms</td><td>37m 40s 750ms</td><td>309.0</td><td>218.0</td><td>275.0</td><td>309.0</td><td>true</td><td>&quot;MEDIUM&quot;</td><td>4.0</td><td>true</td><td>&quot;AlphaTauri&quot;</td><td>36m 30s 76ms</td><td>2020-07-05 13:16:30</td><td>&quot;1&quot;</td><td>12.0</td><td>false</td><td>&quot;&quot;</td><td>false</td><td>true</td><td>3</td></tr><tr><td>1</td><td>2020</td><td>38m 52s 312ms</td><td>&quot;GAS&quot;</td><td>10</td><td>1m 11s 511ms</td><td>5.0</td><td>1.0</td><td>null</td><td>null</td><td>17s 464ms</td><td>31s 827ms</td><td>22s 220ms</td><td>37m 58s 214ms</td><td>38m 30s 41ms</td><td>38m 52s 261ms</td><td>303.0</td><td>219.0</td><td>268.0</td><td>296.0</td><td>false</td><td>&quot;MEDIUM&quot;</td><td>5.0</td><td>true</td><td>&quot;AlphaTauri&quot;</td><td>37m 40s 801ms</td><td>2020-07-05 13:17:41</td><td>&quot;1&quot;</td><td>12.0</td><td>false</td><td>&quot;&quot;</td><td>false</td><td>true</td><td>4</td></tr><tr><td>&hellip;</td><td>&hellip;</td><td>&hellip;</td><td>&hellip;</td><td>&hellip;</td><td>&hellip;</td><td>&hellip;</td><td>&hellip;</td><td>&hellip;</td><td>&hellip;</td><td>&hellip;</td><td>&hellip;</td><td>&hellip;</td><td>&hellip;</td><td>&hellip;</td><td>&hellip;</td><td>&hellip;</td><td>&hellip;</td><td>&hellip;</td><td>&hellip;</td><td>&hellip;</td><td>&hellip;</td><td>&hellip;</td><td>&hellip;</td><td>&hellip;</td><td>&hellip;</td><td>&hellip;</td><td>&hellip;</td><td>&hellip;</td><td>&hellip;</td><td>&hellip;</td><td>&hellip;</td><td>&hellip;</td><td>&hellip;</td></tr><tr><td>8</td><td>2024</td><td>3h 19m 16s 827ms</td><td>&quot;ZHO&quot;</td><td>24</td><td>1m 17s 173ms</td><td>76.0</td><td>3.0</td><td>null</td><td>null</td><td>20s 460ms</td><td>35s 927ms</td><td>20s 786ms</td><td>3h 18m 20s 81ms</td><td>3h 18m 56s 8ms</td><td>3h 19m 16s 794ms</td><td>205.0</td><td>188.0</td><td>258.0</td><td>278.0</td><td>false</td><td>&quot;SOFT&quot;</td><td>6.0</td><td>true</td><td>&quot;Kick Sauber&quot;</td><td>3h 17m 59s 654ms</td><td>2024-05-26 15:26:05</td><td>&quot;1&quot;</td><td>16.0</td><td>false</td><td>&quot;&quot;</td><td>false</td><td>true</td><td>1232</td></tr><tr><td>8</td><td>2024</td><td>1h 36m 2s 379ms</td><td>&quot;OCO&quot;</td><td>31</td><td>null</td><td>1.0</td><td>1.0</td><td>null</td><td>null</td><td>null</td><td>null</td><td>null</td><td>null</td><td>null</td><td>null</td><td>null</td><td>null</td><td>null</td><td>null</td><td>false</td><td>&quot;HARD&quot;</td><td>1.0</td><td>true</td><td>&quot;Alpine&quot;</td><td>55m 5s 680ms</td><td>2024-05-26 13:03:11</td><td>&quot;1254&quot;</td><td>3.0</td><td>false</td><td>&quot;&quot;</td><td>true</td><td>false</td><td>1233</td></tr><tr><td>8</td><td>2024</td><td>1h 36m 2s 379ms</td><td>&quot;PER&quot;</td><td>11</td><td>null</td><td>1.0</td><td>1.0</td><td>null</td><td>null</td><td>null</td><td>null</td><td>null</td><td>null</td><td>null</td><td>null</td><td>null</td><td>null</td><td>null</td><td>null</td><td>false</td><td>&quot;HARD&quot;</td><td>1.0</td><td>true</td><td>&quot;Red Bull Racin…</td><td>55m 5s 680ms</td><td>2024-05-26 13:03:11</td><td>&quot;1254&quot;</td><td>2.0</td><td>false</td><td>&quot;&quot;</td><td>true</td><td>false</td><td>1234</td></tr><tr><td>8</td><td>2024</td><td>1h 36m 2s 379ms</td><td>&quot;HUL&quot;</td><td>27</td><td>null</td><td>1.0</td><td>1.0</td><td>null</td><td>null</td><td>null</td><td>null</td><td>null</td><td>null</td><td>null</td><td>null</td><td>null</td><td>null</td><td>null</td><td>null</td><td>false</td><td>&quot;MEDIUM&quot;</td><td>1.0</td><td>true</td><td>&quot;Haas F1 Team&quot;</td><td>55m 5s 680ms</td><td>2024-05-26 13:03:11</td><td>&quot;1254&quot;</td><td>4.0</td><td>false</td><td>&quot;&quot;</td><td>true</td><td>false</td><td>1235</td></tr><tr><td>8</td><td>2024</td><td>1h 36m 2s 379ms</td><td>&quot;MAG&quot;</td><td>20</td><td>null</td><td>1.0</td><td>1.0</td><td>null</td><td>null</td><td>null</td><td>null</td><td>null</td><td>null</td><td>null</td><td>null</td><td>null</td><td>null</td><td>null</td><td>null</td><td>false</td><td>&quot;HARD&quot;</td><td>1.0</td><td>true</td><td>&quot;Haas F1 Team&quot;</td><td>55m 5s 680ms</td><td>2024-05-26 13:03:11</td><td>&quot;1254&quot;</td><td>5.0</td><td>false</td><td>&quot;&quot;</td><td>true</td><td>false</td><td>1236</td></tr></tbody></table></div>"
      ],
      "text/plain": [
       "shape: (1_972_262, 34)\n",
       "┌─────────────┬──────┬────────────┬────────┬───┬────────────┬────────────┬────────────┬────────────┐\n",
       "│ round_numbe ┆ year ┆ Time       ┆ Driver ┆ … ┆ DeletedRea ┆ FastF1Gene ┆ IsAccurate ┆ __index_le │\n",
       "│ r           ┆ ---  ┆ ---        ┆ ---    ┆   ┆ son        ┆ rated      ┆ ---        ┆ vel_0__    │\n",
       "│ ---         ┆ i16  ┆ duration[n ┆ str    ┆   ┆ ---        ┆ ---        ┆ bool       ┆ ---        │\n",
       "│ i8          ┆      ┆ s]         ┆        ┆   ┆ str        ┆ bool       ┆            ┆ i64        │\n",
       "╞═════════════╪══════╪════════════╪════════╪═══╪════════════╪════════════╪════════════╪════════════╡\n",
       "│ 1           ┆ 2020 ┆ 34m 6s     ┆ GAS    ┆ … ┆            ┆ false      ┆ false      ┆ 0          │\n",
       "│             ┆      ┆ 353ms      ┆        ┆   ┆            ┆            ┆            ┆            │\n",
       "│ 1           ┆ 2020 ┆ 35m 18s    ┆ GAS    ┆ … ┆            ┆ false      ┆ true       ┆ 1          │\n",
       "│             ┆      ┆ 765ms      ┆        ┆   ┆            ┆            ┆            ┆            │\n",
       "│ 1           ┆ 2020 ┆ 36m 30s    ┆ GAS    ┆ … ┆            ┆ false      ┆ true       ┆ 2          │\n",
       "│             ┆      ┆ 76ms       ┆        ┆   ┆            ┆            ┆            ┆            │\n",
       "│ 1           ┆ 2020 ┆ 37m 40s    ┆ GAS    ┆ … ┆            ┆ false      ┆ true       ┆ 3          │\n",
       "│             ┆      ┆ 801ms      ┆        ┆   ┆            ┆            ┆            ┆            │\n",
       "│ 1           ┆ 2020 ┆ 38m 52s    ┆ GAS    ┆ … ┆            ┆ false      ┆ true       ┆ 4          │\n",
       "│             ┆      ┆ 312ms      ┆        ┆   ┆            ┆            ┆            ┆            │\n",
       "│ …           ┆ …    ┆ …          ┆ …      ┆ … ┆ …          ┆ …          ┆ …          ┆ …          │\n",
       "│ 8           ┆ 2024 ┆ 3h 19m 16s ┆ ZHO    ┆ … ┆            ┆ false      ┆ true       ┆ 1232       │\n",
       "│             ┆      ┆ 827ms      ┆        ┆   ┆            ┆            ┆            ┆            │\n",
       "│ 8           ┆ 2024 ┆ 1h 36m 2s  ┆ OCO    ┆ … ┆            ┆ true       ┆ false      ┆ 1233       │\n",
       "│             ┆      ┆ 379ms      ┆        ┆   ┆            ┆            ┆            ┆            │\n",
       "│ 8           ┆ 2024 ┆ 1h 36m 2s  ┆ PER    ┆ … ┆            ┆ true       ┆ false      ┆ 1234       │\n",
       "│             ┆      ┆ 379ms      ┆        ┆   ┆            ┆            ┆            ┆            │\n",
       "│ 8           ┆ 2024 ┆ 1h 36m 2s  ┆ HUL    ┆ … ┆            ┆ true       ┆ false      ┆ 1235       │\n",
       "│             ┆      ┆ 379ms      ┆        ┆   ┆            ┆            ┆            ┆            │\n",
       "│ 8           ┆ 2024 ┆ 1h 36m 2s  ┆ MAG    ┆ … ┆            ┆ true       ┆ false      ┆ 1236       │\n",
       "│             ┆      ┆ 379ms      ┆        ┆   ┆            ┆            ┆            ┆            │\n",
       "└─────────────┴──────┴────────────┴────────┴───┴────────────┴────────────┴────────────┴────────────┘"
      ]
     },
     "execution_count": 5,
     "metadata": {},
     "output_type": "execute_result"
    }
   ],
   "source": [
    "lap_data = lap_data.with_columns(c(\"year\").cast(pl.Int16), c(\"round_number\").cast(pl.Int8),c(\"DriverNumber\").cast(pl.Int8), c(\"LapStartDate\").dt.round(\"1s\")).collect()\n",
    "lap_data\n"
   ]
  },
  {
   "cell_type": "code",
   "execution_count": 6,
   "metadata": {},
   "outputs": [],
   "source": [
    "merged_race_data = race_data.join(lap_data,left_on=[\"year\",\"round_number\",\"date\",\"driver_number\"], right_on=[\"year\",\"round_number\",\"LapStartDate\",\"DriverNumber\"],how=\"left\")"
   ]
  },
  {
   "cell_type": "code",
   "execution_count": 7,
   "metadata": {},
   "outputs": [],
   "source": [
    "merged_race_data = merged_race_data.select(c(\"round_number\"),c(\"year\"),c(\"driver_number\"),c(\"LapNumber\"),c(\"x\"),c(\"y\"),c(\"pos_index\"),c(\"artifical_pos\"))"
   ]
  },
  {
   "cell_type": "code",
   "execution_count": 11,
   "metadata": {},
   "outputs": [
    {
     "data": {
      "text/html": [
       "<div><style>\n",
       ".dataframe > thead > tr,\n",
       ".dataframe > tbody > tr {\n",
       "  text-align: right;\n",
       "  white-space: pre-wrap;\n",
       "}\n",
       "</style>\n",
       "<small>shape: (52_669_606, 8)</small><table border=\"1\" class=\"dataframe\"><thead><tr><th>round_number</th><th>year</th><th>driver_number</th><th>LapNumber</th><th>x</th><th>y</th><th>pos_index</th><th>artifical_pos</th></tr><tr><td>i8</td><td>i16</td><td>i8</td><td>f64</td><td>f64</td><td>f64</td><td>u16</td><td>bool</td></tr></thead><tbody><tr><td>1</td><td>2020</td><td>6</td><td>1.0</td><td>1583.662599</td><td>-1055.522038</td><td>0</td><td>false</td></tr><tr><td>1</td><td>2020</td><td>6</td><td>1.0</td><td>1583.662599</td><td>-1055.522038</td><td>0</td><td>false</td></tr><tr><td>1</td><td>2020</td><td>6</td><td>1.0</td><td>1583.662599</td><td>-1055.522038</td><td>0</td><td>false</td></tr><tr><td>1</td><td>2020</td><td>6</td><td>1.0</td><td>1583.662599</td><td>-1055.522038</td><td>0</td><td>false</td></tr><tr><td>1</td><td>2020</td><td>6</td><td>1.0</td><td>1583.662599</td><td>-1055.522038</td><td>0</td><td>false</td></tr><tr><td>&hellip;</td><td>&hellip;</td><td>&hellip;</td><td>&hellip;</td><td>&hellip;</td><td>&hellip;</td><td>&hellip;</td><td>&hellip;</td></tr><tr><td>8</td><td>2024</td><td>31</td><td>null</td><td>-11049.250563</td><td>-1381.68665</td><td>9444</td><td>true</td></tr><tr><td>8</td><td>2024</td><td>31</td><td>null</td><td>-11049.250563</td><td>-1381.68665</td><td>9444</td><td>true</td></tr><tr><td>8</td><td>2024</td><td>31</td><td>null</td><td>-11049.250563</td><td>-1381.68665</td><td>9444</td><td>true</td></tr><tr><td>8</td><td>2024</td><td>31</td><td>null</td><td>-11049.250563</td><td>-1381.68665</td><td>9444</td><td>true</td></tr><tr><td>8</td><td>2024</td><td>31</td><td>null</td><td>-11049.250563</td><td>-1381.68665</td><td>9444</td><td>true</td></tr></tbody></table></div>"
      ],
      "text/plain": [
       "shape: (52_669_606, 8)\n",
       "┌─────────────┬──────┬─────────────┬───────────┬─────────────┬────────────┬───────────┬────────────┐\n",
       "│ round_numbe ┆ year ┆ driver_numb ┆ LapNumber ┆ x           ┆ y          ┆ pos_index ┆ artifical_ │\n",
       "│ r           ┆ ---  ┆ er          ┆ ---       ┆ ---         ┆ ---        ┆ ---       ┆ pos        │\n",
       "│ ---         ┆ i16  ┆ ---         ┆ f64       ┆ f64         ┆ f64        ┆ u16       ┆ ---        │\n",
       "│ i8          ┆      ┆ i8          ┆           ┆             ┆            ┆           ┆ bool       │\n",
       "╞═════════════╪══════╪═════════════╪═══════════╪═════════════╪════════════╪═══════════╪════════════╡\n",
       "│ 1           ┆ 2020 ┆ 6           ┆ 1.0       ┆ 1583.662599 ┆ -1055.5220 ┆ 0         ┆ false      │\n",
       "│             ┆      ┆             ┆           ┆             ┆ 38         ┆           ┆            │\n",
       "│ 1           ┆ 2020 ┆ 6           ┆ 1.0       ┆ 1583.662599 ┆ -1055.5220 ┆ 0         ┆ false      │\n",
       "│             ┆      ┆             ┆           ┆             ┆ 38         ┆           ┆            │\n",
       "│ 1           ┆ 2020 ┆ 6           ┆ 1.0       ┆ 1583.662599 ┆ -1055.5220 ┆ 0         ┆ false      │\n",
       "│             ┆      ┆             ┆           ┆             ┆ 38         ┆           ┆            │\n",
       "│ 1           ┆ 2020 ┆ 6           ┆ 1.0       ┆ 1583.662599 ┆ -1055.5220 ┆ 0         ┆ false      │\n",
       "│             ┆      ┆             ┆           ┆             ┆ 38         ┆           ┆            │\n",
       "│ 1           ┆ 2020 ┆ 6           ┆ 1.0       ┆ 1583.662599 ┆ -1055.5220 ┆ 0         ┆ false      │\n",
       "│             ┆      ┆             ┆           ┆             ┆ 38         ┆           ┆            │\n",
       "│ …           ┆ …    ┆ …           ┆ …         ┆ …           ┆ …          ┆ …         ┆ …          │\n",
       "│ 8           ┆ 2024 ┆ 31          ┆ null      ┆ -11049.2505 ┆ -1381.6866 ┆ 9444      ┆ true       │\n",
       "│             ┆      ┆             ┆           ┆ 63          ┆ 5          ┆           ┆            │\n",
       "│ 8           ┆ 2024 ┆ 31          ┆ null      ┆ -11049.2505 ┆ -1381.6866 ┆ 9444      ┆ true       │\n",
       "│             ┆      ┆             ┆           ┆ 63          ┆ 5          ┆           ┆            │\n",
       "│ 8           ┆ 2024 ┆ 31          ┆ null      ┆ -11049.2505 ┆ -1381.6866 ┆ 9444      ┆ true       │\n",
       "│             ┆      ┆             ┆           ┆ 63          ┆ 5          ┆           ┆            │\n",
       "│ 8           ┆ 2024 ┆ 31          ┆ null      ┆ -11049.2505 ┆ -1381.6866 ┆ 9444      ┆ true       │\n",
       "│             ┆      ┆             ┆           ┆ 63          ┆ 5          ┆           ┆            │\n",
       "│ 8           ┆ 2024 ┆ 31          ┆ null      ┆ -11049.2505 ┆ -1381.6866 ┆ 9444      ┆ true       │\n",
       "│             ┆      ┆             ┆           ┆ 63          ┆ 5          ┆           ┆            │\n",
       "└─────────────┴──────┴─────────────┴───────────┴─────────────┴────────────┴───────────┴────────────┘"
      ]
     },
     "execution_count": 11,
     "metadata": {},
     "output_type": "execute_result"
    }
   ],
   "source": [
    "merged_race_data"
   ]
  },
  {
   "cell_type": "code",
   "execution_count": 16,
   "metadata": {},
   "outputs": [],
   "source": [
    "merged_race_data.unique(\n",
    "    subset=[\n",
    "        \"round_number\",\n",
    "        \"year\",\n",
    "        \"driver_number\",\n",
    "        \"pos_index\",\n",
    "    ],\n",
    "    keep=\"first\",\n",
    "    maintain_order=True\n",
    ").write_parquet(\"tester.parquet\")"
   ]
  }
 ],
 "metadata": {
  "kernelspec": {
   "display_name": "infovis_venv",
   "language": "python",
   "name": "python3"
  },
  "language_info": {
   "codemirror_mode": {
    "name": "ipython",
    "version": 3
   },
   "file_extension": ".py",
   "mimetype": "text/x-python",
   "name": "python",
   "nbconvert_exporter": "python",
   "pygments_lexer": "ipython3",
   "version": "3.12.3"
  }
 },
 "nbformat": 4,
 "nbformat_minor": 2
}
