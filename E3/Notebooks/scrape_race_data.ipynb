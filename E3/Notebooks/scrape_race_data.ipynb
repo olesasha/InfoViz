{
 "cells": [
  {
   "cell_type": "markdown",
   "metadata": {},
   "source": [
    "### This Notebook scrapes all tracks and saves the pos data into a parquet-file"
   ]
  },
  {
   "cell_type": "code",
   "execution_count": 1,
   "metadata": {},
   "outputs": [
    {
     "ename": "ModuleNotFoundError",
     "evalue": "No module named 'tqdm'",
     "output_type": "error",
     "traceback": [
      "\u001b[0;31m---------------------------------------------------------------------------\u001b[0m",
      "\u001b[0;31mModuleNotFoundError\u001b[0m                       Traceback (most recent call last)",
      "Cell \u001b[0;32mIn[1], line 4\u001b[0m\n\u001b[1;32m      2\u001b[0m \u001b[38;5;28;01mimport\u001b[39;00m \u001b[38;5;21;01mnumpy\u001b[39;00m \u001b[38;5;28;01mas\u001b[39;00m \u001b[38;5;21;01mnp\u001b[39;00m\n\u001b[1;32m      3\u001b[0m \u001b[38;5;28;01mimport\u001b[39;00m \u001b[38;5;21;01mpandas\u001b[39;00m \u001b[38;5;28;01mas\u001b[39;00m \u001b[38;5;21;01mpd\u001b[39;00m\n\u001b[0;32m----> 4\u001b[0m \u001b[38;5;28;01mfrom\u001b[39;00m \u001b[38;5;21;01mtqdm\u001b[39;00m \u001b[38;5;28;01mimport\u001b[39;00m tqdm\n",
      "\u001b[0;31mModuleNotFoundError\u001b[0m: No module named 'tqdm'"
     ]
    }
   ],
   "source": [
    "import fastf1 as ff1\n",
    "import numpy as np\n",
    "import pandas as pd\n",
    "from tqdm import tqdm"
   ]
  },
  {
   "cell_type": "markdown",
   "metadata": {},
   "source": [
    "Get all GPs from the years 2018 to 2024"
   ]
  },
  {
   "cell_type": "code",
   "execution_count": null,
   "metadata": {},
   "outputs": [],
   "source": [
    "all_gps = []\n",
    "for year in range(2020,2025):\n",
    "    temp_df = pd.DataFrame(ff1.get_event_schedule(year)[\"RoundNumber\"])\n",
    "    temp_df[\"year\"] = year\n",
    "    if year != 2024:\n",
    "        all_gps.append(temp_df)\n",
    "    else:\n",
    "        all_gps.append(temp_df.loc[:8])\n",
    "\n",
    "\n",
    "\n",
    "\n",
    "df_all_gps = pd.concat(all_gps)"
   ]
  },
  {
   "cell_type": "markdown",
   "metadata": {},
   "source": [
    "Drop testing events"
   ]
  },
  {
   "cell_type": "code",
   "execution_count": null,
   "metadata": {},
   "outputs": [],
   "source": [
    "df_all_gps = df_all_gps.replace({0:None})\n",
    "df_all_gps = df_all_gps.dropna()\n",
    "df_all_gps = df_all_gps.reset_index(drop=True)"
   ]
  },
  {
   "cell_type": "code",
   "execution_count": null,
   "metadata": {},
   "outputs": [],
   "source": [
    "df_all_gps"
   ]
  },
  {
   "cell_type": "markdown",
   "metadata": {},
   "source": [
    "Scrape the track data for every track"
   ]
  },
  {
   "cell_type": "code",
   "execution_count": null,
   "metadata": {},
   "outputs": [],
   "source": [
    "# Hilfsfunktion um Positionen gleich richtig zu rotieren\n",
    "def rotate(xy, *, angle):\n",
    "    rot_mat = np.array(\n",
    "        [[np.cos(angle), np.sin(angle)], [-np.sin(angle), np.cos(angle)]]\n",
    "    )\n",
    "    return np.matmul(xy, rot_mat)"
   ]
  },
  {
   "cell_type": "code",
   "execution_count": null,
   "metadata": {},
   "outputs": [],
   "source": [
    "all_driver_data = []\n",
    "for _,gp_data in df_all_gps.iterrows():\n",
    "    year = gp_data[\"year\"]\n",
    "    gp = gp_data[\"RoundNumber\"]\n",
    "\n",
    "    session = ff1.get_session(year,gp,\"R\")\n",
    "    session.load()\n",
    "\n",
    "    for driver in session.drivers:\n",
    "        \n",
    "        try:\n",
    "            df_pos_data_driver = session.laps.pick_driver(driver).get_pos_data()\n",
    "            pos_data_driver = df_pos_data_driver.loc[:, (\"X\", \"Y\")].to_numpy()\n",
    "\n",
    "            circuit_info = session.get_circuit_info()\n",
    "            # Convert the rotation angle from degrees to radian.\n",
    "            track_angle = circuit_info.rotation / 180 * np.pi\n",
    "\n",
    "            # Rotate and plot the track map.\n",
    "            rotated_track = rotate(pos_data_driver, angle=track_angle)\n",
    "            \n",
    "            df_temp_race_data_driver = pd.DataFrame(rotated_track, columns=[\"x\", \"y\"])\n",
    "            \n",
    "            temp_driver_info = session.get_driver(driver)\n",
    "\n",
    "\n",
    "            df_temp_race_data_driver[\"round_number\"] = gp\n",
    "            df_temp_race_data_driver[\"year\"] = year\n",
    "            df_temp_race_data_driver[\"driver_number\"] = temp_driver_info[\"DriverNumber\"]\n",
    "            df_temp_race_data_driver[\"data\"] = df_pos_data_driver[\"Date\"]\n",
    "            df_temp_race_data_driver[\"pos_index\"] = df_temp_race_data_driver.index\n",
    "\n",
    "            all_driver_data.append(df_temp_race_data_driver)\n",
    "\n",
    "        \n",
    "        except:\n",
    "            print(\"No data available\")\n",
    "        # add the first row to end to make the lap complete\n",
    "        \n",
    "\n",
    "\n",
    "df_track_data = pd.concat(all_driver_data)\n",
    "\n"
   ]
  },
  {
   "cell_type": "code",
   "execution_count": null,
   "metadata": {},
   "outputs": [],
   "source": [
    "df_track_data[\"round_number\"] = df_track_data[\"round_number\"].astype(np.int8) \n",
    "df_track_data[\"pos_index\"] = df_track_data[\"pos_index\"].astype(np.uint16) \n",
    "df_track_data[\"year\"] = df_track_data[\"year\"].astype(np.int16) \n",
    "df_track_data[\"driver_number\"] = df_track_data[\"driver_number\"].astype(np.int8) "
   ]
  },
  {
   "cell_type": "code",
   "execution_count": null,
   "metadata": {},
   "outputs": [],
   "source": [
    "df_track_data.info()"
   ]
  },
  {
   "cell_type": "code",
   "execution_count": null,
   "metadata": {},
   "outputs": [],
   "source": [
    "df_track_data.to_parquet(\"./static/data/race_data.parquet\")"
   ]
  }
 ],
 "metadata": {
  "kernelspec": {
   "display_name": "infovis_venv",
   "language": "python",
   "name": "python3"
  },
  "language_info": {
   "codemirror_mode": {
    "name": "ipython",
    "version": 3
   },
   "file_extension": ".py",
   "mimetype": "text/x-python",
   "name": "python",
   "nbconvert_exporter": "python",
   "pygments_lexer": "ipython3",
   "version": "3.12.3"
  }
 },
 "nbformat": 4,
 "nbformat_minor": 2
}
