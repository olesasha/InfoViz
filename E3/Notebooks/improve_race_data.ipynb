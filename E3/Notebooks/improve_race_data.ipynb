{
 "cells": [
  {
   "cell_type": "code",
   "execution_count": 1,
   "metadata": {},
   "outputs": [],
   "source": [
    "import polars as pl\n",
    "import pandas as pd"
   ]
  },
  {
   "cell_type": "code",
   "execution_count": 2,
   "metadata": {},
   "outputs": [],
   "source": [
    "lap_data = pl.scan_parquet(\"/Users/max/Library/Mobile Documents/com~apple~CloudDocs/100 Hochschule/110 TU Wien/SoSe 24/InfoVis/InfoVis2024/E3/static/data/all_laps.parquet\")\n",
    "driver_data = pl.scan_parquet(\"/Users/max/Library/Mobile Documents/com~apple~CloudDocs/100 Hochschule/110 TU Wien/SoSe 24/InfoVis/InfoVis2024/E3/static/data/all_driver_data.parquet\")"
   ]
  },
  {
   "cell_type": "code",
   "execution_count": null,
   "metadata": {},
   "outputs": [],
   "source": []
  },
  {
   "cell_type": "code",
   "execution_count": 3,
   "metadata": {},
   "outputs": [],
   "source": [
    "joined_data = lap_data.join(driver_data, left_on=[\"round_number\",\"year\",\"DriverNumber\"], right_on=[\"round_number\",\"year\",\"DriverNumber\"])"
   ]
  },
  {
   "cell_type": "code",
   "execution_count": 4,
   "metadata": {},
   "outputs": [],
   "source": [
    "joined_data = joined_data.collect()"
   ]
  },
  {
   "cell_type": "code",
   "execution_count": 5,
   "metadata": {},
   "outputs": [],
   "source": [
    "joined_data = joined_data.with_columns(\n",
    "    pl.when(pl.col(\"LapNumber\") == 1).then(pl.col(\"GridPosition\")).otherwise(pl.col(\"Position\")).alias(\"Position\")\n",
    ")\n"
   ]
  },
  {
   "cell_type": "code",
   "execution_count": 6,
   "metadata": {},
   "outputs": [],
   "source": [
    "joined_data = joined_data.rename({\"Position_right\":\"classified_pos\"})"
   ]
  },
  {
   "cell_type": "code",
   "execution_count": 7,
   "metadata": {},
   "outputs": [
    {
     "data": {
      "text/html": [
       "<div><style>\n",
       ".dataframe > thead > tr,\n",
       ".dataframe > tbody > tr {\n",
       "  text-align: right;\n",
       "  white-space: pre-wrap;\n",
       "}\n",
       "</style>\n",
       "<small>shape: (98_663, 54)</small><table border=\"1\" class=\"dataframe\"><thead><tr><th>round_number</th><th>year</th><th>Time</th><th>Driver</th><th>DriverNumber</th><th>LapTime</th><th>LapNumber</th><th>Stint</th><th>PitOutTime</th><th>PitInTime</th><th>Sector1Time</th><th>Sector2Time</th><th>Sector3Time</th><th>Sector1SessionTime</th><th>Sector2SessionTime</th><th>Sector3SessionTime</th><th>SpeedI1</th><th>SpeedI2</th><th>SpeedFL</th><th>SpeedST</th><th>IsPersonalBest</th><th>Compound</th><th>TyreLife</th><th>FreshTyre</th><th>Team</th><th>LapStartTime</th><th>LapStartDate</th><th>TrackStatus</th><th>Position</th><th>Deleted</th><th>DeletedReason</th><th>FastF1Generated</th><th>IsAccurate</th><th>__index_level_0__</th><th>BroadcastName</th><th>Abbreviation</th><th>DriverId</th><th>TeamName</th><th>TeamColor</th><th>TeamId</th><th>FirstName</th><th>LastName</th><th>FullName</th><th>HeadshotUrl</th><th>CountryCode</th><th>classified_pos</th><th>ClassifiedPosition</th><th>GridPosition</th><th>Q1</th><th>Q2</th><th>Q3</th><th>Time_right</th><th>Status</th><th>Points</th></tr><tr><td>i8</td><td>i16</td><td>duration[ns]</td><td>str</td><td>i8</td><td>duration[ns]</td><td>f64</td><td>f64</td><td>duration[ns]</td><td>duration[ns]</td><td>duration[ns]</td><td>duration[ns]</td><td>duration[ns]</td><td>duration[ns]</td><td>duration[ns]</td><td>duration[ns]</td><td>f64</td><td>f64</td><td>f64</td><td>f64</td><td>bool</td><td>str</td><td>f64</td><td>bool</td><td>str</td><td>duration[ns]</td><td>datetime[ns]</td><td>str</td><td>f64</td><td>bool</td><td>str</td><td>bool</td><td>bool</td><td>i64</td><td>str</td><td>str</td><td>str</td><td>str</td><td>str</td><td>str</td><td>str</td><td>str</td><td>str</td><td>str</td><td>str</td><td>f64</td><td>str</td><td>f64</td><td>null</td><td>null</td><td>null</td><td>duration[μs]</td><td>str</td><td>f64</td></tr></thead><tbody><tr><td>1</td><td>2020</td><td>34m 6s 353ms</td><td>&quot;GAS&quot;</td><td>10</td><td>1m 19s 106ms</td><td>1.0</td><td>1.0</td><td>null</td><td>null</td><td>null</td><td>33s 352ms</td><td>23s 247ms</td><td>null</td><td>33m 43s 79ms</td><td>34m 6s 511ms</td><td>309.0</td><td>217.0</td><td>274.0</td><td>290.0</td><td>false</td><td>&quot;MEDIUM&quot;</td><td>1.0</td><td>true</td><td>&quot;AlphaTauri&quot;</td><td>32m 47s 6ms</td><td>2020-07-05 13:12:47.229</td><td>&quot;1&quot;</td><td>12.0</td><td>false</td><td>&quot;&quot;</td><td>false</td><td>false</td><td>0</td><td>&quot;P GASLY&quot;</td><td>&quot;GAS&quot;</td><td>&quot;gasly&quot;</td><td>&quot;AlphaTauri&quot;</td><td>&quot;4e7c9b&quot;</td><td>&quot;alphatauri&quot;</td><td>&quot;Pierre&quot;</td><td>&quot;Gasly&quot;</td><td>&quot;Pierre Gasly&quot;</td><td>&quot;https://www.fo…</td><td>&quot;&quot;</td><td>7.0</td><td>&quot;7&quot;</td><td>12.0</td><td>null</td><td>null</td><td>null</td><td>16s 682ms</td><td>&quot;Finished&quot;</td><td>6.0</td></tr><tr><td>1</td><td>2020</td><td>35m 18s 765ms</td><td>&quot;GAS&quot;</td><td>10</td><td>1m 12s 412ms</td><td>2.0</td><td>1.0</td><td>null</td><td>null</td><td>17s 960ms</td><td>32s 228ms</td><td>22s 224ms</td><td>34m 24s 262ms</td><td>34m 56s 490ms</td><td>35m 18s 714ms</td><td>282.0</td><td>226.0</td><td>270.0</td><td>292.0</td><td>true</td><td>&quot;MEDIUM&quot;</td><td>2.0</td><td>true</td><td>&quot;AlphaTauri&quot;</td><td>34m 6s 353ms</td><td>2020-07-05 13:14:06.576</td><td>&quot;1&quot;</td><td>12.0</td><td>false</td><td>&quot;&quot;</td><td>false</td><td>true</td><td>1</td><td>&quot;P GASLY&quot;</td><td>&quot;GAS&quot;</td><td>&quot;gasly&quot;</td><td>&quot;AlphaTauri&quot;</td><td>&quot;4e7c9b&quot;</td><td>&quot;alphatauri&quot;</td><td>&quot;Pierre&quot;</td><td>&quot;Gasly&quot;</td><td>&quot;Pierre Gasly&quot;</td><td>&quot;https://www.fo…</td><td>&quot;&quot;</td><td>7.0</td><td>&quot;7&quot;</td><td>12.0</td><td>null</td><td>null</td><td>null</td><td>16s 682ms</td><td>&quot;Finished&quot;</td><td>6.0</td></tr><tr><td>1</td><td>2020</td><td>36m 30s 76ms</td><td>&quot;GAS&quot;</td><td>10</td><td>1m 11s 311ms</td><td>3.0</td><td>1.0</td><td>null</td><td>null</td><td>17s 513ms</td><td>31s 717ms</td><td>22s 81ms</td><td>35m 36s 227ms</td><td>36m 7s 944ms</td><td>36m 30s 25ms</td><td>307.0</td><td>224.0</td><td>277.0</td><td>311.0</td><td>true</td><td>&quot;MEDIUM&quot;</td><td>3.0</td><td>true</td><td>&quot;AlphaTauri&quot;</td><td>35m 18s 765ms</td><td>2020-07-05 13:15:18.988</td><td>&quot;1&quot;</td><td>12.0</td><td>false</td><td>&quot;&quot;</td><td>false</td><td>true</td><td>2</td><td>&quot;P GASLY&quot;</td><td>&quot;GAS&quot;</td><td>&quot;gasly&quot;</td><td>&quot;AlphaTauri&quot;</td><td>&quot;4e7c9b&quot;</td><td>&quot;alphatauri&quot;</td><td>&quot;Pierre&quot;</td><td>&quot;Gasly&quot;</td><td>&quot;Pierre Gasly&quot;</td><td>&quot;https://www.fo…</td><td>&quot;&quot;</td><td>7.0</td><td>&quot;7&quot;</td><td>12.0</td><td>null</td><td>null</td><td>null</td><td>16s 682ms</td><td>&quot;Finished&quot;</td><td>6.0</td></tr><tr><td>1</td><td>2020</td><td>37m 40s 801ms</td><td>&quot;GAS&quot;</td><td>10</td><td>1m 10s 725ms</td><td>4.0</td><td>1.0</td><td>null</td><td>null</td><td>17s 410ms</td><td>31s 510ms</td><td>21s 805ms</td><td>36m 47s 435ms</td><td>37m 18s 945ms</td><td>37m 40s 750ms</td><td>309.0</td><td>218.0</td><td>275.0</td><td>309.0</td><td>true</td><td>&quot;MEDIUM&quot;</td><td>4.0</td><td>true</td><td>&quot;AlphaTauri&quot;</td><td>36m 30s 76ms</td><td>2020-07-05 13:16:30.299</td><td>&quot;1&quot;</td><td>12.0</td><td>false</td><td>&quot;&quot;</td><td>false</td><td>true</td><td>3</td><td>&quot;P GASLY&quot;</td><td>&quot;GAS&quot;</td><td>&quot;gasly&quot;</td><td>&quot;AlphaTauri&quot;</td><td>&quot;4e7c9b&quot;</td><td>&quot;alphatauri&quot;</td><td>&quot;Pierre&quot;</td><td>&quot;Gasly&quot;</td><td>&quot;Pierre Gasly&quot;</td><td>&quot;https://www.fo…</td><td>&quot;&quot;</td><td>7.0</td><td>&quot;7&quot;</td><td>12.0</td><td>null</td><td>null</td><td>null</td><td>16s 682ms</td><td>&quot;Finished&quot;</td><td>6.0</td></tr><tr><td>1</td><td>2020</td><td>38m 52s 312ms</td><td>&quot;GAS&quot;</td><td>10</td><td>1m 11s 511ms</td><td>5.0</td><td>1.0</td><td>null</td><td>null</td><td>17s 464ms</td><td>31s 827ms</td><td>22s 220ms</td><td>37m 58s 214ms</td><td>38m 30s 41ms</td><td>38m 52s 261ms</td><td>303.0</td><td>219.0</td><td>268.0</td><td>296.0</td><td>false</td><td>&quot;MEDIUM&quot;</td><td>5.0</td><td>true</td><td>&quot;AlphaTauri&quot;</td><td>37m 40s 801ms</td><td>2020-07-05 13:17:41.024</td><td>&quot;1&quot;</td><td>12.0</td><td>false</td><td>&quot;&quot;</td><td>false</td><td>true</td><td>4</td><td>&quot;P GASLY&quot;</td><td>&quot;GAS&quot;</td><td>&quot;gasly&quot;</td><td>&quot;AlphaTauri&quot;</td><td>&quot;4e7c9b&quot;</td><td>&quot;alphatauri&quot;</td><td>&quot;Pierre&quot;</td><td>&quot;Gasly&quot;</td><td>&quot;Pierre Gasly&quot;</td><td>&quot;https://www.fo…</td><td>&quot;&quot;</td><td>7.0</td><td>&quot;7&quot;</td><td>12.0</td><td>null</td><td>null</td><td>null</td><td>16s 682ms</td><td>&quot;Finished&quot;</td><td>6.0</td></tr><tr><td>&hellip;</td><td>&hellip;</td><td>&hellip;</td><td>&hellip;</td><td>&hellip;</td><td>&hellip;</td><td>&hellip;</td><td>&hellip;</td><td>&hellip;</td><td>&hellip;</td><td>&hellip;</td><td>&hellip;</td><td>&hellip;</td><td>&hellip;</td><td>&hellip;</td><td>&hellip;</td><td>&hellip;</td><td>&hellip;</td><td>&hellip;</td><td>&hellip;</td><td>&hellip;</td><td>&hellip;</td><td>&hellip;</td><td>&hellip;</td><td>&hellip;</td><td>&hellip;</td><td>&hellip;</td><td>&hellip;</td><td>&hellip;</td><td>&hellip;</td><td>&hellip;</td><td>&hellip;</td><td>&hellip;</td><td>&hellip;</td><td>&hellip;</td><td>&hellip;</td><td>&hellip;</td><td>&hellip;</td><td>&hellip;</td><td>&hellip;</td><td>&hellip;</td><td>&hellip;</td><td>&hellip;</td><td>&hellip;</td><td>&hellip;</td><td>&hellip;</td><td>&hellip;</td><td>&hellip;</td><td>&hellip;</td><td>&hellip;</td><td>&hellip;</td><td>&hellip;</td><td>&hellip;</td><td>&hellip;</td></tr><tr><td>8</td><td>2024</td><td>3h 19m 16s 827ms</td><td>&quot;ZHO&quot;</td><td>24</td><td>1m 17s 173ms</td><td>76.0</td><td>3.0</td><td>null</td><td>null</td><td>20s 460ms</td><td>35s 927ms</td><td>20s 786ms</td><td>3h 18m 20s 81ms</td><td>3h 18m 56s 8ms</td><td>3h 19m 16s 794ms</td><td>205.0</td><td>188.0</td><td>258.0</td><td>278.0</td><td>false</td><td>&quot;SOFT&quot;</td><td>6.0</td><td>true</td><td>&quot;Kick Sauber&quot;</td><td>3h 17m 59s 654ms</td><td>2024-05-26 15:26:05.043</td><td>&quot;1&quot;</td><td>16.0</td><td>false</td><td>&quot;&quot;</td><td>false</td><td>true</td><td>1232</td><td>&quot;G ZHOU&quot;</td><td>&quot;ZHO&quot;</td><td>&quot;zhou&quot;</td><td>&quot;Kick Sauber&quot;</td><td>&quot;52e252&quot;</td><td>&quot;sauber&quot;</td><td>&quot;Guanyu&quot;</td><td>&quot;Zhou&quot;</td><td>&quot;Guanyu Zhou&quot;</td><td>&quot;https://media.…</td><td>&quot;CHN&quot;</td><td>16.0</td><td>&quot;16&quot;</td><td>18.0</td><td>null</td><td>null</td><td>null</td><td>null</td><td>&quot;+2 Laps&quot;</td><td>0.0</td></tr><tr><td>8</td><td>2024</td><td>1h 36m 2s 379ms</td><td>&quot;OCO&quot;</td><td>31</td><td>null</td><td>1.0</td><td>1.0</td><td>null</td><td>null</td><td>null</td><td>null</td><td>null</td><td>null</td><td>null</td><td>null</td><td>null</td><td>null</td><td>null</td><td>null</td><td>false</td><td>&quot;HARD&quot;</td><td>1.0</td><td>true</td><td>&quot;Alpine&quot;</td><td>55m 5s 680ms</td><td>2024-05-26 13:03:11.069</td><td>&quot;1254&quot;</td><td>11.0</td><td>false</td><td>&quot;&quot;</td><td>true</td><td>false</td><td>1233</td><td>&quot;E OCON&quot;</td><td>&quot;OCO&quot;</td><td>&quot;ocon&quot;</td><td>&quot;Alpine&quot;</td><td>&quot;0093cc&quot;</td><td>&quot;alpine&quot;</td><td>&quot;Esteban&quot;</td><td>&quot;Ocon&quot;</td><td>&quot;Esteban Ocon&quot;</td><td>&quot;https://media.…</td><td>&quot;FRA&quot;</td><td>17.0</td><td>&quot;R&quot;</td><td>11.0</td><td>null</td><td>null</td><td>null</td><td>null</td><td>&quot;Collision&quot;</td><td>0.0</td></tr><tr><td>8</td><td>2024</td><td>1h 36m 2s 379ms</td><td>&quot;PER&quot;</td><td>11</td><td>null</td><td>1.0</td><td>1.0</td><td>null</td><td>null</td><td>null</td><td>null</td><td>null</td><td>null</td><td>null</td><td>null</td><td>null</td><td>null</td><td>null</td><td>null</td><td>false</td><td>&quot;HARD&quot;</td><td>1.0</td><td>true</td><td>&quot;Red Bull Racin…</td><td>55m 5s 680ms</td><td>2024-05-26 13:03:11.069</td><td>&quot;1254&quot;</td><td>16.0</td><td>false</td><td>&quot;&quot;</td><td>true</td><td>false</td><td>1234</td><td>&quot;S PEREZ&quot;</td><td>&quot;PER&quot;</td><td>&quot;perez&quot;</td><td>&quot;Red Bull Racin…</td><td>&quot;3671C6&quot;</td><td>&quot;red_bull&quot;</td><td>&quot;Sergio&quot;</td><td>&quot;Perez&quot;</td><td>&quot;Sergio Perez&quot;</td><td>&quot;https://media.…</td><td>&quot;MEX&quot;</td><td>18.0</td><td>&quot;R&quot;</td><td>16.0</td><td>null</td><td>null</td><td>null</td><td>null</td><td>&quot;Collision&quot;</td><td>0.0</td></tr><tr><td>8</td><td>2024</td><td>1h 36m 2s 379ms</td><td>&quot;HUL&quot;</td><td>27</td><td>null</td><td>1.0</td><td>1.0</td><td>null</td><td>null</td><td>null</td><td>null</td><td>null</td><td>null</td><td>null</td><td>null</td><td>null</td><td>null</td><td>null</td><td>null</td><td>false</td><td>&quot;MEDIUM&quot;</td><td>1.0</td><td>true</td><td>&quot;Haas F1 Team&quot;</td><td>55m 5s 680ms</td><td>2024-05-26 13:03:11.069</td><td>&quot;1254&quot;</td><td>19.0</td><td>false</td><td>&quot;&quot;</td><td>true</td><td>false</td><td>1235</td><td>&quot;N HULKENBERG&quot;</td><td>&quot;HUL&quot;</td><td>&quot;hulkenberg&quot;</td><td>&quot;Haas F1 Team&quot;</td><td>&quot;B6BABD&quot;</td><td>&quot;haas&quot;</td><td>&quot;Nico&quot;</td><td>&quot;Hulkenberg&quot;</td><td>&quot;Nico Hulkenber…</td><td>&quot;https://media.…</td><td>&quot;GER&quot;</td><td>19.0</td><td>&quot;R&quot;</td><td>19.0</td><td>null</td><td>null</td><td>null</td><td>null</td><td>&quot;Collision&quot;</td><td>0.0</td></tr><tr><td>8</td><td>2024</td><td>1h 36m 2s 379ms</td><td>&quot;MAG&quot;</td><td>20</td><td>null</td><td>1.0</td><td>1.0</td><td>null</td><td>null</td><td>null</td><td>null</td><td>null</td><td>null</td><td>null</td><td>null</td><td>null</td><td>null</td><td>null</td><td>null</td><td>false</td><td>&quot;HARD&quot;</td><td>1.0</td><td>true</td><td>&quot;Haas F1 Team&quot;</td><td>55m 5s 680ms</td><td>2024-05-26 13:03:11.069</td><td>&quot;1254&quot;</td><td>20.0</td><td>false</td><td>&quot;&quot;</td><td>true</td><td>false</td><td>1236</td><td>&quot;K MAGNUSSEN&quot;</td><td>&quot;MAG&quot;</td><td>&quot;kevin_magnusse…</td><td>&quot;Haas F1 Team&quot;</td><td>&quot;B6BABD&quot;</td><td>&quot;haas&quot;</td><td>&quot;Kevin&quot;</td><td>&quot;Magnussen&quot;</td><td>&quot;Kevin Magnusse…</td><td>&quot;https://media.…</td><td>&quot;DEN&quot;</td><td>20.0</td><td>&quot;R&quot;</td><td>20.0</td><td>null</td><td>null</td><td>null</td><td>null</td><td>&quot;Collision&quot;</td><td>0.0</td></tr></tbody></table></div>"
      ],
      "text/plain": [
       "shape: (98_663, 54)\n",
       "┌──────────────┬──────┬──────────────────┬────────┬───┬──────┬──────────────┬───────────┬────────┐\n",
       "│ round_number ┆ year ┆ Time             ┆ Driver ┆ … ┆ Q3   ┆ Time_right   ┆ Status    ┆ Points │\n",
       "│ ---          ┆ ---  ┆ ---              ┆ ---    ┆   ┆ ---  ┆ ---          ┆ ---       ┆ ---    │\n",
       "│ i8           ┆ i16  ┆ duration[ns]     ┆ str    ┆   ┆ null ┆ duration[μs] ┆ str       ┆ f64    │\n",
       "╞══════════════╪══════╪══════════════════╪════════╪═══╪══════╪══════════════╪═══════════╪════════╡\n",
       "│ 1            ┆ 2020 ┆ 34m 6s 353ms     ┆ GAS    ┆ … ┆ null ┆ 16s 682ms    ┆ Finished  ┆ 6.0    │\n",
       "│ 1            ┆ 2020 ┆ 35m 18s 765ms    ┆ GAS    ┆ … ┆ null ┆ 16s 682ms    ┆ Finished  ┆ 6.0    │\n",
       "│ 1            ┆ 2020 ┆ 36m 30s 76ms     ┆ GAS    ┆ … ┆ null ┆ 16s 682ms    ┆ Finished  ┆ 6.0    │\n",
       "│ 1            ┆ 2020 ┆ 37m 40s 801ms    ┆ GAS    ┆ … ┆ null ┆ 16s 682ms    ┆ Finished  ┆ 6.0    │\n",
       "│ 1            ┆ 2020 ┆ 38m 52s 312ms    ┆ GAS    ┆ … ┆ null ┆ 16s 682ms    ┆ Finished  ┆ 6.0    │\n",
       "│ …            ┆ …    ┆ …                ┆ …      ┆ … ┆ …    ┆ …            ┆ …         ┆ …      │\n",
       "│ 8            ┆ 2024 ┆ 3h 19m 16s 827ms ┆ ZHO    ┆ … ┆ null ┆ null         ┆ +2 Laps   ┆ 0.0    │\n",
       "│ 8            ┆ 2024 ┆ 1h 36m 2s 379ms  ┆ OCO    ┆ … ┆ null ┆ null         ┆ Collision ┆ 0.0    │\n",
       "│ 8            ┆ 2024 ┆ 1h 36m 2s 379ms  ┆ PER    ┆ … ┆ null ┆ null         ┆ Collision ┆ 0.0    │\n",
       "│ 8            ┆ 2024 ┆ 1h 36m 2s 379ms  ┆ HUL    ┆ … ┆ null ┆ null         ┆ Collision ┆ 0.0    │\n",
       "│ 8            ┆ 2024 ┆ 1h 36m 2s 379ms  ┆ MAG    ┆ … ┆ null ┆ null         ┆ Collision ┆ 0.0    │\n",
       "└──────────────┴──────┴──────────────────┴────────┴───┴──────┴──────────────┴───────────┴────────┘"
      ]
     },
     "execution_count": 7,
     "metadata": {},
     "output_type": "execute_result"
    }
   ],
   "source": [
    "joined_data"
   ]
  },
  {
   "cell_type": "code",
   "execution_count": 74,
   "metadata": {},
   "outputs": [
    {
     "data": {
      "text/html": [
       "<div><style>\n",
       ".dataframe > thead > tr,\n",
       ".dataframe > tbody > tr {\n",
       "  text-align: right;\n",
       "  white-space: pre-wrap;\n",
       "}\n",
       "</style>\n",
       "<small>shape: (268, 54)</small><table border=\"1\" class=\"dataframe\"><thead><tr><th>round_number</th><th>year</th><th>DriverNumber</th><th>Time</th><th>Driver</th><th>LapTime</th><th>LapNumber</th><th>Stint</th><th>PitOutTime</th><th>PitInTime</th><th>Sector1Time</th><th>Sector2Time</th><th>Sector3Time</th><th>Sector1SessionTime</th><th>Sector2SessionTime</th><th>Sector3SessionTime</th><th>SpeedI1</th><th>SpeedI2</th><th>SpeedFL</th><th>SpeedST</th><th>IsPersonalBest</th><th>Compound</th><th>TyreLife</th><th>FreshTyre</th><th>Team</th><th>LapStartTime</th><th>LapStartDate</th><th>TrackStatus</th><th>Position</th><th>Deleted</th><th>DeletedReason</th><th>FastF1Generated</th><th>IsAccurate</th><th>__index_level_0__</th><th>BroadcastName</th><th>Abbreviation</th><th>DriverId</th><th>TeamName</th><th>TeamColor</th><th>TeamId</th><th>FirstName</th><th>LastName</th><th>FullName</th><th>HeadshotUrl</th><th>CountryCode</th><th>classified_pos</th><th>ClassifiedPosition</th><th>GridPosition</th><th>Q1</th><th>Q2</th><th>Q3</th><th>Time_right</th><th>Status</th><th>Points</th></tr><tr><td>i8</td><td>i16</td><td>i8</td><td>duration[ns]</td><td>str</td><td>duration[ns]</td><td>f64</td><td>f64</td><td>duration[ns]</td><td>duration[ns]</td><td>duration[ns]</td><td>duration[ns]</td><td>duration[ns]</td><td>duration[ns]</td><td>duration[ns]</td><td>duration[ns]</td><td>f64</td><td>f64</td><td>f64</td><td>f64</td><td>bool</td><td>str</td><td>f64</td><td>bool</td><td>str</td><td>duration[ns]</td><td>datetime[ns]</td><td>str</td><td>f64</td><td>bool</td><td>str</td><td>bool</td><td>bool</td><td>i64</td><td>str</td><td>str</td><td>str</td><td>str</td><td>str</td><td>str</td><td>str</td><td>str</td><td>str</td><td>str</td><td>str</td><td>f64</td><td>str</td><td>f64</td><td>null</td><td>null</td><td>null</td><td>duration[μs]</td><td>str</td><td>f64</td></tr></thead><tbody><tr><td>1</td><td>2020</td><td>26</td><td>2h 1m 57s 481ms</td><td>&quot;KVY&quot;</td><td>null</td><td>65.0</td><td>4.0</td><td>null</td><td>null</td><td>null</td><td>null</td><td>null</td><td>null</td><td>null</td><td>null</td><td>null</td><td>null</td><td>null</td><td>null</td><td>null</td><td>&quot;SOFT&quot;</td><td>19.0</td><td>false</td><td>&quot;AlphaTauri&quot;</td><td>2h 1m 52s 92ms</td><td>null</td><td>&quot;1&quot;</td><td>null</td><td>false</td><td>null</td><td>true</td><td>false</td><td>360</td><td>&quot;D KVYAT&quot;</td><td>&quot;KVY&quot;</td><td>&quot;kvyat&quot;</td><td>&quot;AlphaTauri&quot;</td><td>&quot;ffffff&quot;</td><td>&quot;alphatauri&quot;</td><td>&quot;Daniil&quot;</td><td>&quot;Kvyat&quot;</td><td>&quot;Daniil Kvyat&quot;</td><td>&quot;https://www.fo…</td><td>&quot;&quot;</td><td>12.0</td><td>&quot;12&quot;</td><td>13.0</td><td>null</td><td>null</td><td>null</td><td>null</td><td>&quot;Suspension&quot;</td><td>0.0</td></tr><tr><td>5</td><td>2020</td><td>20</td><td>1h 41m 32s 621ms</td><td>&quot;MAG&quot;</td><td>1m 37s 962ms</td><td>43.0</td><td>3.0</td><td>null</td><td>1h 41m 26s 641ms</td><td>29s 244ms</td><td>42s 765ms</td><td>25s 953ms</td><td>1h 40m 23s 929ms</td><td>1h 41m 6s 694ms</td><td>1h 41m 32s 647ms</td><td>null</td><td>251.0</td><td>null</td><td>305.0</td><td>false</td><td>&quot;HARD&quot;</td><td>23.0</td><td>true</td><td>&quot;Haas F1 Team&quot;</td><td>1h 39m 54s 659ms</td><td>2020-08-09 14:19:54.705</td><td>&quot;1&quot;</td><td>20.0</td><td>false</td><td>&quot;&quot;</td><td>false</td><td>false</td><td>1024</td><td>&quot;K MAGNUSSEN&quot;</td><td>&quot;MAG&quot;</td><td>&quot;kevin_magnusse…</td><td>&quot;Haas F1 Team&quot;</td><td>&quot;787878&quot;</td><td>&quot;haas&quot;</td><td>&quot;Kevin&quot;</td><td>&quot;Magnussen&quot;</td><td>&quot;Kevin Magnusse…</td><td>&quot;https://www.fo…</td><td>&quot;&quot;</td><td>20.0</td><td>&quot;R&quot;</td><td>17.0</td><td>null</td><td>null</td><td>null</td><td>null</td><td>&quot;Retired&quot;</td><td>0.0</td></tr><tr><td>6</td><td>2020</td><td>16</td><td>1h 28m 49s 124ms</td><td>&quot;LEC&quot;</td><td>1m 27s 517ms</td><td>38.0</td><td>2.0</td><td>null</td><td>1h 28m 46s 441ms</td><td>24s 47ms</td><td>31s 239ms</td><td>32s 231ms</td><td>1h 27m 45s 666ms</td><td>1h 28m 16s 905ms</td><td>1h 28m 49s 136ms</td><td>272.0</td><td>266.0</td><td>null</td><td>294.0</td><td>false</td><td>&quot;MEDIUM&quot;</td><td>9.0</td><td>true</td><td>&quot;Ferrari&quot;</td><td>1h 27m 21s 607ms</td><td>2020-08-16 14:07:23.583</td><td>&quot;1&quot;</td><td>20.0</td><td>false</td><td>&quot;&quot;</td><td>false</td><td>false</td><td>1273</td><td>&quot;C LECLERC&quot;</td><td>&quot;LEC&quot;</td><td>&quot;leclerc&quot;</td><td>&quot;Ferrari&quot;</td><td>&quot;DC0000&quot;</td><td>&quot;ferrari&quot;</td><td>&quot;Charles&quot;</td><td>&quot;Leclerc&quot;</td><td>&quot;Charles Lecler…</td><td>&quot;https://www.fo…</td><td>&quot;&quot;</td><td>20.0</td><td>&quot;R&quot;</td><td>9.0</td><td>null</td><td>null</td><td>null</td><td>null</td><td>&quot;Electronics&quot;</td><td>0.0</td></tr><tr><td>7</td><td>2020</td><td>99</td><td>52m 2s 676ms</td><td>&quot;GIO&quot;</td><td>null</td><td>10.0</td><td>1.0</td><td>null</td><td>null</td><td>null</td><td>null</td><td>null</td><td>null</td><td>null</td><td>null</td><td>null</td><td>null</td><td>null</td><td>null</td><td>null</td><td>&quot;MEDIUM&quot;</td><td>10.0</td><td>true</td><td>&quot;Alfa Romeo Rac…</td><td>50m 45s 472ms</td><td>null</td><td>&quot;1&quot;</td><td>null</td><td>false</td><td>null</td><td>true</td><td>false</td><td>768</td><td>&quot;A GIOVINAZZI&quot;</td><td>&quot;GIO&quot;</td><td>&quot;giovinazzi&quot;</td><td>&quot;Alfa Romeo Rac…</td><td>&quot;9B0000&quot;</td><td>&quot;alfa&quot;</td><td>&quot;Antonio&quot;</td><td>&quot;Giovinazzi&quot;</td><td>&quot;Antonio Giovin…</td><td>&quot;https://www.fo…</td><td>&quot;&quot;</td><td>18.0</td><td>&quot;R&quot;</td><td>18.0</td><td>null</td><td>null</td><td>null</td><td>null</td><td>&quot;Accident&quot;</td><td>0.0</td></tr><tr><td>9</td><td>2020</td><td>99</td><td>49m 34s 257ms</td><td>&quot;GIO&quot;</td><td>null</td><td>6.0</td><td>1.0</td><td>null</td><td>null</td><td>null</td><td>null</td><td>null</td><td>null</td><td>null</td><td>null</td><td>null</td><td>null</td><td>null</td><td>null</td><td>null</td><td>&quot;SOFT&quot;</td><td>6.0</td><td>true</td><td>&quot;Alfa Romeo Rac…</td><td>44m 44s 62ms</td><td>null</td><td>&quot;412&quot;</td><td>null</td><td>false</td><td>null</td><td>true</td><td>false</td><td>785</td><td>&quot;A GIOVINAZZI&quot;</td><td>&quot;GIO&quot;</td><td>&quot;giovinazzi&quot;</td><td>&quot;Alfa Romeo Rac…</td><td>&quot;9B0000&quot;</td><td>&quot;alfa&quot;</td><td>&quot;Antonio&quot;</td><td>&quot;Giovinazzi&quot;</td><td>&quot;Antonio Giovin…</td><td>&quot;https://www.fo…</td><td>&quot;&quot;</td><td>17.0</td><td>&quot;R&quot;</td><td>17.0</td><td>null</td><td>null</td><td>null</td><td>null</td><td>&quot;Collision&quot;</td><td>0.0</td></tr><tr><td>&hellip;</td><td>&hellip;</td><td>&hellip;</td><td>&hellip;</td><td>&hellip;</td><td>&hellip;</td><td>&hellip;</td><td>&hellip;</td><td>&hellip;</td><td>&hellip;</td><td>&hellip;</td><td>&hellip;</td><td>&hellip;</td><td>&hellip;</td><td>&hellip;</td><td>&hellip;</td><td>&hellip;</td><td>&hellip;</td><td>&hellip;</td><td>&hellip;</td><td>&hellip;</td><td>&hellip;</td><td>&hellip;</td><td>&hellip;</td><td>&hellip;</td><td>&hellip;</td><td>&hellip;</td><td>&hellip;</td><td>&hellip;</td><td>&hellip;</td><td>&hellip;</td><td>&hellip;</td><td>&hellip;</td><td>&hellip;</td><td>&hellip;</td><td>&hellip;</td><td>&hellip;</td><td>&hellip;</td><td>&hellip;</td><td>&hellip;</td><td>&hellip;</td><td>&hellip;</td><td>&hellip;</td><td>&hellip;</td><td>&hellip;</td><td>&hellip;</td><td>&hellip;</td><td>&hellip;</td><td>&hellip;</td><td>&hellip;</td><td>&hellip;</td><td>&hellip;</td><td>&hellip;</td><td>&hellip;</td></tr><tr><td>2</td><td>2024</td><td>10</td><td>1h 1m 45s 752ms</td><td>&quot;GAS&quot;</td><td>2m 1s 453ms</td><td>1.0</td><td>1.0</td><td>null</td><td>1h 1m 44s 496ms</td><td>null</td><td>36s 134ms</td><td>40s 34ms</td><td>null</td><td>1h 1m 5s 736ms</td><td>1h 1m 45s 752ms</td><td>221.0</td><td>213.0</td><td>null</td><td>224.0</td><td>false</td><td>&quot;MEDIUM&quot;</td><td>1.0</td><td>true</td><td>&quot;Alpine&quot;</td><td>59m 43s 836ms</td><td>2024-03-09 17:03:59.056</td><td>&quot;1&quot;</td><td>20.0</td><td>false</td><td>&quot;&quot;</td><td>false</td><td>false</td><td>50</td><td>&quot;P GASLY&quot;</td><td>&quot;GAS&quot;</td><td>&quot;gasly&quot;</td><td>&quot;Alpine&quot;</td><td>&quot;ff87bc&quot;</td><td>&quot;alpine&quot;</td><td>&quot;Pierre&quot;</td><td>&quot;Gasly&quot;</td><td>&quot;Pierre Gasly&quot;</td><td>&quot;https://media.…</td><td>&quot;FRA&quot;</td><td>20.0</td><td>&quot;R&quot;</td><td>18.0</td><td>null</td><td>null</td><td>null</td><td>null</td><td>&quot;Gearbox&quot;</td><td>0.0</td></tr><tr><td>2</td><td>2024</td><td>18</td><td>1h 9m 241ms</td><td>&quot;STR&quot;</td><td>null</td><td>6.0</td><td>1.0</td><td>null</td><td>null</td><td>null</td><td>null</td><td>null</td><td>null</td><td>null</td><td>null</td><td>null</td><td>null</td><td>null</td><td>null</td><td>null</td><td>&quot;MEDIUM&quot;</td><td>7.0</td><td>false</td><td>&quot;Aston Martin&quot;</td><td>1h 7m 49s 752ms</td><td>null</td><td>&quot;1&quot;</td><td>null</td><td>false</td><td>null</td><td>true</td><td>false</td><td>206</td><td>&quot;L STROLL&quot;</td><td>&quot;STR&quot;</td><td>&quot;stroll&quot;</td><td>&quot;Aston Martin&quot;</td><td>&quot;229971&quot;</td><td>&quot;aston_martin&quot;</td><td>&quot;Lance&quot;</td><td>&quot;Stroll&quot;</td><td>&quot;Lance Stroll&quot;</td><td>&quot;https://media.…</td><td>&quot;CAN&quot;</td><td>19.0</td><td>&quot;R&quot;</td><td>10.0</td><td>null</td><td>null</td><td>null</td><td>null</td><td>&quot;Accident&quot;</td><td>0.0</td></tr><tr><td>3</td><td>2024</td><td>63</td><td>2h 17m 7s 786ms</td><td>&quot;RUS&quot;</td><td>null</td><td>57.0</td><td>3.0</td><td>null</td><td>null</td><td>null</td><td>null</td><td>null</td><td>null</td><td>null</td><td>null</td><td>null</td><td>null</td><td>null</td><td>null</td><td>null</td><td>&quot;HARD&quot;</td><td>12.0</td><td>true</td><td>&quot;Mercedes&quot;</td><td>2h 16m 34s 310ms</td><td>null</td><td>&quot;1&quot;</td><td>null</td><td>false</td><td>null</td><td>true</td><td>false</td><td>882</td><td>&quot;G RUSSELL&quot;</td><td>&quot;RUS&quot;</td><td>&quot;russell&quot;</td><td>&quot;Mercedes&quot;</td><td>&quot;27F4D2&quot;</td><td>&quot;mercedes&quot;</td><td>&quot;George&quot;</td><td>&quot;Russell&quot;</td><td>&quot;George Russell…</td><td>&quot;https://media.…</td><td>&quot;GBR&quot;</td><td>17.0</td><td>&quot;17&quot;</td><td>7.0</td><td>null</td><td>null</td><td>null</td><td>null</td><td>&quot;Accident&quot;</td><td>0.0</td></tr><tr><td>5</td><td>2024</td><td>22</td><td>1h 44m 17s 294ms</td><td>&quot;TSU&quot;</td><td>null</td><td>27.0</td><td>3.0</td><td>null</td><td>null</td><td>null</td><td>null</td><td>null</td><td>null</td><td>null</td><td>null</td><td>null</td><td>null</td><td>null</td><td>null</td><td>null</td><td>&quot;HARD&quot;</td><td>4.0</td><td>true</td><td>&quot;RB&quot;</td><td>1h 43m 25s 704ms</td><td>null</td><td>&quot;12&quot;</td><td>null</td><td>false</td><td>null</td><td>true</td><td>false</td><td>474</td><td>&quot;Y TSUNODA&quot;</td><td>&quot;TSU&quot;</td><td>&quot;tsunoda&quot;</td><td>&quot;RB&quot;</td><td>&quot;6692FF&quot;</td><td>&quot;rb&quot;</td><td>&quot;Yuki&quot;</td><td>&quot;Tsunoda&quot;</td><td>&quot;Yuki Tsunoda&quot;</td><td>&quot;https://media.…</td><td>&quot;JPN&quot;</td><td>19.0</td><td>&quot;R&quot;</td><td>19.0</td><td>null</td><td>null</td><td>null</td><td>null</td><td>&quot;Retired&quot;</td><td>0.0</td></tr><tr><td>5</td><td>2024</td><td>3</td><td>1h 58m 35s 557ms</td><td>&quot;RIC&quot;</td><td>1m 55s 415ms</td><td>33.0</td><td>2.0</td><td>null</td><td>1h 58m 33s 822ms</td><td>27s 826ms</td><td>31s 104ms</td><td>56s 485ms</td><td>1h 57m 7s 941ms</td><td>1h 57m 39s 45ms</td><td>1h 58m 35s 530ms</td><td>276.0</td><td>268.0</td><td>null</td><td>210.0</td><td>false</td><td>&quot;MEDIUM&quot;</td><td>19.0</td><td>true</td><td>&quot;RB&quot;</td><td>1h 56m 40s 142ms</td><td>2024-04-21 08:04:58.815</td><td>&quot;1&quot;</td><td>18.0</td><td>false</td><td>&quot;&quot;</td><td>false</td><td>false</td><td>675</td><td>&quot;D RICCIARDO&quot;</td><td>&quot;RIC&quot;</td><td>&quot;ricciardo&quot;</td><td>&quot;RB&quot;</td><td>&quot;6692FF&quot;</td><td>&quot;rb&quot;</td><td>&quot;Daniel&quot;</td><td>&quot;Ricciardo&quot;</td><td>&quot;Daniel Ricciar…</td><td>&quot;https://media.…</td><td>&quot;AUS&quot;</td><td>18.0</td><td>&quot;R&quot;</td><td>12.0</td><td>null</td><td>null</td><td>null</td><td>null</td><td>&quot;Retired&quot;</td><td>0.0</td></tr></tbody></table></div>"
      ],
      "text/plain": [
       "shape: (268, 54)\n",
       "┌──────────────┬──────┬──────────────┬─────────────┬───┬──────┬─────────────┬─────────────┬────────┐\n",
       "│ round_number ┆ year ┆ DriverNumber ┆ Time        ┆ … ┆ Q3   ┆ Time_right  ┆ Status      ┆ Points │\n",
       "│ ---          ┆ ---  ┆ ---          ┆ ---         ┆   ┆ ---  ┆ ---         ┆ ---         ┆ ---    │\n",
       "│ i8           ┆ i16  ┆ i8           ┆ duration[ns ┆   ┆ null ┆ duration[μs ┆ str         ┆ f64    │\n",
       "│              ┆      ┆              ┆ ]           ┆   ┆      ┆ ]           ┆             ┆        │\n",
       "╞══════════════╪══════╪══════════════╪═════════════╪═══╪══════╪═════════════╪═════════════╪════════╡\n",
       "│ 1            ┆ 2020 ┆ 26           ┆ 2h 1m 57s   ┆ … ┆ null ┆ null        ┆ Suspension  ┆ 0.0    │\n",
       "│              ┆      ┆              ┆ 481ms       ┆   ┆      ┆             ┆             ┆        │\n",
       "│ 5            ┆ 2020 ┆ 20           ┆ 1h 41m 32s  ┆ … ┆ null ┆ null        ┆ Retired     ┆ 0.0    │\n",
       "│              ┆      ┆              ┆ 621ms       ┆   ┆      ┆             ┆             ┆        │\n",
       "│ 6            ┆ 2020 ┆ 16           ┆ 1h 28m 49s  ┆ … ┆ null ┆ null        ┆ Electronics ┆ 0.0    │\n",
       "│              ┆      ┆              ┆ 124ms       ┆   ┆      ┆             ┆             ┆        │\n",
       "│ 7            ┆ 2020 ┆ 99           ┆ 52m 2s      ┆ … ┆ null ┆ null        ┆ Accident    ┆ 0.0    │\n",
       "│              ┆      ┆              ┆ 676ms       ┆   ┆      ┆             ┆             ┆        │\n",
       "│ 9            ┆ 2020 ┆ 99           ┆ 49m 34s     ┆ … ┆ null ┆ null        ┆ Collision   ┆ 0.0    │\n",
       "│              ┆      ┆              ┆ 257ms       ┆   ┆      ┆             ┆             ┆        │\n",
       "│ …            ┆ …    ┆ …            ┆ …           ┆ … ┆ …    ┆ …           ┆ …           ┆ …      │\n",
       "│ 2            ┆ 2024 ┆ 10           ┆ 1h 1m 45s   ┆ … ┆ null ┆ null        ┆ Gearbox     ┆ 0.0    │\n",
       "│              ┆      ┆              ┆ 752ms       ┆   ┆      ┆             ┆             ┆        │\n",
       "│ 2            ┆ 2024 ┆ 18           ┆ 1h 9m 241ms ┆ … ┆ null ┆ null        ┆ Accident    ┆ 0.0    │\n",
       "│ 3            ┆ 2024 ┆ 63           ┆ 2h 17m 7s   ┆ … ┆ null ┆ null        ┆ Accident    ┆ 0.0    │\n",
       "│              ┆      ┆              ┆ 786ms       ┆   ┆      ┆             ┆             ┆        │\n",
       "│ 5            ┆ 2024 ┆ 22           ┆ 1h 44m 17s  ┆ … ┆ null ┆ null        ┆ Retired     ┆ 0.0    │\n",
       "│              ┆      ┆              ┆ 294ms       ┆   ┆      ┆             ┆             ┆        │\n",
       "│ 5            ┆ 2024 ┆ 3            ┆ 1h 58m 35s  ┆ … ┆ null ┆ null        ┆ Retired     ┆ 0.0    │\n",
       "│              ┆      ┆              ┆ 557ms       ┆   ┆      ┆             ┆             ┆        │\n",
       "└──────────────┴──────┴──────────────┴─────────────┴───┴──────┴─────────────┴─────────────┴────────┘"
      ]
     },
     "execution_count": 74,
     "metadata": {},
     "output_type": "execute_result"
    }
   ],
   "source": [
    "last_row_retired_drivers"
   ]
  },
  {
   "cell_type": "code",
   "execution_count": 8,
   "metadata": {},
   "outputs": [],
   "source": [
    "retired_drivers = joined_data.filter(pl.col(\"Status\") != \"Finished\", ~ (pl.col(\"Status\").str.contains(\"Lap\")))\n",
    "\n",
    "last_row_retired_drivers = retired_drivers.group_by([\"round_number\",\"year\",\"DriverNumber\"]).last()\n",
    "row_to_add = last_row_retired_drivers\n",
    "row_to_add = row_to_add.with_columns(pl.col(\"LapNumber\")+1, pl.col(\"classified_pos\").alias(\"Position\"))"
   ]
  },
  {
   "cell_type": "code",
   "execution_count": 9,
   "metadata": {},
   "outputs": [],
   "source": [
    "joined_data = joined_data.select(sorted(joined_data.columns))\n",
    "row_to_add = row_to_add.select(sorted(row_to_add.columns))"
   ]
  },
  {
   "cell_type": "code",
   "execution_count": 10,
   "metadata": {},
   "outputs": [
    {
     "data": {
      "text/html": [
       "<div><style>\n",
       ".dataframe > thead > tr,\n",
       ".dataframe > tbody > tr {\n",
       "  text-align: right;\n",
       "  white-space: pre-wrap;\n",
       "}\n",
       "</style>\n",
       "<small>shape: (268, 54)</small><table border=\"1\" class=\"dataframe\"><thead><tr><th>Abbreviation</th><th>BroadcastName</th><th>ClassifiedPosition</th><th>Compound</th><th>CountryCode</th><th>Deleted</th><th>DeletedReason</th><th>Driver</th><th>DriverId</th><th>DriverNumber</th><th>FastF1Generated</th><th>FirstName</th><th>FreshTyre</th><th>FullName</th><th>GridPosition</th><th>HeadshotUrl</th><th>IsAccurate</th><th>IsPersonalBest</th><th>LapNumber</th><th>LapStartDate</th><th>LapStartTime</th><th>LapTime</th><th>LastName</th><th>PitInTime</th><th>PitOutTime</th><th>Points</th><th>Position</th><th>Q1</th><th>Q2</th><th>Q3</th><th>Sector1SessionTime</th><th>Sector1Time</th><th>Sector2SessionTime</th><th>Sector2Time</th><th>Sector3SessionTime</th><th>Sector3Time</th><th>SpeedFL</th><th>SpeedI1</th><th>SpeedI2</th><th>SpeedST</th><th>Status</th><th>Stint</th><th>Team</th><th>TeamColor</th><th>TeamId</th><th>TeamName</th><th>Time</th><th>Time_right</th><th>TrackStatus</th><th>TyreLife</th><th>__index_level_0__</th><th>classified_pos</th><th>round_number</th><th>year</th></tr><tr><td>str</td><td>str</td><td>str</td><td>str</td><td>str</td><td>bool</td><td>str</td><td>str</td><td>str</td><td>i8</td><td>bool</td><td>str</td><td>bool</td><td>str</td><td>f64</td><td>str</td><td>bool</td><td>bool</td><td>f64</td><td>datetime[ns]</td><td>duration[ns]</td><td>duration[ns]</td><td>str</td><td>duration[ns]</td><td>duration[ns]</td><td>f64</td><td>f64</td><td>null</td><td>null</td><td>null</td><td>duration[ns]</td><td>duration[ns]</td><td>duration[ns]</td><td>duration[ns]</td><td>duration[ns]</td><td>duration[ns]</td><td>f64</td><td>f64</td><td>f64</td><td>f64</td><td>str</td><td>f64</td><td>str</td><td>str</td><td>str</td><td>str</td><td>duration[ns]</td><td>duration[μs]</td><td>str</td><td>f64</td><td>i64</td><td>f64</td><td>i8</td><td>i16</td></tr></thead><tbody><tr><td>&quot;VER&quot;</td><td>&quot;M VERSTAPPEN&quot;</td><td>&quot;R&quot;</td><td>&quot;MEDIUM&quot;</td><td>&quot;&quot;</td><td>false</td><td>&quot;&quot;</td><td>&quot;VER&quot;</td><td>&quot;max_verstappen…</td><td>33</td><td>false</td><td>&quot;Max&quot;</td><td>false</td><td>&quot;Max Verstappen…</td><td>5.0</td><td>&quot;https://www.fo…</td><td>false</td><td>false</td><td>31.0</td><td>2020-09-06 14:26:57.746</td><td>1h 46m 57s 550ms</td><td>1m 30s 133ms</td><td>&quot;Verstappen&quot;</td><td>1h 48m 23s 942ms</td><td>null</td><td>0.0</td><td>17.0</td><td>null</td><td>null</td><td>null</td><td>1h 47m 25s 969ms</td><td>28s 432ms</td><td>1h 47m 55s 237ms</td><td>29s 268ms</td><td>1h 48m 27s 670ms</td><td>32s 433ms</td><td>null</td><td>275.0</td><td>328.0</td><td>332.0</td><td>&quot;Power Unit&quot;</td><td>3.0</td><td>&quot;Red Bull Racin…</td><td>&quot;1E41FF&quot;</td><td>&quot;red_bull&quot;</td><td>&quot;Red Bull Racin…</td><td>1h 48m 27s 683ms</td><td>null</td><td>&quot;1&quot;</td><td>8.0</td><td>877</td><td>17.0</td><td>8</td><td>2020</td></tr><tr><td>&quot;VET&quot;</td><td>&quot;S VETTEL&quot;</td><td>&quot;R&quot;</td><td>&quot;HARD&quot;</td><td>&quot;&quot;</td><td>false</td><td>&quot;&quot;</td><td>&quot;VET&quot;</td><td>&quot;vettel&quot;</td><td>5</td><td>false</td><td>&quot;Sebastian&quot;</td><td>true</td><td>&quot;Sebastian Vett…</td><td>17.0</td><td>&quot;https://www.fo…</td><td>false</td><td>false</td><td>7.0</td><td>2020-09-06 13:20:56.530</td><td>40m 56s 334ms</td><td>2m 20s 757ms</td><td>&quot;Vettel&quot;</td><td>43m 9s 512ms</td><td>null</td><td>0.0</td><td>20.0</td><td>null</td><td>null</td><td>null</td><td>41m 29s 71ms</td><td>32s 740ms</td><td>42m 15s 121ms</td><td>46s 50ms</td><td>43m 17s 88ms</td><td>1m 1s 967ms</td><td>null</td><td>184.0</td><td>176.0</td><td>334.0</td><td>&quot;Brakes&quot;</td><td>1.0</td><td>&quot;Ferrari&quot;</td><td>&quot;DC0000&quot;</td><td>&quot;ferrari&quot;</td><td>&quot;Ferrari&quot;</td><td>43m 17s 91ms</td><td>null</td><td>&quot;1&quot;</td><td>6.0</td><td>925</td><td>20.0</td><td>8</td><td>2020</td></tr><tr><td>&quot;OCO&quot;</td><td>&quot;E OCON&quot;</td><td>&quot;R&quot;</td><td>&quot;SOFT&quot;</td><td>&quot;&quot;</td><td>false</td><td>&quot;&quot;</td><td>&quot;OCO&quot;</td><td>&quot;ocon&quot;</td><td>31</td><td>false</td><td>&quot;Esteban&quot;</td><td>false</td><td>&quot;Esteban Ocon&quot;</td><td>7.0</td><td>&quot;https://www.fo…</td><td>false</td><td>false</td><td>23.0</td><td>2020-10-11 12:46:36.110</td><td>33m 21s 519ms</td><td>1m 49s 95ms</td><td>&quot;Ocon&quot;</td><td>35m 8s 521ms</td><td>null</td><td>0.0</td><td>18.0</td><td>null</td><td>null</td><td>null</td><td>33m 51s 828ms</td><td>30s 301ms</td><td>34m 34s 667ms</td><td>42s 839ms</td><td>35m 10s 622ms</td><td>35s 955ms</td><td>null</td><td>260.0</td><td>195.0</td><td>187.0</td><td>&quot;Gearbox&quot;</td><td>1.0</td><td>&quot;Renault&quot;</td><td>&quot;FFF500&quot;</td><td>&quot;renault&quot;</td><td>&quot;Renault&quot;</td><td>35m 10s 614ms</td><td>null</td><td>&quot;1&quot;</td><td>25.0</td><td>464</td><td>18.0</td><td>11</td><td>2020</td></tr><tr><td>&quot;STR&quot;</td><td>&quot;L STROLL&quot;</td><td>&quot;R&quot;</td><td>&quot;MEDIUM&quot;</td><td>&quot;&quot;</td><td>false</td><td>null</td><td>&quot;STR&quot;</td><td>&quot;stroll&quot;</td><td>18</td><td>true</td><td>&quot;Lance&quot;</td><td>false</td><td>&quot;Lance Stroll&quot;</td><td>13.0</td><td>&quot;https://www.fo…</td><td>false</td><td>null</td><td>4.0</td><td>null</td><td>1h 58m 44s 184ms</td><td>null</td><td>&quot;Stroll&quot;</td><td>null</td><td>null</td><td>0.0</td><td>19.0</td><td>null</td><td>null</td><td>null</td><td>null</td><td>null</td><td>null</td><td>null</td><td>null</td><td>null</td><td>null</td><td>null</td><td>null</td><td>null</td><td>&quot;Collision&quot;</td><td>2.0</td><td>&quot;Racing Point&quot;</td><td>&quot;F596C8&quot;</td><td>&quot;racing_point&quot;</td><td>&quot;Racing Point&quot;</td><td>1h 58m 55s 608ms</td><td>null</td><td>&quot;1&quot;</td><td>7.0</td><td>169</td><td>19.0</td><td>15</td><td>2020</td></tr><tr><td>&quot;LAT&quot;</td><td>&quot;N LATIFI&quot;</td><td>&quot;18&quot;</td><td>&quot;MEDIUM&quot;</td><td>&quot;&quot;</td><td>false</td><td>&quot;&quot;</td><td>&quot;LAT&quot;</td><td>&quot;latifi&quot;</td><td>6</td><td>false</td><td>&quot;Nicholas&quot;</td><td>true</td><td>&quot;Nicholas Latif…</td><td>17.0</td><td>&quot;https://www.fo…</td><td>false</td><td>false</td><td>52.0</td><td>2021-03-28 16:32:34.540</td><td>2h 2m 34s 530ms</td><td>1m 46s 133ms</td><td>&quot;Latifi&quot;</td><td>2h 4m 18s 972ms</td><td>null</td><td>0.0</td><td>18.0</td><td>null</td><td>null</td><td>null</td><td>2h 3m 7s 483ms</td><td>32s 966ms</td><td>2h 3m 51s 557ms</td><td>44s 74ms</td><td>2h 4m 20s 650ms</td><td>29s 93ms</td><td>null</td><td>225.0</td><td>238.0</td><td>293.0</td><td>&quot;Retired&quot;</td><td>3.0</td><td>&quot;Williams&quot;</td><td>&quot;005AFF&quot;</td><td>&quot;williams&quot;</td><td>&quot;Williams&quot;</td><td>2h 4m 20s 663ms</td><td>null</td><td>&quot;1&quot;</td><td>19.0</td><td>804</td><td>18.0</td><td>1</td><td>2021</td></tr><tr><td>&hellip;</td><td>&hellip;</td><td>&hellip;</td><td>&hellip;</td><td>&hellip;</td><td>&hellip;</td><td>&hellip;</td><td>&hellip;</td><td>&hellip;</td><td>&hellip;</td><td>&hellip;</td><td>&hellip;</td><td>&hellip;</td><td>&hellip;</td><td>&hellip;</td><td>&hellip;</td><td>&hellip;</td><td>&hellip;</td><td>&hellip;</td><td>&hellip;</td><td>&hellip;</td><td>&hellip;</td><td>&hellip;</td><td>&hellip;</td><td>&hellip;</td><td>&hellip;</td><td>&hellip;</td><td>&hellip;</td><td>&hellip;</td><td>&hellip;</td><td>&hellip;</td><td>&hellip;</td><td>&hellip;</td><td>&hellip;</td><td>&hellip;</td><td>&hellip;</td><td>&hellip;</td><td>&hellip;</td><td>&hellip;</td><td>&hellip;</td><td>&hellip;</td><td>&hellip;</td><td>&hellip;</td><td>&hellip;</td><td>&hellip;</td><td>&hellip;</td><td>&hellip;</td><td>&hellip;</td><td>&hellip;</td><td>&hellip;</td><td>&hellip;</td><td>&hellip;</td><td>&hellip;</td><td>&hellip;</td></tr><tr><td>&quot;SAR&quot;</td><td>&quot;L SARGEANT&quot;</td><td>&quot;R&quot;</td><td>&quot;HARD&quot;</td><td>&quot;USA&quot;</td><td>false</td><td>&quot;&quot;</td><td>&quot;SAR&quot;</td><td>&quot;sargeant&quot;</td><td>2</td><td>false</td><td>&quot;Logan&quot;</td><td>true</td><td>&quot;Logan Sargeant…</td><td>0.0</td><td>&quot;https://www.fo…</td><td>false</td><td>false</td><td>23.0</td><td>2023-09-24 05:44:18.070</td><td>1h 43m 16s 661ms</td><td>2m 17s 39ms</td><td>&quot;Sargeant&quot;</td><td>1h 45m 32s 408ms</td><td>1h 43m 50s 457ms</td><td>0.0</td><td>17.0</td><td>null</td><td>null</td><td>null</td><td>1h 44m 26s 545ms</td><td>1m 9s 886ms</td><td>1h 45m 10s 857ms</td><td>44s 312ms</td><td>1h 45m 33s 698ms</td><td>22s 841ms</td><td>null</td><td>280.0</td><td>304.0</td><td>304.0</td><td>&quot;Collision dama…</td><td>4.0</td><td>&quot;Williams&quot;</td><td>&quot;37BEDD&quot;</td><td>&quot;williams&quot;</td><td>&quot;Williams&quot;</td><td>1h 45m 33s 700ms</td><td>null</td><td>&quot;1&quot;</td><td>1.0</td><td>837</td><td>17.0</td><td>16</td><td>2023</td></tr><tr><td>&quot;RIC&quot;</td><td>&quot;D RICCIARDO&quot;</td><td>&quot;R&quot;</td><td>&quot;MEDIUM&quot;</td><td>&quot;AUS&quot;</td><td>false</td><td>&quot;&quot;</td><td>&quot;RIC&quot;</td><td>&quot;ricciardo&quot;</td><td>3</td><td>true</td><td>&quot;Daniel&quot;</td><td>true</td><td>&quot;Daniel Ricciar…</td><td>11.0</td><td>&quot;https://media.…</td><td>false</td><td>false</td><td>2.0</td><td>2024-04-07 05:03:42.056</td><td>1h 2m 40s 422ms</td><td>null</td><td>&quot;Ricciardo&quot;</td><td>null</td><td>null</td><td>0.0</td><td>19.0</td><td>null</td><td>null</td><td>null</td><td>null</td><td>null</td><td>null</td><td>null</td><td>null</td><td>null</td><td>null</td><td>null</td><td>null</td><td>null</td><td>&quot;Accident&quot;</td><td>1.0</td><td>&quot;RB&quot;</td><td>&quot;6692FF&quot;</td><td>&quot;rb&quot;</td><td>&quot;RB&quot;</td><td>1h 4m 51s 565ms</td><td>null</td><td>&quot;125&quot;</td><td>1.0</td><td>905</td><td>19.0</td><td>4</td><td>2024</td></tr><tr><td>&quot;SAR&quot;</td><td>&quot;L SARGEANT&quot;</td><td>&quot;R&quot;</td><td>&quot;HARD&quot;</td><td>&quot;USA&quot;</td><td>false</td><td>null</td><td>&quot;SAR&quot;</td><td>&quot;sargeant&quot;</td><td>2</td><td>true</td><td>&quot;Logan&quot;</td><td>true</td><td>&quot;Logan Sargeant…</td><td>17.0</td><td>&quot;https://media.…</td><td>false</td><td>null</td><td>29.0</td><td>null</td><td>1h 38m 46s 851ms</td><td>null</td><td>&quot;Sargeant&quot;</td><td>null</td><td>null</td><td>0.0</td><td>20.0</td><td>null</td><td>null</td><td>null</td><td>null</td><td>null</td><td>null</td><td>null</td><td>null</td><td>null</td><td>null</td><td>null</td><td>null</td><td>null</td><td>&quot;Collision&quot;</td><td>2.0</td><td>&quot;Williams&quot;</td><td>&quot;64C4FF&quot;</td><td>&quot;williams&quot;</td><td>&quot;Williams&quot;</td><td>1h 38m 59s 89ms</td><td>null</td><td>&quot;1&quot;</td><td>17.0</td><td>369</td><td>20.0</td><td>6</td><td>2024</td></tr><tr><td>&quot;OCO&quot;</td><td>&quot;E OCON&quot;</td><td>&quot;R&quot;</td><td>&quot;HARD&quot;</td><td>&quot;FRA&quot;</td><td>false</td><td>&quot;&quot;</td><td>&quot;OCO&quot;</td><td>&quot;ocon&quot;</td><td>31</td><td>true</td><td>&quot;Esteban&quot;</td><td>true</td><td>&quot;Esteban Ocon&quot;</td><td>11.0</td><td>&quot;https://media.…</td><td>false</td><td>false</td><td>2.0</td><td>2024-05-26 13:03:11.069</td><td>55m 5s 680ms</td><td>null</td><td>&quot;Ocon&quot;</td><td>null</td><td>null</td><td>0.0</td><td>17.0</td><td>null</td><td>null</td><td>null</td><td>null</td><td>null</td><td>null</td><td>null</td><td>null</td><td>null</td><td>null</td><td>null</td><td>null</td><td>null</td><td>&quot;Collision&quot;</td><td>1.0</td><td>&quot;Alpine&quot;</td><td>&quot;0093cc&quot;</td><td>&quot;alpine&quot;</td><td>&quot;Alpine&quot;</td><td>1h 36m 2s 379ms</td><td>null</td><td>&quot;1254&quot;</td><td>1.0</td><td>1233</td><td>17.0</td><td>8</td><td>2024</td></tr><tr><td>&quot;PER&quot;</td><td>&quot;S PEREZ&quot;</td><td>&quot;R&quot;</td><td>&quot;HARD&quot;</td><td>&quot;MEX&quot;</td><td>false</td><td>&quot;&quot;</td><td>&quot;PER&quot;</td><td>&quot;perez&quot;</td><td>11</td><td>true</td><td>&quot;Sergio&quot;</td><td>true</td><td>&quot;Sergio Perez&quot;</td><td>16.0</td><td>&quot;https://media.…</td><td>false</td><td>false</td><td>2.0</td><td>2024-05-26 13:03:11.069</td><td>55m 5s 680ms</td><td>null</td><td>&quot;Perez&quot;</td><td>null</td><td>null</td><td>0.0</td><td>18.0</td><td>null</td><td>null</td><td>null</td><td>null</td><td>null</td><td>null</td><td>null</td><td>null</td><td>null</td><td>null</td><td>null</td><td>null</td><td>null</td><td>&quot;Collision&quot;</td><td>1.0</td><td>&quot;Red Bull Racin…</td><td>&quot;3671C6&quot;</td><td>&quot;red_bull&quot;</td><td>&quot;Red Bull Racin…</td><td>1h 36m 2s 379ms</td><td>null</td><td>&quot;1254&quot;</td><td>1.0</td><td>1234</td><td>18.0</td><td>8</td><td>2024</td></tr></tbody></table></div>"
      ],
      "text/plain": [
       "shape: (268, 54)\n",
       "┌────────────┬────────────┬────────────┬──────────┬───┬────────────┬────────────┬───────────┬──────┐\n",
       "│ Abbreviati ┆ BroadcastN ┆ Classified ┆ Compound ┆ … ┆ __index_le ┆ classified ┆ round_num ┆ year │\n",
       "│ on         ┆ ame        ┆ Position   ┆ ---      ┆   ┆ vel_0__    ┆ _pos       ┆ ber       ┆ ---  │\n",
       "│ ---        ┆ ---        ┆ ---        ┆ str      ┆   ┆ ---        ┆ ---        ┆ ---       ┆ i16  │\n",
       "│ str        ┆ str        ┆ str        ┆          ┆   ┆ i64        ┆ f64        ┆ i8        ┆      │\n",
       "╞════════════╪════════════╪════════════╪══════════╪═══╪════════════╪════════════╪═══════════╪══════╡\n",
       "│ VER        ┆ M          ┆ R          ┆ MEDIUM   ┆ … ┆ 877        ┆ 17.0       ┆ 8         ┆ 2020 │\n",
       "│            ┆ VERSTAPPEN ┆            ┆          ┆   ┆            ┆            ┆           ┆      │\n",
       "│ VET        ┆ S VETTEL   ┆ R          ┆ HARD     ┆ … ┆ 925        ┆ 20.0       ┆ 8         ┆ 2020 │\n",
       "│ OCO        ┆ E OCON     ┆ R          ┆ SOFT     ┆ … ┆ 464        ┆ 18.0       ┆ 11        ┆ 2020 │\n",
       "│ STR        ┆ L STROLL   ┆ R          ┆ MEDIUM   ┆ … ┆ 169        ┆ 19.0       ┆ 15        ┆ 2020 │\n",
       "│ LAT        ┆ N LATIFI   ┆ 18         ┆ MEDIUM   ┆ … ┆ 804        ┆ 18.0       ┆ 1         ┆ 2021 │\n",
       "│ …          ┆ …          ┆ …          ┆ …        ┆ … ┆ …          ┆ …          ┆ …         ┆ …    │\n",
       "│ SAR        ┆ L SARGEANT ┆ R          ┆ HARD     ┆ … ┆ 837        ┆ 17.0       ┆ 16        ┆ 2023 │\n",
       "│ RIC        ┆ D          ┆ R          ┆ MEDIUM   ┆ … ┆ 905        ┆ 19.0       ┆ 4         ┆ 2024 │\n",
       "│            ┆ RICCIARDO  ┆            ┆          ┆   ┆            ┆            ┆           ┆      │\n",
       "│ SAR        ┆ L SARGEANT ┆ R          ┆ HARD     ┆ … ┆ 369        ┆ 20.0       ┆ 6         ┆ 2024 │\n",
       "│ OCO        ┆ E OCON     ┆ R          ┆ HARD     ┆ … ┆ 1233       ┆ 17.0       ┆ 8         ┆ 2024 │\n",
       "│ PER        ┆ S PEREZ    ┆ R          ┆ HARD     ┆ … ┆ 1234       ┆ 18.0       ┆ 8         ┆ 2024 │\n",
       "└────────────┴────────────┴────────────┴──────────┴───┴────────────┴────────────┴───────────┴──────┘"
      ]
     },
     "execution_count": 10,
     "metadata": {},
     "output_type": "execute_result"
    }
   ],
   "source": [
    "row_to_add"
   ]
  },
  {
   "cell_type": "code",
   "execution_count": 11,
   "metadata": {},
   "outputs": [],
   "source": [
    "lap_data_with_retirements = pl.concat([joined_data,row_to_add]).sort(by=[\"year\", \"round_number\",\"Driver\",\"LapNumber\"])"
   ]
  },
  {
   "cell_type": "code",
   "execution_count": 12,
   "metadata": {},
   "outputs": [],
   "source": [
    "lap_data_with_retirements = lap_data_with_retirements.with_columns(pl.when(pl.col(\"Position\").is_null()).then(pl.col(\"classified_pos\")).otherwise(pl.col(\"Position\")).alias(\"Position\"))\n",
    "lap_data_with_retirements = lap_data_with_retirements.select(lap_data.columns)"
   ]
  },
  {
   "cell_type": "code",
   "execution_count": 13,
   "metadata": {},
   "outputs": [],
   "source": [
    "lap_data_with_retirements.write_parquet(\"/Users/max/Library/Mobile Documents/com~apple~CloudDocs/100 Hochschule/110 TU Wien/SoSe 24/InfoVis/InfoVis2024/E3/static/data/all_laps.parquet\")"
   ]
  }
 ],
 "metadata": {
  "kernelspec": {
   "display_name": ".venv",
   "language": "python",
   "name": "python3"
  },
  "language_info": {
   "codemirror_mode": {
    "name": "ipython",
    "version": 3
   },
   "file_extension": ".py",
   "mimetype": "text/x-python",
   "name": "python",
   "nbconvert_exporter": "python",
   "pygments_lexer": "ipython3",
   "version": "3.12.3"
  }
 },
 "nbformat": 4,
 "nbformat_minor": 2
}
