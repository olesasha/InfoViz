{
 "cells": [
  {
   "cell_type": "markdown",
   "metadata": {},
   "source": [
    "This notebook improves the lap data by addressing issues in the position plot. When a driver crashed, they didn't drop to the last places because the lap data only included fully finished laps. To fix this, we added another lap with classified positions to correctly reflect the driver's position in the plot.\n",
    "\n",
    "Additionally, the first lap's position was inaccurate, showing the position at the end of the lap rather than the grid position. We replaced the first lap position value with the grid position."
   ]
  },
  {
   "cell_type": "code",
   "execution_count": null,
   "metadata": {},
   "outputs": [],
   "source": [
    "import polars as pl\n",
    "import pandas as pd"
   ]
  },
  {
   "cell_type": "code",
   "execution_count": 2,
   "metadata": {},
   "outputs": [],
   "source": [
    "lap_data = pl.scan_parquet(\"/Users/max/Library/Mobile Documents/com~apple~CloudDocs/100 Hochschule/110 TU Wien/SoSe 24/InfoVis/InfoVis2024/E3/static/data/all_laps.parquet\")\n",
    "driver_data = pl.scan_parquet(\"/Users/max/Library/Mobile Documents/com~apple~CloudDocs/100 Hochschule/110 TU Wien/SoSe 24/InfoVis/InfoVis2024/E3/static/data/all_driver_data.parquet\")"
   ]
  },
  {
   "cell_type": "code",
   "execution_count": 3,
   "metadata": {},
   "outputs": [],
   "source": [
    "joined_data = lap_data.join(driver_data, left_on=[\"round_number\",\"year\",\"DriverNumber\"], right_on=[\"round_number\",\"year\",\"DriverNumber\"])"
   ]
  },
  {
   "cell_type": "code",
   "execution_count": 4,
   "metadata": {},
   "outputs": [],
   "source": [
    "joined_data = joined_data.collect()"
   ]
  },
  {
   "cell_type": "code",
   "execution_count": 5,
   "metadata": {},
   "outputs": [],
   "source": [
    "joined_data = joined_data.with_columns(\n",
    "    pl.when(pl.col(\"LapNumber\") == 1).then(pl.col(\"GridPosition\")).otherwise(pl.col(\"Position\")).alias(\"Position\")\n",
    ")\n"
   ]
  },
  {
   "cell_type": "code",
   "execution_count": 6,
   "metadata": {},
   "outputs": [],
   "source": [
    "joined_data = joined_data.rename({\"Position_right\":\"classified_pos\"})"
   ]
  },
  {
   "cell_type": "code",
   "execution_count": 8,
   "metadata": {},
   "outputs": [],
   "source": [
    "retired_drivers = joined_data.filter(pl.col(\"Status\") != \"Finished\", ~ (pl.col(\"Status\").str.contains(\"Lap\")))\n",
    "\n",
    "last_row_retired_drivers = retired_drivers.group_by([\"round_number\",\"year\",\"DriverNumber\"]).last()\n",
    "row_to_add = last_row_retired_drivers\n",
    "row_to_add = row_to_add.with_columns(pl.col(\"LapNumber\")+1, pl.col(\"classified_pos\").alias(\"Position\"))"
   ]
  },
  {
   "cell_type": "code",
   "execution_count": 9,
   "metadata": {},
   "outputs": [],
   "source": [
    "joined_data = joined_data.select(sorted(joined_data.columns))\n",
    "row_to_add = row_to_add.select(sorted(row_to_add.columns))"
   ]
  },
  {
   "cell_type": "code",
   "execution_count": 11,
   "metadata": {},
   "outputs": [],
   "source": [
    "lap_data_with_retirements = pl.concat([joined_data,row_to_add]).sort(by=[\"year\", \"round_number\",\"Driver\",\"LapNumber\"])"
   ]
  },
  {
   "cell_type": "code",
   "execution_count": 12,
   "metadata": {},
   "outputs": [],
   "source": [
    "lap_data_with_retirements = lap_data_with_retirements.with_columns(pl.when(pl.col(\"Position\").is_null()).then(pl.col(\"classified_pos\")).otherwise(pl.col(\"Position\")).alias(\"Position\"))\n",
    "lap_data_with_retirements = lap_data_with_retirements.select(lap_data.columns)"
   ]
  },
  {
   "cell_type": "code",
   "execution_count": 13,
   "metadata": {},
   "outputs": [],
   "source": [
    "lap_data_with_retirements.write_parquet(\"/Users/max/Library/Mobile Documents/com~apple~CloudDocs/100 Hochschule/110 TU Wien/SoSe 24/InfoVis/InfoVis2024/E3/static/data/all_laps.parquet\")"
   ]
  }
 ],
 "metadata": {
  "kernelspec": {
   "display_name": ".venv",
   "language": "python",
   "name": "python3"
  },
  "language_info": {
   "codemirror_mode": {
    "name": "ipython",
    "version": 3
   },
   "file_extension": ".py",
   "mimetype": "text/x-python",
   "name": "python",
   "nbconvert_exporter": "python",
   "pygments_lexer": "ipython3",
   "version": "3.12.3"
  }
 },
 "nbformat": 4,
 "nbformat_minor": 2
}
