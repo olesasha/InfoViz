{
 "cells": [
  {
   "cell_type": "code",
   "execution_count": 34,
   "metadata": {},
   "outputs": [],
   "source": [
    "import polars as pl"
   ]
  },
  {
   "cell_type": "code",
   "execution_count": 35,
   "metadata": {},
   "outputs": [],
   "source": [
    "driver_data =pl.read_parquet(\"../static/data/all_driver_data.parquet\")"
   ]
  },
  {
   "cell_type": "code",
   "execution_count": 36,
   "metadata": {},
   "outputs": [
    {
     "data": {
      "text/html": [
       "<div><style>\n",
       ".dataframe > thead > tr,\n",
       ".dataframe > tbody > tr {\n",
       "  text-align: right;\n",
       "  white-space: pre-wrap;\n",
       "}\n",
       "</style>\n",
       "<small>shape: (14, 1)</small><table border=\"1\" class=\"dataframe\"><thead><tr><th>TeamId</th></tr><tr><td>str</td></tr></thead><tbody><tr><td>&quot;alphatauri&quot;</td></tr><tr><td>&quot;mercedes&quot;</td></tr><tr><td>&quot;red_bull&quot;</td></tr><tr><td>&quot;williams&quot;</td></tr><tr><td>&quot;mclaren&quot;</td></tr><tr><td>&hellip;</td></tr><tr><td>&quot;sauber&quot;</td></tr><tr><td>&quot;rb&quot;</td></tr><tr><td>&quot;haas&quot;</td></tr><tr><td>&quot;alpine&quot;</td></tr><tr><td>&quot;racing_point&quot;</td></tr></tbody></table></div>"
      ],
      "text/plain": [
       "shape: (14, 1)\n",
       "┌──────────────┐\n",
       "│ TeamId       │\n",
       "│ ---          │\n",
       "│ str          │\n",
       "╞══════════════╡\n",
       "│ alphatauri   │\n",
       "│ mercedes     │\n",
       "│ red_bull     │\n",
       "│ williams     │\n",
       "│ mclaren      │\n",
       "│ …            │\n",
       "│ sauber       │\n",
       "│ rb           │\n",
       "│ haas         │\n",
       "│ alpine       │\n",
       "│ racing_point │\n",
       "└──────────────┘"
      ]
     },
     "execution_count": 36,
     "metadata": {},
     "output_type": "execute_result"
    }
   ],
   "source": [
    "driver_data.select(\"TeamId\").unique()"
   ]
  },
  {
   "cell_type": "code",
   "execution_count": 37,
   "metadata": {},
   "outputs": [],
   "source": [
    "driver_data = driver_data.with_columns(pl.when(pl.col(\"TeamId\") == \"alphatauri\", pl.col(\"year\") == 2020).then(pl.lit(\"4e7c9b\")).otherwise(pl.col(\"TeamColor\")).alias(\"TeamColor\"))"
   ]
  },
  {
   "cell_type": "code",
   "execution_count": 38,
   "metadata": {},
   "outputs": [],
   "source": [
    "driver_data = driver_data.with_columns(pl.when(pl.col(\"TeamId\") == \"haas\", pl.col(\"year\") == 2021).then(pl.lit(\"b6babd\")).otherwise(pl.col(\"TeamColor\")).alias(\"TeamColor\"))\n"
   ]
  },
  {
   "cell_type": "code",
   "execution_count": 39,
   "metadata": {},
   "outputs": [],
   "source": [
    "driver_data.write_parquet(\"../static/data/all_driver_data.parquet\")"
   ]
  }
 ],
 "metadata": {
  "kernelspec": {
   "display_name": ".venv",
   "language": "python",
   "name": "python3"
  },
  "language_info": {
   "codemirror_mode": {
    "name": "ipython",
    "version": 3
   },
   "file_extension": ".py",
   "mimetype": "text/x-python",
   "name": "python",
   "nbconvert_exporter": "python",
   "pygments_lexer": "ipython3",
   "version": "3.12.3"
  }
 },
 "nbformat": 4,
 "nbformat_minor": 2
}
