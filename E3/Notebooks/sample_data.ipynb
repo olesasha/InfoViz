{
 "cells": [
  {
   "cell_type": "code",
   "execution_count": 1,
   "metadata": {},
   "outputs": [],
   "source": [
    "import polars as pl"
   ]
  },
  {
   "cell_type": "code",
   "execution_count": 2,
   "metadata": {},
   "outputs": [],
   "source": [
    "race_data = pl.scan_parquet(\"../static/data/race_data.parquet\")\n",
    "driver_data = pl.scan_parquet(\"../static/data/all_driver_data.parquet\")\n",
    "all_tracks_new = pl.scan_parquet(\"../static/data/all_tracks_new.parquet\")\n",
    "lap_data = pl.scan_parquet(\"../static/data/all_laps.parquet\")"
   ]
  },
  {
   "cell_type": "code",
   "execution_count": 3,
   "metadata": {},
   "outputs": [],
   "source": [
    "race_data = race_data.filter(pl.col(\"year\") == 2023)\n",
    "driver_data = driver_data.filter(pl.col(\"year\") == 2023)\n",
    "all_tracks_new = all_tracks_new.filter(pl.col(\"year\") == 2023)\n",
    "lap_data = lap_data.filter(pl.col(\"year\") == 2023)"
   ]
  },
  {
   "cell_type": "code",
   "execution_count": 4,
   "metadata": {},
   "outputs": [],
   "source": [
    "race_data.collect().write_parquet(\"../static/data_sample/race_data.parquet\")\n",
    "driver_data.collect().write_parquet(\"../static/data_sample/all_driver_data.parquet\")\n",
    "all_tracks_new.collect().write_parquet(\"../static/data_sample/all_tracks_new.parquet\")\n",
    "lap_data.collect().write_parquet(\"../static/data_sample/all_laps.parquet\")"
   ]
  }
 ],
 "metadata": {
  "kernelspec": {
   "display_name": ".venv",
   "language": "python",
   "name": "python3"
  },
  "language_info": {
   "codemirror_mode": {
    "name": "ipython",
    "version": 3
   },
   "file_extension": ".py",
   "mimetype": "text/x-python",
   "name": "python",
   "nbconvert_exporter": "python",
   "pygments_lexer": "ipython3",
   "version": "3.12.3"
  }
 },
 "nbformat": 4,
 "nbformat_minor": 2
}
