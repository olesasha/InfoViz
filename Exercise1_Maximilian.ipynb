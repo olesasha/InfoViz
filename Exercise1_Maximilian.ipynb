{
 "cells": [
  {
   "cell_type": "markdown",
   "metadata": {},
   "source": [
    "# Open Questions\n",
    "- Q1: merging team data based on current team or all teams? In the second option, we generate more unneccessary duplicates but it makes the data SOMEWHAT useful for teams analysis. Also, all teams will be included; currently only 30.\n",
    "- Q2: grouped tables - sum/avg/last to be discussed. \n",
    "- Q3: do we need 2 null plots? Maybe something different? Suggestion: keep the heatmap, remove the barplot. Looks fancier. Though reconsider the y axis labeling. "
   ]
  },
  {
   "cell_type": "markdown",
   "metadata": {},
   "source": [
    "# Exercise 1\n",
    "#### Group 25. Maximilian Laurent Heß (12347554), Oleksandra Kravchenko (11935050)"
   ]
  },
  {
   "cell_type": "markdown",
   "metadata": {},
   "source": [
    "## Reading the data"
   ]
  },
  {
   "cell_type": "code",
   "execution_count": 150,
   "metadata": {},
   "outputs": [],
   "source": [
    "import pandas as pd\n",
    "import numpy as np\n",
    "from sklearn.impute import SimpleImputer\n",
    "import matplotlib.pyplot as plt\n",
    "from matplotlib.patches import Rectangle\n",
    "import seaborn as sns\n",
    "import plotly.express as px\n",
    "import warnings\n",
    "\n",
    "warnings.filterwarnings(\"ignore\")"
   ]
  },
  {
   "cell_type": "markdown",
   "metadata": {},
   "source": [
    "We have the following data files:\n",
    "- **players**: information about individual players\n",
    "- **teams**: general information about NBA teams\n",
    "- **player_data_per_36_min**: quantitive data about each player's performance in a given season. Players' performance is normalized to 36-minutes-game for more objective comparison regardless of playing time."
   ]
  },
  {
   "cell_type": "code",
   "execution_count": 151,
   "metadata": {},
   "outputs": [],
   "source": [
    "players = pd.read_csv(\"data/players.csv\")\n",
    "teams = pd.read_csv(\"data/teams.csv\")\n",
    "player_data_per_36_min = pd.read_csv(\"data/player_data_per_36_min.csv\")"
   ]
  },
  {
   "cell_type": "markdown",
   "metadata": {},
   "source": [
    "## Handling duplicates"
   ]
  },
  {
   "cell_type": "code",
   "execution_count": 152,
   "metadata": {},
   "outputs": [
    {
     "name": "stdout",
     "output_type": "stream",
     "text": [
      "Duplicates in player_data_per_36_min.csv: 0\n",
      "Duplicates in players.csv: 0\n",
      "Duplicates in teams.csv: 0\n"
     ]
    }
   ],
   "source": [
    "print(\n",
    "    f\"Duplicates in player_data_per_36_min.csv: {len(player_data_per_36_min[player_data_per_36_min.duplicated()==True])}\"\n",
    ")\n",
    "print(f\"Duplicates in players.csv: {len(players[players.duplicated()==True])}\")\n",
    "print(f\"Duplicates in teams.csv: {len(teams[teams.duplicated()==True])}\")"
   ]
  },
  {
   "cell_type": "markdown",
   "metadata": {},
   "source": [
    "We do not have any complete duplicates in our data. However, we noticed that the player_data_per_36_min dataset contains multiple entries per player_id per season, which does not support our initial assumption about the content of the data. \n",
    "After further research in the data source, we found out, that NBA players often switch teams, so many players would have multiple entries for the same season while they played for different teams. Besides, where it is the case, there is also an additional row with the \"total\" statistics for the player across the teams that matches the same of total games from other 2 entries for the player for different teams. Technically, this behaviour makes the rows with total statistics a duplicate because they do not provide any additional data but only summarize the other entries.\n",
    "\n",
    "Since we do not have any information about the specific team that any given player's performance is attributed to (there is no team_id column in the player_data_per_36_min dataset), we decided to only keep the \"total\" statistics (identified by the maximum value of \"total_games\"). The cells below provide an example."
   ]
  },
  {
   "cell_type": "code",
   "execution_count": 153,
   "metadata": {},
   "outputs": [
    {
     "name": "stdout",
     "output_type": "stream",
     "text": [
      "Partial duplicates in player_data_per_36_min.csv: 4780\n"
     ]
    }
   ],
   "source": [
    "print(f\"Partial duplicates in player_data_per_36_min.csv: {len(player_data_per_36_min[player_data_per_36_min.duplicated([\"season\", \"player_id\"])==True])}\")"
   ]
  },
  {
   "cell_type": "code",
   "execution_count": 154,
   "metadata": {},
   "outputs": [
    {
     "data": {
      "text/html": [
       "<div>\n",
       "<style scoped>\n",
       "    .dataframe tbody tr th:only-of-type {\n",
       "        vertical-align: middle;\n",
       "    }\n",
       "\n",
       "    .dataframe tbody tr th {\n",
       "        vertical-align: top;\n",
       "    }\n",
       "\n",
       "    .dataframe thead th {\n",
       "        text-align: right;\n",
       "    }\n",
       "</style>\n",
       "<table border=\"1\" class=\"dataframe\">\n",
       "  <thead>\n",
       "    <tr style=\"text-align: right;\">\n",
       "      <th></th>\n",
       "      <th>id</th>\n",
       "      <th>player_id</th>\n",
       "      <th>season</th>\n",
       "      <th>total_games</th>\n",
       "      <th>games_started</th>\n",
       "      <th>minutes_played</th>\n",
       "      <th>fg</th>\n",
       "      <th>fga</th>\n",
       "      <th>fgp</th>\n",
       "      <th>fg3</th>\n",
       "      <th>...</th>\n",
       "      <th>ftp</th>\n",
       "      <th>orb</th>\n",
       "      <th>drb</th>\n",
       "      <th>trb</th>\n",
       "      <th>ast</th>\n",
       "      <th>stl</th>\n",
       "      <th>blk</th>\n",
       "      <th>tov</th>\n",
       "      <th>pf</th>\n",
       "      <th>pts</th>\n",
       "    </tr>\n",
       "  </thead>\n",
       "  <tbody>\n",
       "    <tr>\n",
       "      <th>11870</th>\n",
       "      <td>11871</td>\n",
       "      <td>1</td>\n",
       "      <td>1994-95</td>\n",
       "      <td>54.0</td>\n",
       "      <td>0.0</td>\n",
       "      <td>506.0</td>\n",
       "      <td>8.4</td>\n",
       "      <td>16.4</td>\n",
       "      <td>0.511</td>\n",
       "      <td>0.0</td>\n",
       "      <td>...</td>\n",
       "      <td>0.571</td>\n",
       "      <td>2.6</td>\n",
       "      <td>5.5</td>\n",
       "      <td>8.1</td>\n",
       "      <td>0.9</td>\n",
       "      <td>1.1</td>\n",
       "      <td>0.9</td>\n",
       "      <td>3.2</td>\n",
       "      <td>7.4</td>\n",
       "      <td>18.2</td>\n",
       "    </tr>\n",
       "    <tr>\n",
       "      <th>11871</th>\n",
       "      <td>11872</td>\n",
       "      <td>1</td>\n",
       "      <td>1994-95</td>\n",
       "      <td>51.0</td>\n",
       "      <td>0.0</td>\n",
       "      <td>476.0</td>\n",
       "      <td>8.8</td>\n",
       "      <td>16.6</td>\n",
       "      <td>0.532</td>\n",
       "      <td>0.0</td>\n",
       "      <td>...</td>\n",
       "      <td>0.571</td>\n",
       "      <td>2.6</td>\n",
       "      <td>5.4</td>\n",
       "      <td>8.0</td>\n",
       "      <td>1.0</td>\n",
       "      <td>1.1</td>\n",
       "      <td>0.9</td>\n",
       "      <td>3.0</td>\n",
       "      <td>7.7</td>\n",
       "      <td>19.2</td>\n",
       "    </tr>\n",
       "    <tr>\n",
       "      <th>11872</th>\n",
       "      <td>11873</td>\n",
       "      <td>1</td>\n",
       "      <td>1994-95</td>\n",
       "      <td>3.0</td>\n",
       "      <td>0.0</td>\n",
       "      <td>30.0</td>\n",
       "      <td>1.2</td>\n",
       "      <td>13.2</td>\n",
       "      <td>0.091</td>\n",
       "      <td>0.0</td>\n",
       "      <td>...</td>\n",
       "      <td>NaN</td>\n",
       "      <td>3.6</td>\n",
       "      <td>6.0</td>\n",
       "      <td>9.6</td>\n",
       "      <td>0.0</td>\n",
       "      <td>0.0</td>\n",
       "      <td>0.0</td>\n",
       "      <td>6.0</td>\n",
       "      <td>2.4</td>\n",
       "      <td>2.4</td>\n",
       "    </tr>\n",
       "  </tbody>\n",
       "</table>\n",
       "<p>3 rows × 27 columns</p>\n",
       "</div>"
      ],
      "text/plain": [
       "          id  player_id   season  total_games  games_started  minutes_played  \\\n",
       "11870  11871          1  1994-95         54.0            0.0           506.0   \n",
       "11871  11872          1  1994-95         51.0            0.0           476.0   \n",
       "11872  11873          1  1994-95          3.0            0.0            30.0   \n",
       "\n",
       "        fg   fga    fgp  fg3  ...    ftp  orb  drb  trb  ast  stl  blk  tov  \\\n",
       "11870  8.4  16.4  0.511  0.0  ...  0.571  2.6  5.5  8.1  0.9  1.1  0.9  3.2   \n",
       "11871  8.8  16.6  0.532  0.0  ...  0.571  2.6  5.4  8.0  1.0  1.1  0.9  3.0   \n",
       "11872  1.2  13.2  0.091  0.0  ...    NaN  3.6  6.0  9.6  0.0  0.0  0.0  6.0   \n",
       "\n",
       "        pf   pts  \n",
       "11870  7.4  18.2  \n",
       "11871  7.7  19.2  \n",
       "11872  2.4   2.4  \n",
       "\n",
       "[3 rows x 27 columns]"
      ]
     },
     "execution_count": 154,
     "metadata": {},
     "output_type": "execute_result"
    }
   ],
   "source": [
    "player_data_per_36_min.loc[\n",
    "    (player_data_per_36_min[\"player_id\"] == 1)\n",
    "    & (player_data_per_36_min[\"season\"] == \"1994-95\")\n",
    "]"
   ]
  },
  {
   "cell_type": "code",
   "execution_count": 155,
   "metadata": {},
   "outputs": [
    {
     "data": {
      "text/html": [
       "<div>\n",
       "<style scoped>\n",
       "    .dataframe tbody tr th:only-of-type {\n",
       "        vertical-align: middle;\n",
       "    }\n",
       "\n",
       "    .dataframe tbody tr th {\n",
       "        vertical-align: top;\n",
       "    }\n",
       "\n",
       "    .dataframe thead th {\n",
       "        text-align: right;\n",
       "    }\n",
       "</style>\n",
       "<table border=\"1\" class=\"dataframe\">\n",
       "  <thead>\n",
       "    <tr style=\"text-align: right;\">\n",
       "      <th></th>\n",
       "      <th>id</th>\n",
       "      <th>player_id</th>\n",
       "      <th>season</th>\n",
       "      <th>total_games</th>\n",
       "      <th>games_started</th>\n",
       "      <th>minutes_played</th>\n",
       "      <th>fg</th>\n",
       "      <th>fga</th>\n",
       "      <th>fgp</th>\n",
       "      <th>fg3</th>\n",
       "      <th>...</th>\n",
       "      <th>ftp</th>\n",
       "      <th>orb</th>\n",
       "      <th>drb</th>\n",
       "      <th>trb</th>\n",
       "      <th>ast</th>\n",
       "      <th>stl</th>\n",
       "      <th>blk</th>\n",
       "      <th>tov</th>\n",
       "      <th>pf</th>\n",
       "      <th>pts</th>\n",
       "    </tr>\n",
       "  </thead>\n",
       "  <tbody>\n",
       "    <tr>\n",
       "      <th>26067</th>\n",
       "      <td>26068</td>\n",
       "      <td>4794</td>\n",
       "      <td>2018-19</td>\n",
       "      <td>59.0</td>\n",
       "      <td>37.0</td>\n",
       "      <td>1040.0</td>\n",
       "      <td>7.3</td>\n",
       "      <td>13.1</td>\n",
       "      <td>0.559</td>\n",
       "      <td>0.0</td>\n",
       "      <td>...</td>\n",
       "      <td>0.802</td>\n",
       "      <td>4.0</td>\n",
       "      <td>8.6</td>\n",
       "      <td>12.5</td>\n",
       "      <td>2.2</td>\n",
       "      <td>0.5</td>\n",
       "      <td>1.8</td>\n",
       "      <td>2.4</td>\n",
       "      <td>4.7</td>\n",
       "      <td>18.2</td>\n",
       "    </tr>\n",
       "    <tr>\n",
       "      <th>26068</th>\n",
       "      <td>26069</td>\n",
       "      <td>4794</td>\n",
       "      <td>2018-19</td>\n",
       "      <td>33.0</td>\n",
       "      <td>12.0</td>\n",
       "      <td>516.0</td>\n",
       "      <td>7.8</td>\n",
       "      <td>13.5</td>\n",
       "      <td>0.580</td>\n",
       "      <td>0.0</td>\n",
       "      <td>...</td>\n",
       "      <td>0.864</td>\n",
       "      <td>3.8</td>\n",
       "      <td>7.5</td>\n",
       "      <td>11.3</td>\n",
       "      <td>1.7</td>\n",
       "      <td>0.3</td>\n",
       "      <td>1.9</td>\n",
       "      <td>2.3</td>\n",
       "      <td>5.1</td>\n",
       "      <td>19.6</td>\n",
       "    </tr>\n",
       "    <tr>\n",
       "      <th>26069</th>\n",
       "      <td>26070</td>\n",
       "      <td>4794</td>\n",
       "      <td>2018-19</td>\n",
       "      <td>26.0</td>\n",
       "      <td>25.0</td>\n",
       "      <td>524.0</td>\n",
       "      <td>6.9</td>\n",
       "      <td>12.8</td>\n",
       "      <td>0.538</td>\n",
       "      <td>0.0</td>\n",
       "      <td>...</td>\n",
       "      <td>0.733</td>\n",
       "      <td>4.2</td>\n",
       "      <td>9.5</td>\n",
       "      <td>13.7</td>\n",
       "      <td>2.6</td>\n",
       "      <td>0.7</td>\n",
       "      <td>1.6</td>\n",
       "      <td>2.5</td>\n",
       "      <td>4.4</td>\n",
       "      <td>16.8</td>\n",
       "    </tr>\n",
       "  </tbody>\n",
       "</table>\n",
       "<p>3 rows × 27 columns</p>\n",
       "</div>"
      ],
      "text/plain": [
       "          id  player_id   season  total_games  games_started  minutes_played  \\\n",
       "26067  26068       4794  2018-19         59.0           37.0          1040.0   \n",
       "26068  26069       4794  2018-19         33.0           12.0           516.0   \n",
       "26069  26070       4794  2018-19         26.0           25.0           524.0   \n",
       "\n",
       "        fg   fga    fgp  fg3  ...    ftp  orb  drb   trb  ast  stl  blk  tov  \\\n",
       "26067  7.3  13.1  0.559  0.0  ...  0.802  4.0  8.6  12.5  2.2  0.5  1.8  2.4   \n",
       "26068  7.8  13.5  0.580  0.0  ...  0.864  3.8  7.5  11.3  1.7  0.3  1.9  2.3   \n",
       "26069  6.9  12.8  0.538  0.0  ...  0.733  4.2  9.5  13.7  2.6  0.7  1.6  2.5   \n",
       "\n",
       "        pf   pts  \n",
       "26067  4.7  18.2  \n",
       "26068  5.1  19.6  \n",
       "26069  4.4  16.8  \n",
       "\n",
       "[3 rows x 27 columns]"
      ]
     },
     "execution_count": 155,
     "metadata": {},
     "output_type": "execute_result"
    }
   ],
   "source": [
    "player_data_per_36_min.loc[\n",
    "    (player_data_per_36_min[\"player_id\"] == 4794)\n",
    "    & (player_data_per_36_min[\"season\"] == \"2018-19\")\n",
    "]"
   ]
  },
  {
   "cell_type": "code",
   "execution_count": 156,
   "metadata": {},
   "outputs": [
    {
     "name": "stdout",
     "output_type": "stream",
     "text": [
      "Partial duplicates in player_data_per_36_min.csv after duplicate removal: 0\n"
     ]
    }
   ],
   "source": [
    "#sort the values by total games played - small to large\n",
    "#remove duplicates for season and player_id and keep only the largest value of total_games\n",
    "player_data_per_36_min = player_data_per_36_min.sort_values(\"total_games\").drop_duplicates([\"season\", \"player_id\"], keep='last').sort_index()\n",
    "print(f\"Partial duplicates in player_data_per_36_min.csv after duplicate removal: {len(player_data_per_36_min[player_data_per_36_min.duplicated([\"season\", \"player_id\"])==True])}\")"
   ]
  },
  {
   "cell_type": "markdown",
   "metadata": {},
   "source": [
    "There are no duplicate IDs in players and teams datasets, so it is safe to proceed to the next step of merging the data on these IDs."
   ]
  },
  {
   "cell_type": "code",
   "execution_count": 157,
   "metadata": {},
   "outputs": [
    {
     "name": "stdout",
     "output_type": "stream",
     "text": [
      "Duplicate id's in players.csv: 0\n",
      "Duplicate id's in teams.csv: 0\n"
     ]
    }
   ],
   "source": [
    "print(f\"Duplicate id's in players.csv: {len(players[players.duplicated([\"id\"])==True])}\")\n",
    "print(f\"Duplicate id's in teams.csv: {len(teams[teams.duplicated([\"team_id\"])==True])}\")"
   ]
  },
  {
   "cell_type": "markdown",
   "metadata": {},
   "source": [
    "## Data structuring\n",
    "### Merging the data"
   ]
  },
  {
   "cell_type": "markdown",
   "metadata": {},
   "source": [
    "First, we join the data from players dataset with players' statistics stored in players_data_per_36_min. This way, we get an expanded players' statistics dataset with not only player_id but also other relevant player-specific information. "
   ]
  },
  {
   "cell_type": "code",
   "execution_count": 158,
   "metadata": {},
   "outputs": [],
   "source": [
    "# players + player_data_per_36_min\n",
    "df_helper = players.merge(\n",
    "    player_data_per_36_min,\n",
    "    how=\"right\",  # right join due to 1:n relationship\n",
    "    left_on=\"id\",\n",
    "    right_on=\"player_id\",\n",
    ")"
   ]
  },
  {
   "cell_type": "markdown",
   "metadata": {},
   "source": [
    "Now, we join the intermediate df_helper containing players data with the teams data. From the teams dataset we only want to include the team name based on the current team the player belongs to. Since we cannot tell to which team every player belonged at any point in his career, the past performance statistics of every player will be attributed to his current team. We do not plan to analyze the teams' performances in detail, so we can keep working with this assumption, though it does impact the factual integrity of the data, especially considering the fact that most players in the dataset are already retired."
   ]
  },
  {
   "cell_type": "code",
   "execution_count": 159,
   "metadata": {},
   "outputs": [],
   "source": [
    "df_merged = df_helper.merge(\n",
    "    teams[[\"team_name\", \"team_id\"]],\n",
    "    how=\"left\",  # left join due to n:1 relationship\n",
    "    left_on=\"current_team_id\",\n",
    "    right_on=\"team_id\",\n",
    ")"
   ]
  },
  {
   "cell_type": "code",
   "execution_count": 160,
   "metadata": {},
   "outputs": [],
   "source": [
    "# df_merged[(~df_merged[\"current_team_id\"].isna())&(df_merged[\"team_name\"].isna())]"
   ]
  },
  {
   "cell_type": "markdown",
   "metadata": {},
   "source": [
    "### Handling different data formats\n",
    "Some of the numeric attributes are formatted as objects but it would be easier to work with them as thei respective data types.\n",
    "We decided to solve this for the following attributes:\n",
    "- height: given in feet and inches -> convert to inches\n",
    "- birth_date: given as a string -> convert to date"
   ]
  },
  {
   "cell_type": "code",
   "execution_count": 161,
   "metadata": {},
   "outputs": [
    {
     "name": "stdout",
     "output_type": "stream",
     "text": [
      "<class 'pandas.core.frame.DataFrame'>\n",
      "RangeIndex: 21894 entries, 0 to 21893\n",
      "Data columns (total 42 columns):\n",
      " #   Column           Non-Null Count  Dtype  \n",
      "---  ------           --------------  -----  \n",
      " 0   id_x             21894 non-null  int64  \n",
      " 1   name             21894 non-null  object \n",
      " 2   full_name        21894 non-null  object \n",
      " 3   position         21894 non-null  object \n",
      " 4   height           21894 non-null  object \n",
      " 5   weight           21891 non-null  float64\n",
      " 6   birth_date       21893 non-null  object \n",
      " 7   birth_place      21563 non-null  object \n",
      " 8   retired          21894 non-null  bool   \n",
      " 9   player_url       21894 non-null  object \n",
      " 10  current_team_id  2406 non-null   float64\n",
      " 11  teams            21894 non-null  object \n",
      " 12  text             21894 non-null  object \n",
      " 13  id_y             21894 non-null  int64  \n",
      " 14  player_id        21894 non-null  int64  \n",
      " 15  season           21894 non-null  object \n",
      " 16  total_games      21881 non-null  float64\n",
      " 17  games_started    16558 non-null  float64\n",
      " 18  minutes_played   21522 non-null  float64\n",
      " 19  fg               21519 non-null  float64\n",
      " 20  fga              21519 non-null  float64\n",
      " 21  fgp              21815 non-null  float64\n",
      " 22  fg3              17122 non-null  float64\n",
      " 23  fg3a             17122 non-null  float64\n",
      " 24  fg3p             14429 non-null  float64\n",
      " 25  fg2              18524 non-null  float64\n",
      " 26  fg2a             18524 non-null  float64\n",
      " 27  fg2p             18430 non-null  float64\n",
      " 28  ft               21519 non-null  float64\n",
      " 29  fta              21519 non-null  float64\n",
      " 30  ftp              21276 non-null  float64\n",
      " 31  orb              18677 non-null  float64\n",
      " 32  drb              18677 non-null  float64\n",
      " 33  trb              21519 non-null  float64\n",
      " 34  ast              21519 non-null  float64\n",
      " 35  stl              18677 non-null  float64\n",
      " 36  blk              18677 non-null  float64\n",
      " 37  tov              17687 non-null  float64\n",
      " 38  pf               21519 non-null  float64\n",
      " 39  pts              21519 non-null  float64\n",
      " 40  team_name        2406 non-null   object \n",
      " 41  team_id          2406 non-null   float64\n",
      "dtypes: bool(1), float64(27), int64(3), object(11)\n",
      "memory usage: 6.9+ MB\n"
     ]
    }
   ],
   "source": [
    "df_merged.info()"
   ]
  },
  {
   "cell_type": "code",
   "execution_count": 162,
   "metadata": {},
   "outputs": [],
   "source": [
    "# define the function to convert feet and inches to just inches\n",
    "def feet_to_inches(height):\n",
    "    feet, inches = map(int, height.split(\"-\"))\n",
    "    return feet * 12 + inches\n",
    "\n",
    "\n",
    "# apply the conversion function\n",
    "df_merged[\"height_inches\"] = df_merged[\"height\"].apply(feet_to_inches)"
   ]
  },
  {
   "cell_type": "code",
   "execution_count": 163,
   "metadata": {},
   "outputs": [],
   "source": [
    "df_merged[\"birth_date\"] = pd.to_datetime(df_merged[\"birth_date\"], format=\"%B %d %Y\")"
   ]
  },
  {
   "cell_type": "markdown",
   "metadata": {},
   "source": [
    "## Handling Nulls"
   ]
  },
  {
   "cell_type": "code",
   "execution_count": 164,
   "metadata": {},
   "outputs": [],
   "source": [
    "# replace NaN with None for explanability reasons: None is a technical null, NaN can be misinterpreted as false formatting (not a number); base Python prefers None\n",
    "df_merged = df_merged.replace({np.nan: None})"
   ]
  },
  {
   "cell_type": "markdown",
   "metadata": {},
   "source": [
    "### Drop unnecessary columns\n",
    "- id_x, id_y were only used for merging and are redundant\n",
    "- player_url, text will not be used for any data processing or visualisations \n",
    "- team_id and current_team_id are redundant because team names are unique (unlike the players' names), so we will not need the IDs for any visualisations, only the team names\n",
    "- original height column is redundant because it was converted to inches in the previous section"
   ]
  },
  {
   "cell_type": "code",
   "execution_count": 165,
   "metadata": {},
   "outputs": [],
   "source": [
    "df_merged = (\n",
    "    df_merged.drop(\n",
    "        columns=[\"id_x\", \"id_y\", \"player_url\", \"team_id\", \"current_team_id\", \"height\"]\n",
    "    )\n",
    "    .sort_values(by=\"player_id\")\n",
    "    .reset_index(drop=True)\n",
    ")"
   ]
  },
  {
   "cell_type": "markdown",
   "metadata": {},
   "source": [
    "### Visual representation of Nulls"
   ]
  },
  {
   "cell_type": "code",
   "execution_count": 166,
   "metadata": {},
   "outputs": [
    {
     "data": {
      "text/plain": [
       "Text(0.5, 1.0, 'Percentage of null values per column (0 % excluded)')"
      ]
     },
     "execution_count": 166,
     "metadata": {},
     "output_type": "execute_result"
    },
    {
     "data": {
      "image/png": "[encoded data removed]",
      "text/plain": [
       "<Figure size 900x500 with 1 Axes>"
      ]
     },
     "metadata": {},
     "output_type": "display_data"
    }
   ],
   "source": [
    "# don't visualize all columns that are zero as there is no need to visualise them\n",
    "df_null_plot = df_merged.loc[:, df_merged.isnull().sum() != 0]\n",
    "null_per_column = df_null_plot.isnull().sum()\n",
    "percentage_per_column = null_per_column / len(df_null_plot) * 100\n",
    "percentage_per_column.apply(lambda x: f\"{np.round(x,2)} %\")\n",
    "\n",
    "plt.figure(figsize=(9, 5))\n",
    "ax = sns.barplot(percentage_per_column)\n",
    "ax.tick_params(axis=\"x\", rotation=90)\n",
    "ax.set_ylabel(\"Percentage of nulls\")\n",
    "ax.set_xlabel(\"Column\")\n",
    "ax.set_title(\"Percentage of null values per column (0 % excluded)\")"
   ]
  },
  {
   "cell_type": "code",
   "execution_count": 167,
   "metadata": {},
   "outputs": [
    {
     "data": {
      "text/plain": [
       "Text(0.5, 1.0, 'Heatmap of nulls per column (columns with zero nulls excluded)')"
      ]
     },
     "execution_count": 167,
     "metadata": {},
     "output_type": "execute_result"
    },
    {
     "data": {
      "image/png": "[encoded data removed]",
      "text/plain": [
       "<Figure size 900x900 with 1 Axes>"
      ]
     },
     "metadata": {},
     "output_type": "display_data"
    }
   ],
   "source": [
    "colors = [\"lightblue\", \"black\"]\n",
    "plt.figure(figsize=(9, 9))\n",
    "ax = sns.heatmap(df_null_plot.isnull(), cmap=colors, cbar=False)\n",
    "\n",
    "plt.plot([0], label=\"Null\", color=colors[1], marker=\"s\", linestyle=\"\")\n",
    "plt.plot([0], label=\"Not Null\", color=colors[0], marker=\"s\", linestyle=\"\")\n",
    "legend = plt.legend(bbox_to_anchor=(1.2, 1))\n",
    "ax.invert_yaxis()\n",
    "ax.set_ylabel(\"Index\")\n",
    "ax.set_xlabel(\"Column\")\n",
    "ax.set_title(\"Heatmap of nulls per column (columns with zero nulls excluded)\")"
   ]
  },
  {
   "cell_type": "markdown",
   "metadata": {},
   "source": [
    "#### Handling Nulls in team_name"
   ]
  },
  {
   "cell_type": "markdown",
   "metadata": {},
   "source": [
    "Missing value in the \"team_name\" means that the player currently has no team, since we chose \"team_name\" to represent only the current team of the player. Most cases can be explained by the \"retired\" column. So if the player is retired, their team will be assigned to \"Retired\". However, there are cases, in which a player is not retired but has no entry for the \"current_team_id\", so the missing values won't be handled by the default method.\n",
    "\n",
    "As mentioned above, it is impossible to track, to which team each player belonged in which seasons, and for some cases, the \"teams\" column contains just an empty list. Judging by the \"text\" column that contains a short biography of each player, the players indeed played for some of the teams that are in the data, so assigning \"Other\" would be technically incorrect. Therefore, we decided to fill the other Nulls, of which there are relatively few, with \"No Information\".\n",
    "\n",
    "There are no missing values in the \"retired\" column, so all cases must be covered accurately."
   ]
  },
  {
   "cell_type": "code",
   "execution_count": 168,
   "metadata": {},
   "outputs": [
    {
     "name": "stdout",
     "output_type": "stream",
     "text": [
      "Number of players that have no team and are not retired: 133\n"
     ]
    }
   ],
   "source": [
    "#fill the missing team names for the retired players\n",
    "df_merged.loc[df_merged[\"retired\"], \"team_name\"] = \"Retired\"\n",
    "print(f\"Number of players that have no team and are not retired: {len(df_merged.loc[df_merged[\"team_name\"].isna()])}\")\n",
    "\n",
    "#fill other missing team names\n",
    "df_merged[\"team_name\"].fillna(\"No Information\", inplace = True)"
   ]
  },
  {
   "cell_type": "markdown",
   "metadata": {},
   "source": [
    "##### Handling the missing values in players' personal information\n",
    "From the plot above we see that there are some entries where personal information of players such as weight, birth_date and birth_place are missing. \n",
    "We will handle them separately. \n",
    "- **weight**: there are no missing values in the \"height\" column, so we fill the missing values here with the average weight of the players' of the same height. For all different height values the corresponsing average weight values could be computed.\n",
    "- **birth_date**: there is only one player with a missing birth_date, so we will fill his birth date manually.\n",
    "- **birth_place**: this attribute is hard to fill accurately since it is a very specific piece of categorical data. There are also 331 misisng values, so it is not feasible to input them manually. Since we want to use the birth_place data for the visualization we would like it to be as accurate as possible. We noticed a pattern in the biographical \"text\" column that the first mention of a state is normally either a birth state or a high school state, where their basketball career begins. We will therefore fill the columns based on the first mentioned USA state. "
   ]
  },
  {
   "cell_type": "code",
   "execution_count": 169,
   "metadata": {},
   "outputs": [],
   "source": [
    "# create a dictionary {height: average weight}\n",
    "height_to_weight = (\n",
    "    df_merged[[\"height_inches\", \"weight\"]]\n",
    "    .groupby(\"height_inches\")[\"weight\"]\n",
    "    .mean()\n",
    "    .to_dict()\n",
    ")\n",
    "# fill the missing values in the weight column with the computed averages\n",
    "df_merged[\"weight\"] = df_merged[\"weight\"].fillna(\n",
    "    df_merged[\"height_inches\"].map(height_to_weight)\n",
    ")"
   ]
  },
  {
   "cell_type": "code",
   "execution_count": 170,
   "metadata": {},
   "outputs": [],
   "source": [
    "# fill the only missing birth_date manually\n",
    "df_merged[\"birth_date\"].fillna(\"1932-05-10\", inplace=True)"
   ]
  },
  {
   "cell_type": "code",
   "execution_count": 171,
   "metadata": {},
   "outputs": [
    {
     "data": {
      "text/plain": [
       "67       Forest Edward \"Frosty\" Able (born July 27, 193...\n",
       "80       Charles R. \"Bud\" Acton (born January 11, 1942 ...\n",
       "216      Gary R. Alcorn (October 8, 1936 – November 29,...\n",
       "217      Gary R. Alcorn (October 8, 1936 – November 29,...\n",
       "267      Robert J. Allen (born July 17, 1946) is an Ame...\n",
       "                               ...                        \n",
       "21779    Wayne Yates (born November 7, 1937) is a retir...\n",
       "21854    David A. Zeller (born June 8, 1939) is a forme...\n",
       "21855    Gary Lynn Zeller (November 20, 1947 – February...\n",
       "21856    Gary Lynn Zeller (November 20, 1947 – February...\n",
       "21883    William Charles Zopf (born June 7, 1948) is a ...\n",
       "Name: text, Length: 331, dtype: object"
      ]
     },
     "execution_count": 171,
     "metadata": {},
     "output_type": "execute_result"
    }
   ],
   "source": [
    "df_merged.loc[df_merged[\"birth_place\"].isna()][\"text\"]"
   ]
  },
  {
   "cell_type": "markdown",
   "metadata": {},
   "source": [
    "#### Handling the missing values in performance statistics"
   ]
  },
  {
   "cell_type": "code",
   "execution_count": null,
   "metadata": {},
   "outputs": [],
   "source": []
  },
  {
   "cell_type": "markdown",
   "metadata": {},
   "source": [
    "#### Final check"
   ]
  },
  {
   "cell_type": "markdown",
   "metadata": {},
   "source": [
    "Plot the same heatmap as above to see the impact of the Null-handling methods."
   ]
  },
  {
   "cell_type": "code",
   "execution_count": 172,
   "metadata": {},
   "outputs": [
    {
     "data": {
      "text/plain": [
       "Text(0.5, 1.0, 'Heatmap of nulls per column (columns with zero nulls excluded)')"
      ]
     },
     "execution_count": 172,
     "metadata": {},
     "output_type": "execute_result"
    },
    {
     "data": {
      "image/png": "[encoded data removed]",
      "text/plain": [
       "<Figure size 900x900 with 1 Axes>"
      ]
     },
     "metadata": {},
     "output_type": "display_data"
    }
   ],
   "source": [
    "df_null_plot = df_merged.loc[:, df_merged.isnull().sum() != 0]\n",
    "colors = [\"lightblue\", \"black\"]\n",
    "plt.figure(figsize=(9, 9))\n",
    "ax = sns.heatmap(df_null_plot.isnull(), cmap=colors, cbar=False)\n",
    "\n",
    "plt.plot([0], label=\"Null\", color=colors[1], marker=\"s\", linestyle=\"\")\n",
    "plt.plot([0], label=\"Not Null\", color=colors[0], marker=\"s\", linestyle=\"\")\n",
    "legend = plt.legend(bbox_to_anchor=(1.2, 1))\n",
    "ax.invert_yaxis()\n",
    "ax.set_ylabel(\"Index \")\n",
    "ax.set_xlabel(\"Column\")\n",
    "ax.set_title(\"Heatmap of nulls per column (columns with zero nulls excluded)\")"
   ]
  },
  {
   "cell_type": "markdown",
   "metadata": {},
   "source": [
    "## Creating grouped tables\n",
    "Create two new tables: one that groups rows based on player_id, another that groups rows based on team_id."
   ]
  },
  {
   "cell_type": "markdown",
   "metadata": {},
   "source": [
    "### While exploring the dataset we found that some players have two player-ids. This has to be fixed, as this id has to be unique for every player. "
   ]
  },
  {
   "cell_type": "markdown",
   "metadata": {},
   "source": [
    "Check for players which have two different player ids"
   ]
  },
  {
   "cell_type": "code",
   "execution_count": 174,
   "metadata": {},
   "outputs": [
    {
     "data": {
      "text/html": [
       "<div>\n",
       "<style scoped>\n",
       "    .dataframe tbody tr th:only-of-type {\n",
       "        vertical-align: middle;\n",
       "    }\n",
       "\n",
       "    .dataframe tbody tr th {\n",
       "        vertical-align: top;\n",
       "    }\n",
       "\n",
       "    .dataframe thead th {\n",
       "        text-align: right;\n",
       "    }\n",
       "</style>\n",
       "<table border=\"1\" class=\"dataframe\">\n",
       "  <thead>\n",
       "    <tr style=\"text-align: right;\">\n",
       "      <th></th>\n",
       "      <th>name</th>\n",
       "      <th>full_name</th>\n",
       "      <th>position</th>\n",
       "      <th>weight</th>\n",
       "      <th>birth_date</th>\n",
       "      <th>birth_place</th>\n",
       "      <th>retired</th>\n",
       "      <th>teams</th>\n",
       "      <th>text</th>\n",
       "      <th>player_id</th>\n",
       "      <th>...</th>\n",
       "      <th>drb</th>\n",
       "      <th>trb</th>\n",
       "      <th>ast</th>\n",
       "      <th>stl</th>\n",
       "      <th>blk</th>\n",
       "      <th>tov</th>\n",
       "      <th>pf</th>\n",
       "      <th>pts</th>\n",
       "      <th>team_name</th>\n",
       "      <th>height_inches</th>\n",
       "    </tr>\n",
       "  </thead>\n",
       "  <tbody>\n",
       "    <tr>\n",
       "      <th>21713</th>\n",
       "      <td>Chris Wright</td>\n",
       "      <td>Chris Wright</td>\n",
       "      <td>F</td>\n",
       "      <td>226.0</td>\n",
       "      <td>1988-09-30 00:00:00</td>\n",
       "      <td>Trotwood, Ohio</td>\n",
       "      <td>True</td>\n",
       "      <td>[10, 17]</td>\n",
       "      <td>Chris Wright (born September 30, 1988) is an A...</td>\n",
       "      <td>4740</td>\n",
       "      <td>...</td>\n",
       "      <td>2.9</td>\n",
       "      <td>5.7</td>\n",
       "      <td>1.4</td>\n",
       "      <td>2.0</td>\n",
       "      <td>1.4</td>\n",
       "      <td>1.4</td>\n",
       "      <td>4.9</td>\n",
       "      <td>13.7</td>\n",
       "      <td>Retired</td>\n",
       "      <td>80</td>\n",
       "    </tr>\n",
       "    <tr>\n",
       "      <th>21715</th>\n",
       "      <td>Chris Wright</td>\n",
       "      <td>Chris Wright</td>\n",
       "      <td>G</td>\n",
       "      <td>210.0</td>\n",
       "      <td>1989-11-04 00:00:00</td>\n",
       "      <td>Washington, District of Columbia</td>\n",
       "      <td>True</td>\n",
       "      <td>[]</td>\n",
       "      <td>Chris Wright (born November 4, 1989) is an Ame...</td>\n",
       "      <td>4741</td>\n",
       "      <td>...</td>\n",
       "      <td>0.0</td>\n",
       "      <td>0.0</td>\n",
       "      <td>0.0</td>\n",
       "      <td>0.0</td>\n",
       "      <td>0.0</td>\n",
       "      <td>9.0</td>\n",
       "      <td>0.0</td>\n",
       "      <td>18.0</td>\n",
       "      <td>Retired</td>\n",
       "      <td>73</td>\n",
       "    </tr>\n",
       "    <tr>\n",
       "      <th>16796</th>\n",
       "      <td>Isaiah Roby</td>\n",
       "      <td>Isaiah Roby</td>\n",
       "      <td>F</td>\n",
       "      <td>230.0</td>\n",
       "      <td>1998-02-03 00:00:00</td>\n",
       "      <td>Dixon, Illinois</td>\n",
       "      <td>False</td>\n",
       "      <td>[21]</td>\n",
       "      <td>Isaiah Roby (born February 3, 1998) is an Amer...</td>\n",
       "      <td>3643</td>\n",
       "      <td>...</td>\n",
       "      <td>0.0</td>\n",
       "      <td>0.0</td>\n",
       "      <td>0.0</td>\n",
       "      <td>0.0</td>\n",
       "      <td>0.0</td>\n",
       "      <td>0.0</td>\n",
       "      <td>0.0</td>\n",
       "      <td>0.0</td>\n",
       "      <td>Oklahoma City Thunder</td>\n",
       "      <td>80</td>\n",
       "    </tr>\n",
       "    <tr>\n",
       "      <th>21888</th>\n",
       "      <td>Isaiah Roby</td>\n",
       "      <td>Isaiah Roby</td>\n",
       "      <td>F</td>\n",
       "      <td>230.0</td>\n",
       "      <td>1998-02-03 00:00:00</td>\n",
       "      <td>Dixon, Illinois</td>\n",
       "      <td>False</td>\n",
       "      <td>[7, 21]</td>\n",
       "      <td>Isaiah Roby (born February 3, 1998) is an Amer...</td>\n",
       "      <td>4811</td>\n",
       "      <td>...</td>\n",
       "      <td>0.0</td>\n",
       "      <td>0.0</td>\n",
       "      <td>0.0</td>\n",
       "      <td>0.0</td>\n",
       "      <td>0.0</td>\n",
       "      <td>0.0</td>\n",
       "      <td>0.0</td>\n",
       "      <td>0.0</td>\n",
       "      <td>Oklahoma City Thunder</td>\n",
       "      <td>80</td>\n",
       "    </tr>\n",
       "    <tr>\n",
       "      <th>12516</th>\n",
       "      <td>Jeremiah Martin</td>\n",
       "      <td>Jeremiah Martin</td>\n",
       "      <td>G</td>\n",
       "      <td>184.0</td>\n",
       "      <td>1996-06-19 00:00:00</td>\n",
       "      <td>Memphis, Tennessee</td>\n",
       "      <td>False</td>\n",
       "      <td>[3]</td>\n",
       "      <td>Jeremiah Martin (born June 19, 1996) is an Ame...</td>\n",
       "      <td>2702</td>\n",
       "      <td>...</td>\n",
       "      <td>3.3</td>\n",
       "      <td>3.3</td>\n",
       "      <td>3.3</td>\n",
       "      <td>3.3</td>\n",
       "      <td>0.0</td>\n",
       "      <td>0.0</td>\n",
       "      <td>0.0</td>\n",
       "      <td>6.5</td>\n",
       "      <td>Brooklyn Nets</td>\n",
       "      <td>75</td>\n",
       "    </tr>\n",
       "    <tr>\n",
       "      <th>21890</th>\n",
       "      <td>Jeremiah Martin</td>\n",
       "      <td>Jeremiah Martin</td>\n",
       "      <td>PG</td>\n",
       "      <td>184.0</td>\n",
       "      <td>1996-01-19 00:00:00</td>\n",
       "      <td>Memphis, Tennessee</td>\n",
       "      <td>False</td>\n",
       "      <td>[3]</td>\n",
       "      <td>Jeremiah Martin (born June 19, 1996) is an Ame...</td>\n",
       "      <td>4817</td>\n",
       "      <td>...</td>\n",
       "      <td>3.3</td>\n",
       "      <td>3.3</td>\n",
       "      <td>3.3</td>\n",
       "      <td>3.3</td>\n",
       "      <td>0.0</td>\n",
       "      <td>0.0</td>\n",
       "      <td>0.0</td>\n",
       "      <td>6.5</td>\n",
       "      <td>Brooklyn Nets</td>\n",
       "      <td>75</td>\n",
       "    </tr>\n",
       "    <tr>\n",
       "      <th>17708</th>\n",
       "      <td>Marial Shayok</td>\n",
       "      <td>Marial Shayok</td>\n",
       "      <td>G</td>\n",
       "      <td>196.0</td>\n",
       "      <td>1995-07-26 00:00:00</td>\n",
       "      <td>Ottawa, Canada</td>\n",
       "      <td>False</td>\n",
       "      <td>[23]</td>\n",
       "      <td>Marial Makur Shayok (born July 26, 1995) is a ...</td>\n",
       "      <td>3851</td>\n",
       "      <td>...</td>\n",
       "      <td>10.8</td>\n",
       "      <td>10.8</td>\n",
       "      <td>3.6</td>\n",
       "      <td>0.0</td>\n",
       "      <td>0.0</td>\n",
       "      <td>3.6</td>\n",
       "      <td>0.0</td>\n",
       "      <td>10.8</td>\n",
       "      <td>Philadelphia 76ers</td>\n",
       "      <td>77</td>\n",
       "    </tr>\n",
       "    <tr>\n",
       "      <th>21889</th>\n",
       "      <td>Marial Shayok</td>\n",
       "      <td>Marial Shayok</td>\n",
       "      <td>G</td>\n",
       "      <td>196.0</td>\n",
       "      <td>1995-07-26 00:00:00</td>\n",
       "      <td>Ottawa, Canada</td>\n",
       "      <td>False</td>\n",
       "      <td>[29]</td>\n",
       "      <td>Marial Makur Shayok (born July 26, 1995) is a ...</td>\n",
       "      <td>4814</td>\n",
       "      <td>...</td>\n",
       "      <td>10.8</td>\n",
       "      <td>10.8</td>\n",
       "      <td>3.6</td>\n",
       "      <td>0.0</td>\n",
       "      <td>0.0</td>\n",
       "      <td>3.6</td>\n",
       "      <td>0.0</td>\n",
       "      <td>10.8</td>\n",
       "      <td>Utah Jazz</td>\n",
       "      <td>77</td>\n",
       "    </tr>\n",
       "    <tr>\n",
       "      <th>1940</th>\n",
       "      <td>Marques Bolden</td>\n",
       "      <td>Marques Terrell Bolden</td>\n",
       "      <td>C</td>\n",
       "      <td>245.0</td>\n",
       "      <td>1998-04-17 00:00:00</td>\n",
       "      <td>Dallas, Texas</td>\n",
       "      <td>False</td>\n",
       "      <td>[6]</td>\n",
       "      <td>Marques Terrell Bolden (born April 17, 1998) i...</td>\n",
       "      <td>387</td>\n",
       "      <td>...</td>\n",
       "      <td>24.0</td>\n",
       "      <td>24.0</td>\n",
       "      <td>0.0</td>\n",
       "      <td>12.0</td>\n",
       "      <td>0.0</td>\n",
       "      <td>0.0</td>\n",
       "      <td>12.0</td>\n",
       "      <td>0.0</td>\n",
       "      <td>Cleveland Cavaliers</td>\n",
       "      <td>83</td>\n",
       "    </tr>\n",
       "    <tr>\n",
       "      <th>21893</th>\n",
       "      <td>Marques Bolden</td>\n",
       "      <td>Marques Terrell Bolden</td>\n",
       "      <td>C</td>\n",
       "      <td>245.0</td>\n",
       "      <td>1998-04-17 00:00:00</td>\n",
       "      <td>Dallas, Texas</td>\n",
       "      <td>False</td>\n",
       "      <td>[6]</td>\n",
       "      <td>Marques Terrell Bolden (born April 17, 1998) i...</td>\n",
       "      <td>4820</td>\n",
       "      <td>...</td>\n",
       "      <td>24.0</td>\n",
       "      <td>24.0</td>\n",
       "      <td>0.0</td>\n",
       "      <td>12.0</td>\n",
       "      <td>0.0</td>\n",
       "      <td>0.0</td>\n",
       "      <td>12.0</td>\n",
       "      <td>0.0</td>\n",
       "      <td>Cleveland Cavaliers</td>\n",
       "      <td>83</td>\n",
       "    </tr>\n",
       "    <tr>\n",
       "      <th>18199</th>\n",
       "      <td>Michael Smith</td>\n",
       "      <td>Michael John Smith</td>\n",
       "      <td>F</td>\n",
       "      <td>225.0</td>\n",
       "      <td>1965-05-19 00:00:00</td>\n",
       "      <td>Rochester, New York</td>\n",
       "      <td>True</td>\n",
       "      <td>[2, 13]</td>\n",
       "      <td>Michael John Smith (born May 19, 1965) is a re...</td>\n",
       "      <td>3973</td>\n",
       "      <td>...</td>\n",
       "      <td>3.2</td>\n",
       "      <td>5.2</td>\n",
       "      <td>4.0</td>\n",
       "      <td>0.6</td>\n",
       "      <td>0.2</td>\n",
       "      <td>3.4</td>\n",
       "      <td>2.5</td>\n",
       "      <td>20.2</td>\n",
       "      <td>Retired</td>\n",
       "      <td>82</td>\n",
       "    </tr>\n",
       "    <tr>\n",
       "      <th>18202</th>\n",
       "      <td>Michael Smith</td>\n",
       "      <td>Michael John Smith</td>\n",
       "      <td>F</td>\n",
       "      <td>230.0</td>\n",
       "      <td>1972-03-28 00:00:00</td>\n",
       "      <td>Washington, District of Columbia</td>\n",
       "      <td>True</td>\n",
       "      <td>[26, 30]</td>\n",
       "      <td>Michael John Smith (born March 28, 1972) is an...</td>\n",
       "      <td>3974</td>\n",
       "      <td>...</td>\n",
       "      <td>6.4</td>\n",
       "      <td>10.1</td>\n",
       "      <td>2.9</td>\n",
       "      <td>1.2</td>\n",
       "      <td>1.2</td>\n",
       "      <td>1.9</td>\n",
       "      <td>4.3</td>\n",
       "      <td>9.3</td>\n",
       "      <td>Retired</td>\n",
       "      <td>80</td>\n",
       "    </tr>\n",
       "    <tr>\n",
       "      <th>10428</th>\n",
       "      <td>Larry Jones</td>\n",
       "      <td>Walter Jones</td>\n",
       "      <td>G-F</td>\n",
       "      <td>180.0</td>\n",
       "      <td>1942-09-22 00:00:00</td>\n",
       "      <td>Columbus, Ohio</td>\n",
       "      <td>True</td>\n",
       "      <td>[23]</td>\n",
       "      <td>Larry Jones (born September 22, 1942) is an Am...</td>\n",
       "      <td>2213</td>\n",
       "      <td>...</td>\n",
       "      <td>None</td>\n",
       "      <td>5.7</td>\n",
       "      <td>4.0</td>\n",
       "      <td>None</td>\n",
       "      <td>None</td>\n",
       "      <td>None</td>\n",
       "      <td>4.6</td>\n",
       "      <td>13.1</td>\n",
       "      <td>Retired</td>\n",
       "      <td>74</td>\n",
       "    </tr>\n",
       "    <tr>\n",
       "      <th>10496</th>\n",
       "      <td>Wali Jones</td>\n",
       "      <td>Walter Jones</td>\n",
       "      <td>G</td>\n",
       "      <td>180.0</td>\n",
       "      <td>1942-02-14 00:00:00</td>\n",
       "      <td>Philadelphia, Pennsylvania</td>\n",
       "      <td>True</td>\n",
       "      <td>[23, 17, 9]</td>\n",
       "      <td>Walter Jones (born February 14, 1942) is a ret...</td>\n",
       "      <td>2230</td>\n",
       "      <td>...</td>\n",
       "      <td>None</td>\n",
       "      <td>4.2</td>\n",
       "      <td>4.9</td>\n",
       "      <td>None</td>\n",
       "      <td>None</td>\n",
       "      <td>None</td>\n",
       "      <td>3.9</td>\n",
       "      <td>17.1</td>\n",
       "      <td>Retired</td>\n",
       "      <td>74</td>\n",
       "    </tr>\n",
       "    <tr>\n",
       "      <th>9131</th>\n",
       "      <td>William Howard</td>\n",
       "      <td>William Howard</td>\n",
       "      <td>F</td>\n",
       "      <td>205.0</td>\n",
       "      <td>1993-10-25 00:00:00</td>\n",
       "      <td>Montbrison, France</td>\n",
       "      <td>False</td>\n",
       "      <td>[11]</td>\n",
       "      <td>William Howard (born October 25, 1993) is a Fr...</td>\n",
       "      <td>1951</td>\n",
       "      <td>...</td>\n",
       "      <td>5.5</td>\n",
       "      <td>5.5</td>\n",
       "      <td>2.8</td>\n",
       "      <td>0.0</td>\n",
       "      <td>0.0</td>\n",
       "      <td>2.8</td>\n",
       "      <td>2.8</td>\n",
       "      <td>0.0</td>\n",
       "      <td>Houston Rockets</td>\n",
       "      <td>80</td>\n",
       "    </tr>\n",
       "    <tr>\n",
       "      <th>21891</th>\n",
       "      <td>William Howard</td>\n",
       "      <td>William Howard</td>\n",
       "      <td>F</td>\n",
       "      <td>205.0</td>\n",
       "      <td>1993-10-25 00:00:00</td>\n",
       "      <td>Montbrison, France</td>\n",
       "      <td>False</td>\n",
       "      <td>[29, 11]</td>\n",
       "      <td>William Howard (born October 25, 1993) is a Fr...</td>\n",
       "      <td>4818</td>\n",
       "      <td>...</td>\n",
       "      <td>5.5</td>\n",
       "      <td>5.5</td>\n",
       "      <td>2.8</td>\n",
       "      <td>0.0</td>\n",
       "      <td>0.0</td>\n",
       "      <td>2.8</td>\n",
       "      <td>2.8</td>\n",
       "      <td>0.0</td>\n",
       "      <td>Houston Rockets</td>\n",
       "      <td>80</td>\n",
       "    </tr>\n",
       "  </tbody>\n",
       "</table>\n",
       "<p>16 rows × 37 columns</p>\n",
       "</div>"
      ],
      "text/plain": [
       "                  name               full_name position  weight  \\\n",
       "21713     Chris Wright            Chris Wright        F   226.0   \n",
       "21715     Chris Wright            Chris Wright        G   210.0   \n",
       "16796      Isaiah Roby             Isaiah Roby        F   230.0   \n",
       "21888      Isaiah Roby             Isaiah Roby        F   230.0   \n",
       "12516  Jeremiah Martin         Jeremiah Martin        G   184.0   \n",
       "21890  Jeremiah Martin         Jeremiah Martin       PG   184.0   \n",
       "17708    Marial Shayok           Marial Shayok        G   196.0   \n",
       "21889    Marial Shayok           Marial Shayok        G   196.0   \n",
       "1940    Marques Bolden  Marques Terrell Bolden        C   245.0   \n",
       "21893   Marques Bolden  Marques Terrell Bolden        C   245.0   \n",
       "18199    Michael Smith      Michael John Smith        F   225.0   \n",
       "18202    Michael Smith      Michael John Smith        F   230.0   \n",
       "10428      Larry Jones            Walter Jones      G-F   180.0   \n",
       "10496       Wali Jones            Walter Jones        G   180.0   \n",
       "9131    William Howard          William Howard        F   205.0   \n",
       "21891   William Howard          William Howard        F   205.0   \n",
       "\n",
       "                birth_date                       birth_place  retired  \\\n",
       "21713  1988-09-30 00:00:00                    Trotwood, Ohio     True   \n",
       "21715  1989-11-04 00:00:00  Washington, District of Columbia     True   \n",
       "16796  1998-02-03 00:00:00                   Dixon, Illinois    False   \n",
       "21888  1998-02-03 00:00:00                   Dixon, Illinois    False   \n",
       "12516  1996-06-19 00:00:00                Memphis, Tennessee    False   \n",
       "21890  1996-01-19 00:00:00                Memphis, Tennessee    False   \n",
       "17708  1995-07-26 00:00:00                    Ottawa, Canada    False   \n",
       "21889  1995-07-26 00:00:00                    Ottawa, Canada    False   \n",
       "1940   1998-04-17 00:00:00                     Dallas, Texas    False   \n",
       "21893  1998-04-17 00:00:00                     Dallas, Texas    False   \n",
       "18199  1965-05-19 00:00:00               Rochester, New York     True   \n",
       "18202  1972-03-28 00:00:00  Washington, District of Columbia     True   \n",
       "10428  1942-09-22 00:00:00                    Columbus, Ohio     True   \n",
       "10496  1942-02-14 00:00:00        Philadelphia, Pennsylvania     True   \n",
       "9131   1993-10-25 00:00:00                Montbrison, France    False   \n",
       "21891  1993-10-25 00:00:00                Montbrison, France    False   \n",
       "\n",
       "             teams                                               text  \\\n",
       "21713     [10, 17]  Chris Wright (born September 30, 1988) is an A...   \n",
       "21715           []  Chris Wright (born November 4, 1989) is an Ame...   \n",
       "16796         [21]  Isaiah Roby (born February 3, 1998) is an Amer...   \n",
       "21888      [7, 21]  Isaiah Roby (born February 3, 1998) is an Amer...   \n",
       "12516          [3]  Jeremiah Martin (born June 19, 1996) is an Ame...   \n",
       "21890          [3]  Jeremiah Martin (born June 19, 1996) is an Ame...   \n",
       "17708         [23]  Marial Makur Shayok (born July 26, 1995) is a ...   \n",
       "21889         [29]  Marial Makur Shayok (born July 26, 1995) is a ...   \n",
       "1940           [6]  Marques Terrell Bolden (born April 17, 1998) i...   \n",
       "21893          [6]  Marques Terrell Bolden (born April 17, 1998) i...   \n",
       "18199      [2, 13]  Michael John Smith (born May 19, 1965) is a re...   \n",
       "18202     [26, 30]  Michael John Smith (born March 28, 1972) is an...   \n",
       "10428         [23]  Larry Jones (born September 22, 1942) is an Am...   \n",
       "10496  [23, 17, 9]  Walter Jones (born February 14, 1942) is a ret...   \n",
       "9131          [11]  William Howard (born October 25, 1993) is a Fr...   \n",
       "21891     [29, 11]  William Howard (born October 25, 1993) is a Fr...   \n",
       "\n",
       "       player_id  ...   drb   trb  ast   stl   blk   tov    pf   pts  \\\n",
       "21713       4740  ...   2.9   5.7  1.4   2.0   1.4   1.4   4.9  13.7   \n",
       "21715       4741  ...   0.0   0.0  0.0   0.0   0.0   9.0   0.0  18.0   \n",
       "16796       3643  ...   0.0   0.0  0.0   0.0   0.0   0.0   0.0   0.0   \n",
       "21888       4811  ...   0.0   0.0  0.0   0.0   0.0   0.0   0.0   0.0   \n",
       "12516       2702  ...   3.3   3.3  3.3   3.3   0.0   0.0   0.0   6.5   \n",
       "21890       4817  ...   3.3   3.3  3.3   3.3   0.0   0.0   0.0   6.5   \n",
       "17708       3851  ...  10.8  10.8  3.6   0.0   0.0   3.6   0.0  10.8   \n",
       "21889       4814  ...  10.8  10.8  3.6   0.0   0.0   3.6   0.0  10.8   \n",
       "1940         387  ...  24.0  24.0  0.0  12.0   0.0   0.0  12.0   0.0   \n",
       "21893       4820  ...  24.0  24.0  0.0  12.0   0.0   0.0  12.0   0.0   \n",
       "18199       3973  ...   3.2   5.2  4.0   0.6   0.2   3.4   2.5  20.2   \n",
       "18202       3974  ...   6.4  10.1  2.9   1.2   1.2   1.9   4.3   9.3   \n",
       "10428       2213  ...  None   5.7  4.0  None  None  None   4.6  13.1   \n",
       "10496       2230  ...  None   4.2  4.9  None  None  None   3.9  17.1   \n",
       "9131        1951  ...   5.5   5.5  2.8   0.0   0.0   2.8   2.8   0.0   \n",
       "21891       4818  ...   5.5   5.5  2.8   0.0   0.0   2.8   2.8   0.0   \n",
       "\n",
       "                   team_name height_inches  \n",
       "21713                Retired            80  \n",
       "21715                Retired            73  \n",
       "16796  Oklahoma City Thunder            80  \n",
       "21888  Oklahoma City Thunder            80  \n",
       "12516          Brooklyn Nets            75  \n",
       "21890          Brooklyn Nets            75  \n",
       "17708     Philadelphia 76ers            77  \n",
       "21889              Utah Jazz            77  \n",
       "1940     Cleveland Cavaliers            83  \n",
       "21893    Cleveland Cavaliers            83  \n",
       "18199                Retired            82  \n",
       "18202                Retired            80  \n",
       "10428                Retired            74  \n",
       "10496                Retired            74  \n",
       "9131         Houston Rockets            80  \n",
       "21891        Houston Rockets            80  \n",
       "\n",
       "[16 rows x 37 columns]"
      ]
     },
     "execution_count": 174,
     "metadata": {},
     "output_type": "execute_result"
    }
   ],
   "source": [
    "def get_players_with_two_ids():\n",
    "    df_players_with_two_ids = df_merged.copy()\n",
    "    df_players_with_two_ids = df_players_with_two_ids.drop_duplicates(\n",
    "        subset=[\"player_id\"]\n",
    "    )\n",
    "    array_player_names_with_two_ids = df_players_with_two_ids[\n",
    "        df_players_with_two_ids.duplicated(subset=[\"full_name\"])\n",
    "    ][\"full_name\"].unique()\n",
    "    df_players_with_two_ids = df_players_with_two_ids[\n",
    "        df_players_with_two_ids[\"full_name\"].isin(array_player_names_with_two_ids)\n",
    "    ].sort_values(\"full_name\")\n",
    "    return df_players_with_two_ids\n",
    "\n",
    "\n",
    "df_players_with_two_ids = get_players_with_two_ids()\n",
    "df_players_with_two_ids"
   ]
  },
  {
   "cell_type": "markdown",
   "metadata": {},
   "source": [
    "Rename the first Walter Jones as he is named incorrectly in the dataset"
   ]
  },
  {
   "cell_type": "code",
   "execution_count": 176,
   "metadata": {},
   "outputs": [
    {
     "data": {
      "text/html": [
       "<div>\n",
       "<style scoped>\n",
       "    .dataframe tbody tr th:only-of-type {\n",
       "        vertical-align: middle;\n",
       "    }\n",
       "\n",
       "    .dataframe tbody tr th {\n",
       "        vertical-align: top;\n",
       "    }\n",
       "\n",
       "    .dataframe thead th {\n",
       "        text-align: right;\n",
       "    }\n",
       "</style>\n",
       "<table border=\"1\" class=\"dataframe\">\n",
       "  <thead>\n",
       "    <tr style=\"text-align: right;\">\n",
       "      <th></th>\n",
       "      <th>name</th>\n",
       "      <th>full_name</th>\n",
       "      <th>position</th>\n",
       "      <th>weight</th>\n",
       "      <th>birth_date</th>\n",
       "      <th>birth_place</th>\n",
       "      <th>retired</th>\n",
       "      <th>teams</th>\n",
       "      <th>text</th>\n",
       "      <th>player_id</th>\n",
       "      <th>...</th>\n",
       "      <th>drb</th>\n",
       "      <th>trb</th>\n",
       "      <th>ast</th>\n",
       "      <th>stl</th>\n",
       "      <th>blk</th>\n",
       "      <th>tov</th>\n",
       "      <th>pf</th>\n",
       "      <th>pts</th>\n",
       "      <th>team_name</th>\n",
       "      <th>height_inches</th>\n",
       "    </tr>\n",
       "  </thead>\n",
       "  <tbody>\n",
       "    <tr>\n",
       "      <th>21713</th>\n",
       "      <td>Chris Wright</td>\n",
       "      <td>Chris Wright</td>\n",
       "      <td>F</td>\n",
       "      <td>226.0</td>\n",
       "      <td>1988-09-30 00:00:00</td>\n",
       "      <td>Trotwood, Ohio</td>\n",
       "      <td>True</td>\n",
       "      <td>[10, 17]</td>\n",
       "      <td>Chris Wright (born September 30, 1988) is an A...</td>\n",
       "      <td>4740</td>\n",
       "      <td>...</td>\n",
       "      <td>2.9</td>\n",
       "      <td>5.7</td>\n",
       "      <td>1.4</td>\n",
       "      <td>2.0</td>\n",
       "      <td>1.4</td>\n",
       "      <td>1.4</td>\n",
       "      <td>4.9</td>\n",
       "      <td>13.7</td>\n",
       "      <td>Retired</td>\n",
       "      <td>80</td>\n",
       "    </tr>\n",
       "    <tr>\n",
       "      <th>21715</th>\n",
       "      <td>Chris Wright</td>\n",
       "      <td>Chris Wright</td>\n",
       "      <td>G</td>\n",
       "      <td>210.0</td>\n",
       "      <td>1989-11-04 00:00:00</td>\n",
       "      <td>Washington, District of Columbia</td>\n",
       "      <td>True</td>\n",
       "      <td>[]</td>\n",
       "      <td>Chris Wright (born November 4, 1989) is an Ame...</td>\n",
       "      <td>4741</td>\n",
       "      <td>...</td>\n",
       "      <td>0.0</td>\n",
       "      <td>0.0</td>\n",
       "      <td>0.0</td>\n",
       "      <td>0.0</td>\n",
       "      <td>0.0</td>\n",
       "      <td>9.0</td>\n",
       "      <td>0.0</td>\n",
       "      <td>18.0</td>\n",
       "      <td>Retired</td>\n",
       "      <td>73</td>\n",
       "    </tr>\n",
       "    <tr>\n",
       "      <th>16796</th>\n",
       "      <td>Isaiah Roby</td>\n",
       "      <td>Isaiah Roby</td>\n",
       "      <td>F</td>\n",
       "      <td>230.0</td>\n",
       "      <td>1998-02-03 00:00:00</td>\n",
       "      <td>Dixon, Illinois</td>\n",
       "      <td>False</td>\n",
       "      <td>[21]</td>\n",
       "      <td>Isaiah Roby (born February 3, 1998) is an Amer...</td>\n",
       "      <td>3643</td>\n",
       "      <td>...</td>\n",
       "      <td>0.0</td>\n",
       "      <td>0.0</td>\n",
       "      <td>0.0</td>\n",
       "      <td>0.0</td>\n",
       "      <td>0.0</td>\n",
       "      <td>0.0</td>\n",
       "      <td>0.0</td>\n",
       "      <td>0.0</td>\n",
       "      <td>Oklahoma City Thunder</td>\n",
       "      <td>80</td>\n",
       "    </tr>\n",
       "    <tr>\n",
       "      <th>21888</th>\n",
       "      <td>Isaiah Roby</td>\n",
       "      <td>Isaiah Roby</td>\n",
       "      <td>F</td>\n",
       "      <td>230.0</td>\n",
       "      <td>1998-02-03 00:00:00</td>\n",
       "      <td>Dixon, Illinois</td>\n",
       "      <td>False</td>\n",
       "      <td>[7, 21]</td>\n",
       "      <td>Isaiah Roby (born February 3, 1998) is an Amer...</td>\n",
       "      <td>4811</td>\n",
       "      <td>...</td>\n",
       "      <td>0.0</td>\n",
       "      <td>0.0</td>\n",
       "      <td>0.0</td>\n",
       "      <td>0.0</td>\n",
       "      <td>0.0</td>\n",
       "      <td>0.0</td>\n",
       "      <td>0.0</td>\n",
       "      <td>0.0</td>\n",
       "      <td>Oklahoma City Thunder</td>\n",
       "      <td>80</td>\n",
       "    </tr>\n",
       "    <tr>\n",
       "      <th>12516</th>\n",
       "      <td>Jeremiah Martin</td>\n",
       "      <td>Jeremiah Martin</td>\n",
       "      <td>G</td>\n",
       "      <td>184.0</td>\n",
       "      <td>1996-06-19 00:00:00</td>\n",
       "      <td>Memphis, Tennessee</td>\n",
       "      <td>False</td>\n",
       "      <td>[3]</td>\n",
       "      <td>Jeremiah Martin (born June 19, 1996) is an Ame...</td>\n",
       "      <td>2702</td>\n",
       "      <td>...</td>\n",
       "      <td>3.3</td>\n",
       "      <td>3.3</td>\n",
       "      <td>3.3</td>\n",
       "      <td>3.3</td>\n",
       "      <td>0.0</td>\n",
       "      <td>0.0</td>\n",
       "      <td>0.0</td>\n",
       "      <td>6.5</td>\n",
       "      <td>Brooklyn Nets</td>\n",
       "      <td>75</td>\n",
       "    </tr>\n",
       "    <tr>\n",
       "      <th>21890</th>\n",
       "      <td>Jeremiah Martin</td>\n",
       "      <td>Jeremiah Martin</td>\n",
       "      <td>PG</td>\n",
       "      <td>184.0</td>\n",
       "      <td>1996-01-19 00:00:00</td>\n",
       "      <td>Memphis, Tennessee</td>\n",
       "      <td>False</td>\n",
       "      <td>[3]</td>\n",
       "      <td>Jeremiah Martin (born June 19, 1996) is an Ame...</td>\n",
       "      <td>4817</td>\n",
       "      <td>...</td>\n",
       "      <td>3.3</td>\n",
       "      <td>3.3</td>\n",
       "      <td>3.3</td>\n",
       "      <td>3.3</td>\n",
       "      <td>0.0</td>\n",
       "      <td>0.0</td>\n",
       "      <td>0.0</td>\n",
       "      <td>6.5</td>\n",
       "      <td>Brooklyn Nets</td>\n",
       "      <td>75</td>\n",
       "    </tr>\n",
       "    <tr>\n",
       "      <th>17708</th>\n",
       "      <td>Marial Shayok</td>\n",
       "      <td>Marial Shayok</td>\n",
       "      <td>G</td>\n",
       "      <td>196.0</td>\n",
       "      <td>1995-07-26 00:00:00</td>\n",
       "      <td>Ottawa, Canada</td>\n",
       "      <td>False</td>\n",
       "      <td>[23]</td>\n",
       "      <td>Marial Makur Shayok (born July 26, 1995) is a ...</td>\n",
       "      <td>3851</td>\n",
       "      <td>...</td>\n",
       "      <td>10.8</td>\n",
       "      <td>10.8</td>\n",
       "      <td>3.6</td>\n",
       "      <td>0.0</td>\n",
       "      <td>0.0</td>\n",
       "      <td>3.6</td>\n",
       "      <td>0.0</td>\n",
       "      <td>10.8</td>\n",
       "      <td>Philadelphia 76ers</td>\n",
       "      <td>77</td>\n",
       "    </tr>\n",
       "    <tr>\n",
       "      <th>21889</th>\n",
       "      <td>Marial Shayok</td>\n",
       "      <td>Marial Shayok</td>\n",
       "      <td>G</td>\n",
       "      <td>196.0</td>\n",
       "      <td>1995-07-26 00:00:00</td>\n",
       "      <td>Ottawa, Canada</td>\n",
       "      <td>False</td>\n",
       "      <td>[29]</td>\n",
       "      <td>Marial Makur Shayok (born July 26, 1995) is a ...</td>\n",
       "      <td>4814</td>\n",
       "      <td>...</td>\n",
       "      <td>10.8</td>\n",
       "      <td>10.8</td>\n",
       "      <td>3.6</td>\n",
       "      <td>0.0</td>\n",
       "      <td>0.0</td>\n",
       "      <td>3.6</td>\n",
       "      <td>0.0</td>\n",
       "      <td>10.8</td>\n",
       "      <td>Utah Jazz</td>\n",
       "      <td>77</td>\n",
       "    </tr>\n",
       "    <tr>\n",
       "      <th>1940</th>\n",
       "      <td>Marques Bolden</td>\n",
       "      <td>Marques Terrell Bolden</td>\n",
       "      <td>C</td>\n",
       "      <td>245.0</td>\n",
       "      <td>1998-04-17 00:00:00</td>\n",
       "      <td>Dallas, Texas</td>\n",
       "      <td>False</td>\n",
       "      <td>[6]</td>\n",
       "      <td>Marques Terrell Bolden (born April 17, 1998) i...</td>\n",
       "      <td>387</td>\n",
       "      <td>...</td>\n",
       "      <td>24.0</td>\n",
       "      <td>24.0</td>\n",
       "      <td>0.0</td>\n",
       "      <td>12.0</td>\n",
       "      <td>0.0</td>\n",
       "      <td>0.0</td>\n",
       "      <td>12.0</td>\n",
       "      <td>0.0</td>\n",
       "      <td>Cleveland Cavaliers</td>\n",
       "      <td>83</td>\n",
       "    </tr>\n",
       "    <tr>\n",
       "      <th>21893</th>\n",
       "      <td>Marques Bolden</td>\n",
       "      <td>Marques Terrell Bolden</td>\n",
       "      <td>C</td>\n",
       "      <td>245.0</td>\n",
       "      <td>1998-04-17 00:00:00</td>\n",
       "      <td>Dallas, Texas</td>\n",
       "      <td>False</td>\n",
       "      <td>[6]</td>\n",
       "      <td>Marques Terrell Bolden (born April 17, 1998) i...</td>\n",
       "      <td>4820</td>\n",
       "      <td>...</td>\n",
       "      <td>24.0</td>\n",
       "      <td>24.0</td>\n",
       "      <td>0.0</td>\n",
       "      <td>12.0</td>\n",
       "      <td>0.0</td>\n",
       "      <td>0.0</td>\n",
       "      <td>12.0</td>\n",
       "      <td>0.0</td>\n",
       "      <td>Cleveland Cavaliers</td>\n",
       "      <td>83</td>\n",
       "    </tr>\n",
       "    <tr>\n",
       "      <th>18199</th>\n",
       "      <td>Michael Smith</td>\n",
       "      <td>Michael John Smith</td>\n",
       "      <td>F</td>\n",
       "      <td>225.0</td>\n",
       "      <td>1965-05-19 00:00:00</td>\n",
       "      <td>Rochester, New York</td>\n",
       "      <td>True</td>\n",
       "      <td>[2, 13]</td>\n",
       "      <td>Michael John Smith (born May 19, 1965) is a re...</td>\n",
       "      <td>3973</td>\n",
       "      <td>...</td>\n",
       "      <td>3.2</td>\n",
       "      <td>5.2</td>\n",
       "      <td>4.0</td>\n",
       "      <td>0.6</td>\n",
       "      <td>0.2</td>\n",
       "      <td>3.4</td>\n",
       "      <td>2.5</td>\n",
       "      <td>20.2</td>\n",
       "      <td>Retired</td>\n",
       "      <td>82</td>\n",
       "    </tr>\n",
       "    <tr>\n",
       "      <th>18202</th>\n",
       "      <td>Michael Smith</td>\n",
       "      <td>Michael John Smith</td>\n",
       "      <td>F</td>\n",
       "      <td>230.0</td>\n",
       "      <td>1972-03-28 00:00:00</td>\n",
       "      <td>Washington, District of Columbia</td>\n",
       "      <td>True</td>\n",
       "      <td>[26, 30]</td>\n",
       "      <td>Michael John Smith (born March 28, 1972) is an...</td>\n",
       "      <td>3974</td>\n",
       "      <td>...</td>\n",
       "      <td>6.4</td>\n",
       "      <td>10.1</td>\n",
       "      <td>2.9</td>\n",
       "      <td>1.2</td>\n",
       "      <td>1.2</td>\n",
       "      <td>1.9</td>\n",
       "      <td>4.3</td>\n",
       "      <td>9.3</td>\n",
       "      <td>Retired</td>\n",
       "      <td>80</td>\n",
       "    </tr>\n",
       "    <tr>\n",
       "      <th>9131</th>\n",
       "      <td>William Howard</td>\n",
       "      <td>William Howard</td>\n",
       "      <td>F</td>\n",
       "      <td>205.0</td>\n",
       "      <td>1993-10-25 00:00:00</td>\n",
       "      <td>Montbrison, France</td>\n",
       "      <td>False</td>\n",
       "      <td>[11]</td>\n",
       "      <td>William Howard (born October 25, 1993) is a Fr...</td>\n",
       "      <td>1951</td>\n",
       "      <td>...</td>\n",
       "      <td>5.5</td>\n",
       "      <td>5.5</td>\n",
       "      <td>2.8</td>\n",
       "      <td>0.0</td>\n",
       "      <td>0.0</td>\n",
       "      <td>2.8</td>\n",
       "      <td>2.8</td>\n",
       "      <td>0.0</td>\n",
       "      <td>Houston Rockets</td>\n",
       "      <td>80</td>\n",
       "    </tr>\n",
       "    <tr>\n",
       "      <th>21891</th>\n",
       "      <td>William Howard</td>\n",
       "      <td>William Howard</td>\n",
       "      <td>F</td>\n",
       "      <td>205.0</td>\n",
       "      <td>1993-10-25 00:00:00</td>\n",
       "      <td>Montbrison, France</td>\n",
       "      <td>False</td>\n",
       "      <td>[29, 11]</td>\n",
       "      <td>William Howard (born October 25, 1993) is a Fr...</td>\n",
       "      <td>4818</td>\n",
       "      <td>...</td>\n",
       "      <td>5.5</td>\n",
       "      <td>5.5</td>\n",
       "      <td>2.8</td>\n",
       "      <td>0.0</td>\n",
       "      <td>0.0</td>\n",
       "      <td>2.8</td>\n",
       "      <td>2.8</td>\n",
       "      <td>0.0</td>\n",
       "      <td>Houston Rockets</td>\n",
       "      <td>80</td>\n",
       "    </tr>\n",
       "  </tbody>\n",
       "</table>\n",
       "<p>14 rows × 37 columns</p>\n",
       "</div>"
      ],
      "text/plain": [
       "                  name               full_name position  weight  \\\n",
       "21713     Chris Wright            Chris Wright        F   226.0   \n",
       "21715     Chris Wright            Chris Wright        G   210.0   \n",
       "16796      Isaiah Roby             Isaiah Roby        F   230.0   \n",
       "21888      Isaiah Roby             Isaiah Roby        F   230.0   \n",
       "12516  Jeremiah Martin         Jeremiah Martin        G   184.0   \n",
       "21890  Jeremiah Martin         Jeremiah Martin       PG   184.0   \n",
       "17708    Marial Shayok           Marial Shayok        G   196.0   \n",
       "21889    Marial Shayok           Marial Shayok        G   196.0   \n",
       "1940    Marques Bolden  Marques Terrell Bolden        C   245.0   \n",
       "21893   Marques Bolden  Marques Terrell Bolden        C   245.0   \n",
       "18199    Michael Smith      Michael John Smith        F   225.0   \n",
       "18202    Michael Smith      Michael John Smith        F   230.0   \n",
       "9131    William Howard          William Howard        F   205.0   \n",
       "21891   William Howard          William Howard        F   205.0   \n",
       "\n",
       "                birth_date                       birth_place  retired  \\\n",
       "21713  1988-09-30 00:00:00                    Trotwood, Ohio     True   \n",
       "21715  1989-11-04 00:00:00  Washington, District of Columbia     True   \n",
       "16796  1998-02-03 00:00:00                   Dixon, Illinois    False   \n",
       "21888  1998-02-03 00:00:00                   Dixon, Illinois    False   \n",
       "12516  1996-06-19 00:00:00                Memphis, Tennessee    False   \n",
       "21890  1996-01-19 00:00:00                Memphis, Tennessee    False   \n",
       "17708  1995-07-26 00:00:00                    Ottawa, Canada    False   \n",
       "21889  1995-07-26 00:00:00                    Ottawa, Canada    False   \n",
       "1940   1998-04-17 00:00:00                     Dallas, Texas    False   \n",
       "21893  1998-04-17 00:00:00                     Dallas, Texas    False   \n",
       "18199  1965-05-19 00:00:00               Rochester, New York     True   \n",
       "18202  1972-03-28 00:00:00  Washington, District of Columbia     True   \n",
       "9131   1993-10-25 00:00:00                Montbrison, France    False   \n",
       "21891  1993-10-25 00:00:00                Montbrison, France    False   \n",
       "\n",
       "          teams                                               text  player_id  \\\n",
       "21713  [10, 17]  Chris Wright (born September 30, 1988) is an A...       4740   \n",
       "21715        []  Chris Wright (born November 4, 1989) is an Ame...       4741   \n",
       "16796      [21]  Isaiah Roby (born February 3, 1998) is an Amer...       3643   \n",
       "21888   [7, 21]  Isaiah Roby (born February 3, 1998) is an Amer...       4811   \n",
       "12516       [3]  Jeremiah Martin (born June 19, 1996) is an Ame...       2702   \n",
       "21890       [3]  Jeremiah Martin (born June 19, 1996) is an Ame...       4817   \n",
       "17708      [23]  Marial Makur Shayok (born July 26, 1995) is a ...       3851   \n",
       "21889      [29]  Marial Makur Shayok (born July 26, 1995) is a ...       4814   \n",
       "1940        [6]  Marques Terrell Bolden (born April 17, 1998) i...        387   \n",
       "21893       [6]  Marques Terrell Bolden (born April 17, 1998) i...       4820   \n",
       "18199   [2, 13]  Michael John Smith (born May 19, 1965) is a re...       3973   \n",
       "18202  [26, 30]  Michael John Smith (born March 28, 1972) is an...       3974   \n",
       "9131       [11]  William Howard (born October 25, 1993) is a Fr...       1951   \n",
       "21891  [29, 11]  William Howard (born October 25, 1993) is a Fr...       4818   \n",
       "\n",
       "       ...   drb   trb  ast   stl  blk  tov    pf   pts  \\\n",
       "21713  ...   2.9   5.7  1.4   2.0  1.4  1.4   4.9  13.7   \n",
       "21715  ...   0.0   0.0  0.0   0.0  0.0  9.0   0.0  18.0   \n",
       "16796  ...   0.0   0.0  0.0   0.0  0.0  0.0   0.0   0.0   \n",
       "21888  ...   0.0   0.0  0.0   0.0  0.0  0.0   0.0   0.0   \n",
       "12516  ...   3.3   3.3  3.3   3.3  0.0  0.0   0.0   6.5   \n",
       "21890  ...   3.3   3.3  3.3   3.3  0.0  0.0   0.0   6.5   \n",
       "17708  ...  10.8  10.8  3.6   0.0  0.0  3.6   0.0  10.8   \n",
       "21889  ...  10.8  10.8  3.6   0.0  0.0  3.6   0.0  10.8   \n",
       "1940   ...  24.0  24.0  0.0  12.0  0.0  0.0  12.0   0.0   \n",
       "21893  ...  24.0  24.0  0.0  12.0  0.0  0.0  12.0   0.0   \n",
       "18199  ...   3.2   5.2  4.0   0.6  0.2  3.4   2.5  20.2   \n",
       "18202  ...   6.4  10.1  2.9   1.2  1.2  1.9   4.3   9.3   \n",
       "9131   ...   5.5   5.5  2.8   0.0  0.0  2.8   2.8   0.0   \n",
       "21891  ...   5.5   5.5  2.8   0.0  0.0  2.8   2.8   0.0   \n",
       "\n",
       "                   team_name height_inches  \n",
       "21713                Retired            80  \n",
       "21715                Retired            73  \n",
       "16796  Oklahoma City Thunder            80  \n",
       "21888  Oklahoma City Thunder            80  \n",
       "12516          Brooklyn Nets            75  \n",
       "21890          Brooklyn Nets            75  \n",
       "17708     Philadelphia 76ers            77  \n",
       "21889              Utah Jazz            77  \n",
       "1940     Cleveland Cavaliers            83  \n",
       "21893    Cleveland Cavaliers            83  \n",
       "18199                Retired            82  \n",
       "18202                Retired            80  \n",
       "9131         Houston Rockets            80  \n",
       "21891        Houston Rockets            80  \n",
       "\n",
       "[14 rows x 37 columns]"
      ]
     },
     "execution_count": 176,
     "metadata": {},
     "output_type": "execute_result"
    }
   ],
   "source": [
    "df_merged.loc[\n",
    "    (df_merged[\"full_name\"] == \"Walter Jones\") & (df_merged[\"position\"] == \"G-F\"),\n",
    "    \"full_name\",\n",
    "] = \"Larry Jones\"\n",
    "df_players_with_two_ids = get_players_with_two_ids()\n",
    "df_players_with_two_ids"
   ]
  },
  {
   "cell_type": "markdown",
   "metadata": {},
   "source": [
    "Decide for each player individually how to merge the two player instances:\n",
    "\n",
    "- Ignore Chris Wrights and Micheal John Smith as they are obviously different persons\n",
    "\n",
    "- Isaiah Roby: Drop the first entry as it's containing less info (teams)\n",
    "\n",
    "- Jeremiah Martin: According to his wikipedia he played as PG in 2019-20. The position of the first entry will be changed and the second entry (has the wrong birth date), will be dropped.\n",
    "\n",
    "- Marial Shayhok: According to the [NBA-Website](https://www.nba.com/stats/player/1629621/career) he only played for Philadelphia that season, so that row stays\n",
    "\n",
    "- Marques Terrell Bolden: Same info in both rows. First one stays\n",
    "\n",
    "- William Howard: Drop the first entry as it's containing less info (teams)\n"
   ]
  },
  {
   "cell_type": "code",
   "execution_count": 177,
   "metadata": {},
   "outputs": [
    {
     "data": {
      "text/html": [
       "<div>\n",
       "<style scoped>\n",
       "    .dataframe tbody tr th:only-of-type {\n",
       "        vertical-align: middle;\n",
       "    }\n",
       "\n",
       "    .dataframe tbody tr th {\n",
       "        vertical-align: top;\n",
       "    }\n",
       "\n",
       "    .dataframe thead th {\n",
       "        text-align: right;\n",
       "    }\n",
       "</style>\n",
       "<table border=\"1\" class=\"dataframe\">\n",
       "  <thead>\n",
       "    <tr style=\"text-align: right;\">\n",
       "      <th></th>\n",
       "      <th>name</th>\n",
       "      <th>full_name</th>\n",
       "      <th>position</th>\n",
       "      <th>weight</th>\n",
       "      <th>birth_date</th>\n",
       "      <th>birth_place</th>\n",
       "      <th>retired</th>\n",
       "      <th>teams</th>\n",
       "      <th>text</th>\n",
       "      <th>player_id</th>\n",
       "      <th>...</th>\n",
       "      <th>drb</th>\n",
       "      <th>trb</th>\n",
       "      <th>ast</th>\n",
       "      <th>stl</th>\n",
       "      <th>blk</th>\n",
       "      <th>tov</th>\n",
       "      <th>pf</th>\n",
       "      <th>pts</th>\n",
       "      <th>team_name</th>\n",
       "      <th>height_inches</th>\n",
       "    </tr>\n",
       "  </thead>\n",
       "  <tbody>\n",
       "    <tr>\n",
       "      <th>21713</th>\n",
       "      <td>Chris Wright</td>\n",
       "      <td>Chris Wright</td>\n",
       "      <td>F</td>\n",
       "      <td>226.0</td>\n",
       "      <td>1988-09-30 00:00:00</td>\n",
       "      <td>Trotwood, Ohio</td>\n",
       "      <td>True</td>\n",
       "      <td>[10, 17]</td>\n",
       "      <td>Chris Wright (born September 30, 1988) is an A...</td>\n",
       "      <td>4740</td>\n",
       "      <td>...</td>\n",
       "      <td>2.9</td>\n",
       "      <td>5.7</td>\n",
       "      <td>1.4</td>\n",
       "      <td>2.0</td>\n",
       "      <td>1.4</td>\n",
       "      <td>1.4</td>\n",
       "      <td>4.9</td>\n",
       "      <td>13.7</td>\n",
       "      <td>Retired</td>\n",
       "      <td>80</td>\n",
       "    </tr>\n",
       "    <tr>\n",
       "      <th>21715</th>\n",
       "      <td>Chris Wright</td>\n",
       "      <td>Chris Wright</td>\n",
       "      <td>G</td>\n",
       "      <td>210.0</td>\n",
       "      <td>1989-11-04 00:00:00</td>\n",
       "      <td>Washington, District of Columbia</td>\n",
       "      <td>True</td>\n",
       "      <td>[]</td>\n",
       "      <td>Chris Wright (born November 4, 1989) is an Ame...</td>\n",
       "      <td>4741</td>\n",
       "      <td>...</td>\n",
       "      <td>0.0</td>\n",
       "      <td>0.0</td>\n",
       "      <td>0.0</td>\n",
       "      <td>0.0</td>\n",
       "      <td>0.0</td>\n",
       "      <td>9.0</td>\n",
       "      <td>0.0</td>\n",
       "      <td>18.0</td>\n",
       "      <td>Retired</td>\n",
       "      <td>73</td>\n",
       "    </tr>\n",
       "    <tr>\n",
       "      <th>18199</th>\n",
       "      <td>Michael Smith</td>\n",
       "      <td>Michael John Smith</td>\n",
       "      <td>F</td>\n",
       "      <td>225.0</td>\n",
       "      <td>1965-05-19 00:00:00</td>\n",
       "      <td>Rochester, New York</td>\n",
       "      <td>True</td>\n",
       "      <td>[2, 13]</td>\n",
       "      <td>Michael John Smith (born May 19, 1965) is a re...</td>\n",
       "      <td>3973</td>\n",
       "      <td>...</td>\n",
       "      <td>3.2</td>\n",
       "      <td>5.2</td>\n",
       "      <td>4.0</td>\n",
       "      <td>0.6</td>\n",
       "      <td>0.2</td>\n",
       "      <td>3.4</td>\n",
       "      <td>2.5</td>\n",
       "      <td>20.2</td>\n",
       "      <td>Retired</td>\n",
       "      <td>82</td>\n",
       "    </tr>\n",
       "    <tr>\n",
       "      <th>18202</th>\n",
       "      <td>Michael Smith</td>\n",
       "      <td>Michael John Smith</td>\n",
       "      <td>F</td>\n",
       "      <td>230.0</td>\n",
       "      <td>1972-03-28 00:00:00</td>\n",
       "      <td>Washington, District of Columbia</td>\n",
       "      <td>True</td>\n",
       "      <td>[26, 30]</td>\n",
       "      <td>Michael John Smith (born March 28, 1972) is an...</td>\n",
       "      <td>3974</td>\n",
       "      <td>...</td>\n",
       "      <td>6.4</td>\n",
       "      <td>10.1</td>\n",
       "      <td>2.9</td>\n",
       "      <td>1.2</td>\n",
       "      <td>1.2</td>\n",
       "      <td>1.9</td>\n",
       "      <td>4.3</td>\n",
       "      <td>9.3</td>\n",
       "      <td>Retired</td>\n",
       "      <td>80</td>\n",
       "    </tr>\n",
       "  </tbody>\n",
       "</table>\n",
       "<p>4 rows × 37 columns</p>\n",
       "</div>"
      ],
      "text/plain": [
       "                name           full_name position  weight  \\\n",
       "21713   Chris Wright        Chris Wright        F   226.0   \n",
       "21715   Chris Wright        Chris Wright        G   210.0   \n",
       "18199  Michael Smith  Michael John Smith        F   225.0   \n",
       "18202  Michael Smith  Michael John Smith        F   230.0   \n",
       "\n",
       "                birth_date                       birth_place  retired  \\\n",
       "21713  1988-09-30 00:00:00                    Trotwood, Ohio     True   \n",
       "21715  1989-11-04 00:00:00  Washington, District of Columbia     True   \n",
       "18199  1965-05-19 00:00:00               Rochester, New York     True   \n",
       "18202  1972-03-28 00:00:00  Washington, District of Columbia     True   \n",
       "\n",
       "          teams                                               text  player_id  \\\n",
       "21713  [10, 17]  Chris Wright (born September 30, 1988) is an A...       4740   \n",
       "21715        []  Chris Wright (born November 4, 1989) is an Ame...       4741   \n",
       "18199   [2, 13]  Michael John Smith (born May 19, 1965) is a re...       3973   \n",
       "18202  [26, 30]  Michael John Smith (born March 28, 1972) is an...       3974   \n",
       "\n",
       "       ...  drb   trb  ast  stl  blk  tov   pf   pts team_name height_inches  \n",
       "21713  ...  2.9   5.7  1.4  2.0  1.4  1.4  4.9  13.7   Retired            80  \n",
       "21715  ...  0.0   0.0  0.0  0.0  0.0  9.0  0.0  18.0   Retired            73  \n",
       "18199  ...  3.2   5.2  4.0  0.6  0.2  3.4  2.5  20.2   Retired            82  \n",
       "18202  ...  6.4  10.1  2.9  1.2  1.2  1.9  4.3   9.3   Retired            80  \n",
       "\n",
       "[4 rows x 37 columns]"
      ]
     },
     "execution_count": 177,
     "metadata": {},
     "output_type": "execute_result"
    }
   ],
   "source": [
    "df_merged = df_merged.loc[~(df_merged[\"player_id\"] == 3643)]\n",
    "df_merged = df_merged.loc[~(df_merged[\"player_id\"] == 4817)]\n",
    "df_merged.loc[df_merged[\"player_id\"] == 2702, \"position\"] = \"PG\"\n",
    "df_merged = df_merged.loc[~(df_merged[\"player_id\"] == 3851)]\n",
    "df_merged = df_merged.loc[~(df_merged[\"player_id\"] == 4820)]\n",
    "df_merged = df_merged.loc[~(df_merged[\"player_id\"] == 1951)]\n",
    "\n",
    "\n",
    "get_players_with_two_ids()"
   ]
  },
  {
   "cell_type": "markdown",
   "metadata": {},
   "source": [
    "### Create and plot a DataFrame grouped by player_id"
   ]
  },
  {
   "cell_type": "markdown",
   "metadata": {},
   "source": [
    "Select the most important scoring stats for all players. Calculate the mean scoring stats over their whole career. This is done to only have a small subset of the stats, which can be easily compared even with low basketball knowledge"
   ]
  },
  {
   "cell_type": "code",
   "execution_count": 323,
   "metadata": {},
   "outputs": [],
   "source": [
    "scoring_agg = {\n",
    "    \"name\": [\"min\"],\n",
    "    \"team_name\": [\"min\"],\n",
    "    \"fg3\": [lambda x: np.mean(x) * 3],  # convert this stats to points scale\n",
    "    \"fg2\": [lambda x: np.mean(x) * 2],  # convert this stats to points scale\n",
    "    \"ft\": [\"mean\"],  # stat is already in the points scale\n",
    "    \"pts\": [\"mean\"], # stat is already in the points scale\n",
    "}\n",
    "\n",
    "df_player_scoring_stats = (\n",
    "    df_merged.groupby([\"player_id\"]).agg(scoring_agg).reset_index(drop=True)\n",
    ")\n",
    "df_player_scoring_stats.columns = df_player_scoring_stats.columns.get_level_values(0)\n",
    "\n",
    "columns_with_numbers = df_player_scoring_stats.columns[2:]"
   ]
  },
  {
   "cell_type": "markdown",
   "metadata": {},
   "source": [
    "- Choose the top 5 all-time leading scorers based on data from: https://www.nba.com/stats/alltime-leaders. This selection aids in addressing the ongoing debate surrounding the GOAT (Greatest of All Time) in basketball. Additionally, a smaller number of players results in a less cluttered plot.\n",
    "- Calculate the averages for the entire data set to determine the average performance of players in NBA history and provide a basis for comparing the top 5 to an average player."
   ]
  },
  {
   "cell_type": "code",
   "execution_count": 324,
   "metadata": {},
   "outputs": [],
   "source": [
    "top_scorers = [\n",
    "    \"LeBron James\",\n",
    "    \"Kareem Abdul-Jabbar\",\n",
    "    \"Karl Malone\",\n",
    "    \"Kobe Bryant\",\n",
    "    \"Michael Jordan\",\n",
    "]\n",
    "\n",
    "df_to_plot_pcp = df_player_scoring_stats[\n",
    "    df_player_scoring_stats[\"name\"].isin(top_scorers)\n",
    "].sort_values(\"pts\")\n",
    "\n",
    "\n",
    "mean_per_column = df_player_scoring_stats[columns_with_numbers].mean()\n",
    "mean_df = pd.DataFrame([mean_per_column.values], columns=mean_per_column.index)\n",
    "mean_df[\"name\"] = \"Player Average\""
   ]
  },
  {
   "cell_type": "markdown",
   "metadata": {},
   "source": [
    "Create a parallel coordinates plot to illustrate the scoring performance across various statistics for the top 5 scorers of all time. This is done via pandas plotting which builds on top of matplotlib. Therefore all matplotlib functioncs can be used to manipulate the plot"
   ]
  },
  {
   "cell_type": "code",
   "execution_count": 325,
   "metadata": {},
   "outputs": [
    {
     "data": {
      "text/plain": [
       "Text(0.5, 1.0, 'Average points scored per 36 min by the top 5 all-time scorers')"
      ]
     },
     "execution_count": 325,
     "metadata": {},
     "output_type": "execute_result"
    },
    {
     "data": {
      "image/png": "[encoded data removed]",
      "text/plain": [
       "<Figure size 640x480 with 1 Axes>"
      ]
     },
     "metadata": {},
     "output_type": "display_data"
    }
   ],
   "source": [
    "df_to_plot_pcp = df_player_scoring_stats[\n",
    "    df_player_scoring_stats[\"name\"].isin(top_scorers)\n",
    "]\n",
    "\n",
    "df_to_plot_pcp = df_to_plot_pcp.sort_values(\"pts\", ascending=False)\n",
    "df_to_plot_pcp = df_to_plot_pcp.drop(columns=\"team_name\")\n",
    "ax = pd.plotting.parallel_coordinates(df_to_plot_pcp, \"name\", colormap=\"rainbow\")\n",
    "pd.plotting.parallel_coordinates(mean_df, \"name\", color=\"gray\", linestyle=\"--\")\n",
    "\n",
    "ax.grid(axis=\"y\", color=\"lightgray\")\n",
    "\n",
    "ax.set_xticklabels(\n",
    "    [\"Three Pointers\", \"Two Pointers\", \"Free Throws\", \"Total Points Scored\"]\n",
    ")\n",
    "\n",
    "ax.legend(bbox_to_anchor=(1, 1))\n",
    "ax.set_ylabel(\"Mean points per 36 min\")\n",
    "ax.set_title(\"Average points scored per 36 min by the top 5 all-time scorers\")"
   ]
  },
  {
   "cell_type": "markdown",
   "metadata": {},
   "source": [
    "Description of the plot:\n",
    "- The graph illustrates the points scored per 36 minutes and the breakdown of scoring methods for the top 5 all-time scorers, averaged across each player's entire career.\n",
    "\n",
    "- Michael Jordan appears to be the greatest scorer per 36 minutes of all time. However, he is only an average three-point shooter, excelling instead at two-pointers and free throws.\n",
    "\n",
    "- Kareem Abdul-Jabbar and Karl Malone are both terrible three-point shooters, falling well below average. \n",
    "\n",
    "- Kareem Abdul-Jabbar's real strength seems to be two-pointers, where he is very close to Michael Jordan.\n",
    "\n",
    "- LeBron James seems like a great all-rounder. His three-pointers are the best among the top 5, and in no category is he the worst player. \n",
    "\n",
    "- Kobe Bryant is also a great three-point shooter, but compared to the others, his weakness lies in two-pointers.\n"
   ]
  },
  {
   "cell_type": "markdown",
   "metadata": {},
   "source": [
    "## Data visualisation\n",
    "Visualize the data (twice). Every submitted notebook should contain at least two visualizations using at least two different Python visualization libraries. One visualization for each of the new tables (aggregated players or aggregated teams). A list of the most wide-spread Python visualization libraries can be found in this article. You must concisely describe and explain each visualization and your decisions in a Markdown field. You will not receive the points for this task if you did not add a description/explanation. "
   ]
  },
  {
   "cell_type": "markdown",
   "metadata": {},
   "source": [
    "# Sasha"
   ]
  },
  {
   "cell_type": "code",
   "execution_count": 40,
   "metadata": {},
   "outputs": [],
   "source": [
    "birth_places = df_merged[\"birth_place\"].unique()"
   ]
  },
  {
   "cell_type": "code",
   "execution_count": 41,
   "metadata": {},
   "outputs": [],
   "source": [
    "df_merged[\"birth_states\"] = df_merged[\"birth_place\"].str.split(\",\", expand=True)[1]\n",
    "df_merged[\"birth_states\"] = df_merged[\"birth_states\"].apply(\n",
    "    lambda x: str(x).replace(\"\\xa0\", \"\")\n",
    ")"
   ]
  },
  {
   "cell_type": "code",
   "execution_count": 42,
   "metadata": {},
   "outputs": [],
   "source": [
    "all_states = pd.Series(df_merged[\"birth_states\"].unique())"
   ]
  },
  {
   "cell_type": "code",
   "execution_count": 43,
   "metadata": {},
   "outputs": [],
   "source": [
    "US_states = [\n",
    "    \"Alabama\",\n",
    "    \"Alaska\",\n",
    "    \"Arizona\",\n",
    "    \"Arkansas\",\n",
    "    \"California\",\n",
    "    \"Colorado\",\n",
    "    \"Connecticut\",\n",
    "    \"Delaware\",\n",
    "    \"Florida\",\n",
    "    \"Georgia\",\n",
    "    \"Hawaii\",\n",
    "    \"Idaho\",\n",
    "    \"Illinois\",\n",
    "    \"Indiana\",\n",
    "    \"Iowa\",\n",
    "    \"Kansas\",\n",
    "    \"Kentucky\",\n",
    "    \"Louisiana\",\n",
    "    \"Maine\",\n",
    "    \"Maryland\",\n",
    "    \"Massachusetts\",\n",
    "    \"Michigan\",\n",
    "    \"Minnesota\",\n",
    "    \"Mississippi\",\n",
    "    \"Missouri\",\n",
    "    \"Montana\",\n",
    "    \"Nebraska\",\n",
    "    \"Nevada\",\n",
    "    \"New Hampshire\",\n",
    "    \"New Jersey\",\n",
    "    \"New Mexico\",\n",
    "    \"New York\",\n",
    "    \"North Carolina\",\n",
    "    \"North Dakota\",\n",
    "    \"Ohio\",\n",
    "    \"Oklahoma\",\n",
    "    \"Oregon\",\n",
    "    \"Pennsylvania\",\n",
    "    \"Rhode Island\",\n",
    "    \"South Carolina\",\n",
    "    \"South Dakota\",\n",
    "    \"Tennessee\",\n",
    "    \"Texas\",\n",
    "    \"Utah\",\n",
    "    \"Vermont\",\n",
    "    \"Virginia\",\n",
    "    \"Washington\",\n",
    "    \"West Virginia\",\n",
    "    \"Wisconsin\",\n",
    "    \"Wyoming\",\n",
    "]\n",
    "\n",
    "US_state_to_code = {\n",
    "    \"Alabama\": \"AL\",\n",
    "    \"Alaska\": \"AK\",\n",
    "    \"Arizona\": \"AZ\",\n",
    "    \"Arkansas\": \"AR\",\n",
    "    \"California\": \"CA\",\n",
    "    \"Colorado\": \"CO\",\n",
    "    \"Connecticut\": \"CT\",\n",
    "    \"Delaware\": \"DE\",\n",
    "    \"Florida\": \"FL\",\n",
    "    \"Georgia\": \"GA\",\n",
    "    \"Hawaii\": \"HI\",\n",
    "    \"Idaho\": \"ID\",\n",
    "    \"Illinois\": \"IL\",\n",
    "    \"Indiana\": \"IN\",\n",
    "    \"Iowa\": \"IA\",\n",
    "    \"Kansas\": \"KS\",\n",
    "    \"Kentucky\": \"KY\",\n",
    "    \"Louisiana\": \"LA\",\n",
    "    \"Maine\": \"ME\",\n",
    "    \"Maryland\": \"MD\",\n",
    "    \"Massachusetts\": \"MA\",\n",
    "    \"Michigan\": \"MI\",\n",
    "    \"Minnesota\": \"MN\",\n",
    "    \"Mississippi\": \"MS\",\n",
    "    \"Missouri\": \"MO\",\n",
    "    \"Montana\": \"MT\",\n",
    "    \"Nebraska\": \"NE\",\n",
    "    \"Nevada\": \"NV\",\n",
    "    \"New Hampshire\": \"NH\",\n",
    "    \"New Jersey\": \"NJ\",\n",
    "    \"New Mexico\": \"NM\",\n",
    "    \"New York\": \"NY\",\n",
    "    \"North Carolina\": \"NC\",\n",
    "    \"North Dakota\": \"ND\",\n",
    "    \"Ohio\": \"OH\",\n",
    "    \"Oklahoma\": \"OK\",\n",
    "    \"Oregon\": \"OR\",\n",
    "    \"Pennsylvania\": \"PA\",\n",
    "    \"Rhode Island\": \"RI\",\n",
    "    \"South Carolina\": \"SC\",\n",
    "    \"South Dakota\": \"SD\",\n",
    "    \"Tennessee\": \"TN\",\n",
    "    \"Texas\": \"TX\",\n",
    "    \"Utah\": \"UT\",\n",
    "    \"Vermont\": \"VT\",\n",
    "    \"Virginia\": \"VA\",\n",
    "    \"Washington\": \"WA\",\n",
    "    \"West Virginia\": \"WV\",\n",
    "    \"Wisconsin\": \"WI\",\n",
    "    \"Wyoming\": \"WY\",\n",
    "}"
   ]
  },
  {
   "cell_type": "code",
   "execution_count": 44,
   "metadata": {},
   "outputs": [],
   "source": [
    "df_merged_US = df_merged.loc[df_merged[\"birth_states\"].isin(US_states)]\n",
    "df_merged_US[\"state_code\"] = df_merged_US[\"birth_states\"].map(US_state_to_code)"
   ]
  },
  {
   "cell_type": "code",
   "execution_count": 45,
   "metadata": {},
   "outputs": [
    {
     "data": {
      "text/plain": [
       "array(['Vermont'], dtype='<U14')"
      ]
     },
     "execution_count": 45,
     "metadata": {},
     "output_type": "execute_result"
    }
   ],
   "source": [
    "np.setdiff1d(US_states, all_states[pd.Series(all_states).isin(US_states)].unique())"
   ]
  },
  {
   "cell_type": "code",
   "execution_count": 46,
   "metadata": {},
   "outputs": [],
   "source": [
    "df_merged_US_map = (\n",
    "    df_merged_US[[\"birth_states\", \"state_code\", \"player_id\"]]\n",
    "    .groupby([\"state_code\", \"birth_states\"])\n",
    "    .count()\n",
    "    .reset_index()\n",
    ")"
   ]
  },
  {
   "cell_type": "code",
   "execution_count": 47,
   "metadata": {},
   "outputs": [],
   "source": [
    "# add Vermont to the table for completeness\n",
    "df_merged_US_map = pd.concat(\n",
    "    [\n",
    "        df_merged_US_map,\n",
    "        pd.DataFrame([{\"state_code\": \"VT\", \"birth_states\": \"Vermont\", \"player_id\": 0}]),\n",
    "    ],\n",
    "    ignore_index=True,\n",
    ")"
   ]
  },
  {
   "cell_type": "code",
   "execution_count": 48,
   "metadata": {},
   "outputs": [
    {
     "data": {
      "application/vnd.plotly.v1+json": {
       "config": {
        "plotlyServerURL": "https://plot.ly"
       },
       "data": [
        {
         "coloraxis": "coloraxis",
         "geo": "geo",
         "hovertemplate": "<b>%{hovertext}</b><br><br>state_code=%{location}<br>player_id=%{z}<extra></extra>",
         "hovertext": [
          "Alaska",
          "Alabama",
          "Arkansas",
          "Arizona",
          "California",
          "Colorado",
          "Connecticut",
          "Delaware",
          "Florida",
          "Georgia",
          "Hawaii",
          "Iowa",
          "Idaho",
          "Illinois",
          "Indiana",
          "Kansas",
          "Kentucky",
          "Louisiana",
          "Massachusetts",
          "Maryland",
          "Maine",
          "Michigan",
          "Minnesota",
          "Missouri",
          "Mississippi",
          "Montana",
          "North Carolina",
          "North Dakota",
          "Nebraska",
          "New Hampshire",
          "New Jersey",
          "New Mexico",
          "Nevada",
          "New York",
          "Ohio",
          "Oklahoma",
          "Oregon",
          "Pennsylvania",
          "Rhode Island",
          "South Carolina",
          "South Dakota",
          "Tennessee",
          "Texas",
          "Utah",
          "Virginia",
          "Washington",
          "Wisconsin",
          "West Virginia",
          "Wyoming",
          "Vermont"
         ],
         "locationmode": "USA-states",
         "locations": [
          "AK",
          "AL",
          "AR",
          "AZ",
          "CA",
          "CO",
          "CT",
          "DE",
          "FL",
          "GA",
          "HI",
          "IA",
          "ID",
          "IL",
          "IN",
          "KS",
          "KY",
          "LA",
          "MA",
          "MD",
          "ME",
          "MI",
          "MN",
          "MO",
          "MS",
          "MT",
          "NC",
          "ND",
          "NE",
          "NH",
          "NJ",
          "NM",
          "NV",
          "NY",
          "OH",
          "OK",
          "OR",
          "PA",
          "RI",
          "SC",
          "SD",
          "TN",
          "TX",
          "UT",
          "VA",
          "WA",
          "WI",
          "WV",
          "WY",
          "VT"
         ],
         "name": "",
         "type": "choropleth",
         "z": [
          9,
          432,
          327,
          64,
          2164,
          104,
          189,
          32,
          687,
          676,
          18,
          130,
          20,
          1326,
          611,
          165,
          384,
          703,
          182,
          366,
          12,
          783,
          225,
          283,
          494,
          35,
          692,
          26,
          59,
          12,
          601,
          30,
          62,
          1728,
          955,
          203,
          176,
          963,
          22,
          308,
          34,
          416,
          905,
          110,
          437,
          328,
          271,
          132,
          18,
          0
         ]
        },
        {
         "hoverinfo": "skip",
         "locationmode": "USA-states",
         "locations": [
          "AK",
          "AL",
          "AR",
          "AZ",
          "CA",
          "CO",
          "CT",
          "DE",
          "FL",
          "GA",
          "HI",
          "IA",
          "ID",
          "IL",
          "IN",
          "KS",
          "KY",
          "LA",
          "MA",
          "MD",
          "ME",
          "MI",
          "MN",
          "MO",
          "MS",
          "MT",
          "NC",
          "ND",
          "NE",
          "NH",
          "NJ",
          "NM",
          "NV",
          "NY",
          "OH",
          "OK",
          "OR",
          "PA",
          "RI",
          "SC",
          "SD",
          "TN",
          "TX",
          "UT",
          "VA",
          "WA",
          "WI",
          "WV",
          "WY",
          "VT"
         ],
         "mode": "text",
         "text": [
          "AK",
          "AL",
          "AR",
          "AZ",
          "CA",
          "CO",
          "CT",
          "DE",
          "FL",
          "GA",
          "HI",
          "IA",
          "ID",
          "IL",
          "IN",
          "KS",
          "KY",
          "LA",
          "MA",
          "MD",
          "ME",
          "MI",
          "MN",
          "MO",
          "MS",
          "MT",
          "NC",
          "ND",
          "NE",
          "NH",
          "NJ",
          "NM",
          "NV",
          "NY",
          "OH",
          "OK",
          "OR",
          "PA",
          "RI",
          "SC",
          "SD",
          "TN",
          "TX",
          "UT",
          "VA",
          "WA",
          "WI",
          "WV",
          "WY",
          "VT"
         ],
         "type": "scattergeo"
        }
       ],
       "layout": {
        "coloraxis": {
         "colorbar": {
          "title": {
           "text": "player_id"
          }
         },
         "colorscale": [
          [
           0,
           "rgb(247,251,255)"
          ],
          [
           0.125,
           "rgb(222,235,247)"
          ],
          [
           0.25,
           "rgb(198,219,239)"
          ],
          [
           0.375,
           "rgb(158,202,225)"
          ],
          [
           0.5,
           "rgb(107,174,214)"
          ],
          [
           0.625,
           "rgb(66,146,198)"
          ],
          [
           0.75,
           "rgb(33,113,181)"
          ],
          [
           0.875,
           "rgb(8,81,156)"
          ],
          [
           1,
           "rgb(8,48,107)"
          ]
         ]
        },
        "geo": {
         "center": {},
         "domain": {
          "x": [
           0,
           1
          ],
          "y": [
           0,
           1
          ]
         },
         "scope": "usa",
         "showlakes": false
        },
        "legend": {
         "tracegroupgap": 0
        },
        "margin": {
         "t": 60
        },
        "template": {
         "data": {
          "bar": [
           {
            "error_x": {
             "color": "#2a3f5f"
            },
            "error_y": {
             "color": "#2a3f5f"
            },
            "marker": {
             "line": {
              "color": "#E5ECF6",
              "width": 0.5
             },
             "pattern": {
              "fillmode": "overlay",
              "size": 10,
              "solidity": 0.2
             }
            },
            "type": "bar"
           }
          ],
          "barpolar": [
           {
            "marker": {
             "line": {
              "color": "#E5ECF6",
              "width": 0.5
             },
             "pattern": {
              "fillmode": "overlay",
              "size": 10,
              "solidity": 0.2
             }
            },
            "type": "barpolar"
           }
          ],
          "carpet": [
           {
            "aaxis": {
             "endlinecolor": "#2a3f5f",
             "gridcolor": "white",
             "linecolor": "white",
             "minorgridcolor": "white",
             "startlinecolor": "#2a3f5f"
            },
            "baxis": {
             "endlinecolor": "#2a3f5f",
             "gridcolor": "white",
             "linecolor": "white",
             "minorgridcolor": "white",
             "startlinecolor": "#2a3f5f"
            },
            "type": "carpet"
           }
          ],
          "choropleth": [
           {
            "colorbar": {
             "outlinewidth": 0,
             "ticks": ""
            },
            "type": "choropleth"
           }
          ],
          "contour": [
           {
            "colorbar": {
             "outlinewidth": 0,
             "ticks": ""
            },
            "colorscale": [
             [
              0,
              "#0d0887"
             ],
             [
              0.1111111111111111,
              "#46039f"
             ],
             [
              0.2222222222222222,
              "#7201a8"
             ],
             [
              0.3333333333333333,
              "#9c179e"
             ],
             [
              0.4444444444444444,
              "#bd3786"
             ],
             [
              0.5555555555555556,
              "#d8576b"
             ],
             [
              0.6666666666666666,
              "#ed7953"
             ],
             [
              0.7777777777777778,
              "#fb9f3a"
             ],
             [
              0.8888888888888888,
              "#fdca26"
             ],
             [
              1,
              "#f0f921"
             ]
            ],
            "type": "contour"
           }
          ],
          "contourcarpet": [
           {
            "colorbar": {
             "outlinewidth": 0,
             "ticks": ""
            },
            "type": "contourcarpet"
           }
          ],
          "heatmap": [
           {
            "colorbar": {
             "outlinewidth": 0,
             "ticks": ""
            },
            "colorscale": [
             [
              0,
              "#0d0887"
             ],
             [
              0.1111111111111111,
              "#46039f"
             ],
             [
              0.2222222222222222,
              "#7201a8"
             ],
             [
              0.3333333333333333,
              "#9c179e"
             ],
             [
              0.4444444444444444,
              "#bd3786"
             ],
             [
              0.5555555555555556,
              "#d8576b"
             ],
             [
              0.6666666666666666,
              "#ed7953"
             ],
             [
              0.7777777777777778,
              "#fb9f3a"
             ],
             [
              0.8888888888888888,
              "#fdca26"
             ],
             [
              1,
              "#f0f921"
             ]
            ],
            "type": "heatmap"
           }
          ],
          "heatmapgl": [
           {
            "colorbar": {
             "outlinewidth": 0,
             "ticks": ""
            },
            "colorscale": [
             [
              0,
              "#0d0887"
             ],
             [
              0.1111111111111111,
              "#46039f"
             ],
             [
              0.2222222222222222,
              "#7201a8"
             ],
             [
              0.3333333333333333,
              "#9c179e"
             ],
             [
              0.4444444444444444,
              "#bd3786"
             ],
             [
              0.5555555555555556,
              "#d8576b"
             ],
             [
              0.6666666666666666,
              "#ed7953"
             ],
             [
              0.7777777777777778,
              "#fb9f3a"
             ],
             [
              0.8888888888888888,
              "#fdca26"
             ],
             [
              1,
              "#f0f921"
             ]
            ],
            "type": "heatmapgl"
           }
          ],
          "histogram": [
           {
            "marker": {
             "pattern": {
              "fillmode": "overlay",
              "size": 10,
              "solidity": 0.2
             }
            },
            "type": "histogram"
           }
          ],
          "histogram2d": [
           {
            "colorbar": {
             "outlinewidth": 0,
             "ticks": ""
            },
            "colorscale": [
             [
              0,
              "#0d0887"
             ],
             [
              0.1111111111111111,
              "#46039f"
             ],
             [
              0.2222222222222222,
              "#7201a8"
             ],
             [
              0.3333333333333333,
              "#9c179e"
             ],
             [
              0.4444444444444444,
              "#bd3786"
             ],
             [
              0.5555555555555556,
              "#d8576b"
             ],
             [
              0.6666666666666666,
              "#ed7953"
             ],
             [
              0.7777777777777778,
              "#fb9f3a"
             ],
             [
              0.8888888888888888,
              "#fdca26"
             ],
             [
              1,
              "#f0f921"
             ]
            ],
            "type": "histogram2d"
           }
          ],
          "histogram2dcontour": [
           {
            "colorbar": {
             "outlinewidth": 0,
             "ticks": ""
            },
            "colorscale": [
             [
              0,
              "#0d0887"
             ],
             [
              0.1111111111111111,
              "#46039f"
             ],
             [
              0.2222222222222222,
              "#7201a8"
             ],
             [
              0.3333333333333333,
              "#9c179e"
             ],
             [
              0.4444444444444444,
              "#bd3786"
             ],
             [
              0.5555555555555556,
              "#d8576b"
             ],
             [
              0.6666666666666666,
              "#ed7953"
             ],
             [
              0.7777777777777778,
              "#fb9f3a"
             ],
             [
              0.8888888888888888,
              "#fdca26"
             ],
             [
              1,
              "#f0f921"
             ]
            ],
            "type": "histogram2dcontour"
           }
          ],
          "mesh3d": [
           {
            "colorbar": {
             "outlinewidth": 0,
             "ticks": ""
            },
            "type": "mesh3d"
           }
          ],
          "parcoords": [
           {
            "line": {
             "colorbar": {
              "outlinewidth": 0,
              "ticks": ""
             }
            },
            "type": "parcoords"
           }
          ],
          "pie": [
           {
            "automargin": true,
            "type": "pie"
           }
          ],
          "scatter": [
           {
            "fillpattern": {
             "fillmode": "overlay",
             "size": 10,
             "solidity": 0.2
            },
            "type": "scatter"
           }
          ],
          "scatter3d": [
           {
            "line": {
             "colorbar": {
              "outlinewidth": 0,
              "ticks": ""
             }
            },
            "marker": {
             "colorbar": {
              "outlinewidth": 0,
              "ticks": ""
             }
            },
            "type": "scatter3d"
           }
          ],
          "scattercarpet": [
           {
            "marker": {
             "colorbar": {
              "outlinewidth": 0,
              "ticks": ""
             }
            },
            "type": "scattercarpet"
           }
          ],
          "scattergeo": [
           {
            "marker": {
             "colorbar": {
              "outlinewidth": 0,
              "ticks": ""
             }
            },
            "type": "scattergeo"
           }
          ],
          "scattergl": [
           {
            "marker": {
             "colorbar": {
              "outlinewidth": 0,
              "ticks": ""
             }
            },
            "type": "scattergl"
           }
          ],
          "scattermapbox": [
           {
            "marker": {
             "colorbar": {
              "outlinewidth": 0,
              "ticks": ""
             }
            },
            "type": "scattermapbox"
           }
          ],
          "scatterpolar": [
           {
            "marker": {
             "colorbar": {
              "outlinewidth": 0,
              "ticks": ""
             }
            },
            "type": "scatterpolar"
           }
          ],
          "scatterpolargl": [
           {
            "marker": {
             "colorbar": {
              "outlinewidth": 0,
              "ticks": ""
             }
            },
            "type": "scatterpolargl"
           }
          ],
          "scatterternary": [
           {
            "marker": {
             "colorbar": {
              "outlinewidth": 0,
              "ticks": ""
             }
            },
            "type": "scatterternary"
           }
          ],
          "surface": [
           {
            "colorbar": {
             "outlinewidth": 0,
             "ticks": ""
            },
            "colorscale": [
             [
              0,
              "#0d0887"
             ],
             [
              0.1111111111111111,
              "#46039f"
             ],
             [
              0.2222222222222222,
              "#7201a8"
             ],
             [
              0.3333333333333333,
              "#9c179e"
             ],
             [
              0.4444444444444444,
              "#bd3786"
             ],
             [
              0.5555555555555556,
              "#d8576b"
             ],
             [
              0.6666666666666666,
              "#ed7953"
             ],
             [
              0.7777777777777778,
              "#fb9f3a"
             ],
             [
              0.8888888888888888,
              "#fdca26"
             ],
             [
              1,
              "#f0f921"
             ]
            ],
            "type": "surface"
           }
          ],
          "table": [
           {
            "cells": {
             "fill": {
              "color": "#EBF0F8"
             },
             "line": {
              "color": "white"
             }
            },
            "header": {
             "fill": {
              "color": "#C8D4E3"
             },
             "line": {
              "color": "white"
             }
            },
            "type": "table"
           }
          ]
         },
         "layout": {
          "annotationdefaults": {
           "arrowcolor": "#2a3f5f",
           "arrowhead": 0,
           "arrowwidth": 1
          },
          "autotypenumbers": "strict",
          "coloraxis": {
           "colorbar": {
            "outlinewidth": 0,
            "ticks": ""
           }
          },
          "colorscale": {
           "diverging": [
            [
             0,
             "#8e0152"
            ],
            [
             0.1,
             "#c51b7d"
            ],
            [
             0.2,
             "#de77ae"
            ],
            [
             0.3,
             "#f1b6da"
            ],
            [
             0.4,
             "#fde0ef"
            ],
            [
             0.5,
             "#f7f7f7"
            ],
            [
             0.6,
             "#e6f5d0"
            ],
            [
             0.7,
             "#b8e186"
            ],
            [
             0.8,
             "#7fbc41"
            ],
            [
             0.9,
             "#4d9221"
            ],
            [
             1,
             "#276419"
            ]
           ],
           "sequential": [
            [
             0,
             "#0d0887"
            ],
            [
             0.1111111111111111,
             "#46039f"
            ],
            [
             0.2222222222222222,
             "#7201a8"
            ],
            [
             0.3333333333333333,
             "#9c179e"
            ],
            [
             0.4444444444444444,
             "#bd3786"
            ],
            [
             0.5555555555555556,
             "#d8576b"
            ],
            [
             0.6666666666666666,
             "#ed7953"
            ],
            [
             0.7777777777777778,
             "#fb9f3a"
            ],
            [
             0.8888888888888888,
             "#fdca26"
            ],
            [
             1,
             "#f0f921"
            ]
           ],
           "sequentialminus": [
            [
             0,
             "#0d0887"
            ],
            [
             0.1111111111111111,
             "#46039f"
            ],
            [
             0.2222222222222222,
             "#7201a8"
            ],
            [
             0.3333333333333333,
             "#9c179e"
            ],
            [
             0.4444444444444444,
             "#bd3786"
            ],
            [
             0.5555555555555556,
             "#d8576b"
            ],
            [
             0.6666666666666666,
             "#ed7953"
            ],
            [
             0.7777777777777778,
             "#fb9f3a"
            ],
            [
             0.8888888888888888,
             "#fdca26"
            ],
            [
             1,
             "#f0f921"
            ]
           ]
          },
          "colorway": [
           "#636efa",
           "#EF553B",
           "#00cc96",
           "#ab63fa",
           "#FFA15A",
           "#19d3f3",
           "#FF6692",
           "#B6E880",
           "#FF97FF",
           "#FECB52"
          ],
          "font": {
           "color": "#2a3f5f"
          },
          "geo": {
           "bgcolor": "white",
           "lakecolor": "white",
           "landcolor": "#E5ECF6",
           "showlakes": true,
           "showland": true,
           "subunitcolor": "white"
          },
          "hoverlabel": {
           "align": "left"
          },
          "hovermode": "closest",
          "mapbox": {
           "style": "light"
          },
          "paper_bgcolor": "white",
          "plot_bgcolor": "#E5ECF6",
          "polar": {
           "angularaxis": {
            "gridcolor": "white",
            "linecolor": "white",
            "ticks": ""
           },
           "bgcolor": "#E5ECF6",
           "radialaxis": {
            "gridcolor": "white",
            "linecolor": "white",
            "ticks": ""
           }
          },
          "scene": {
           "xaxis": {
            "backgroundcolor": "#E5ECF6",
            "gridcolor": "white",
            "gridwidth": 2,
            "linecolor": "white",
            "showbackground": true,
            "ticks": "",
            "zerolinecolor": "white"
           },
           "yaxis": {
            "backgroundcolor": "#E5ECF6",
            "gridcolor": "white",
            "gridwidth": 2,
            "linecolor": "white",
            "showbackground": true,
            "ticks": "",
            "zerolinecolor": "white"
           },
           "zaxis": {
            "backgroundcolor": "#E5ECF6",
            "gridcolor": "white",
            "gridwidth": 2,
            "linecolor": "white",
            "showbackground": true,
            "ticks": "",
            "zerolinecolor": "white"
           }
          },
          "shapedefaults": {
           "line": {
            "color": "#2a3f5f"
           }
          },
          "ternary": {
           "aaxis": {
            "gridcolor": "white",
            "linecolor": "white",
            "ticks": ""
           },
           "baxis": {
            "gridcolor": "white",
            "linecolor": "white",
            "ticks": ""
           },
           "bgcolor": "#E5ECF6",
           "caxis": {
            "gridcolor": "white",
            "linecolor": "white",
            "ticks": ""
           }
          },
          "title": {
           "x": 0.05
          },
          "xaxis": {
           "automargin": true,
           "gridcolor": "white",
           "linecolor": "white",
           "ticks": "",
           "title": {
            "standoff": 15
           },
           "zerolinecolor": "white",
           "zerolinewidth": 2
          },
          "yaxis": {
           "automargin": true,
           "gridcolor": "white",
           "linecolor": "white",
           "ticks": "",
           "title": {
            "standoff": 15
           },
           "zerolinecolor": "white",
           "zerolinewidth": 2
          }
         }
        },
        "title": {
         "text": "Number of NBA players born in each US state",
         "x": 0.5,
         "xanchor": "center",
         "yanchor": "top"
        }
       }
      }
     },
     "metadata": {},
     "output_type": "display_data"
    }
   ],
   "source": [
    "fig = px.choropleth(\n",
    "    df_merged_US_map,\n",
    "    locations=\"state_code\",\n",
    "    locationmode=\"USA-states\",\n",
    "    scope=\"usa\",\n",
    "    color=\"player_id\",\n",
    "    color_continuous_scale=\"Blues\",\n",
    "    hover_name=\"birth_states\",\n",
    ")\n",
    "\n",
    "fig.update_layout(geo=dict(showlakes=False))\n",
    "\n",
    "fig.add_scattergeo(\n",
    "    locations=df_merged_US_map[\"state_code\"],\n",
    "    locationmode=\"USA-states\",\n",
    "    text=df_merged_US_map[\"state_code\"],\n",
    "    mode=\"text\",\n",
    "    hoverinfo=\"skip\",\n",
    ")\n",
    "\n",
    "fig.update_layout(\n",
    "    title={\n",
    "        \"text\": \"Number of NBA players born in each US state\",\n",
    "        \"xanchor\": \"center\",\n",
    "        \"yanchor\": \"top\",\n",
    "        \"x\": 0.5,\n",
    "    }\n",
    ")"
   ]
  },
  {
   "cell_type": "markdown",
   "metadata": {},
   "source": [
    "## Saving the results\n",
    "Save the resulting tables (the cleaned player_data_per_36_min and the two new aggregated tables) as CSV. To be sure that the data is correctly saved, you can load it again. You will have to work with these tables for the second exercise."
   ]
  }
 ],
 "metadata": {
  "kernelspec": {
   "display_name": "Python 3",
   "language": "python",
   "name": "python3"
  },
  "language_info": {
   "codemirror_mode": {
    "name": "ipython",
    "version": 3
   },
   "file_extension": ".py",
   "mimetype": "text/x-python",
   "name": "python",
   "nbconvert_exporter": "python",
   "pygments_lexer": "ipython3",
   "version": "3.12.2"
  }
 },
 "nbformat": 4,
 "nbformat_minor": 2
}
