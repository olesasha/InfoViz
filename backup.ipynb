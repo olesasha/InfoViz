{
 "cells": [
  {
   "cell_type": "markdown",
   "metadata": {},
   "source": [
    "Überprüfen ob jemand auf mehreren positionen gespielt hat"
   ]
  },
  {
   "cell_type": "code",
   "execution_count": null,
   "metadata": {},
   "outputs": [
    {
     "name": "stdout",
     "output_type": "stream",
     "text": [
      "Maximum positions a player played in his career: 1\n"
     ]
    }
   ],
   "source": [
    "#Drop all entries where a player played at the same position as in an entry before\n",
    "df_check_for_two_positions = df_merged.drop_duplicates(subset=[\"player_id\", \"position\"])\n",
    "\n",
    "#Check if a player_id occurs more than once, which would mean that a player played at two positions\n",
    "max_positions_a_player_played = df_check_for_two_positions.player_id.value_counts().max()\n",
    "print(f\"Maximum positions a player played in his career: {max_positions_a_player_played}\")"
   ]
  },
  {
   "cell_type": "markdown",
   "metadata": {},
   "source": [
    "Alles für player_id"
   ]
  },
  {
   "cell_type": "code",
   "execution_count": null,
   "metadata": {},
   "outputs": [],
   "source": [
    "dict_agg = {\n",
    "    \"full_name\":[\"min\"],\n",
    "    \"team_name\": [\"min\"],\n",
    "    \"position\": [\"min\"],\n",
    "    \"weight\": [\"mean\"],\n",
    "    \"birth_date\": [\"min\"],\n",
    "    \"birth_place\":[\"min\"],\n",
    "    \"retired\": [\"min\"],\n",
    "    \"total_games\": [\"sum\"],\n",
    "    \"games_started\": [\"sum\"],\n",
    "    \"minutes_played\": [\"sum\"],\n",
    "    \"fg\": [\"sum\"],\n",
    "    \"fga\": [\"sum\"],\n",
    "    \"fgp\": [\"sum\"],\n",
    "    \"fg3\": [\"sum\"],\n",
    "    \"fg3a\": [\"sum\"],\n",
    "    \"fg3p\": [\"sum\"],\n",
    "    \"fg2\": [\"sum\"],\n",
    "    \"fg2a\": [\"sum\"],\n",
    "    \"fg2p\": [\"sum\"],\n",
    "    \"ft\": [\"sum\"],\n",
    "    \"fta\": [\"sum\"],\n",
    "    \"ftp\": [\"sum\"],\n",
    "    \"orb\": [\"sum\"],\n",
    "    \"drb\": [\"sum\"],\n",
    "    \"trb\": [\"sum\"],\n",
    "    \"ast\": [\"sum\"],\n",
    "    \"stl\": [\"sum\"],\n",
    "    \"blk\": [\"sum\"],\n",
    "    \"tov\": [\"sum\"],\n",
    "    \"pf\": [\"sum\"],\n",
    "    \"pts\": [\"sum\"]\n",
    "}\n",
    "df_player_id = df_merged.groupby([\"player_id\"]).agg(dict_agg).reset_index(drop = True)\n",
    "df_player_id"
   ]
  }
 ],
 "metadata": {
  "language_info": {
   "name": "python"
  }
 },
 "nbformat": 4,
 "nbformat_minor": 2
}
